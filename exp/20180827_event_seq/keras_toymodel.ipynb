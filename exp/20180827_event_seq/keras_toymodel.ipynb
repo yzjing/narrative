{
 "cells": [
  {
   "cell_type": "code",
   "execution_count": 101,
   "metadata": {},
   "outputs": [],
   "source": [
    "import numpy as np\n",
    "from keras.datasets import imdb\n",
    "from keras.models import Sequential\n",
    "from keras.layers import Dense\n",
    "from keras.layers import LSTM\n",
    "from keras.layers.embeddings import Embedding\n",
    "from keras.preprocessing import sequence\n",
    "# fix random seed for reproducibility\n",
    "numpy.random.seed(7)\n",
    "from keras.preprocessing.text import Tokenizer"
   ]
  },
  {
   "cell_type": "markdown",
   "metadata": {},
   "source": [
    "Toy example to classify movies based on their events.\n",
    "\n",
    "Goal is to classify movie genres."
   ]
  },
  {
   "cell_type": "code",
   "execution_count": 72,
   "metadata": {},
   "outputs": [],
   "source": [
    "mov1 = [line.strip() for line in open('mov1_events.txt')]\n",
    "mov2 = [line.strip() for line in open('mov2_events.txt')]"
   ]
  },
  {
   "cell_type": "markdown",
   "metadata": {},
   "source": [
    "### Encode as one-hot vectors"
   ]
  },
  {
   "cell_type": "code",
   "execution_count": 73,
   "metadata": {},
   "outputs": [],
   "source": [
    "t = Tokenizer()"
   ]
  },
  {
   "cell_type": "code",
   "execution_count": 74,
   "metadata": {},
   "outputs": [],
   "source": [
    "t.fit_on_texts(mov1 + mov2)"
   ]
  },
  {
   "cell_type": "code",
   "execution_count": 75,
   "metadata": {},
   "outputs": [],
   "source": [
    "mov1 = t.texts_to_matrix(mov1,mode='count')"
   ]
  },
  {
   "cell_type": "code",
   "execution_count": 76,
   "metadata": {},
   "outputs": [],
   "source": [
    "mov2 = t.texts_to_matrix(mov2,mode='count')"
   ]
  },
  {
   "cell_type": "code",
   "execution_count": 104,
   "metadata": {},
   "outputs": [],
   "source": [
    "mov1_train = mov1[:int(mov1.shape[0]*0.8)]\n",
    "mov1_test =  mov1[int(mov1.shape[0]*0.8):]\n",
    "mov2_train = mov2[:int(mov2.shape[0]*0.8)]\n",
    "mov2_test =  mov2[int(mov2.shape[0]*0.8):]"
   ]
  },
  {
   "cell_type": "code",
   "execution_count": 105,
   "metadata": {},
   "outputs": [
    {
     "data": {
      "text/plain": [
       "numpy.ndarray"
      ]
     },
     "execution_count": 105,
     "metadata": {},
     "output_type": "execute_result"
    }
   ],
   "source": [
    "type(mov1_train)"
   ]
  },
  {
   "cell_type": "markdown",
   "metadata": {},
   "source": [
    "### Train-test split"
   ]
  },
  {
   "cell_type": "code",
   "execution_count": 111,
   "metadata": {},
   "outputs": [],
   "source": [
    "X_train = np.concatenate((mov1_train, mov2_train))\n",
    "y_train = np.asarray([1 for i in range(mov1_train.shape[0])] + [2 for i in range(mov2_train.shape[0])])\n",
    "X_test = np.concatenate((mov1_test, mov2_test))\n",
    "y_test = np.asarray([1 for i in range(mov1_test.shape[0])] + [2 for i in range(mov2_test.shape[0])])"
   ]
  },
  {
   "cell_type": "markdown",
   "metadata": {},
   "source": [
    "### LSTM with no tuning"
   ]
  },
  {
   "cell_type": "code",
   "execution_count": 114,
   "metadata": {},
   "outputs": [
    {
     "name": "stdout",
     "output_type": "stream",
     "text": [
      "_________________________________________________________________\n",
      "Layer (type)                 Output Shape              Param #   \n",
      "=================================================================\n",
      "embedding_3 (Embedding)      (None, None, 32)          8000      \n",
      "_________________________________________________________________\n",
      "lstm_3 (LSTM)                (None, 100)               53200     \n",
      "_________________________________________________________________\n",
      "dense_3 (Dense)              (None, 1)                 101       \n",
      "=================================================================\n",
      "Total params: 61,301\n",
      "Trainable params: 61,301\n",
      "Non-trainable params: 0\n",
      "_________________________________________________________________\n",
      "None\n",
      "Train on 118 samples, validate on 31 samples\n",
      "Epoch 1/5\n",
      "118/118 [==============================] - 1s 12ms/step - loss: 0.6943 - acc: 0.3220 - val_loss: 0.6503 - val_acc: 0.6129\n",
      "Epoch 2/5\n",
      "118/118 [==============================] - 0s 4ms/step - loss: 0.6360 - acc: 0.6102 - val_loss: 0.5936 - val_acc: 0.6129\n",
      "Epoch 3/5\n",
      "118/118 [==============================] - 0s 4ms/step - loss: 0.5731 - acc: 0.6102 - val_loss: 0.5169 - val_acc: 0.6129\n",
      "Epoch 4/5\n",
      "118/118 [==============================] - 0s 4ms/step - loss: 0.4864 - acc: 0.6102 - val_loss: 0.3977 - val_acc: 0.6129\n",
      "Epoch 5/5\n",
      "118/118 [==============================] - 0s 4ms/step - loss: 0.3433 - acc: 0.6102 - val_loss: 0.1575 - val_acc: 0.6129\n"
     ]
    },
    {
     "data": {
      "text/plain": [
       "<keras.callbacks.History at 0x130f17f28>"
      ]
     },
     "execution_count": 114,
     "metadata": {},
     "output_type": "execute_result"
    }
   ],
   "source": [
    "# create the model\n",
    "embedding_vector_length = 32\n",
    "model = Sequential()\n",
    "model.add(Embedding(250, embedding_vector_length))\n",
    "model.add(LSTM(100))\n",
    "model.add(Dense(1, activation='sigmoid'))\n",
    "model.compile(loss='binary_crossentropy', optimizer='adam', metrics=['accuracy'])\n",
    "print(model.summary())\n",
    "model.fit(X_train, y_train, validation_data=(X_test, y_test), epochs=5, batch_size=64)"
   ]
  },
  {
   "cell_type": "code",
   "execution_count": 115,
   "metadata": {},
   "outputs": [
    {
     "name": "stdout",
     "output_type": "stream",
     "text": [
      "Accuracy: 61.29%\n"
     ]
    }
   ],
   "source": [
    "# Final evaluation of the model\n",
    "scores = model.evaluate(X_test, y_test, verbose=0)\n",
    "print(\"Accuracy: %.2f%%\" % (scores[1]*100))"
   ]
  },
  {
   "cell_type": "code",
   "execution_count": null,
   "metadata": {},
   "outputs": [],
   "source": []
  }
 ],
 "metadata": {
  "kernelspec": {
   "display_name": "Python 3",
   "language": "python",
   "name": "python3"
  },
  "language_info": {
   "codemirror_mode": {
    "name": "ipython",
    "version": 3
   },
   "file_extension": ".py",
   "mimetype": "text/x-python",
   "name": "python",
   "nbconvert_exporter": "python",
   "pygments_lexer": "ipython3",
   "version": "3.6.4"
  }
 },
 "nbformat": 4,
 "nbformat_minor": 2
}
