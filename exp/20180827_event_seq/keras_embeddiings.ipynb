{
 "cells": [
  {
   "cell_type": "code",
   "execution_count": 477,
   "metadata": {},
   "outputs": [],
   "source": [
    "import numpy as np\n",
    "from keras.models import Sequential\n",
    "from keras.layers import Dense, LSTM, Flatten, GRU\n",
    "from keras.layers.embeddings import Embedding\n",
    "from keras.preprocessing import sequence\n",
    "# fix random seed for reproducibility\n",
    "np.random.seed(7)\n",
    "from keras.preprocessing.text import Tokenizer\n",
    "from keras.preprocessing.sequence import pad_sequences\n",
    "import pandas as pd\n",
    "import os\n",
    "from keras.utils import to_categorical\n",
    "from keras import backend as K\n",
    "from keras.models import Model\n",
    "from keras.models import load_model\n",
    "import random\n",
    "from scipy.spatial.distance import cosine"
   ]
  },
  {
   "cell_type": "code",
   "execution_count": 2,
   "metadata": {},
   "outputs": [
    {
     "name": "stdout",
     "output_type": "stream",
     "text": [
      "3.6.6\n"
     ]
    }
   ],
   "source": [
    "from platform import python_version\n",
    "print(python_version())"
   ]
  },
  {
   "cell_type": "markdown",
   "metadata": {},
   "source": [
    "### Exp of classifing movie genres based on their events.\n"
   ]
  },
  {
   "cell_type": "code",
   "execution_count": 319,
   "metadata": {},
   "outputs": [],
   "source": [
    "movies = pd.read_csv('../../data/metadata_events_table.tsv', sep = '\\t')"
   ]
  },
  {
   "cell_type": "code",
   "execution_count": 320,
   "metadata": {},
   "outputs": [
    {
     "name": "stdout",
     "output_type": "stream",
     "text": [
      "13017\n"
     ]
    }
   ],
   "source": [
    "print(len(movies))"
   ]
  },
  {
   "cell_type": "code",
   "execution_count": 349,
   "metadata": {},
   "outputs": [],
   "source": [
    "smr_path = ('../../data/raw/MovieSummaries/indiv_summaries/')\n",
    "smr_list = [item for item in os.listdir(smr_path) if 'txt' in item]"
   ]
  },
  {
   "cell_type": "code",
   "execution_count": 351,
   "metadata": {},
   "outputs": [],
   "source": [
    "d = {}\n",
    "for item in smr_list:\n",
    "    d[item.split('.')[0]] = open(os.path.join(smr_path, item), 'r').read()"
   ]
  },
  {
   "cell_type": "code",
   "execution_count": 357,
   "metadata": {},
   "outputs": [],
   "source": [
    "movies.Wikipedia_id = movies.Wikipedia_id.astype(str)\n",
    "movies['Summary'] = movies['Wikipedia_id'].map(d)"
   ]
  },
  {
   "cell_type": "code",
   "execution_count": 456,
   "metadata": {},
   "outputs": [
    {
     "data": {
      "text/html": [
       "<div>\n",
       "<style scoped>\n",
       "    .dataframe tbody tr th:only-of-type {\n",
       "        vertical-align: middle;\n",
       "    }\n",
       "\n",
       "    .dataframe tbody tr th {\n",
       "        vertical-align: top;\n",
       "    }\n",
       "\n",
       "    .dataframe thead th {\n",
       "        text-align: right;\n",
       "    }\n",
       "</style>\n",
       "<table border=\"1\" class=\"dataframe\">\n",
       "  <thead>\n",
       "    <tr style=\"text-align: right;\">\n",
       "      <th></th>\n",
       "      <th>Wikipedia_id</th>\n",
       "      <th>Freebase_id</th>\n",
       "      <th>Name</th>\n",
       "      <th>Release_date</th>\n",
       "      <th>Revenue</th>\n",
       "      <th>Runtime</th>\n",
       "      <th>Languages</th>\n",
       "      <th>Countries</th>\n",
       "      <th>Genres</th>\n",
       "      <th>Events</th>\n",
       "      <th>vecs</th>\n",
       "      <th>Summary</th>\n",
       "    </tr>\n",
       "  </thead>\n",
       "  <tbody>\n",
       "    <tr>\n",
       "      <th>0</th>\n",
       "      <td>975900</td>\n",
       "      <td>/m/03vyhn</td>\n",
       "      <td>Ghosts of Mars</td>\n",
       "      <td>2001-08-24</td>\n",
       "      <td>14010832.0</td>\n",
       "      <td>98.0</td>\n",
       "      <td>{\"/m/02h40lc\": \"English Language\"}</td>\n",
       "      <td>{\"/m/09c7w0\": \"United States of America\"}</td>\n",
       "      <td>{\"/m/01jfsb\": \"Thriller\", \"/m/06n90\": \"Science...</td>\n",
       "      <td>['send', 'hold', 'find', 'learn', 'murder', 'f...</td>\n",
       "      <td>[1.0, -0.8731093406677246, -0.0, -0.9997652173...</td>\n",
       "      <td>Set in the second half of the 22nd century, th...</td>\n",
       "    </tr>\n",
       "    <tr>\n",
       "      <th>1</th>\n",
       "      <td>261236</td>\n",
       "      <td>/m/01mrr1</td>\n",
       "      <td>A Woman in Flames</td>\n",
       "      <td>1983</td>\n",
       "      <td>NaN</td>\n",
       "      <td>106.0</td>\n",
       "      <td>{\"/m/04306rv\": \"German Language\"}</td>\n",
       "      <td>{\"/m/0345h\": \"Germany\"}</td>\n",
       "      <td>{\"/m/07s9rl0\": \"Drama\"}</td>\n",
       "      <td>['draw', 'learn', 'meet', 'fall', 'enter', 'fi...</td>\n",
       "      <td>[0.0, -0.0, -0.7400037050247192, -0.0, -0.0, 0...</td>\n",
       "      <td>Eva, an upper class housewife, becomes frustra...</td>\n",
       "    </tr>\n",
       "  </tbody>\n",
       "</table>\n",
       "</div>"
      ],
      "text/plain": [
       "  Wikipedia_id Freebase_id               Name Release_date     Revenue  \\\n",
       "0       975900   /m/03vyhn     Ghosts of Mars   2001-08-24  14010832.0   \n",
       "1       261236   /m/01mrr1  A Woman in Flames         1983         NaN   \n",
       "\n",
       "   Runtime                           Languages  \\\n",
       "0     98.0  {\"/m/02h40lc\": \"English Language\"}   \n",
       "1    106.0   {\"/m/04306rv\": \"German Language\"}   \n",
       "\n",
       "                                   Countries  \\\n",
       "0  {\"/m/09c7w0\": \"United States of America\"}   \n",
       "1                    {\"/m/0345h\": \"Germany\"}   \n",
       "\n",
       "                                              Genres  \\\n",
       "0  {\"/m/01jfsb\": \"Thriller\", \"/m/06n90\": \"Science...   \n",
       "1                            {\"/m/07s9rl0\": \"Drama\"}   \n",
       "\n",
       "                                              Events  \\\n",
       "0  ['send', 'hold', 'find', 'learn', 'murder', 'f...   \n",
       "1  ['draw', 'learn', 'meet', 'fall', 'enter', 'fi...   \n",
       "\n",
       "                                                vecs  \\\n",
       "0  [1.0, -0.8731093406677246, -0.0, -0.9997652173...   \n",
       "1  [0.0, -0.0, -0.7400037050247192, -0.0, -0.0, 0...   \n",
       "\n",
       "                                             Summary  \n",
       "0  Set in the second half of the 22nd century, th...  \n",
       "1  Eva, an upper class housewife, becomes frustra...  "
      ]
     },
     "execution_count": 456,
     "metadata": {},
     "output_type": "execute_result"
    }
   ],
   "source": [
    "movies.head(2)"
   ]
  },
  {
   "cell_type": "markdown",
   "metadata": {},
   "source": [
    "### Encode as one-hot vectors"
   ]
  },
  {
   "cell_type": "code",
   "execution_count": 162,
   "metadata": {},
   "outputs": [],
   "source": [
    "t = Tokenizer()"
   ]
  },
  {
   "cell_type": "code",
   "execution_count": 163,
   "metadata": {},
   "outputs": [],
   "source": [
    "events = []\n",
    "for e in movies.Events.tolist():\n",
    "    events.append([item.split('-')[0] for item in eval(e)])"
   ]
  },
  {
   "cell_type": "code",
   "execution_count": 164,
   "metadata": {},
   "outputs": [
    {
     "name": "stdout",
     "output_type": "stream",
     "text": [
      "13017\n"
     ]
    }
   ],
   "source": [
    "# Size of data\n",
    "print(len(events))"
   ]
  },
  {
   "cell_type": "code",
   "execution_count": 165,
   "metadata": {},
   "outputs": [],
   "source": [
    "t.fit_on_texts(events)"
   ]
  },
  {
   "cell_type": "code",
   "execution_count": 166,
   "metadata": {},
   "outputs": [],
   "source": [
    "# t.word_index"
   ]
  },
  {
   "cell_type": "code",
   "execution_count": 167,
   "metadata": {},
   "outputs": [],
   "source": [
    "vocab_size = max(t.word_index.values())+1"
   ]
  },
  {
   "cell_type": "code",
   "execution_count": 168,
   "metadata": {},
   "outputs": [
    {
     "data": {
      "text/plain": [
       "3608"
      ]
     },
     "execution_count": 168,
     "metadata": {},
     "output_type": "execute_result"
    }
   ],
   "source": [
    "vocab_size"
   ]
  },
  {
   "cell_type": "code",
   "execution_count": 172,
   "metadata": {},
   "outputs": [],
   "source": [
    "msk = np.random.rand(len(movies)) < 0.9\n",
    "train = []\n",
    "for e in movies[msk]['Events'].tolist():\n",
    "    train.append([item.split('-')[0] for item in eval(e)])\n",
    "test = []\n",
    "for e in movies[~msk]['Events'].tolist():\n",
    "    test.append([item.split('-')[0] for item in eval(e)])"
   ]
  },
  {
   "cell_type": "code",
   "execution_count": 173,
   "metadata": {},
   "outputs": [],
   "source": [
    "train = t.texts_to_sequences(train)\n",
    "train = pad_sequences(train, maxlen=70)\n",
    "# x_train = np.reshape(x_train, (x_train.shape[0], x_train.shape[1], 1))\n",
    "x_train = train[:,:-1]\n",
    "y_train = train[:,-1]\n",
    "y_train = to_categorical(y_train, num_classes=vocab_size)"
   ]
  },
  {
   "cell_type": "code",
   "execution_count": 174,
   "metadata": {},
   "outputs": [],
   "source": [
    "test = t.texts_to_sequences(test)\n",
    "test = pad_sequences(x_train, maxlen=70)\n",
    "# x_train = np.reshape(x_train, (x_train.shape[0], x_train.shape[1], 1))\n",
    "x_test = test[:,:-1]\n",
    "y_test = test[:,-1]\n",
    "y_test = to_categorical(y_test, num_classes=vocab_size)"
   ]
  },
  {
   "cell_type": "code",
   "execution_count": 186,
   "metadata": {},
   "outputs": [],
   "source": [
    "events_trans = t.texts_to_sequences(events)\n",
    "events_trans = pad_sequences(events_trans, maxlen=70)\n",
    "# events_trans = np.reshape(events_trans, (events_trans.shape[0], events_trans.shape[1], 1))\n",
    "x_all = events_trans[:,:-1]"
   ]
  },
  {
   "cell_type": "code",
   "execution_count": 188,
   "metadata": {},
   "outputs": [
    {
     "data": {
      "text/plain": [
       "(13017, 69)"
      ]
     },
     "execution_count": 188,
     "metadata": {},
     "output_type": "execute_result"
    }
   ],
   "source": [
    "x_all.shape"
   ]
  },
  {
   "cell_type": "markdown",
   "metadata": {},
   "source": [
    "### Simple LSTM "
   ]
  },
  {
   "cell_type": "code",
   "execution_count": null,
   "metadata": {
    "scrolled": true
   },
   "outputs": [
    {
     "name": "stdout",
     "output_type": "stream",
     "text": [
      "_________________________________________________________________\n",
      "Layer (type)                 Output Shape              Param #   \n",
      "=================================================================\n",
      "embedding_27 (Embedding)     (None, 69, 20)            72160     \n",
      "_________________________________________________________________\n",
      "lstm_54 (LSTM)               (None, 64)                21760     \n",
      "_________________________________________________________________\n",
      "dense_27 (Dense)             (None, 3608)              234520    \n",
      "=================================================================\n",
      "Total params: 328,440\n",
      "Trainable params: 328,440\n",
      "Non-trainable params: 0\n",
      "_________________________________________________________________\n",
      "None\n",
      "Epoch 1/800\n",
      "11714/11714 [==============================] - 15s 1ms/step - loss: 6.4054 - acc: 0.0185\n",
      "Epoch 2/800\n",
      "11714/11714 [==============================] - 12s 1ms/step - loss: 5.9884 - acc: 0.0209\n",
      "Epoch 3/800\n",
      "11714/11714 [==============================] - 12s 1ms/step - loss: 5.9680 - acc: 0.0208\n",
      "Epoch 4/800\n",
      "11714/11714 [==============================] - 12s 1ms/step - loss: 5.9602 - acc: 0.0200\n",
      "Epoch 5/800\n",
      "11714/11714 [==============================] - 12s 1ms/step - loss: 5.9604 - acc: 0.0193\n",
      "Epoch 6/800\n",
      " 8736/11714 [=====================>........] - ETA: 3s - loss: 5.9477 - acc: 0.0184"
     ]
    }
   ],
   "source": [
    "# %%timeit\n",
    "embedding_vector_length = 20\n",
    "model = Sequential()\n",
    "model.add(Embedding(vocab_size, embedding_vector_length, input_length=69))\n",
    "model.add( LSTM(64, input_shape = (69,embedding_vector_length)))\n",
    "model.add(Dense(vocab_size, activation='softmax')) \n",
    "model.compile(loss='categorical_crossentropy', optimizer='adam', metrics=['accuracy'])\n",
    "print(model.summary())\n",
    "model.fit(x_train, y_train, epochs=800)"
   ]
  },
  {
   "cell_type": "code",
   "execution_count": null,
   "metadata": {},
   "outputs": [],
   "source": [
    "# Final evaluation of the model\n",
    "scores = model.evaluate(x_test,\n",
    "                        y_test)\n",
    "print(\"Accuracy: %.2f%%\" % (scores[1]*100))"
   ]
  },
  {
   "cell_type": "code",
   "execution_count": null,
   "metadata": {},
   "outputs": [],
   "source": [
    "model.save('lstm.h5')"
   ]
  },
  {
   "cell_type": "code",
   "execution_count": 461,
   "metadata": {},
   "outputs": [],
   "source": [
    "model = load_model('lstm.h5')"
   ]
  },
  {
   "cell_type": "markdown",
   "metadata": {},
   "source": [
    "### Obtain embeddings"
   ]
  },
  {
   "cell_type": "code",
   "execution_count": 184,
   "metadata": {},
   "outputs": [],
   "source": [
    "# #Alternative way, same result\n",
    "# intermediate_layer_model = Model(inputs=model.input,\n",
    "#                                  outputs=model.get_layer('lstm_53').output)\n"
   ]
  },
  {
   "cell_type": "code",
   "execution_count": 462,
   "metadata": {},
   "outputs": [],
   "source": [
    "#Get indimediate layer output using tensorflow backend\n",
    "get_lstm_output = K.function([model.layers[0].input], [model.layers[1].output])\n",
    "output = get_lstm_output([x_all])"
   ]
  },
  {
   "cell_type": "code",
   "execution_count": 463,
   "metadata": {},
   "outputs": [],
   "source": [
    "vecs = output[0]"
   ]
  },
  {
   "cell_type": "code",
   "execution_count": 468,
   "metadata": {},
   "outputs": [
    {
     "data": {
      "text/plain": [
       "8671"
      ]
     },
     "execution_count": 468,
     "metadata": {},
     "output_type": "execute_result"
    }
   ],
   "source": [
    "rd = random.choice(range(len(vecs)))\n",
    "rd"
   ]
  },
  {
   "cell_type": "code",
   "execution_count": 467,
   "metadata": {},
   "outputs": [],
   "source": [
    "# rd = 2457"
   ]
  },
  {
   "cell_type": "code",
   "execution_count": 445,
   "metadata": {},
   "outputs": [],
   "source": [
    "# movies[movies.Name == 'Star Wars Episode VI: Return of the Jedi']"
   ]
  },
  {
   "cell_type": "code",
   "execution_count": 469,
   "metadata": {},
   "outputs": [],
   "source": [
    "vecs_d = np.delete(vecs, rd, axis=0)"
   ]
  },
  {
   "cell_type": "code",
   "execution_count": 470,
   "metadata": {},
   "outputs": [],
   "source": [
    "def find_closest(vc, dest):\n",
    "    dist = 1\n",
    "    min_idx = 0\n",
    "    for i in range(len(vc)):\n",
    "        dist_u = cosine(dest, vc[i])\n",
    "        if dist_u < dist:\n",
    "            dist = dist_u\n",
    "            min_idx = i\n",
    "    return dist, min_idx"
   ]
  },
  {
   "cell_type": "code",
   "execution_count": 471,
   "metadata": {},
   "outputs": [],
   "source": [
    "rd_c = find_closest(vecs_d, vecs[rd])"
   ]
  },
  {
   "cell_type": "code",
   "execution_count": 472,
   "metadata": {},
   "outputs": [
    {
     "data": {
      "text/plain": [
       "(0.09848213195800781, 5580)"
      ]
     },
     "execution_count": 472,
     "metadata": {},
     "output_type": "execute_result"
    }
   ],
   "source": [
    "rd_c"
   ]
  },
  {
   "cell_type": "code",
   "execution_count": 473,
   "metadata": {},
   "outputs": [
    {
     "data": {
      "text/plain": [
       "Wikipedia_id                                              2375811\n",
       "Freebase_id                                             /m/077hq8\n",
       "Name                         Jason Goes To Hell: The Final Friday\n",
       "Release_date                                           1993-08-13\n",
       "Revenue                                               1.59351e+07\n",
       "Runtime                                                        89\n",
       "Languages                      {\"/m/02h40lc\": \"English Language\"}\n",
       "Countries               {\"/m/09c7w0\": \"United States of America\"}\n",
       "Genres          {\"/m/01q03\": \"Cult\", \"/m/03npn\": \"Horror\", \"/m...\n",
       "Events          ['attack', 'blow', 'process', 'bring', 'become...\n",
       "vecs            [0.0, -0.0, -1.0, -0.0, -0.3068475127220154, -...\n",
       "Summary         {{Plot}} Undercover FBI agent Elizabeth Marcus...\n",
       "Name: 8671, dtype: object"
      ]
     },
     "execution_count": 473,
     "metadata": {},
     "output_type": "execute_result"
    }
   ],
   "source": [
    "movies.iloc[rd]"
   ]
  },
  {
   "cell_type": "code",
   "execution_count": 474,
   "metadata": {},
   "outputs": [
    {
     "data": {
      "text/plain": [
       "'{{Plot}} Undercover FBI agent Elizabeth Marcus, staying at a rundown cabin on Crystal Lake, encounters Jason and leads him to a clearing in the woods where he is attacked and blown to pieces by a government task force. The agents are celebrating the victory, and we cut to a mysterious figure in the forest questioning what the government just did saying \"I don\\'t think so\", pointing out that Jason has been resurrected before. Jason\\'s remains are sent to a morgue. The coroner is processing the autopsy making various notes, including the heart being twice the size of a normal human heart. As he brings a scalpel to the heart, it begins to beat slowly, then faster and faster. The coroner becomes hypnotized by Jason\\'s beating heart and is compelled to eat it. This causes spirits to emanate from Jason\\'s scarred body parts, and the coroner becomes possessed by the \\'spirit\\' of Jason. We see this as the reflection of newly hosted coroner is that of Jason\\'s original form. The now possessed coroner begins a killing spree in route to Crystal Lake. Along the way he kills hospital guards , along with several teenagers. The major plot line within the movie is that the \\'Jason spirit\\' must move to new hosts, due to the normal disease of living tissue, and being damaged by gunfire, etc. This transfer happens by the host body regurgitating a creature from it\\'s mouth, and into the new host. Jason makes his way to Diana\\'s house. Steven attempts to protect her, but Diana is killed and Jason escapes. Steven is falsely accused and arrested for Diana\\'s murder, and meets Creighton Duke in prison. Duke reveals Jessica\\'s relation to Jason by asking Steven to \\'pay\\' for the information regarding the bloodline, bounty hunter Creighton Duke claims that only members of Jason\\'s bloodline can truly kill him for good, \"Through a Voorhees, was he born, through a Voorhees may he be reborn, and only by the hand of a Voorhees may he die.\" Therefore if he transfers the creature into a member of his family, he will be \"reborn\" back to his old form. The only living relatives of Jason are his half-sister Diana Kimble, her daughter Jessica, and her infant daughter Stephanie. Steven goes to the Voorhees house to find evidence to convince Jessica of his innocence and Jason\\'s existence, but falls through rotten boards. Unscrupulous news anchor Robert Campbell, who is dating Jessica, enters and reveals on a phone call that he stole Diana\\'s body, planted it in the house to be revealed during an upcoming investigative show to boost his ratings. Jason bursts in and possesses Robert and then leaves with Steven in pursuit. Jessica, who is unaware that her boyfriend is the undead killer, is attacked by him so he can be reborn through her but is disrupted by Steven, who manages to stop him and get Jessica into a car. He runs over Jason and explains the situation, but Jessica does not believe him and throws him out of the car and goes to the police. Steven turns himself into police and arrives at the station as Jason does; he frees himself again to protect Jessica, who now realizes that Duke was telling the truth. In the chaos, Duke makes his escape. The two make their way to the diner where Diana worked and where baby Stephanie is. As they do, Jason arrives and a violent melee ensues leaving much of the staff dead and Jason presumably so. Jessica and Steven discover a note from Duke, telling them that he has the baby and ordering Jessica to meet him at the Voorhees house alone. Jessica meets Duke at the Voorhees house. Duke throws her a knife, and when she catches it, the knife turns into a mystical dagger which can be used to permanently kill Jason. Meanwhile, Steven\\'s friend Randy a police officer, is attacked by Robert at the diner. Back at the house, Duke falls through the floor, and Jessica is confronted by two police officers. One is killed accidentally with the dagger, and Jessica drops it under a dresser. The second is revealed to be Jason, and attempts to be reborn through Stephanie, but Steven arrives and severs his neck with a machete. The creature crawls out of Randy\\'s neck, and makes its way to the basement, where Diana\\'s body was planted. As Steven, Jessica, and Duke realize what is happening, as Jason can be reborn from any Voorhees relative, alive or dead, Jason explodes through the floor in his classic form. As Jessica attempts to retrieve the dagger the two men alternately fight with Jason. Duke is killed when Jason snaps his back in a bear hug, the fight between Jason and Steven ends up outside in a yard. As Jason prepares to kill Steven, Jessica jumps behind him and stabs him in the chest. This releases the tortured souls of Jason\\'s victims into Heaven as light is shined upon him. Then large rock hands burst out of the ground, dragging Jason to Hell. The next morning Steven and Jessica walk off into the sunrise with their baby. After they depart, a dog unearths Jason\\'s mask and then runs away. Freddy Krueger\\'s clawed glove  bursts out of the ground and drag the mask to Hell as he laughs, setting up the events for Freddy vs Jason.\\n'"
      ]
     },
     "execution_count": 474,
     "metadata": {},
     "output_type": "execute_result"
    }
   ],
   "source": [
    "movies.iloc[rd].Summary"
   ]
  },
  {
   "cell_type": "code",
   "execution_count": 475,
   "metadata": {},
   "outputs": [
    {
     "data": {
      "text/plain": [
       "Wikipedia_id                                              8266590\n",
       "Freebase_id                                            /m/026ycs4\n",
       "Name                                                        Billa\n",
       "Release_date                                           1980-01-24\n",
       "Revenue                                                       NaN\n",
       "Runtime                                                       175\n",
       "Languages                          {\"/m/07c9s\": \"Tamil Language\"}\n",
       "Countries                                   {\"/m/03rk0\": \"India\"}\n",
       "Genres          {\"/m/02kdv5l\": \"Action\", \"/m/01chg\": \"Bollywood\"}\n",
       "Events          ['manage', 'replace', 'tell', 'go', 'give', 's...\n",
       "vecs            [0.30103787779808044, -0.0, -0.668038666248321...\n",
       "Summary         Billa is the story of one of the most powerful...\n",
       "Name: 5580, dtype: object"
      ]
     },
     "execution_count": 475,
     "metadata": {},
     "output_type": "execute_result"
    }
   ],
   "source": [
    "movies.iloc[rd_c[1]]"
   ]
  },
  {
   "cell_type": "code",
   "execution_count": 476,
   "metadata": {},
   "outputs": [
    {
     "data": {
      "text/plain": [
       "'Billa is the story of one of the most powerful men in the business of crime, who in spite of being one of the most wanted on the list of Interpol, remains elusive to the police. Along with the police, Billa  makes a few other enemies through his merciless approach in running his organisation, especially when he kills one of his own men, Rajesh, when Rajesh decides to leave the business. This introduces Billa to two new enemies, Kamini ([[Helen , Rajesh’s fiancee, and Priya,  Rajesh’s sister. When Kamini seduces Billa and attempts to have the police arrest him, her plan backfires as Billa outsmarts her and escapes, and in the process Kamini was killed. A shattered, revenge-seeking Priya cuts her hair short, trains in judo and karate,and then enters Billa’s gang after deceiving them into thinking that she too is on the wrong side of the law. Billa is impressed with her fighting skills and allows her to work for him, without realising her true intentions. Meanwhile, after a couple of unsuccessful attempts at nabbing Billa, the police finally succeed, but Billa dies during the pursuit, botching DSP Alexander’s  plan to reach the source of all crime—the man Billa reported to-by capturing Billa alive. DSP buries Billa’s body, ensuring that people believe that he is still be alive. As luck would have it, DSP remembers his chance encounter with Rajappa alias Raju , a simpleton trying to survive in the hustle and bustle of Chennai in order to support two small foster kids, who is an exact lookalike of Billa. DSP hatches a plan to transform Raju into Billa and place him back into the crime nexus, but this time as a police informer.  Around the time Raju \"returns\" to Billa\\'s gang as Billa under the guise of amnesia. JJ , just released from jail, begins his mission of revenge against DSP  and his search for his children who had been saved and taken care off by Raju. Raju manages to replace the red diary with a blank one, and tells his gang that he is going to take revenge on the DSP, but is actually going there to give him the red diary. Priya goes after him, but Raju survives the attack and he tries to explain to her that he is not Billa, but Raju. She refuses to believe him at first but DSP intervenes and tells her that the man she is trying to kill is indeed Raju. Meanwhile, as Raju learns more and more about Billa through the discovery of his diary and Priya’s help, he announces to his colleagues that his memory is back. Celebrations ensue, as \"Billa\" announces his return to the underworld, but things take a drastic turn when the police raid the celebrations, acting upon Raju\\'s information, but Raju’s only witness to his true identity, DSP Alexander, dies in the crossfire and Raju is captured by the police. Tangled in a web of confusion when the police refused to believe that he is Raju, whereas his underworld gang realise that he is indeed not Billa, Raju becomes not only hated by the police, but also by Billa’s right-hand and the rest of his gang. To add to Raju’s woes, Billa’s diary which he had handed over to DSP – his last hope of proving his innocence – is stolen by JJ in an attempt to track down his lost children, without realising that Raju is the one man who can reunite them. Raju escapes the clutches of the police and the underworld with Priya’s help and returns to his old self though he struggles to prove his identity and innocence. He eventually finds out that the Interpol Officer Gokulnath is Jagdish, the real underworld crime boss and after a long fight against Jagdish\\'s men, Priya ends up getting the diary and one of the gangster\\'s snatches it and burns it. The end reveals that the diary which was burnt was, in fact, the fake diary and Raju had the real one in order to trick Jagdish, he gives the proof to the police and cleared of all charges against him, Jagdish is arrested and Raju returns to his old life.\\n'"
      ]
     },
     "execution_count": 476,
     "metadata": {},
     "output_type": "execute_result"
    }
   ],
   "source": [
    "movies.iloc[rd_c[1]].Summary"
   ]
  },
  {
   "cell_type": "code",
   "execution_count": null,
   "metadata": {},
   "outputs": [],
   "source": []
  },
  {
   "cell_type": "code",
   "execution_count": null,
   "metadata": {},
   "outputs": [],
   "source": []
  }
 ],
 "metadata": {
  "kernelspec": {
   "display_name": "Python 3",
   "language": "python",
   "name": "python3"
  },
  "language_info": {
   "codemirror_mode": {
    "name": "ipython",
    "version": 3
   },
   "file_extension": ".py",
   "mimetype": "text/x-python",
   "name": "python",
   "nbconvert_exporter": "python",
   "pygments_lexer": "ipython3",
   "version": "3.6.6"
  }
 },
 "nbformat": 4,
 "nbformat_minor": 2
}
