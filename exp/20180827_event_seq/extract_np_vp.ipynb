{
 "cells": [
  {
   "cell_type": "code",
   "execution_count": 23,
   "metadata": {},
   "outputs": [],
   "source": [
    "from nltk.tree import Tree\n",
    "from nltk.util import breadth_first\n",
    "import os\n",
    "import xml.etree.ElementTree as ET\n",
    "from bs4 import BeautifulSoup\n"
   ]
  },
  {
   "cell_type": "code",
   "execution_count": 3,
   "metadata": {},
   "outputs": [],
   "source": [
    "data_path = '../../data/MovieSummaries/corenlp_plot_summaries/sample/'"
   ]
  },
  {
   "cell_type": "code",
   "execution_count": 7,
   "metadata": {},
   "outputs": [],
   "source": [
    "file_list = [item for item in os.listdir(data_path) if 'xml' in item]"
   ]
  },
  {
   "cell_type": "code",
   "execution_count": 36,
   "metadata": {},
   "outputs": [
    {
     "data": {
      "text/plain": [
       "'25625475.xml'"
      ]
     },
     "execution_count": 36,
     "metadata": {},
     "output_type": "execute_result"
    }
   ],
   "source": [
    "file_list[0]"
   ]
  },
  {
   "cell_type": "code",
   "execution_count": 27,
   "metadata": {},
   "outputs": [
    {
     "name": "stderr",
     "output_type": "stream",
     "text": [
      "/anaconda3/envs/python36/lib/python3.6/site-packages/bs4/__init__.py:181: UserWarning: No parser was explicitly specified, so I'm using the best available HTML parser for this system (\"lxml\"). This usually isn't a problem, but if you run this code on another system, or in a different virtual environment, it may use a different parser and behave differently.\n",
      "\n",
      "The code that caused this warning is on line 193 of the file /anaconda3/envs/python36/lib/python3.6/runpy.py. To get rid of this warning, change code that looks like this:\n",
      "\n",
      " BeautifulSoup(YOUR_MARKUP})\n",
      "\n",
      "to this:\n",
      "\n",
      " BeautifulSoup(YOUR_MARKUP, \"lxml\")\n",
      "\n",
      "  markup_type=markup_type))\n"
     ]
    }
   ],
   "source": [
    "f = open(os.path.join(data_path, file_list[0]), 'r').read()\n",
    "xml = BeautifulSoup(f)"
   ]
  },
  {
   "cell_type": "code",
   "execution_count": 32,
   "metadata": {},
   "outputs": [],
   "source": [
    "sentences = xml.document.sentences.findAll('sentence')\n",
    "for sent in sentences:\n",
    "    print(sent.parse)\n",
    "    break"
   ]
  },
  {
   "cell_type": "code",
   "execution_count": 35,
   "metadata": {},
   "outputs": [
    {
     "data": {
      "text/plain": [
       "25"
      ]
     },
     "execution_count": 35,
     "metadata": {},
     "output_type": "execute_result"
    }
   ],
   "source": [
    "len(sentences)"
   ]
  },
  {
   "cell_type": "code",
   "execution_count": 853,
   "metadata": {},
   "outputs": [],
   "source": [
    "s = str(sentences[24].parse).replace('<parse>', '').replace('</parse>', '')\n",
    "t = Tree.fromstring(s)"
   ]
  },
  {
   "cell_type": "code",
   "execution_count": 854,
   "metadata": {},
   "outputs": [
    {
     "data": {
      "text/plain": [
       "'(ROOT (S (ADVP (RB Afterwards)) (, ,) (NP (NNP Anna) (CC and) (NNP Kevin)) (VP (VBP are) (VP (VBN reunited))) (. .))) '"
      ]
     },
     "execution_count": 854,
     "metadata": {},
     "output_type": "execute_result"
    }
   ],
   "source": [
    "s"
   ]
  },
  {
   "cell_type": "code",
   "execution_count": 855,
   "metadata": {},
   "outputs": [
    {
     "data": {
      "image/png": "[encoded data removed]",
      "text/plain": [
       "Tree('ROOT', [Tree('S', [Tree('ADVP', [Tree('RB', ['Afterwards'])]), Tree(',', [',']), Tree('NP', [Tree('NNP', ['Anna']), Tree('CC', ['and']), Tree('NNP', ['Kevin'])]), Tree('VP', [Tree('VBP', ['are']), Tree('VP', [Tree('VBN', ['reunited'])])]), Tree('.', ['.'])])])"
      ]
     },
     "execution_count": 855,
     "metadata": {},
     "output_type": "execute_result"
    }
   ],
   "source": [
    "t"
   ]
  },
  {
   "cell_type": "code",
   "execution_count": 856,
   "metadata": {},
   "outputs": [],
   "source": [
    "def find_np(sent):\n",
    "    for c in breadth_first(sent, maxdepth = 2):\n",
    "        # check if is a leave\n",
    "        if not isinstance(c, str):\n",
    "            if c.label() == 'NP':\n",
    "                return c.leaves()"
   ]
  },
  {
   "cell_type": "code",
   "execution_count": 857,
   "metadata": {},
   "outputs": [],
   "source": [
    "def find_vp(sent):\n",
    "    vp = []\n",
    "    for c in breadth_first(sent, maxdepth = 2):\n",
    "        if not isinstance(c, str):\n",
    "            if c.label() == 'VP':\n",
    "                for cc in breadth_first(c, maxdepth = 3):\n",
    "                    if not isinstance(cc, str):\n",
    "                        # if a verb is in base form or past tense,\n",
    "                        # return itself\n",
    "                        # if it's in present form, find the be -ing form\n",
    "                        if cc.label() in ['VB', 'VBD','VBG', 'VBN', 'VBP', 'VBZ']:\n",
    "                            if not set(cc.leaves()).issubset(set(vp)):\n",
    "                                vp.extend(cc.leaves())\n",
    "                        if cc.leaves() == ['not']:\n",
    "                            vp.extend(cc.leaves())\n",
    "\n",
    "    return vp"
   ]
  },
  {
   "cell_type": "code",
   "execution_count": 858,
   "metadata": {},
   "outputs": [],
   "source": [
    "def process_sentence(tree):\n",
    "    subtrees = []\n",
    "    np_vp = {}\n",
    "    idx = 0\n",
    "    \n",
    "    # Remove root\n",
    "    tree = list(tree.subtrees())[1]\n",
    "    # Only take first level subtrees\n",
    "    for c in breadth_first(tree, maxdepth = 2):\n",
    "        subtrees.append(c)\n",
    "    for st in subtrees[1:len(tree)]:\n",
    "        # take care of nested sentences\n",
    "        if st.label() == 'S' or st.label() == 'SBAR':\n",
    "            k = find_np(st)\n",
    "            v = find_vp(st)\n",
    "            if k is not None and v is not None:\n",
    "                k = ' '.join([item for item in k]) + str(idx)\n",
    "                v = ' '.join([item for item in v])\n",
    "                np_vp[k] = v\n",
    "                # Differentiate potentially repeated subjects\n",
    "                idx += 1\n",
    "        else:\n",
    "            if not isinstance(st, str):\n",
    "                if st.label() == 'NP':\n",
    "                    k = ' '.join([item for item in st.leaves()]) + str(idx)\n",
    "                    idx += 1\n",
    "                if st.label() == 'VP':\n",
    "                    vp = []\n",
    "                    for cc in breadth_first(st, maxdepth = 3):\n",
    "                        if not isinstance(cc, str):\n",
    "                            # if a verb is in base form or past tense,\n",
    "                            # return itself\n",
    "                            # if it's in present form, find the be -ing form\n",
    "                            if cc.label() in ['VB', 'VBD','VBG', 'VBN', 'VBP', 'VBZ']:\n",
    "                                if not set(cc.leaves()).issubset(set(vp)):\n",
    "                                    vp.extend(cc.leaves())\n",
    "                            if cc.leaves() == ['not']:\n",
    "                                vp.extend(cc.leaves())\n",
    "                        v = ' '.join([item for item in vp])\n",
    "                    np_vp[k] = v\n",
    "    return np_vp"
   ]
  },
  {
   "cell_type": "code",
   "execution_count": 859,
   "metadata": {},
   "outputs": [
    {
     "data": {
      "text/plain": [
       "{'Anna and Kevin0': 'are reunited'}"
      ]
     },
     "execution_count": 859,
     "metadata": {},
     "output_type": "execute_result"
    }
   ],
   "source": [
    "process_sentence(t)"
   ]
  },
  {
   "cell_type": "code",
   "execution_count": null,
   "metadata": {},
   "outputs": [],
   "source": []
  }
 ],
 "metadata": {
  "kernelspec": {
   "display_name": "Python 3",
   "language": "python",
   "name": "python3"
  },
  "language_info": {
   "codemirror_mode": {
    "name": "ipython",
    "version": 3
   },
   "file_extension": ".py",
   "mimetype": "text/x-python",
   "name": "python",
   "nbconvert_exporter": "python",
   "pygments_lexer": "ipython3",
   "version": "3.6.4"
  }
 },
 "nbformat": 4,
 "nbformat_minor": 2
}
