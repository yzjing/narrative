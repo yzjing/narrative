{
 "cells": [
  {
   "cell_type": "code",
   "execution_count": 1,
   "metadata": {},
   "outputs": [
    {
     "name": "stderr",
     "output_type": "stream",
     "text": [
      "Using TensorFlow backend.\n"
     ]
    }
   ],
   "source": [
    "import numpy as np\n",
    "from keras.models import Sequential\n",
    "from keras.layers import Dense, LSTM, Flatten, GRU\n",
    "from keras.layers.embeddings import Embedding\n",
    "from keras.preprocessing import sequence\n",
    "# fix random seed for reproducibility\n",
    "np.random.seed(7)\n",
    "from keras.preprocessing.text import Tokenizer\n",
    "from keras.preprocessing.sequence import pad_sequences\n",
    "import pandas as pd\n",
    "import os\n",
    "from keras.utils import to_categorical\n",
    "from collections import OrderedDict\n",
    "from keras import backend as K\n",
    "from keras.models import Model"
   ]
  },
  {
   "cell_type": "code",
   "execution_count": 2,
   "metadata": {},
   "outputs": [
    {
     "name": "stdout",
     "output_type": "stream",
     "text": [
      "3.6.6\n"
     ]
    }
   ],
   "source": [
    "from platform import python_version\n",
    "print(python_version())"
   ]
  },
  {
   "cell_type": "markdown",
   "metadata": {},
   "source": [
    "### Exp of classifing movie genres based on their events.\n"
   ]
  },
  {
   "cell_type": "code",
   "execution_count": 3,
   "metadata": {},
   "outputs": [],
   "source": [
    "movies = pd.read_csv('../../data/metadata_events_table.tsv', sep = '\\t')"
   ]
  },
  {
   "cell_type": "code",
   "execution_count": 4,
   "metadata": {},
   "outputs": [
    {
     "data": {
      "text/plain": [
       "2    1733\n",
       "1    1165\n",
       "4     494\n",
       "0     345\n",
       "3     103\n",
       "Name: Genre_code, dtype: int64"
      ]
     },
     "execution_count": 4,
     "metadata": {},
     "output_type": "execute_result"
    }
   ],
   "source": [
    "movies.Genre_code.value_counts()"
   ]
  },
  {
   "cell_type": "code",
   "execution_count": 5,
   "metadata": {},
   "outputs": [],
   "source": [
    "# df0 = movies[movies['Genre_code'] == 0].sample(500, replace = True)\n",
    "# df1 = movies[movies['Genre_code'] == 1].sample(500)\n",
    "# df2 = movies[movies['Genre_code'] == 2].sample(500)\n",
    "# df3 = movies[movies['Genre_code'] == 3].sample(500)\n",
    "# df4 = movies[movies['Genre_code'] == 4].sample(500)"
   ]
  },
  {
   "cell_type": "code",
   "execution_count": 6,
   "metadata": {},
   "outputs": [],
   "source": [
    "# movies = pd.concat([df0, df1, df2, df3, df4])"
   ]
  },
  {
   "cell_type": "code",
   "execution_count": 7,
   "metadata": {},
   "outputs": [
    {
     "data": {
      "text/plain": [
       "3840"
      ]
     },
     "execution_count": 7,
     "metadata": {},
     "output_type": "execute_result"
    }
   ],
   "source": [
    "len(movies)"
   ]
  },
  {
   "cell_type": "code",
   "execution_count": 8,
   "metadata": {},
   "outputs": [],
   "source": [
    "movies = movies.sort_values('Genre_code').reset_index()"
   ]
  },
  {
   "cell_type": "code",
   "execution_count": 9,
   "metadata": {},
   "outputs": [
    {
     "data": {
      "text/plain": [
       "{0: 'Action', 1: 'Comedy', 2: 'Drama', 3: 'Romance Film', 4: 'Thriller'}"
      ]
     },
     "execution_count": 9,
     "metadata": {},
     "output_type": "execute_result"
    }
   ],
   "source": [
    "{0: 'Action', 1: 'Comedy', 2: 'Drama', 3: 'Romance Film', 4: 'Thriller'}"
   ]
  },
  {
   "cell_type": "code",
   "execution_count": 10,
   "metadata": {},
   "outputs": [],
   "source": [
    "#starting and ending index for each group for plotting\n",
    "action_s = min(movies[movies['Genre_code'] == 0].index.tolist())\n",
    "action_e = max(movies[movies['Genre_code'] == 0].index.tolist())\n",
    "comedy_s = min(movies[movies['Genre_code'] == 1].index.tolist())\n",
    "comedy_e = max(movies[movies['Genre_code'] == 1].index.tolist())\n",
    "drama_s = min(movies[movies['Genre_code'] == 2].index.tolist())\n",
    "drama_e = max(movies[movies['Genre_code'] == 2].index.tolist())\n",
    "romance_s = min(movies[movies['Genre_code'] == 3].index.tolist())\n",
    "romance_e = max(movies[movies['Genre_code'] == 3].index.tolist())\n",
    "thriller_s = min(movies[movies['Genre_code'] == 4].index.tolist())\n",
    "thriller_e = max(movies[movies['Genre_code'] == 4].index.tolist())\n"
   ]
  },
  {
   "cell_type": "code",
   "execution_count": 11,
   "metadata": {},
   "outputs": [
    {
     "name": "stdout",
     "output_type": "stream",
     "text": [
      "['amuse-31.1', 'get-13.5.1', 'appear-48.1.1', 'sight-30.2', 'meander-47.7', 'own-100', 'correspond-36.1', 'other_cos-45.4', 'get-13.5.1', 'sustain-55.6', 'discover-84', 'disregard', 'lodge-46', 'spray-9.7-1', 'meet-36.3-1', 'escape-51.1-1', 'fit-54.3', 'discover-84', 'future_having-13.3', 'get-13.5.1', 'escape-51.1-1', 'remove-10.1', 'discover-84', 'wish-62', 'amuse-31.1', 'escape-51.1', 'destroy-44', 'roll-51.3.1', 'meander-47.7', 'put_direction-9.4', 'meander-47.7']\n",
      "\n",
      "['confront-98', 'become-109.1-1', 'fulfilling-13.4.1-1', 'order-60-1', 'want-32.1-1-1', 'get-13.5.1', 'future_having-13.3', 'conjecture-29.5-1', 'correspond-36.1-1', 'tell-37.2', 'reflexive_appearance-48.1.2', 'meander-47.7', 'advise-37.9', 'give-13.1-1', 'give-13.1-1', 'want-32.1-1-1', 'murder-42.1', 'future_having-13.3', 'escape-51.1', 'hunt-35.1', 'tell-37.2', 'conjecture-29.5-1', 'transfer_mesg-37.1.1-1-1', 'transfer_mesg-37.1.1-1-1', 'obtain-13.5.2', 'become-109.1-1', 'future_having-13.3', 'mix-22.1-2-1', 'soliloquize', 'own-100', 'put-9.1-1', 'say-37.7']\n",
      "\n",
      "['say-37.7', 'appear-48.1.1', 'get-13.5.1-1', 'adopt-93', 'dub-29.3', 'conjecture-29.5-1', 'escape-51.1-2', 'obtain-13.5.2', 'correspond-36.1', 'neglect-75-1-1', 'learn-14-1', 'crane-40.3.2', 'sustain-55.6', 'correspond-36.1', 'escape-51.1', 'correspond-36.1', 'say-37.7', 'discover-84-1-1', 'discover-84', 'begin-55.1-1', 'seem-109-1-1-1', 'consider-29.9-1-1-1', 'convert-26.6.2', 'discover-84', 'get-13.5.1', 'dub-29.3', 'escape-51.1']\n",
      "\n",
      "['man', 'seem-109-1-1', 'appear-48.1.1', 'other_cos-45.4', 'amuse-31.1', 'force-59-1', 'get-13.5.1-1', 'order-60', 'meander-47.7', 'escape-51.1', 'sight-30.2', 'amuse-31.1', 'discover-84-1-1', 'meander-47.7', 'appear-48.1.1', 'force-59-1', 'share', 'contribute-13.2', 'escape-51.1-1', 'amalgamate-22.2-3-1-1', 'consume-66', 'contribute-13.2-2', 'steal-10.5', 'let', 'say-37.7', 'touch-20-1']\n",
      "\n",
      "['sight-30.2', 'own-100', 'conjecture-29.5-1', 'cost-54.2', 'amuse-31.1', 'appear-48.1.1', 'own-100', 'banish-10.2', 'amuse-31.1', 'seem-109-1-1', 'hunt-35.1', 'say-37.7', 'become-109.1', 'conjecture-29.5-1', 'wish-62', 'eat-39.1-3', 'knead-26.5', 'entity_specific_cos-45.5']\n",
      "\n",
      "['search-35.2', 'search-35.2', 'relate-86.2-2', 'obtain-13.5.2', 'contiguous_location-47.8-1', 'own-100', 'appear-48.1.1', 'sight-30.2', 'transfer_mesg-37.1.1-1-1', 'reflexive_appearance-48.1.2', 'say-37.7', 'transfer_mesg-37.1.1-1-1', 'manner_speaking-37.3', 'appear-48.1.1', 'conjecture-29.5-2']\n",
      "\n",
      "['wipe_manner-10.4.1', 'destroy-44', 'put-9.1-1', 'discover-84-1-1', 'get-13.5.1', 'get-13.5.1', 'discover-84', 'require-103', 'get-13.5.1', 'urge-58.1', 'get-13.5.1', 'discover-84', 'discover-84', 'neglect-75-1-1', 'learn-14-2-1', 'resign-10.11', 'meander-47.7', 'discover-84', 'discover-84', 'escape-51.1', 'sight-30.2', 'urge-58.1', 'remove-10.1', 'resign-10.11', 'tell-37.2-1', 'discover-84', 'correspond-36.1', 'advise-37.9-1', 'performance-26.7-2', 'escape-51.1', 'discover-84', 'get-13.5.1', 'subjugate-42.3', 'devour-39.4', 'tell-37.2-1', 'escape-51.1', 'image_impression-25.1', 'discover-84', 'declare-29.4-1-1-2', 'fill-9.8-1', 'cost-54.2', 'give-13.1-1', 'escape-51.1-1', 'concealment-16', 'rummage-35.5', 'discover-84', 'meander-47.7', 'lodge-46', 'disappearance-48.2']\n",
      "\n",
      "['mistake', 'arrest', 'transfer_mesg-37.1.1', 'cooperate-73-1', 'become-109.1', 'mistake', 'appear-48.1.1', 'transfer_mesg-37.1.1', 'amuse-31.1', 'refuse', 'meander-47.7', 'correspond-36.1']\n",
      "\n",
      "['crane-40.3.2', 'preparing-26.3-2', 'keep-15.2', 'share', 'hunt-35.1', 'battle-36.4-1', 'order-60-1', 'become-109.1', 'amuse-31.1', 'addict-96', 'other_cos-45.4', 'arrest', 'correspond-36.1', 'discover-84', 'contiguous_location-47.8', 'chase-51.6', 'amalgamate-22.2-3-1', 'refuse', 'conjecture-29.5-1', 'escape-51.1-1', 'escape-51.1-1']\n",
      "\n",
      "['order-60', 'correspond-36.1-1', 'promote-102', 'say-37.7-1', 'calibratable_cos-45.6-1', 'conjecture-29.5-2', 'other_cos-45.4', 'sight-30.2', 'become-109.1-1', 'sustain-55.6', 'force-59', 'begin-55.1-1', 'correspond-36.1', 'resign-10.11', 'discover-84', 'correspond-36.1', 'fit-54.3', 'admire-31.2-1', 'begin-55.1-1', 'contiguous_location-47.8', 'apologise', 'deduce-97.2', 'future_having-13.3', 'exist-47.1-1', 'want-32.1-1-1', 'spatial_configuration-47.6', 'force-59', 'manner_speaking-37.3', 'try-61', 'escape-51.1-1', 'disappearance-48.2']\n",
      "\n",
      "['murder-42.1', 'send-11.1-1', 'assessment-34.1', 'contiguous_location-47.8-1', 'stop-55.4-1', 'lodge-46', 'future_having-13.3', 'conjecture-29.5-2', 'contribute-13.2', 'fit-54.3', 'discover-84-1-1', 'escape-51.1', 'reflexive_appearance-48.1.2', 'become-109.1-1', 'characterize-29.2-1', 'other_cos-45.4', 'indicate-78-1-1', 'amalgamate-22.2-3-1-1', 'lodge-46', 'patent-101', 'characterize-29.2', 'discover-84-1-1', 'get-13.5.1-1']\n",
      "\n",
      "['escape-51.1', 'get-13.5.1', 'amuse-31.1', 'discover-84', 'steal-10.5', 'cost-54.2', 'meet-36.3-1', 'become-109.1-1', 'concealment-16-1', 'fit-54.3', 'send-11.1', 'contiguous_location-47.8', 'forbid-67-1', 'own-100', 'escape-51.1', 'want-32.1-1-1', 'stop-55.4-1', 'convert-26.6.2', 'bump-18.4-1', 'get-13.5.1', 'amuse-31.1', 'amuse-31.1', 'discover-84-1-1', 'give-13.1-1', 'long-32.2-1']\n",
      "\n",
      "['confront-98', 'discover-84', 'confront-98', 'sight-30.2', 'amuse-31.1', 'discover-84-1-1', 'battle-36.4-1']\n",
      "\n",
      "['conjecture-29.5-2', 'confront-98', 'convert-26.6.2', 'fulfilling-13.4.1', 'appoint-29.1', 'become-109.1', 'meander-47.7', 'tape-22.4', 'escape-51.1-2', 'transfer_mesg-37.1.1', 'disassemble-23.3', 'cost-54.2', 'amuse-31.1', 'other_cos-45.4', 'future_having-13.3', 'remove-10.1', 'poison-42.2', 'judgment-33', 'escape-51.1', 'breathe-40.1.2', 'manner_speaking-37.3']\n",
      "\n",
      "['reflexive_appearance-48.1.2', 'obtain-13.5.2', 'amuse-31.1', 'other_cos-45.4', 'resign-10.11', 'amuse-31.1', 'conjecture-29.5-1', 'own-100', 'cost-54.2', 'amuse-31.1', 'preparing-26.3-1', 'marvel-31.3-9', 'characterize-29.2', 'funnel-9.3-1-1', 'carry-11.4', 'dub-29.3', 'own-100', 'search-35.2', 'discover-84', 'get-13.5.1', 'contiguous_location-47.8', 'get-13.5.1', 'run-51.3.2', 'confess-37.10', 'subjugate-42.3', 'let', 'wish-62', 'marvel-31.3-9', 'swat-18.2', 'say-37.7-3', 'discover-84', 'say-37.7-1', 'discover-84-1-1', 'escape-51.1-2', 'get-13.5.1', 'performance-26.7-1-1', 'dress-41.1.1', 'put_spatial-9.2', 'tape-22.4', 'meet-36.3-1', 'nonverbal_expression-40.2']\n",
      "\n",
      "['other_cos-45.4', 'force-59-1', 'hurt-40.8.3-1-1', 'future_having-13.3', 'devour-39.4', 'transfer_mesg-37.1.1-1-1', 'knead-26.5', 'amuse-31.1', 'convert-26.6.2', 'own-100', 'transfer_mesg-37.1.1-1-1', 'future_having-13.3', 'discover-84', 'fit-54.3', 'own-100', 'admire-31.2', 'chit_chat-37.6-1', 'correspond-36.1', 'rummage-35.5', 'other_cos-45.4', 'convert-26.6.2', 'convert-26.6.2', 'amuse-31.1', 'lecture-37.11-1', 'amuse-31.1', 'give-13.1-1', 'escape-51.1', 'other_cos-45.4', 'appoint-29.1', 'masturbate', 'abide', 'other_cos-45.4', 'put-9.1-2', 'get-13.5.1-1', 'other_cos-45.4', 'amuse-31.1', 'escape-51.1-1', 'enforce-63', 'transfer_mesg-37.1.1-1-1', 'escape-51.1', 'own-100', 'escape-51.1', 'other_cos-45.4', 'try-61', 'escape-51.1-1', 'discover-84-1-1', 'consider-29.9-1-1', 'manner_speaking-37.3', 'tidy', 'throw-17.1-1', 'amalgamate-22.2-2', 'obtain-13.5.2', 'manner_speaking-37.3', 'judgment-33-1', 'tell-37.2-1', 'seem-109-1-1', 'concealment-16-1', 'transfer_mesg-37.1.1-1-1', 'manner_speaking-37.3', 'meet-36.3-1', 'other_cos-45.4', 'discover-84', 'hold-15.1-1', 'give-13.1-1', 'preparing-26.3-2', 'amuse-31.1', 'comprise-107.1', 'advise-37.9-1', 'dub-29.3', 'characterize-29.2-1', 'amuse-31.1', 'meander-47.7', 'hurt-40.8.3-2', 'consider-29.9-1-1', 'amuse-31.1', 'obtain-13.5.2', 'poison-42.2', 'throw-17.1-1', 'fit-54.3', 'other_cos-45.4', 'discover-84', 'force-59', 'run-51.3.2', 'become-109.1', 'steal-10.5', 'battle-36.4-1', 'poison-42.2', 'run-51.3.2-2-1']\n",
      "\n",
      "['battle-36.4-1', 'murder-42.1', 'spray-9.7-1', 'amuse-31.1', 'amuse-31.1', 'help-72-1', 'give-13.1', 'get-13.5.1', 'peer-30.3', 'see-30.1-1', 'meander-47.7', 'tell-37.2-1', 'convert-26.6.2', 'remove-10.1', 'put-9.1-2', 'other_cos-45.4', 'preparing-26.3-1', 'interrupt', 'become-109.1', 'calibratable_cos-45.6-1', 'throw-17.1-1', 'escape-51.1', 'run-51.3.2-2-1', 'amuse-31.1', 'forbid-67-1', 'try-61', 'amuse-31.1', 'force-59', 'exist-47.1-1', 'poison-42.2', 'force-59']\n",
      "\n",
      "['convert-26.6.2', 'amuse-31.1', 'fire-10.10', 'get-13.5.1', 'try-61', 'discover-84-1-1', 'neglect-75-1-1', 'begin-55.1', 'begin-55.1-1', 'consume-66-1', 'sight-30.2', 'throw-17.1-1', 'hurt-40.8.3-2', 'see-30.1-1', 'vandalize', 'characterize-29.2-1', 'put-9.1-2', 'seem-109-1-1', 'convert-26.6.2', 'roll-51.3.1', 'nonverbal_expression-40.2', 'obtain-13.5.2', 'murder-42.1-1', 'escape-51.1-1', 'settle-89', 'amuse-31.1', 'get-13.5.1-1', 'give-13.1-1', 'say-37.7-1', 'split-23.2', 'reflexive_appearance-48.1.2', 'discover-84', 'meander-47.7', 'transfer_mesg-37.1.1-1-1', 'remove-10.1', 'gorge-39.6', 'battle-36.4-1', 'nonvehicle-51.4.2', 'subjugate-42.3', 'marry-36.2', 'begin-55.1-1', 'stop-55.4-1', 'meander-47.7', 'marvel-31.3-8', 'rummage-35.5', 'peer-30.3']\n",
      "\n",
      "['free-80-1', 'orphan-29.7', 'say-37.7-1', 'concealment-16-1', 'flay', 'escape-51.1-1', 'hunt-35.1', 'meander-47.7', 'escape-51.1', 'dress-41.1.1', 'dub-29.3', 'settle-89', 'wish-62', 'destroy-44', 'put-9.1-1']\n",
      "\n",
      "['amuse-31.1', 'own-100', 'discover-84-1-1', 'discover-84-1-1', 'become-109.1-1', 'seem-109', 'classify-29.10', 'transfer_mesg-37.1.1-1-1', 'meander-47.7', 'discover-84', 'remove-10.1', 'escape-51.1-1', 'performance-26.7-1', 'order-60-1', 'say-37.7-1', 'own-100']\n",
      "\n"
     ]
    }
   ],
   "source": [
    "for item in movies[movies['Genre_code'] == 4].Events.head(20).tolist():\n",
    "    print(item)\n",
    "    print()"
   ]
  },
  {
   "cell_type": "markdown",
   "metadata": {},
   "source": [
    "### Encode as one-hot vectors"
   ]
  },
  {
   "cell_type": "code",
   "execution_count": 12,
   "metadata": {},
   "outputs": [],
   "source": [
    "t = Tokenizer()"
   ]
  },
  {
   "cell_type": "code",
   "execution_count": 13,
   "metadata": {},
   "outputs": [],
   "source": [
    "events = []\n",
    "for e in movies.Events.tolist():\n",
    "    events.append([item.split('-')[0] for item in eval(e)])"
   ]
  },
  {
   "cell_type": "code",
   "execution_count": 14,
   "metadata": {},
   "outputs": [
    {
     "name": "stdout",
     "output_type": "stream",
     "text": [
      "3840\n"
     ]
    }
   ],
   "source": [
    "# Size of data\n",
    "print(len(events))"
   ]
  },
  {
   "cell_type": "code",
   "execution_count": 15,
   "metadata": {},
   "outputs": [],
   "source": [
    "t.fit_on_texts(events)"
   ]
  },
  {
   "cell_type": "code",
   "execution_count": 16,
   "metadata": {},
   "outputs": [
    {
     "data": {
      "text/plain": [
       "{'amuse': 1,\n",
       " 'get': 2,\n",
       " 'escape': 3,\n",
       " 'discover': 4,\n",
       " 'own': 5,\n",
       " 'meander': 6,\n",
       " 'transfer_mesg': 7,\n",
       " 'become': 8,\n",
       " 'conjecture': 9,\n",
       " 'other_cos': 10,\n",
       " 'say': 11,\n",
       " 'correspond': 12,\n",
       " 'force': 13,\n",
       " 'obtain': 14,\n",
       " 'appear': 15,\n",
       " 'run': 16,\n",
       " 'convert': 17,\n",
       " 'meet': 18,\n",
       " 'give': 19,\n",
       " 'admire': 20,\n",
       " 'characterize': 21,\n",
       " 'future_having': 22,\n",
       " 'begin': 23,\n",
       " 'contiguous_location': 24,\n",
       " 'steal': 25,\n",
       " 'admit': 26,\n",
       " 'subjugate': 27,\n",
       " 'reflexive_appearance': 28,\n",
       " 'seem': 29,\n",
       " 'send': 30,\n",
       " 'judgment': 31,\n",
       " 'sight': 32,\n",
       " 'remove': 33,\n",
       " 'exist': 34,\n",
       " 'marvel': 35,\n",
       " 'calibratable_cos': 36,\n",
       " 'involve': 37,\n",
       " 'tell': 38,\n",
       " 'crane': 39,\n",
       " 'fit': 40,\n",
       " 'appoint': 41,\n",
       " 'contribute': 42,\n",
       " 'urge': 43,\n",
       " 'put': 44,\n",
       " 'confront': 45,\n",
       " 'lodge': 46,\n",
       " 'refuse': 47,\n",
       " 'try': 48,\n",
       " 'help': 49,\n",
       " 'see': 50,\n",
       " 'wish': 51,\n",
       " 'consider': 52,\n",
       " 'want': 53,\n",
       " 'throw': 54,\n",
       " 'disappearance': 55,\n",
       " 'dub': 56,\n",
       " 'sound_emission': 57,\n",
       " 'sustain': 58,\n",
       " 'resign': 59,\n",
       " 'manner_speaking': 60,\n",
       " 'learn': 61,\n",
       " 'order': 62,\n",
       " 'chase': 63,\n",
       " 'stop': 64,\n",
       " 'knead': 65,\n",
       " 'peer': 66,\n",
       " 'marry': 67,\n",
       " 'spatial_configuration': 68,\n",
       " 'cope': 69,\n",
       " 'establish': 70,\n",
       " 'performance': 71,\n",
       " 'bring': 72,\n",
       " 'battle': 73,\n",
       " 'advise': 74,\n",
       " 'hire': 75,\n",
       " 'indicate': 76,\n",
       " 'build': 77,\n",
       " 'search': 78,\n",
       " 'preparing': 79,\n",
       " 'forbid': 80,\n",
       " 'fill': 81,\n",
       " 'pay': 82,\n",
       " 'poison': 83,\n",
       " 'create': 84,\n",
       " 'neglect': 85,\n",
       " 'concealment': 86,\n",
       " 'eat': 87,\n",
       " 'carry': 88,\n",
       " 'long': 89,\n",
       " 'split': 90,\n",
       " 'consume': 91,\n",
       " 'confess': 92,\n",
       " 'bill': 93,\n",
       " 'free': 94,\n",
       " 'keep': 95,\n",
       " 'accept': 96,\n",
       " 'destroy': 97,\n",
       " 'succeed': 98,\n",
       " 'amalgamate': 99,\n",
       " 'confine': 100,\n",
       " 'mix': 101,\n",
       " 'beg': 102,\n",
       " 'tape': 103,\n",
       " 'hunt': 104,\n",
       " 'arrest': 105,\n",
       " 'lecture': 106,\n",
       " 'assessment': 107,\n",
       " 'let': 108,\n",
       " 'animal_sounds': 109,\n",
       " 'fulfilling': 110,\n",
       " 'hurt': 111,\n",
       " 'focus': 112,\n",
       " 'occurrence': 113,\n",
       " 'use': 114,\n",
       " 'assuming_position': 115,\n",
       " 'conspire': 116,\n",
       " 'engender': 117,\n",
       " 'rummage': 118,\n",
       " 'inquire': 119,\n",
       " 'leave': 120,\n",
       " 'comprehend': 121,\n",
       " 'wipe_manner': 122,\n",
       " 'comprise': 123,\n",
       " 'murder': 124,\n",
       " 'investigate': 125,\n",
       " 'cheat': 126,\n",
       " 'nonvehicle': 127,\n",
       " 'cooperate': 128,\n",
       " 'spray': 129,\n",
       " 'roll': 130,\n",
       " 'hold': 131,\n",
       " 'promote': 132,\n",
       " 'braid': 133,\n",
       " 'fire': 134,\n",
       " 'require': 135,\n",
       " 'defend': 136,\n",
       " 'hit': 137,\n",
       " 'adopt': 138,\n",
       " 'reach': 139,\n",
       " 'wink': 140,\n",
       " 'declare': 141,\n",
       " 'banish': 142,\n",
       " 'gorge': 143,\n",
       " 'complete': 144,\n",
       " 'suspect': 145,\n",
       " 'deduce': 146,\n",
       " 'realise': 147,\n",
       " 'defeat': 148,\n",
       " 'chit_chat': 149,\n",
       " 'exchange': 150,\n",
       " 'bump': 151,\n",
       " 'share': 152,\n",
       " 'accompany': 153,\n",
       " 'pocket': 154,\n",
       " 'devour': 155,\n",
       " 'image_impression': 156,\n",
       " 'nonverbal_expression': 157,\n",
       " 'pit': 158,\n",
       " 'break': 159,\n",
       " 'masquerade': 160,\n",
       " 'interrogate': 161,\n",
       " 'turn': 162,\n",
       " 'remedy': 163,\n",
       " 'render': 164,\n",
       " 'captain': 165,\n",
       " 'pretend': 166,\n",
       " 'shake': 167,\n",
       " 'stimulus_subject': 168,\n",
       " 'swat': 169,\n",
       " 'dedicate': 170,\n",
       " 'weather': 171,\n",
       " 'cost': 172,\n",
       " 'scribble': 173,\n",
       " 'swarm': 174,\n",
       " 'avoid': 175,\n",
       " 'funnel': 176,\n",
       " 'butter': 177,\n",
       " 'challenge': 178,\n",
       " 'dress': 179,\n",
       " 'exceed': 180,\n",
       " 'attract': 181,\n",
       " 'reconcile': 182,\n",
       " 'forget': 183,\n",
       " 'vow': 184,\n",
       " 'stalk': 185,\n",
       " 'settle': 186,\n",
       " 'sentence': 187,\n",
       " 'carve': 188,\n",
       " 'snooze': 189,\n",
       " 'intervene': 190,\n",
       " 'transcribe': 191,\n",
       " 'register': 192,\n",
       " 'modes_of_being_with_motion': 193,\n",
       " 'rely': 194,\n",
       " 'contact': 195,\n",
       " 'base': 196,\n",
       " 'drive': 197,\n",
       " 'linger': 198,\n",
       " 'pronounce': 199,\n",
       " 'orphan': 200,\n",
       " 'poke': 201,\n",
       " 'locate': 202,\n",
       " 'disassemble': 203,\n",
       " 'interrupt': 204,\n",
       " 'put_spatial': 205,\n",
       " 'addict': 206,\n",
       " 'ensure': 207,\n",
       " 'touch': 208,\n",
       " 'complain': 209,\n",
       " 'resist': 210,\n",
       " 'rape': 211,\n",
       " 'breathe': 212,\n",
       " 'continue': 213,\n",
       " 'adjust': 214,\n",
       " 'instr_communication': 215,\n",
       " 'spank': 216,\n",
       " 'equip': 217,\n",
       " 'betray': 218,\n",
       " 'acquiesce': 219,\n",
       " 'relate': 220,\n",
       " 'promise': 221,\n",
       " 'belong': 222,\n",
       " 'simple_dressing': 223,\n",
       " 'talk': 224,\n",
       " 'enforce': 225,\n",
       " 'patent': 226,\n",
       " 'vehicle_path': 227,\n",
       " 'overpower': 228,\n",
       " 're': 229,\n",
       " 'void': 230,\n",
       " 'illustrate': 231,\n",
       " 'tingle': 232,\n",
       " 'cancel': 233,\n",
       " 'substance_emission': 234,\n",
       " 'herd': 235,\n",
       " 'mistake': 236,\n",
       " 'change_bodily_state': 237,\n",
       " 'lack': 238,\n",
       " 'uncover': 239,\n",
       " 'entity_specific_cos': 240,\n",
       " 'plead': 241,\n",
       " 'push': 242,\n",
       " 'embark': 243,\n",
       " 'grow': 244,\n",
       " 'relent': 245,\n",
       " 'undergo': 246,\n",
       " 'stymie': 247,\n",
       " 'put_direction': 248,\n",
       " 'corner': 249,\n",
       " 'await': 250,\n",
       " 'graduate': 251,\n",
       " 'rehearse': 252,\n",
       " 'cut': 253,\n",
       " 'allow': 254,\n",
       " 'hiccup': 255,\n",
       " 'recognise': 256,\n",
       " 'interfere': 257,\n",
       " 'bid': 258,\n",
       " 'fulfill': 259,\n",
       " 'bend': 260,\n",
       " 'ambush': 261,\n",
       " 'fulfil': 262,\n",
       " 'feeding': 263,\n",
       " 'retain': 264,\n",
       " 'avenge': 265,\n",
       " 'strand': 266,\n",
       " 'absorb': 267,\n",
       " 'empathize': 268,\n",
       " 'convict': 269,\n",
       " 'opt': 270,\n",
       " 'disobey': 271,\n",
       " 'tend': 272,\n",
       " 'apologise': 273,\n",
       " 'invade': 274,\n",
       " 'infiltrate': 275,\n",
       " 'spend_time': 276,\n",
       " 'accost': 277,\n",
       " 'classify': 278,\n",
       " 'risk': 279,\n",
       " 'price': 280,\n",
       " 'thwart': 281,\n",
       " 'dressing_well': 282,\n",
       " 'overjoy': 283,\n",
       " 'sue': 284,\n",
       " 'rebuff': 285,\n",
       " 'task': 286,\n",
       " 'estrange': 287,\n",
       " 'light_emission': 288,\n",
       " 'fend': 289,\n",
       " 'body_internal_motion': 290,\n",
       " 'reminisce': 291,\n",
       " 'rush': 292,\n",
       " 'mend': 293,\n",
       " 'audition': 294,\n",
       " 'relocate': 295,\n",
       " 'care': 296,\n",
       " 'dine': 297,\n",
       " 'incapacitate': 298,\n",
       " 'research': 299,\n",
       " 'blind': 300,\n",
       " 'sabotage': 301,\n",
       " 'sedate': 302,\n",
       " 'suffocate': 303,\n",
       " 'subject': 304,\n",
       " 'reconsider': 305,\n",
       " 'withdraw': 306,\n",
       " 'chew': 307,\n",
       " 'revisit': 308,\n",
       " 'implicate': 309,\n",
       " 'recuperate': 310,\n",
       " 'oversee': 311,\n",
       " 'unmask': 312,\n",
       " 'aspire': 313,\n",
       " 'near': 314,\n",
       " 'ditch': 315,\n",
       " 'foil': 316,\n",
       " 'resemble': 317,\n",
       " 'enrol': 318,\n",
       " 'gobble': 319,\n",
       " 'vehicle': 320,\n",
       " 'doom': 321,\n",
       " 'waltz': 322,\n",
       " 'exhale': 323,\n",
       " 'flinch': 324,\n",
       " 'obey': 325,\n",
       " 'unearth': 326,\n",
       " 'indulge': 327,\n",
       " 'teleport': 328,\n",
       " 'heed': 329,\n",
       " 'disregard': 330,\n",
       " 'hypothesize': 331,\n",
       " 'co': 332,\n",
       " 'disrupt': 333,\n",
       " 'gun': 334,\n",
       " 'wipe_instr': 335,\n",
       " 'elope': 336,\n",
       " 'endanger': 337,\n",
       " 'proposition': 338,\n",
       " 'defy': 339,\n",
       " 'comply': 340,\n",
       " 'appal': 341,\n",
       " 'deserve': 342,\n",
       " 'demote': 343,\n",
       " 'renovate': 344,\n",
       " 'romance': 345,\n",
       " 'overtake': 346,\n",
       " 'limit': 347,\n",
       " 'berry': 348,\n",
       " 'alia': 349,\n",
       " 'feature': 350,\n",
       " 'double': 351,\n",
       " 'muster': 352,\n",
       " 'strive': 353,\n",
       " 'stricken': 354,\n",
       " 'resurface': 355,\n",
       " 'flunk': 356,\n",
       " 'orchestrate': 357,\n",
       " 'wreak': 358,\n",
       " 'slide': 359,\n",
       " 'refill': 360,\n",
       " 'list': 361,\n",
       " 'lunge': 362,\n",
       " 'separate': 363,\n",
       " 'practise': 364,\n",
       " 'reconnect': 365,\n",
       " 'relive': 366,\n",
       " 'disqualify': 367,\n",
       " 'man': 368,\n",
       " 'estimate': 369,\n",
       " 'cooking': 370,\n",
       " 'brace': 371,\n",
       " 'harbor': 372,\n",
       " 'organise': 373,\n",
       " 'masturbate': 374,\n",
       " 'vent': 375,\n",
       " 'amputate': 376,\n",
       " 'reconstruct': 377,\n",
       " 'fantasize': 378,\n",
       " 'body_internal_states': 379,\n",
       " 'regenerate': 380,\n",
       " 'benefit': 381,\n",
       " 'dismember': 382,\n",
       " 'digest': 383,\n",
       " 'reprogram': 384,\n",
       " 'invoke': 385,\n",
       " 'stake': 386,\n",
       " 'authorize': 387,\n",
       " 'suit': 388,\n",
       " 'trash': 389,\n",
       " 'avert': 390,\n",
       " 'master': 391,\n",
       " 'destine': 392,\n",
       " 'daydream': 393,\n",
       " 'terrorise': 394,\n",
       " 'restart': 395,\n",
       " 'attribute': 396,\n",
       " 'cater': 397,\n",
       " 'retake': 398,\n",
       " 'pour': 399,\n",
       " 'multiply': 400,\n",
       " 'eke': 401,\n",
       " 'renege': 402,\n",
       " 'unravel': 403,\n",
       " 'prank': 404,\n",
       " 'groom': 405,\n",
       " 'lobotomize': 406,\n",
       " 'rethink': 407,\n",
       " 'rehire': 408,\n",
       " 'brainwash': 409,\n",
       " 'access': 410,\n",
       " 'quip': 411,\n",
       " 'calculate': 412,\n",
       " 'school': 413,\n",
       " 'remand': 414,\n",
       " 'debrief': 415,\n",
       " 'abort': 416,\n",
       " 'overlook': 417,\n",
       " 'harbour': 418,\n",
       " 'prescribe': 419,\n",
       " 'finance': 420,\n",
       " 'violate': 421,\n",
       " 'unveil': 422,\n",
       " 'acclimate': 423,\n",
       " 'afford': 424,\n",
       " 'gore': 425,\n",
       " 'contradict': 426,\n",
       " 'mistreat': 427,\n",
       " 'piece': 428,\n",
       " 'coil': 429,\n",
       " 'dynamite': 430,\n",
       " 'encase': 431,\n",
       " 'waylay': 432,\n",
       " 'vanquish': 433,\n",
       " 'uphold': 434,\n",
       " 'outmaneuver': 435,\n",
       " 'floss': 436,\n",
       " 'instill': 437,\n",
       " 'reload': 438,\n",
       " 'sound_existence': 439,\n",
       " 'entitle': 440,\n",
       " 'deactivate': 441,\n",
       " 'resurrect': 442,\n",
       " 'garner': 443,\n",
       " 'exaggerate': 444,\n",
       " 'torch': 445,\n",
       " 'overstate': 446,\n",
       " 'strum': 447,\n",
       " 'pain': 448,\n",
       " 'induct': 449,\n",
       " 'revoke': 450,\n",
       " 'crestfallen': 451,\n",
       " 'spurn': 452,\n",
       " 'consist': 453,\n",
       " 'reattach': 454,\n",
       " 'impart': 455,\n",
       " 'unwrap': 456,\n",
       " 'idolise': 457,\n",
       " 'pollute': 458,\n",
       " 'embroil': 459,\n",
       " 'flatline': 460,\n",
       " 'overdose': 461,\n",
       " 'inhabit': 462,\n",
       " 'encroach': 463,\n",
       " 'demur': 464,\n",
       " 'misbehave': 465,\n",
       " 'distance': 466,\n",
       " 'abide': 467,\n",
       " 'tamper': 468,\n",
       " 'boo': 469,\n",
       " 'best': 470,\n",
       " 'over': 471,\n",
       " 'appeal': 472,\n",
       " 'rumor': 473,\n",
       " 'serenade': 474,\n",
       " 'overrule': 475,\n",
       " 'rollerblade': 476,\n",
       " 'bumble': 477,\n",
       " 'foul': 478,\n",
       " 'coordinate': 479,\n",
       " 'extricate': 480,\n",
       " 'dissect': 481,\n",
       " 'rewrite': 482,\n",
       " 'defect': 483,\n",
       " 'preside': 484,\n",
       " 'freak': 485,\n",
       " 'infatuate': 486,\n",
       " 'baptise': 487,\n",
       " 'parole': 488,\n",
       " 'criticise': 489,\n",
       " 'amend': 490,\n",
       " 'inflict': 491,\n",
       " 'rematerialize': 492,\n",
       " 'dote': 493,\n",
       " 'shy': 494,\n",
       " 'recant': 495,\n",
       " 'incur': 496,\n",
       " 'father': 497,\n",
       " 'accustom': 498,\n",
       " 'fell': 499,\n",
       " 'tidy': 500,\n",
       " 'unpack': 501,\n",
       " 'revenge': 502,\n",
       " 'lavish': 503,\n",
       " 'juggle': 504,\n",
       " 'alight': 505,\n",
       " 'clone': 506,\n",
       " 'utilise': 507,\n",
       " 'penetrate': 508,\n",
       " 'court': 509,\n",
       " 'refrain': 510,\n",
       " 'postpone': 511,\n",
       " 'withhold': 512,\n",
       " 'jettison': 513,\n",
       " 'hole': 514,\n",
       " 'barricade': 515,\n",
       " 'mug': 516,\n",
       " 'remodel': 517,\n",
       " 'rewind': 518,\n",
       " 'upturn': 519,\n",
       " 'rappel': 520,\n",
       " 'reabsorb': 521,\n",
       " 'adulterate': 522,\n",
       " 'outstretch': 523,\n",
       " 'atone': 524,\n",
       " 'outrun': 525,\n",
       " 'revamp': 526,\n",
       " 'differ': 527,\n",
       " 'downgrade': 528,\n",
       " 'leakey': 529,\n",
       " 'deputize': 530,\n",
       " 'mediate': 531,\n",
       " 'pants': 532,\n",
       " 'raide': 533,\n",
       " 'matter': 534,\n",
       " 'ben': 535,\n",
       " 'entity_specific_modes_being': 536,\n",
       " 'propel': 537,\n",
       " 'power': 538,\n",
       " 'prep': 539,\n",
       " 'crash': 540,\n",
       " 'shield': 541,\n",
       " 'pressurise': 542,\n",
       " 'prey': 543,\n",
       " 'counterattack': 544,\n",
       " 'loot': 545,\n",
       " 'deploy': 546,\n",
       " 'chastize': 547,\n",
       " 'breath': 548,\n",
       " 'outgun': 549,\n",
       " 'outmann': 550,\n",
       " 'sheriff': 551,\n",
       " 'demonize': 552,\n",
       " 'ward': 553,\n",
       " 'outdate': 554,\n",
       " 'clue': 555,\n",
       " 'wrong': 556,\n",
       " 'rear': 557,\n",
       " 'downsize': 558,\n",
       " 'embody': 559,\n",
       " 'script': 560,\n",
       " 'outswim': 561,\n",
       " 'fiddle': 562,\n",
       " 'wimp': 563,\n",
       " 'scrap': 564,\n",
       " 'reprise': 565,\n",
       " 'pleasure': 566,\n",
       " 'supervise': 567,\n",
       " 'brim': 568,\n",
       " 'untangle': 569,\n",
       " 'blackball': 570,\n",
       " 'allude': 571,\n",
       " 'vindicate': 572,\n",
       " 'repave': 573,\n",
       " 'hogtie': 574,\n",
       " 'snuck': 575,\n",
       " 'pinpoint': 576,\n",
       " 'reacquaint': 577,\n",
       " 'roster': 578,\n",
       " 'verge': 579,\n",
       " 'fare': 580,\n",
       " 'debone': 581,\n",
       " 'surf': 582,\n",
       " 'ingratiate': 583,\n",
       " 'boobytrap': 584,\n",
       " 'heckle': 585,\n",
       " 'empower': 586,\n",
       " 'foreclose': 587,\n",
       " 'major': 588,\n",
       " 'sub': 589,\n",
       " 'confround': 590,\n",
       " 'kiran': 591,\n",
       " 'skimp': 592,\n",
       " 'ferret': 593,\n",
       " 'readopt': 594,\n",
       " 'shooe': 595,\n",
       " 'fast': 596,\n",
       " 'soundproof': 597,\n",
       " 'reassume': 598,\n",
       " 'downheart': 599,\n",
       " 'mimic': 600,\n",
       " 'worryy': 601,\n",
       " 'then': 602,\n",
       " 'kung': 603,\n",
       " 'lag': 604,\n",
       " 'enamor': 605,\n",
       " 'budge': 606,\n",
       " 'debut': 607,\n",
       " 'behalve': 608,\n",
       " 'honour': 609,\n",
       " 'reembark': 610,\n",
       " 'bypass': 611,\n",
       " 'ascribe': 612,\n",
       " 'outlive': 613,\n",
       " 'neutralise': 614,\n",
       " 'clinch': 615,\n",
       " 'climax': 616,\n",
       " 'staunch': 617,\n",
       " 'misjudge': 618,\n",
       " 'reawaken': 619,\n",
       " 'elve': 620,\n",
       " 'sandwich': 621,\n",
       " 'philosophize': 622,\n",
       " 'fuck': 623,\n",
       " '♥': 624,\n",
       " 'vampirize': 625,\n",
       " 'err': 626,\n",
       " 'daffy': 627,\n",
       " 'overrun': 628,\n",
       " 'browse': 629,\n",
       " 'one': 630,\n",
       " 'peak': 631,\n",
       " 'surface': 632,\n",
       " 'enthral': 633,\n",
       " 'shoulder': 634,\n",
       " 'scupper': 635,\n",
       " 'goof': 636,\n",
       " 'unheed': 637,\n",
       " 'partake': 638,\n",
       " 'malfunction': 639,\n",
       " 'fan': 640,\n",
       " 'bankroll': 641,\n",
       " 'impoverish': 642,\n",
       " 'göring': 643,\n",
       " 'opine': 644,\n",
       " 'negate': 645,\n",
       " 'reignite': 646,\n",
       " 'bust': 647,\n",
       " 'bulge': 648,\n",
       " 'jaunt': 649,\n",
       " 'land': 650,\n",
       " 'bobble': 651,\n",
       " 'swoop': 652,\n",
       " 'discount': 653,\n",
       " 'fob': 654,\n",
       " 'bath': 655,\n",
       " 'plea': 656,\n",
       " 'intern': 657,\n",
       " 'handover': 658,\n",
       " 'handd': 659,\n",
       " 'concert': 660,\n",
       " 'brazen': 661,\n",
       " 'usurp': 662,\n",
       " 'sideline': 663,\n",
       " 'enable': 664,\n",
       " 'forewarn': 665,\n",
       " 'perjure': 666,\n",
       " 'dethrone': 667,\n",
       " 'orate': 668,\n",
       " 'align': 669,\n",
       " 'convuls': 670,\n",
       " 'rout': 671,\n",
       " 'gang': 672,\n",
       " 'pozzi': 673,\n",
       " 'carp': 674,\n",
       " 'shapeshift': 675,\n",
       " 'farm': 676,\n",
       " 'scam': 677,\n",
       " 'arezou': 678,\n",
       " 'miscarry': 679,\n",
       " 'squire': 680,\n",
       " 'besiege': 681,\n",
       " 'breed': 682,\n",
       " 'xing': 683,\n",
       " 'dies.on': 684,\n",
       " 'hospitalise': 685,\n",
       " 'airlift': 686,\n",
       " 'veto': 687,\n",
       " 'warrant': 688,\n",
       " 'onboard': 689,\n",
       " 'refuel': 690,\n",
       " 'ill': 691,\n",
       " 'refute': 692,\n",
       " 'emphasise': 693,\n",
       " 'process': 694,\n",
       " 'showcase': 695,\n",
       " 'abscond': 696,\n",
       " 'blacklist': 697,\n",
       " 'scandalise': 698,\n",
       " 'redefine': 699,\n",
       " 'fancies.name': 700,\n",
       " 'mentore': 701,\n",
       " 'squirrel': 702,\n",
       " 'misfire': 703,\n",
       " 'presuppose': 704,\n",
       " 'misplace': 705,\n",
       " 'flaw': 706,\n",
       " 'lambast': 707,\n",
       " 'butle': 708,\n",
       " 'rehabilitate': 709,\n",
       " 'harangue': 710,\n",
       " 'lord': 711,\n",
       " 'victimize': 712,\n",
       " 'replant': 713,\n",
       " 'aske': 714,\n",
       " 'falsify': 715,\n",
       " 'rescind': 716,\n",
       " 'guillotine': 717,\n",
       " 'critique': 718,\n",
       " 'correlate': 719,\n",
       " 'consign': 720,\n",
       " 'mime': 721,\n",
       " 'remeet': 722,\n",
       " 'forestall': 723,\n",
       " 'brutalize': 724,\n",
       " 'countersue': 725,\n",
       " 'outdraw': 726,\n",
       " 'rat': 727,\n",
       " 'stipulate': 728,\n",
       " 'denegerate': 729,\n",
       " 'migrate': 730,\n",
       " 'fidelity': 731,\n",
       " 'red': 732,\n",
       " 'forsake': 733,\n",
       " 'declaim': 734,\n",
       " 'vouch': 735,\n",
       " 'bomb': 736,\n",
       " 'refocus': 737,\n",
       " 'indoctrinate': 738,\n",
       " 'immigrate': 739,\n",
       " 'anaesthetize': 740,\n",
       " 'stakeout': 741,\n",
       " 'account': 742,\n",
       " 'foreshadow': 743,\n",
       " 'postulate': 744,\n",
       " 'beset': 745,\n",
       " 'weekend': 746,\n",
       " 'unwaver': 747,\n",
       " 'brigadier': 748,\n",
       " 'misrepresent': 749,\n",
       " 'frequent': 750,\n",
       " 'legalize': 751,\n",
       " 'undercut': 752,\n",
       " 'nurture': 753,\n",
       " 'censor': 754,\n",
       " 'assent': 755,\n",
       " 'swamp': 756,\n",
       " 'experiment': 757,\n",
       " 'disown': 758,\n",
       " 'backfire': 759,\n",
       " 'vaccinate': 760,\n",
       " 'reprieve': 761,\n",
       " 'despire': 762,\n",
       " 'redesign': 763,\n",
       " 'indispose': 764,\n",
       " 'aggrandize': 765,\n",
       " 'lustrate': 766,\n",
       " 'fraternize': 767,\n",
       " 'unplug': 768,\n",
       " 'overreact': 769,\n",
       " 'retrace': 770,\n",
       " 'rebaptize': 771,\n",
       " 'repatriate': 772,\n",
       " 'reenlist': 773,\n",
       " 'driss': 774,\n",
       " 'reenter': 775,\n",
       " 'pressurize': 776,\n",
       " 'impure': 777,\n",
       " 'capitalise': 778,\n",
       " 'copulate': 779,\n",
       " 'cyber': 780,\n",
       " 'bestow': 781,\n",
       " 'dial': 782,\n",
       " 'rebuy': 783,\n",
       " 'maneuver': 784,\n",
       " 'trample': 785,\n",
       " 'dispense': 786,\n",
       " 'slow': 787,\n",
       " 'condescend': 788,\n",
       " 'market': 789,\n",
       " 'google': 790,\n",
       " 'disinherit': 791,\n",
       " 'rediscover': 792,\n",
       " 'retrofit': 793,\n",
       " 'cradle': 794,\n",
       " 'overfly': 795,\n",
       " 'sidetrack': 796,\n",
       " 'mess': 797,\n",
       " 'defile': 798,\n",
       " 'spoit': 799,\n",
       " 'und': 800,\n",
       " 'reference': 801,\n",
       " 'endear': 802,\n",
       " 'ratna': 803,\n",
       " 'guinevere': 804,\n",
       " 'liaison': 805,\n",
       " 'soliloquize': 806,\n",
       " 'vandalize': 807,\n",
       " 'flay': 808,\n",
       " 'resucitate': 809,\n",
       " 'inculcate': 810,\n",
       " 'rebut': 811,\n",
       " 'unbeknownst': 812,\n",
       " 'mimicsa': 813,\n",
       " 'decipher': 814,\n",
       " 'half': 815,\n",
       " 'bum': 816,\n",
       " 'san': 817,\n",
       " 'reexamine': 818,\n",
       " 'headbutt': 819,\n",
       " 'single': 820,\n",
       " 'set': 821,\n",
       " 'redo': 822,\n",
       " 'toy': 823,\n",
       " 'rev': 824,\n",
       " 'kamikaze': 825,\n",
       " 'stonewall': 826,\n",
       " 'min': 827,\n",
       " 'jeopardize': 828,\n",
       " '700m': 829,\n",
       " 'tantalise': 830,\n",
       " 'reuinte': 831,\n",
       " 'reemerge': 832,\n",
       " 'download': 833,\n",
       " 'strug': 834,\n",
       " 'reciprocate': 835,\n",
       " 'rewire': 836,\n",
       " 'party': 837,\n",
       " 'mastermind': 838,\n",
       " 'defuse': 839,\n",
       " 'query': 840,\n",
       " 'reset': 841,\n",
       " 'pelt': 842,\n",
       " 'distinguish': 843,\n",
       " 'emit': 844,\n",
       " 'worke': 845,\n",
       " 'displace': 846,\n",
       " 'mooch': 847,\n",
       " 'foster': 848,\n",
       " 'coloring': 849,\n",
       " 'backstab': 850,\n",
       " 'campaign': 851,\n",
       " 'telegram': 852,\n",
       " 'finalize': 853,\n",
       " 'rig': 854,\n",
       " 'video': 855,\n",
       " 'orbit': 856}"
      ]
     },
     "execution_count": 16,
     "metadata": {},
     "output_type": "execute_result"
    }
   ],
   "source": [
    "t.word_index"
   ]
  },
  {
   "cell_type": "code",
   "execution_count": 17,
   "metadata": {},
   "outputs": [],
   "source": [
    "embedding_input_dim = max(t.word_index.values())+1"
   ]
  },
  {
   "cell_type": "code",
   "execution_count": 18,
   "metadata": {},
   "outputs": [
    {
     "data": {
      "text/plain": [
       "857"
      ]
     },
     "execution_count": 18,
     "metadata": {},
     "output_type": "execute_result"
    }
   ],
   "source": [
    "embedding_input_dim"
   ]
  },
  {
   "cell_type": "code",
   "execution_count": 19,
   "metadata": {},
   "outputs": [],
   "source": [
    "msk = np.random.rand(len(movies)) < 0.8\n",
    "train = []\n",
    "for e in movies[msk]['Events'].tolist():\n",
    "    train.append([item.split('-')[0] for item in eval(e)])\n",
    "test = []\n",
    "for e in movies[~msk]['Events'].tolist():\n",
    "    test.append([item.split('-')[0] for item in eval(e)])\n"
   ]
  },
  {
   "cell_type": "code",
   "execution_count": 20,
   "metadata": {},
   "outputs": [],
   "source": [
    "x_train = t.texts_to_sequences(train)\n",
    "x_train = pad_sequences(x_train, maxlen=50)\n"
   ]
  },
  {
   "cell_type": "code",
   "execution_count": 21,
   "metadata": {},
   "outputs": [],
   "source": [
    "events_trans = t.texts_to_sequences(events)\n",
    "events_trans = pad_sequences(events_trans, maxlen=50)\n"
   ]
  },
  {
   "cell_type": "code",
   "execution_count": 22,
   "metadata": {},
   "outputs": [],
   "source": [
    "x_test = t.texts_to_sequences(test)\n",
    "x_test = pad_sequences(x_test, maxlen=20)\n"
   ]
  },
  {
   "cell_type": "code",
   "execution_count": 23,
   "metadata": {},
   "outputs": [],
   "source": [
    "y_train = to_categorical(movies[msk]['Genre_code'].tolist())\n",
    "y_test = to_categorical(movies[~msk]['Genre_code'].tolist())"
   ]
  },
  {
   "cell_type": "markdown",
   "metadata": {},
   "source": [
    "### Simple LSTM "
   ]
  },
  {
   "cell_type": "code",
   "execution_count": 24,
   "metadata": {},
   "outputs": [
    {
     "name": "stdout",
     "output_type": "stream",
     "text": [
      "_________________________________________________________________\n",
      "Layer (type)                 Output Shape              Param #   \n",
      "=================================================================\n",
      "embedding_1 (Embedding)      (None, None, 32)          27424     \n",
      "_________________________________________________________________\n",
      "lstm_1 (LSTM)                (None, 20)                4240      \n",
      "_________________________________________________________________\n",
      "dense_1 (Dense)              (None, 5)                 105       \n",
      "=================================================================\n",
      "Total params: 31,769\n",
      "Trainable params: 31,769\n",
      "Non-trainable params: 0\n",
      "_________________________________________________________________\n",
      "None\n",
      "Epoch 1/3\n",
      "3090/3090 [==============================] - 3s 869us/step - loss: 1.3838 - acc: 0.4346\n",
      "Epoch 2/3\n",
      "3090/3090 [==============================] - 2s 704us/step - loss: 1.2961 - acc: 0.4521\n",
      "Epoch 3/3\n",
      "3090/3090 [==============================] - 2s 715us/step - loss: 1.2674 - acc: 0.4537\n"
     ]
    },
    {
     "data": {
      "text/plain": [
       "<keras.callbacks.History at 0x7f06949e2ac8>"
      ]
     },
     "execution_count": 24,
     "metadata": {},
     "output_type": "execute_result"
    }
   ],
   "source": [
    "# create the model\n",
    "embedding_vector_length = 32\n",
    "model = Sequential()\n",
    "model.add(Embedding(embedding_input_dim, embedding_vector_length))\n",
    "model.add( LSTM(20))\n",
    "model.add(Dense(5, activation='softmax'))\n",
    "model.compile(loss='categorical_crossentropy', optimizer='adam', metrics=['accuracy'])\n",
    "print(model.summary())\n",
    "model.fit(x_train, y_train, epochs=3, batch_size=32)"
   ]
  },
  {
   "cell_type": "code",
   "execution_count": 25,
   "metadata": {},
   "outputs": [
    {
     "name": "stdout",
     "output_type": "stream",
     "text": [
      "750/750 [==============================] - 0s 171us/step\n",
      "Accuracy: 45.73%\n"
     ]
    }
   ],
   "source": [
    "# Final evaluation of the model\n",
    "scores = model.evaluate(x_test,\n",
    "                        y_test)\n",
    "print(\"Accuracy: %.2f%%\" % (scores[1]*100))"
   ]
  },
  {
   "cell_type": "markdown",
   "metadata": {},
   "source": [
    "### Obtain embeddings"
   ]
  },
  {
   "cell_type": "code",
   "execution_count": 26,
   "metadata": {},
   "outputs": [],
   "source": [
    "# #Get indimediate layer output using tensorflow backend\n",
    "# get_lstm_output = K.function([model.layers[0].input], [model.layers[1].output])\n",
    "# output = get_lstm_output([x_train])"
   ]
  },
  {
   "cell_type": "code",
   "execution_count": 28,
   "metadata": {},
   "outputs": [],
   "source": [
    "#Alternative way, same result\n",
    "intermediate_layer_model = Model(inputs=model.input,\n",
    "                                 outputs=model.get_layer('lstm_1').output)\n",
    "# intermediate_output = intermediate_layer_model.predict(x_train[0][0:])"
   ]
  },
  {
   "cell_type": "code",
   "execution_count": 29,
   "metadata": {},
   "outputs": [],
   "source": [
    "vecs = []\n",
    "for i in range(len(events)):\n",
    "    output = intermediate_layer_model.predict(events_trans[i])\n",
    "#     print(output.shape)\n",
    "#     print(output[0])\n",
    "#     break\n",
    "    vecs.append(output[-1])\n"
   ]
  },
  {
   "cell_type": "markdown",
   "metadata": {},
   "source": [
    "### Cluster embeddings"
   ]
  },
  {
   "cell_type": "code",
   "execution_count": 30,
   "metadata": {},
   "outputs": [],
   "source": [
    "from sklearn.manifold import TSNE\n",
    "import matplotlib.pyplot as plt\n",
    "%matplotlib inline\n",
    "from sklearn.cluster import KMeans\n",
    "from sklearn.decomposition import PCA\n"
   ]
  },
  {
   "cell_type": "code",
   "execution_count": 39,
   "metadata": {},
   "outputs": [
    {
     "data": {
      "text/plain": [
       "(3840, 2)"
      ]
     },
     "execution_count": 39,
     "metadata": {},
     "output_type": "execute_result"
    }
   ],
   "source": [
    "embedded = TSNE(n_components=2).fit_transform(vecs)\n",
    "embedded.shape"
   ]
  },
  {
   "cell_type": "code",
   "execution_count": 32,
   "metadata": {},
   "outputs": [
    {
     "data": {
      "text/plain": [
       "{0: 'Action', 1: 'Comedy', 2: 'Drama', 3: 'Romance Film', 4: 'Thriller'}"
      ]
     },
     "execution_count": 32,
     "metadata": {},
     "output_type": "execute_result"
    }
   ],
   "source": [
    "{0: 'Action', 1: 'Comedy', 2: 'Drama', 3: 'Romance Film', 4: 'Thriller'}"
   ]
  },
  {
   "cell_type": "code",
   "execution_count": 45,
   "metadata": {},
   "outputs": [
    {
     "data": {
      "text/plain": [
       "<matplotlib.collections.PathCollection at 0x7f063ecc10b8>"
      ]
     },
     "execution_count": 45,
     "metadata": {},
     "output_type": "execute_result"
    },
    {
     "data": {
      "image/png": "[encoded data removed]",
      "text/plain": [
       "<Figure size 720x504 with 1 Axes>"
      ]
     },
     "metadata": {
      "needs_background": "light"
     },
     "output_type": "display_data"
    }
   ],
   "source": [
    "plt.figure(figsize = (10,7))\n",
    "plt.scatter(embedded[action_s:action_e,0], embedded[action_s:action_e,1], s = 20,color='blue', label = 'Action', alpha = 0.5)\n",
    "# plt.scatter(embedded[comedy_s:comedy_e,0], embedded[comedy_s:comedy_e,1], s =20,color='yellow', label = 'Comedy', alpha = 0.5)\n",
    "# plt.scatter(embedded[drama_s:drama_e,0], embedded[drama_s:drama_e,1], s = 20,color='red', label = 'Drama', alpha = 0.5)\n",
    "# plt.scatter(embedded[romance_s:romance_e,0], embedded[romance_s:romance_e,1], s = 20,color='green', label = 'Romance', alpha = 0.5)\n",
    "# plt.scatter(embedded[thriller_s:thriller_e,0], embedded[thriller_s:thriller_e,1], s = 20,color='grey', label = 'Thriller', alpha = 0.5)\n",
    "# # plt.legend()"
   ]
  },
  {
   "cell_type": "code",
   "execution_count": 46,
   "metadata": {},
   "outputs": [],
   "source": [
    "pca = PCA(n_components=2)\n",
    "embedded = pca.fit_transform(vecs)"
   ]
  },
  {
   "cell_type": "code",
   "execution_count": 47,
   "metadata": {},
   "outputs": [
    {
     "data": {
      "text/plain": [
       "(3840, 2)"
      ]
     },
     "execution_count": 47,
     "metadata": {},
     "output_type": "execute_result"
    }
   ],
   "source": [
    "embedded.shape"
   ]
  },
  {
   "cell_type": "code",
   "execution_count": 57,
   "metadata": {},
   "outputs": [
    {
     "data": {
      "text/plain": [
       "<matplotlib.collections.PathCollection at 0x7f063e8e5e10>"
      ]
     },
     "execution_count": 57,
     "metadata": {},
     "output_type": "execute_result"
    },
    {
     "data": {
      "image/png": "[encoded data removed]",
      "text/plain": [
       "<Figure size 432x288 with 1 Axes>"
      ]
     },
     "metadata": {
      "needs_background": "light"
     },
     "output_type": "display_data"
    }
   ],
   "source": [
    "# plt.figure(figsize = (10,7))\n",
    "plt.scatter(embedded[action_s:action_e,0], embedded[action_s:action_e,1], s = 20,color='blue', label = 'Action', alpha = 0.5)"
   ]
  },
  {
   "cell_type": "code",
   "execution_count": 58,
   "metadata": {},
   "outputs": [
    {
     "data": {
      "text/plain": [
       "<matplotlib.collections.PathCollection at 0x7f063e8c25f8>"
      ]
     },
     "execution_count": 58,
     "metadata": {},
     "output_type": "execute_result"
    },
    {
     "data": {
      "image/png": "[encoded data removed]",
      "text/plain": [
       "<Figure size 432x288 with 1 Axes>"
      ]
     },
     "metadata": {
      "needs_background": "light"
     },
     "output_type": "display_data"
    }
   ],
   "source": [
    "plt.scatter(embedded[comedy_s:comedy_e,0], embedded[comedy_s:comedy_e,1], s =20,color='yellow', label = 'Comedy', alpha = 0.5)"
   ]
  },
  {
   "cell_type": "code",
   "execution_count": 59,
   "metadata": {},
   "outputs": [
    {
     "data": {
      "text/plain": [
       "<matplotlib.collections.PathCollection at 0x7f063e813d68>"
      ]
     },
     "execution_count": 59,
     "metadata": {},
     "output_type": "execute_result"
    },
    {
     "data": {
      "image/png": "[encoded data removed]",
      "text/plain": [
       "<Figure size 432x288 with 1 Axes>"
      ]
     },
     "metadata": {
      "needs_background": "light"
     },
     "output_type": "display_data"
    }
   ],
   "source": [
    "plt.scatter(embedded[drama_s:drama_e,0], embedded[drama_s:drama_e,1], s = 20,color='red', label = 'Drama', alpha = 0.5)"
   ]
  },
  {
   "cell_type": "code",
   "execution_count": 60,
   "metadata": {},
   "outputs": [
    {
     "data": {
      "text/plain": [
       "<matplotlib.collections.PathCollection at 0x7f063e7f2518>"
      ]
     },
     "execution_count": 60,
     "metadata": {},
     "output_type": "execute_result"
    },
    {
     "data": {
      "image/png": "[encoded data removed]",
      "text/plain": [
       "<Figure size 432x288 with 1 Axes>"
      ]
     },
     "metadata": {
      "needs_background": "light"
     },
     "output_type": "display_data"
    }
   ],
   "source": [
    "plt.scatter(embedded[romance_s:romance_e,0], embedded[romance_s:romance_e,1], s = 20,color='green', label = 'Romance', alpha = 0.5)"
   ]
  },
  {
   "cell_type": "code",
   "execution_count": 61,
   "metadata": {},
   "outputs": [
    {
     "data": {
      "text/plain": [
       "<matplotlib.collections.PathCollection at 0x7f063df33a90>"
      ]
     },
     "execution_count": 61,
     "metadata": {},
     "output_type": "execute_result"
    },
    {
     "data": {
      "image/png": "[encoded data removed]",
      "text/plain": [
       "<Figure size 432x288 with 1 Axes>"
      ]
     },
     "metadata": {
      "needs_background": "light"
     },
     "output_type": "display_data"
    }
   ],
   "source": [
    "plt.scatter(embedded[thriller_s:thriller_e,0], embedded[thriller_s:thriller_e,1], s = 20,color='grey', label = 'Thriller', alpha = 0.5)\n",
    "# plt.legend()"
   ]
  },
  {
   "cell_type": "code",
   "execution_count": 37,
   "metadata": {},
   "outputs": [
    {
     "name": "stdout",
     "output_type": "stream",
     "text": [
      "[0.69169824 0.24952385]\n"
     ]
    }
   ],
   "source": [
    "print(pca.explained_variance_ratio_)  "
   ]
  },
  {
   "cell_type": "code",
   "execution_count": 38,
   "metadata": {},
   "outputs": [
    {
     "name": "stdout",
     "output_type": "stream",
     "text": [
      "[6.94618239 4.17199591]\n"
     ]
    }
   ],
   "source": [
    "print(pca.singular_values_)  "
   ]
  },
  {
   "cell_type": "code",
   "execution_count": null,
   "metadata": {},
   "outputs": [],
   "source": []
  },
  {
   "cell_type": "code",
   "execution_count": null,
   "metadata": {},
   "outputs": [],
   "source": []
  }
 ],
 "metadata": {
  "kernelspec": {
   "display_name": "Python 3",
   "language": "python",
   "name": "python3"
  },
  "language_info": {
   "codemirror_mode": {
    "name": "ipython",
    "version": 3
   },
   "file_extension": ".py",
   "mimetype": "text/x-python",
   "name": "python",
   "nbconvert_exporter": "python",
   "pygments_lexer": "ipython3",
   "version": "3.6.6"
  }
 },
 "nbformat": 4,
 "nbformat_minor": 2
}
