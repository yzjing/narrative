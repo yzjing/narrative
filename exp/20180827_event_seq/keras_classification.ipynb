{
 "cells": [
  {
   "cell_type": "code",
   "execution_count": 1,
   "metadata": {},
   "outputs": [
    {
     "name": "stderr",
     "output_type": "stream",
     "text": [
      "Using TensorFlow backend.\n"
     ]
    }
   ],
   "source": [
    "import numpy as np\n",
    "from keras.datasets import imdb\n",
    "from keras.models import Sequential\n",
    "from keras.layers import Dense, LSTM, Flatten, GRU\n",
    "from keras.layers.embeddings import Embedding\n",
    "from keras.preprocessing import sequence\n",
    "# fix random seed for reproducibility\n",
    "np.random.seed(7)\n",
    "from keras.preprocessing.text import Tokenizer\n",
    "from keras.preprocessing.sequence import pad_sequences\n",
    "import pandas as pd\n",
    "import os\n",
    "from keras.utils import to_categorical\n",
    "from collections import OrderedDict\n",
    "from keras import backend as K\n",
    "from keras.models import Model"
   ]
  },
  {
   "cell_type": "code",
   "execution_count": 2,
   "metadata": {},
   "outputs": [
    {
     "name": "stdout",
     "output_type": "stream",
     "text": [
      "3.6.6\n"
     ]
    }
   ],
   "source": [
    "from platform import python_version\n",
    "print(python_version())"
   ]
  },
  {
   "cell_type": "markdown",
   "metadata": {},
   "source": [
    "### Exp of classifing movie genres based on their events.\n"
   ]
  },
  {
   "cell_type": "code",
   "execution_count": 29,
   "metadata": {},
   "outputs": [],
   "source": [
    "movies = pd.read_csv('../../data/metadata_events_table.tsv', sep = '\\t')"
   ]
  },
  {
   "cell_type": "code",
   "execution_count": 30,
   "metadata": {},
   "outputs": [
    {
     "data": {
      "text/plain": [
       "2    2421\n",
       "4    1637\n",
       "1    1229\n",
       "3     669\n",
       "0     494\n",
       "Name: Genre_code, dtype: int64"
      ]
     },
     "execution_count": 30,
     "metadata": {},
     "output_type": "execute_result"
    }
   ],
   "source": [
    "movies.Genre_code.value_counts()"
   ]
  },
  {
   "cell_type": "code",
   "execution_count": 33,
   "metadata": {},
   "outputs": [],
   "source": [
    "df0 = movies[movies['Genre_code'] == 0].sample(500, replace = True)\n",
    "df1 = movies[movies['Genre_code'] == 1].sample(500)\n",
    "df2 = movies[movies['Genre_code'] == 2].sample(500)\n",
    "df3 = movies[movies['Genre_code'] == 3].sample(500)\n",
    "df4 = movies[movies['Genre_code'] == 4].sample(500)"
   ]
  },
  {
   "cell_type": "code",
   "execution_count": 34,
   "metadata": {},
   "outputs": [],
   "source": [
    "movies = pd.concat([df0, df1, df2, df3, df4])"
   ]
  },
  {
   "cell_type": "code",
   "execution_count": 35,
   "metadata": {},
   "outputs": [
    {
     "data": {
      "text/html": [
       "<div>\n",
       "<style scoped>\n",
       "    .dataframe tbody tr th:only-of-type {\n",
       "        vertical-align: middle;\n",
       "    }\n",
       "\n",
       "    .dataframe tbody tr th {\n",
       "        vertical-align: top;\n",
       "    }\n",
       "\n",
       "    .dataframe thead th {\n",
       "        text-align: right;\n",
       "    }\n",
       "</style>\n",
       "<table border=\"1\" class=\"dataframe\">\n",
       "  <thead>\n",
       "    <tr style=\"text-align: right;\">\n",
       "      <th></th>\n",
       "      <th>Wikipedia_id</th>\n",
       "      <th>Freebase_id</th>\n",
       "      <th>Name</th>\n",
       "      <th>Release_date</th>\n",
       "      <th>Revenue</th>\n",
       "      <th>Runtime</th>\n",
       "      <th>Languages</th>\n",
       "      <th>Countries</th>\n",
       "      <th>Genres</th>\n",
       "      <th>Events</th>\n",
       "      <th>Genre_code</th>\n",
       "    </tr>\n",
       "  </thead>\n",
       "  <tbody>\n",
       "    <tr>\n",
       "      <th>3432</th>\n",
       "      <td>14467499</td>\n",
       "      <td>/m/03d4h04</td>\n",
       "      <td>Ek Musafir Ek Hasina</td>\n",
       "      <td>1962</td>\n",
       "      <td>NaN</td>\n",
       "      <td>NaN</td>\n",
       "      <td>dict_values(['Hindi Language'])</td>\n",
       "      <td>dict_values(['India'])</td>\n",
       "      <td>Action</td>\n",
       "      <td>['protagonist hurt-40.8.3-2', 'protagonist hur...</td>\n",
       "      <td>0</td>\n",
       "    </tr>\n",
       "    <tr>\n",
       "      <th>2266</th>\n",
       "      <td>1830431</td>\n",
       "      <td>/m/05_cq9</td>\n",
       "      <td>The Legend of Zorro</td>\n",
       "      <td>2005-10-24</td>\n",
       "      <td>142400065.0</td>\n",
       "      <td>129.0</td>\n",
       "      <td>dict_values(['English Language'])</td>\n",
       "      <td>dict_values(['United States of America'])</td>\n",
       "      <td>Action</td>\n",
       "      <td>['protagonist chase-51.6', 'protagonist steal-...</td>\n",
       "      <td>0</td>\n",
       "    </tr>\n",
       "    <tr>\n",
       "      <th>4036</th>\n",
       "      <td>2853229</td>\n",
       "      <td>/m/086yvw</td>\n",
       "      <td>Thiruda Thiruda</td>\n",
       "      <td>1993</td>\n",
       "      <td>NaN</td>\n",
       "      <td>152.0</td>\n",
       "      <td>dict_values(['Hindi Language', 'Tamil Language'])</td>\n",
       "      <td>dict_values(['India'])</td>\n",
       "      <td>Action</td>\n",
       "      <td>['protagonist interrogate-37.1.3', 'protagonis...</td>\n",
       "      <td>0</td>\n",
       "    </tr>\n",
       "    <tr>\n",
       "      <th>4815</th>\n",
       "      <td>3834822</td>\n",
       "      <td>/m/0b2g2k</td>\n",
       "      <td>Hombre</td>\n",
       "      <td>1967-03-21</td>\n",
       "      <td>12000000.0</td>\n",
       "      <td>111.0</td>\n",
       "      <td>dict_values(['English Language'])</td>\n",
       "      <td>dict_values(['United States of America'])</td>\n",
       "      <td>Action</td>\n",
       "      <td>['protagonist stop-55.4-1', 'protagonist stop-...</td>\n",
       "      <td>0</td>\n",
       "    </tr>\n",
       "    <tr>\n",
       "      <th>560</th>\n",
       "      <td>75255</td>\n",
       "      <td>/m/0j_sn</td>\n",
       "      <td>The Naked Spur</td>\n",
       "      <td>1953</td>\n",
       "      <td>2250000.0</td>\n",
       "      <td>91.0</td>\n",
       "      <td>dict_values(['English Language'])</td>\n",
       "      <td>dict_values(['United States of America'])</td>\n",
       "      <td>Action</td>\n",
       "      <td>['protagonist stalk-35.3', 'protagonist contig...</td>\n",
       "      <td>0</td>\n",
       "    </tr>\n",
       "  </tbody>\n",
       "</table>\n",
       "</div>"
      ],
      "text/plain": [
       "      Wikipedia_id Freebase_id                  Name Release_date  \\\n",
       "3432      14467499  /m/03d4h04  Ek Musafir Ek Hasina         1962   \n",
       "2266       1830431   /m/05_cq9   The Legend of Zorro   2005-10-24   \n",
       "4036       2853229   /m/086yvw       Thiruda Thiruda         1993   \n",
       "4815       3834822   /m/0b2g2k                Hombre   1967-03-21   \n",
       "560          75255    /m/0j_sn        The Naked Spur         1953   \n",
       "\n",
       "          Revenue  Runtime                                          Languages  \\\n",
       "3432          NaN      NaN                    dict_values(['Hindi Language'])   \n",
       "2266  142400065.0    129.0                  dict_values(['English Language'])   \n",
       "4036          NaN    152.0  dict_values(['Hindi Language', 'Tamil Language'])   \n",
       "4815   12000000.0    111.0                  dict_values(['English Language'])   \n",
       "560     2250000.0     91.0                  dict_values(['English Language'])   \n",
       "\n",
       "                                      Countries  Genres  \\\n",
       "3432                     dict_values(['India'])  Action   \n",
       "2266  dict_values(['United States of America'])  Action   \n",
       "4036                     dict_values(['India'])  Action   \n",
       "4815  dict_values(['United States of America'])  Action   \n",
       "560   dict_values(['United States of America'])  Action   \n",
       "\n",
       "                                                 Events  Genre_code  \n",
       "3432  ['protagonist hurt-40.8.3-2', 'protagonist hur...           0  \n",
       "2266  ['protagonist chase-51.6', 'protagonist steal-...           0  \n",
       "4036  ['protagonist interrogate-37.1.3', 'protagonis...           0  \n",
       "4815  ['protagonist stop-55.4-1', 'protagonist stop-...           0  \n",
       "560   ['protagonist stalk-35.3', 'protagonist contig...           0  "
      ]
     },
     "execution_count": 35,
     "metadata": {},
     "output_type": "execute_result"
    }
   ],
   "source": [
    "movies.head()"
   ]
  },
  {
   "cell_type": "code",
   "execution_count": 36,
   "metadata": {},
   "outputs": [
    {
     "data": {
      "text/plain": [
       "2500"
      ]
     },
     "execution_count": 36,
     "metadata": {},
     "output_type": "execute_result"
    }
   ],
   "source": [
    "len(movies)"
   ]
  },
  {
   "cell_type": "markdown",
   "metadata": {},
   "source": [
    "### Encode as one-hot vectors"
   ]
  },
  {
   "cell_type": "code",
   "execution_count": 37,
   "metadata": {},
   "outputs": [],
   "source": [
    "t = Tokenizer()"
   ]
  },
  {
   "cell_type": "code",
   "execution_count": 38,
   "metadata": {},
   "outputs": [],
   "source": [
    "events = []\n",
    "for e in movies.Events.tolist():\n",
    "    events.append([item.split('-')[0] for item in eval(e)])"
   ]
  },
  {
   "cell_type": "code",
   "execution_count": 39,
   "metadata": {},
   "outputs": [
    {
     "name": "stdout",
     "output_type": "stream",
     "text": [
      "2500\n"
     ]
    }
   ],
   "source": [
    "# Size of data\n",
    "print(len(events))"
   ]
  },
  {
   "cell_type": "code",
   "execution_count": 40,
   "metadata": {},
   "outputs": [],
   "source": [
    "t.fit_on_texts(events)"
   ]
  },
  {
   "cell_type": "code",
   "execution_count": 41,
   "metadata": {},
   "outputs": [
    {
     "data": {
      "text/plain": [
       "{'protagonist amuse': 1,\n",
       " 'protagonist get': 2,\n",
       " 'protagonist escape': 3,\n",
       " 'protagonist discover': 4,\n",
       " 'protagonist meander': 5,\n",
       " 'protagonist conjecture': 6,\n",
       " 'protagonist transfer_mesg': 7,\n",
       " 'protagonist own': 8,\n",
       " 'protagonist say': 9,\n",
       " 'protagonist become': 10,\n",
       " 'protagonist correspond': 11,\n",
       " 'protagonist force': 12,\n",
       " 'protagonist other_cos': 13,\n",
       " 'protagonist admit': 14,\n",
       " 'protagonist obtain': 15,\n",
       " 'protagonist give': 16,\n",
       " 'protagonist meet': 17,\n",
       " 'protagonist appear': 18,\n",
       " 'protagonist contiguous_location': 19,\n",
       " 'protagonist convert': 20,\n",
       " 'protagonist involve': 21,\n",
       " 'protagonist steal': 22,\n",
       " 'protagonist future_having': 23,\n",
       " 'protagonist begin': 24,\n",
       " 'protagonist characterize': 25,\n",
       " 'protagonist admire': 26,\n",
       " 'protagonist run': 27,\n",
       " 'protagonist reflexive_appearance': 28,\n",
       " 'protagonist subjugate': 29,\n",
       " 'protagonist send': 30,\n",
       " 'protagonist seem': 31,\n",
       " 'protagonist calibratable_cos': 32,\n",
       " 'protagonist judgment': 33,\n",
       " 'protagonist sight': 34,\n",
       " 'protagonist remove': 35,\n",
       " 'protagonist confront': 36,\n",
       " 'protagonist marvel': 37,\n",
       " 'protagonist crane': 38,\n",
       " 'protagonist fit': 39,\n",
       " 'protagonist appoint': 40,\n",
       " 'protagonist urge': 41,\n",
       " 'protagonist tell': 42,\n",
       " 'protagonist refuse': 43,\n",
       " 'protagonist exist': 44,\n",
       " 'protagonist put': 45,\n",
       " 'protagonist contribute': 46,\n",
       " 'protagonist lodge': 47,\n",
       " 'protagonist establish': 48,\n",
       " 'protagonist chase': 49,\n",
       " 'protagonist marry': 50,\n",
       " 'protagonist dub': 51,\n",
       " 'protagonist try': 52,\n",
       " 'protagonist learn': 53,\n",
       " 'protagonist order': 54,\n",
       " 'protagonist throw': 55,\n",
       " 'protagonist consider': 56,\n",
       " 'protagonist want': 57,\n",
       " 'protagonist wish': 58,\n",
       " 'protagonist knead': 59,\n",
       " 'protagonist stop': 60,\n",
       " 'protagonist manner_speaking': 61,\n",
       " 'protagonist resign': 62,\n",
       " 'protagonist help': 63,\n",
       " 'protagonist sound_emission': 64,\n",
       " 'protagonist disappearance': 65,\n",
       " 'protagonist sustain': 66,\n",
       " 'protagonist see': 67,\n",
       " 'protagonist battle': 68,\n",
       " 'protagonist peer': 69,\n",
       " 'protagonist hire': 70,\n",
       " 'protagonist advise': 71,\n",
       " 'protagonist cope': 72,\n",
       " 'protagonist bring': 73,\n",
       " 'protagonist consume': 74,\n",
       " 'protagonist fill': 75,\n",
       " 'protagonist indicate': 76,\n",
       " 'protagonist spatial_configuration': 77,\n",
       " 'protagonist pay': 78,\n",
       " 'protagonist forbid': 79,\n",
       " 'protagonist performance': 80,\n",
       " 'protagonist build': 81,\n",
       " 'protagonist poison': 82,\n",
       " 'protagonist succeed': 83,\n",
       " 'protagonist eat': 84,\n",
       " 'protagonist preparing': 85,\n",
       " 'protagonist destroy': 86,\n",
       " 'protagonist carry': 87,\n",
       " 'protagonist bill': 88,\n",
       " 'protagonist confess': 89,\n",
       " 'protagonist search': 90,\n",
       " 'protagonist accept': 91,\n",
       " 'protagonist animal_sounds': 92,\n",
       " 'protagonist amalgamate': 93,\n",
       " 'protagonist create': 94,\n",
       " 'protagonist concealment': 95,\n",
       " 'protagonist free': 96,\n",
       " 'protagonist neglect': 97,\n",
       " 'protagonist keep': 98,\n",
       " 'protagonist assessment': 99,\n",
       " 'protagonist mix': 100,\n",
       " 'protagonist beg': 101,\n",
       " 'protagonist fulfilling': 102,\n",
       " 'protagonist arrest': 103,\n",
       " 'protagonist murder': 104,\n",
       " 'protagonist hunt': 105,\n",
       " 'protagonist let': 106,\n",
       " 'protagonist tape': 107,\n",
       " 'protagonist confine': 108,\n",
       " 'protagonist split': 109,\n",
       " 'protagonist focus': 110,\n",
       " 'protagonist inquire': 111,\n",
       " 'protagonist lecture': 112,\n",
       " 'protagonist engender': 113,\n",
       " 'protagonist comprehend': 114,\n",
       " 'protagonist use': 115,\n",
       " 'protagonist long': 116,\n",
       " 'protagonist hurt': 117,\n",
       " 'protagonist occurrence': 118,\n",
       " 'protagonist promote': 119,\n",
       " 'protagonist nonvehicle': 120,\n",
       " 'protagonist declare': 121,\n",
       " 'protagonist defeat': 122,\n",
       " 'protagonist leave': 123,\n",
       " 'protagonist wipe_manner': 124,\n",
       " 'protagonist spray': 125,\n",
       " 'protagonist assuming_position': 126,\n",
       " 'protagonist adopt': 127,\n",
       " 'protagonist roll': 128,\n",
       " 'protagonist hold': 129,\n",
       " 'protagonist cooperate': 130,\n",
       " 'protagonist comprise': 131,\n",
       " 'protagonist conspire': 132,\n",
       " 'protagonist pocket': 133,\n",
       " 'protagonist investigate': 134,\n",
       " 'protagonist reach': 135,\n",
       " 'protagonist devour': 136,\n",
       " 'protagonist rummage': 137,\n",
       " 'protagonist forget': 138,\n",
       " 'protagonist require': 139,\n",
       " 'protagonist accompany': 140,\n",
       " 'protagonist braid': 141,\n",
       " 'protagonist fire': 142,\n",
       " 'protagonist cheat': 143,\n",
       " 'protagonist avoid': 144,\n",
       " 'protagonist realise': 145,\n",
       " 'protagonist hit': 146,\n",
       " 'protagonist pretend': 147,\n",
       " 'protagonist interrogate': 148,\n",
       " 'protagonist gorge': 149,\n",
       " 'protagonist stalk': 150,\n",
       " 'protagonist suspect': 151,\n",
       " 'protagonist chit_chat': 152,\n",
       " 'protagonist share': 153,\n",
       " 'protagonist defend': 154,\n",
       " 'protagonist complete': 155,\n",
       " 'protagonist wink': 156,\n",
       " 'protagonist captain': 157,\n",
       " 'protagonist bump': 158,\n",
       " 'protagonist exchange': 159,\n",
       " 'protagonist remedy': 160,\n",
       " 'protagonist turn': 161,\n",
       " 'protagonist banish': 162,\n",
       " 'protagonist weather': 163,\n",
       " 'protagonist deduce': 164,\n",
       " 'protagonist pit': 165,\n",
       " 'protagonist render': 166,\n",
       " 'protagonist nonverbal_expression': 167,\n",
       " 'protagonist stimulus_subject': 168,\n",
       " 'protagonist attract': 169,\n",
       " 'protagonist intervene': 170,\n",
       " 'protagonist masquerade': 171,\n",
       " 'protagonist swarm': 172,\n",
       " 'protagonist locate': 173,\n",
       " 'protagonist reconcile': 174,\n",
       " 'protagonist image_impression': 175,\n",
       " 'protagonist scribble': 176,\n",
       " 'protagonist butter': 177,\n",
       " 'protagonist pronounce': 178,\n",
       " 'protagonist dedicate': 179,\n",
       " 'protagonist complain': 180,\n",
       " 'protagonist modes_of_being_with_motion': 181,\n",
       " 'protagonist linger': 182,\n",
       " 'protagonist vow': 183,\n",
       " 'protagonist break': 184,\n",
       " 'protagonist contact': 185,\n",
       " 'protagonist challenge': 186,\n",
       " 'protagonist exceed': 187,\n",
       " 'protagonist dress': 188,\n",
       " 'protagonist ambush': 189,\n",
       " 'protagonist cost': 190,\n",
       " 'protagonist resist': 191,\n",
       " 'protagonist drive': 192,\n",
       " 'protagonist addict': 193,\n",
       " 'protagonist rely': 194,\n",
       " 'protagonist shake': 195,\n",
       " 'protagonist funnel': 196,\n",
       " 'protagonist swat': 197,\n",
       " 'protagonist carve': 198,\n",
       " 'protagonist adjust': 199,\n",
       " 'protagonist illustrate': 200,\n",
       " 'protagonist orphan': 201,\n",
       " 'protagonist herd': 202,\n",
       " 'protagonist acquiesce': 203,\n",
       " 'protagonist continue': 204,\n",
       " 'protagonist register': 205,\n",
       " 'protagonist enforce': 206,\n",
       " 'protagonist disassemble': 207,\n",
       " 'protagonist promise': 208,\n",
       " 'protagonist interrupt': 209,\n",
       " 'protagonist relate': 210,\n",
       " 'protagonist breathe': 211,\n",
       " 'protagonist touch': 212,\n",
       " 'protagonist spank': 213,\n",
       " 'protagonist betray': 214,\n",
       " 'protagonist equip': 215,\n",
       " 'protagonist ensure': 216,\n",
       " 'protagonist embark': 217,\n",
       " 'protagonist transcribe': 218,\n",
       " 'protagonist sabotage': 219,\n",
       " 'protagonist patent': 220,\n",
       " 'protagonist grow': 221,\n",
       " 'protagonist push': 222,\n",
       " 'protagonist stymie': 223,\n",
       " 'protagonist allow': 224,\n",
       " 'protagonist sentence': 225,\n",
       " 'protagonist settle': 226,\n",
       " 'protagonist poke': 227,\n",
       " 'protagonist corner': 228,\n",
       " 'protagonist rape': 229,\n",
       " 'protagonist void': 230,\n",
       " 'protagonist snooze': 231,\n",
       " 'protagonist talk': 232,\n",
       " 'protagonist substance_emission': 233,\n",
       " 'protagonist base': 234,\n",
       " 'protagonist put_spatial': 235,\n",
       " 'protagonist vehicle_path': 236,\n",
       " 'protagonist recognise': 237,\n",
       " 'protagonist risk': 238,\n",
       " 'protagonist plead': 239,\n",
       " 'protagonist absorb': 240,\n",
       " 'protagonist thwart': 241,\n",
       " 'protagonist strand': 242,\n",
       " 'protagonist apologise': 243,\n",
       " 'protagonist change_bodily_state': 244,\n",
       " 'protagonist invoke': 245,\n",
       " 'protagonist overpower': 246,\n",
       " 'protagonist invade': 247,\n",
       " 'protagonist undergo': 248,\n",
       " 'protagonist entity_specific_cos': 249,\n",
       " 'protagonist tingle': 250,\n",
       " 'protagonist convict': 251,\n",
       " 'protagonist classify': 252,\n",
       " 'protagonist vehicle': 253,\n",
       " 'protagonist relent': 254,\n",
       " 'protagonist put_direction': 255,\n",
       " 'protagonist lack': 256,\n",
       " 'protagonist instr_communication': 257,\n",
       " 'protagonist afford': 258,\n",
       " 'protagonist spend_time': 259,\n",
       " 'protagonist dressing_well': 260,\n",
       " 'protagonist belong': 261,\n",
       " 'protagonist avenge': 262,\n",
       " 'protagonist rappel': 263,\n",
       " 'protagonist await': 264,\n",
       " 'protagonist cut': 265,\n",
       " 'protagonist vanquish': 266,\n",
       " 'protagonist fraternize': 267,\n",
       " 'protagonist piece': 268,\n",
       " 'protagonist reminisce': 269,\n",
       " 'protagonist bend': 270,\n",
       " 'protagonist empathize': 271,\n",
       " 'protagonist elope': 272,\n",
       " 'protagonist renovate': 273,\n",
       " 'protagonist rehearse': 274,\n",
       " 'protagonist unveil': 275,\n",
       " 'protagonist infiltrate': 276,\n",
       " 'protagonist graduate': 277,\n",
       " 'protagonist re': 278,\n",
       " 'protagonist uncover': 279,\n",
       " 'protagonist fulfil': 280,\n",
       " 'protagonist appal': 281,\n",
       " 'protagonist care': 282,\n",
       " 'protagonist abscond': 283,\n",
       " 'protagonist disrupt': 284,\n",
       " 'protagonist retain': 285,\n",
       " 'protagonist dine': 286,\n",
       " 'protagonist interfere': 287,\n",
       " 'protagonist fulfill': 288,\n",
       " 'protagonist tend': 289,\n",
       " 'protagonist withdraw': 290,\n",
       " 'protagonist cancel': 291,\n",
       " 'protagonist price': 292,\n",
       " 'protagonist opt': 293,\n",
       " 'protagonist bid': 294,\n",
       " 'protagonist breed': 295,\n",
       " 'protagonist deactivate': 296,\n",
       " 'protagonist revisit': 297,\n",
       " 'protagonist simple_dressing': 298,\n",
       " 'protagonist resurrect': 299,\n",
       " 'protagonist light_emission': 300,\n",
       " 'protagonist hiccup': 301,\n",
       " 'protagonist relocate': 302,\n",
       " 'protagonist suffocate': 303,\n",
       " 'protagonist defy': 304,\n",
       " 'protagonist resemble': 305,\n",
       " 'protagonist incapacitate': 306,\n",
       " 'protagonist redirect': 307,\n",
       " 'protagonist comply': 308,\n",
       " 'protagonist separate': 309,\n",
       " 'protagonist mistake': 310,\n",
       " 'protagonist estrange': 311,\n",
       " 'protagonist limit': 312,\n",
       " 'protagonist mend': 313,\n",
       " 'protagonist recuperate': 314,\n",
       " 'protagonist infatuate': 315,\n",
       " 'protagonist reconsider': 316,\n",
       " 'protagonist frequent': 317,\n",
       " 'protagonist refrain': 318,\n",
       " 'protagonist masturbate': 319,\n",
       " 'protagonist obey': 320,\n",
       " 'protagonist hypothesize': 321,\n",
       " 'protagonist mug': 322,\n",
       " 'protagonist bath': 323,\n",
       " 'protagonist teleport': 324,\n",
       " 'protagonist feeding': 325,\n",
       " 'protagonist trash': 326,\n",
       " 'protagonist unmask': 327,\n",
       " 'protagonist task': 328,\n",
       " 'protagonist rethink': 329,\n",
       " 'protagonist climax': 330,\n",
       " 'protagonist orchestrate': 331,\n",
       " 'protagonist audition': 332,\n",
       " 'protagonist cooking': 333,\n",
       " 'protagonist backfire': 334,\n",
       " 'protagonist oversee': 335,\n",
       " 'protagonist criticise': 336,\n",
       " 'protagonist reciprocate': 337,\n",
       " 'protagonist wall': 338,\n",
       " 'protagonist hone': 339,\n",
       " 'protagonist disqualify': 340,\n",
       " 'protagonist sue': 341,\n",
       " 'protagonist withhold': 342,\n",
       " 'protagonist counterattack': 343,\n",
       " 'protagonist muster': 344,\n",
       " 'protagonist co': 345,\n",
       " 'protagonist floss': 346,\n",
       " 'protagonist harbour': 347,\n",
       " 'protagonist disregard': 348,\n",
       " 'protagonist master': 349,\n",
       " 'protagonist engineer': 350,\n",
       " 'protagonist heed': 351,\n",
       " 'protagonist rehire': 352,\n",
       " 'protagonist debut': 353,\n",
       " 'protagonist refill': 354,\n",
       " 'protagonist exhale': 355,\n",
       " 'protagonist renege': 356,\n",
       " 'protagonist appeal': 357,\n",
       " 'protagonist gobble': 358,\n",
       " 'protagonist wreak': 359,\n",
       " 'protagonist romance': 360,\n",
       " 'protagonist estimate': 361,\n",
       " 'protagonist demote': 362,\n",
       " 'protagonist list': 363,\n",
       " 'protagonist abide': 364,\n",
       " 'protagonist overrule': 365,\n",
       " 'protagonist relive': 366,\n",
       " 'protagonist stake': 367,\n",
       " 'protagonist flunk': 368,\n",
       " 'protagonist serenade': 369,\n",
       " 'protagonist eke': 370,\n",
       " 'protagonist decipher': 371,\n",
       " 'protagonist alia': 372,\n",
       " 'protagonist indulge': 373,\n",
       " 'protagonist reconstruct': 374,\n",
       " 'protagonist finance': 375,\n",
       " 'protagonist recant': 376,\n",
       " 'protagonist cradle': 377,\n",
       " 'protagonist subject': 378,\n",
       " 'protagonist waltz': 379,\n",
       " 'protagonist feature': 380,\n",
       " 'protagonist enrol': 381,\n",
       " 'protagonist prime': 382,\n",
       " 'protagonist needle': 383,\n",
       " 'protagonist rewrite': 384,\n",
       " 'protagonist freak': 385,\n",
       " 'protagonist body_internal_motion': 386,\n",
       " 'protagonist practise': 387,\n",
       " 'protagonist near': 388,\n",
       " 'protagonist loot': 389,\n",
       " 'protagonist parole': 390,\n",
       " 'protagonist sedue': 391,\n",
       " 'protagonist smell_emission': 392,\n",
       " 'protagonist lear': 393,\n",
       " 'protagonist strive': 394,\n",
       " 'protagonist atone': 395,\n",
       " 'protagonist avert': 396,\n",
       " 'protagonist breath': 397,\n",
       " 'protagonist encase': 398,\n",
       " 'protagonist deputize': 399,\n",
       " 'protagonist aspire': 400,\n",
       " 'protagonist multiply': 401,\n",
       " 'protagonist vent': 402,\n",
       " 'protagonist debone': 403,\n",
       " 'protagonist rumor': 404,\n",
       " 'protagonist outdate': 405,\n",
       " 'protagonist fan': 406,\n",
       " 'protagonist consist': 407,\n",
       " 'protagonist lobotomize': 408,\n",
       " 'protagonist prescribe': 409,\n",
       " 'protagonist overstate': 410,\n",
       " 'protagonist rear': 411,\n",
       " 'protagonist fend': 412,\n",
       " 'protagonist flinch': 413,\n",
       " 'protagonist peak': 414,\n",
       " 'protagonist suit': 415,\n",
       " 'protagonist allude': 416,\n",
       " 'protagonist misbehave': 417,\n",
       " 'protagonist research': 418,\n",
       " 'protagonist unearth': 419,\n",
       " 'protagonist spurn': 420,\n",
       " 'protagonist brainwash': 421,\n",
       " 'protagonist enthral': 422,\n",
       " 'protagonist ingratiate': 423,\n",
       " 'protagonist retake': 424,\n",
       " 'protagonist fantasize': 425,\n",
       " 'protagonist overfly': 426,\n",
       " 'protagonist accost': 427,\n",
       " 'protagonist unwrap': 428,\n",
       " 'protagonist groom': 429,\n",
       " 'protagonist rehabilitate': 430,\n",
       " 'protagonist spike': 431,\n",
       " 'protagonist tidy': 432,\n",
       " 'protagonist brace': 433,\n",
       " 'protagonist bust': 434,\n",
       " 'protagonist handover': 435,\n",
       " 'protagonist remand': 436,\n",
       " 'protagonist ditch': 437,\n",
       " 'protagonist berry': 438,\n",
       " 'protagonist distance': 439,\n",
       " 'protagonist defuse': 440,\n",
       " 'protagonist brutalize': 441,\n",
       " 'protagonist overjoy': 442,\n",
       " 'protagonist hugg': 443,\n",
       " 'protagonist reference': 444,\n",
       " 'protagonist ratna': 445,\n",
       " 'protagonist broach': 446,\n",
       " 'protagonist beef': 447,\n",
       " 'protagonist liaison': 448,\n",
       " 'protagonist blind': 449,\n",
       " 'protagonist weekend': 450,\n",
       " 'protagonist calve': 451,\n",
       " 'protagonist accustom': 452,\n",
       " 'protagonist violate': 453,\n",
       " 'protagonist rebuff': 454,\n",
       " 'protagonist undermine': 455,\n",
       " 'protagonist restart': 456,\n",
       " 'protagonist fiddle': 457,\n",
       " 'protagonist agree.by': 458,\n",
       " 'protagonist oversleep': 459,\n",
       " 'protagonist ejaculate': 460,\n",
       " 'protagonist mess': 461,\n",
       " 'protagonist reenter': 462,\n",
       " 'protagonist maul': 463,\n",
       " 'protagonist stonewall': 464,\n",
       " 'protagonist overreact': 465,\n",
       " 'protagonist roofy': 466,\n",
       " 'protagonist single': 467,\n",
       " 'protagonist torch': 468,\n",
       " 'protagonist amputate': 469,\n",
       " 'protagonist sedate': 470,\n",
       " 'protagonist implicate': 471,\n",
       " 'protagonist organise': 472,\n",
       " 'protagonist finagle': 473,\n",
       " 'protagonist shield': 474,\n",
       " 'protagonist coloring': 475,\n",
       " 'protagonist prey': 476,\n",
       " 'protagonist condole': 477,\n",
       " 'protagonist reabsorb': 478,\n",
       " 'protagonist defect': 479,\n",
       " 'protagonist besiege': 480,\n",
       " 'protagonist shadowbox': 481,\n",
       " 'protagonist reload': 482,\n",
       " 'protagonist propel': 483,\n",
       " 'protagonist sound_existence': 484,\n",
       " 'protagonist reprogram': 485,\n",
       " 'protagonist revenge': 486,\n",
       " 'protagonist double': 487,\n",
       " 'protagonist outgun': 488,\n",
       " 'protagonist outmann': 489,\n",
       " 'protagonist pour': 490,\n",
       " 'protagonist behalve': 491,\n",
       " 'protagonist impart': 492,\n",
       " 'protagonist brim': 493,\n",
       " 'protagonist boo': 494,\n",
       " 'protagonist pride': 495,\n",
       " 'protagonist endanger': 496,\n",
       " 'protagonist reincarnate': 497,\n",
       " 'protagonist philosophize': 498,\n",
       " 'protagonist man': 499,\n",
       " 'protagonist neutralise': 500,\n",
       " 'protagonist honour': 501,\n",
       " 'protagonist err': 502,\n",
       " 'protagonist sub': 503,\n",
       " 'protagonist clueless': 504,\n",
       " 'protagonist downsize': 505,\n",
       " 'protagonist foot': 506,\n",
       " 'protagonist wimp': 507,\n",
       " 'protagonist göring': 508,\n",
       " 'protagonist disobey': 509,\n",
       " 'protagonist attribute': 510,\n",
       " 'protagonist enamor': 511,\n",
       " 'protagonist opine': 512,\n",
       " 'protagonist reassume': 513,\n",
       " 'protagonist reignite': 514,\n",
       " 'protagonist daydream': 515,\n",
       " 'protagonist scupper': 516,\n",
       " 'protagonist terrorise': 517,\n",
       " 'protagonist surface': 518,\n",
       " 'protagonist ascribe': 519,\n",
       " 'protagonist reacquaint': 520,\n",
       " 'protagonist coordinate': 521,\n",
       " 'protagonist gravitate': 522,\n",
       " 'protagonist incur': 523,\n",
       " 'protagonist haze': 524,\n",
       " 'protagonist condescend': 525,\n",
       " 'protagonist market': 526,\n",
       " 'protagonist refuel': 527,\n",
       " 'protagonist assent': 528,\n",
       " 'protagonist concert': 529,\n",
       " 'protagonist deserve': 530,\n",
       " 'protagonist harangue': 531,\n",
       " 'protagonist red': 532,\n",
       " 'protagonist veto': 533,\n",
       " 'protagonist vandalize': 534,\n",
       " 'protagonist carp': 535,\n",
       " 'protagonist stipulate': 536,\n",
       " 'protagonist encroach': 537,\n",
       " 'protagonist amend': 538,\n",
       " 'protagonist 400ft': 539,\n",
       " 'protagonist vaccinate': 540,\n",
       " 'protagonist preside': 541,\n",
       " 'protagonist handd': 542,\n",
       " 'protagonist gore': 543,\n",
       " 'protagonist rematerialize': 544,\n",
       " 'protagonist benefit': 545,\n",
       " 'protagonist rat': 546,\n",
       " 'protagonist forewarn': 547,\n",
       " 'protagonist perjure': 548,\n",
       " 'protagonist rebaptize': 549,\n",
       " 'protagonist disown': 550,\n",
       " 'protagonist court': 551,\n",
       " 'protagonist legalize': 552,\n",
       " 'protagonist squirrel': 553,\n",
       " 'protagonist stave': 554,\n",
       " 'protagonist vouch': 555,\n",
       " 'protagonist doom': 556,\n",
       " 'protagonist indispose': 557,\n",
       " 'protagonist dial': 558,\n",
       " 'protagonist butle': 559,\n",
       " 'protagonist scam': 560,\n",
       " 'protagonist reassess': 561,\n",
       " 'protagonist outsource': 562,\n",
       " 'protagonist aske': 563,\n",
       " 'protagonist formalize': 564,\n",
       " 'protagonist und': 565,\n",
       " 'protagonist destine': 566,\n",
       " 'protagonist body_internal_states': 567,\n",
       " 'protagonist reconnect': 568,\n",
       " 'protagonist equate': 569,\n",
       " 'protagonist sideswipe': 570,\n",
       " 'protagonist slide': 571,\n",
       " 'protagonist rollerskate': 572,\n",
       " 'protagonist profese': 573,\n",
       " 'protagonist authorize': 574,\n",
       " 'protagonist reschedule': 575,\n",
       " 'protagonist foul': 576,\n",
       " 'protagonist rush': 577,\n",
       " 'protagonist unravel': 578,\n",
       " 'protagonist finalize': 579,\n",
       " 'protagonist hump': 580,\n",
       " 'protagonist reemerge': 581,\n",
       " 'protagonist postpone': 582,\n",
       " 'protagonist closet': 583,\n",
       " 'protagonist entitle': 584,\n",
       " 'protagonist browse': 585,\n",
       " 'protagonist theorise': 586,\n",
       " 'protagonist pleasure': 587,\n",
       " 'protagonist replant': 588,\n",
       " 'protagonist vindicate': 589,\n",
       " 'protagonist airlift': 590,\n",
       " 'protagonist gon': 591,\n",
       " 'protagonist intercede': 592,\n",
       " 'protagonist taser': 593,\n",
       " 'protagonist fellate': 594,\n",
       " 'protagonist sodomize': 595,\n",
       " 'protagonist lunge': 596,\n",
       " 'protagonist duct': 597,\n",
       " 'protagonist foil': 598,\n",
       " 'protagonist preempt': 599,\n",
       " 'protagonist chew': 600,\n",
       " 'protagonist clone': 601,\n",
       " 'protagonist uphold': 602,\n",
       " 'protagonist revoke': 603,\n",
       " 'protagonist reexamine': 604,\n",
       " 'protagonist flay': 605,\n",
       " 'protagonist harpoon': 606,\n",
       " 'protagonist entity_specific_modes_being': 607,\n",
       " 'protagonist reintroduce': 608,\n",
       " 'protagonist outclass': 609,\n",
       " 'protagonist alight': 610,\n",
       " 'protagonist pore': 611,\n",
       " 'protagonist hole': 612,\n",
       " 'protagonist strug': 613,\n",
       " 'protagonist reinvigorate': 614,\n",
       " 'protagonist summize': 615,\n",
       " 'protagonist soon': 616,\n",
       " 'protagonist abort': 617,\n",
       " 'protagonist regenerate': 618,\n",
       " 'protagonist gun': 619,\n",
       " 'protagonist jeopardize': 620,\n",
       " 'protagonist soliloquize': 621,\n",
       " 'protagonist reawaken': 622,\n",
       " 'protagonist liken': 623,\n",
       " 'protagonist overtake': 624,\n",
       " 'protagonist car': 625,\n",
       " 'protagonist calculate': 626,\n",
       " 'protagonist uncouple': 627,\n",
       " 'protagonist restyle': 628,\n",
       " 'protagonist deface': 629}"
      ]
     },
     "execution_count": 41,
     "metadata": {},
     "output_type": "execute_result"
    }
   ],
   "source": [
    "t.word_index"
   ]
  },
  {
   "cell_type": "code",
   "execution_count": 42,
   "metadata": {},
   "outputs": [],
   "source": [
    "embedding_input_dim = max(t.word_index.values())+1"
   ]
  },
  {
   "cell_type": "code",
   "execution_count": 43,
   "metadata": {},
   "outputs": [
    {
     "data": {
      "text/plain": [
       "630"
      ]
     },
     "execution_count": 43,
     "metadata": {},
     "output_type": "execute_result"
    }
   ],
   "source": [
    "embedding_input_dim"
   ]
  },
  {
   "cell_type": "code",
   "execution_count": 44,
   "metadata": {},
   "outputs": [],
   "source": [
    "msk = np.random.rand(len(movies)) < 0.8\n",
    "train = []\n",
    "for e in movies[msk]['Events'].tolist():\n",
    "    train.append([item.split('-')[0] for item in eval(e)])\n",
    "test = []\n",
    "for e in movies[~msk]['Events'].tolist():\n",
    "    test.append([item.split('-')[0] for item in eval(e)])\n"
   ]
  },
  {
   "cell_type": "code",
   "execution_count": 46,
   "metadata": {},
   "outputs": [],
   "source": [
    "x_train = t.texts_to_sequences(train)\n",
    "x_train = pad_sequences(x_train, maxlen=50)\n"
   ]
  },
  {
   "cell_type": "code",
   "execution_count": 47,
   "metadata": {},
   "outputs": [],
   "source": [
    "events_trans = t.texts_to_sequences(events)\n",
    "events_trans = pad_sequences(events_trans, maxlen=50)\n"
   ]
  },
  {
   "cell_type": "code",
   "execution_count": 49,
   "metadata": {},
   "outputs": [],
   "source": [
    "x_test = t.texts_to_sequences(test)\n",
    "x_test = pad_sequences(x_test, maxlen=20)\n"
   ]
  },
  {
   "cell_type": "code",
   "execution_count": 50,
   "metadata": {},
   "outputs": [],
   "source": [
    "y_train = to_categorical(movies[msk]['Genre_code'].tolist())\n",
    "y_test = to_categorical(movies[~msk]['Genre_code'].tolist())"
   ]
  },
  {
   "cell_type": "markdown",
   "metadata": {},
   "source": [
    "### Simple LSTM "
   ]
  },
  {
   "cell_type": "code",
   "execution_count": 51,
   "metadata": {},
   "outputs": [
    {
     "name": "stdout",
     "output_type": "stream",
     "text": [
      "_________________________________________________________________\n",
      "Layer (type)                 Output Shape              Param #   \n",
      "=================================================================\n",
      "embedding_2 (Embedding)      (None, None, 32)          20160     \n",
      "_________________________________________________________________\n",
      "lstm_2 (LSTM)                (None, 20)                4240      \n",
      "_________________________________________________________________\n",
      "dense_2 (Dense)              (None, 5)                 105       \n",
      "=================================================================\n",
      "Total params: 24,505\n",
      "Trainable params: 24,505\n",
      "Non-trainable params: 0\n",
      "_________________________________________________________________\n",
      "None\n",
      "Epoch 1/3\n",
      "2029/2029 [==============================] - 3s 1ms/step - loss: 1.6070 - acc: 0.2287\n",
      "Epoch 2/3\n",
      "2029/2029 [==============================] - 2s 895us/step - loss: 1.5718 - acc: 0.3401\n",
      "Epoch 3/3\n",
      "2029/2029 [==============================] - 2s 888us/step - loss: 1.4734 - acc: 0.3549\n"
     ]
    },
    {
     "data": {
      "text/plain": [
       "<keras.callbacks.History at 0x7fd0566d86d8>"
      ]
     },
     "execution_count": 51,
     "metadata": {},
     "output_type": "execute_result"
    }
   ],
   "source": [
    "# create the model\n",
    "embedding_vector_length = 32\n",
    "model = Sequential()\n",
    "model.add(Embedding(embedding_input_dim, embedding_vector_length))\n",
    "model.add( LSTM(20))\n",
    "model.add(Dense(5, activation='softmax'))\n",
    "model.compile(loss='categorical_crossentropy', optimizer='adam', metrics=['accuracy'])\n",
    "print(model.summary())\n",
    "model.fit(x_train, y_train, epochs=3, batch_size=32)"
   ]
  },
  {
   "cell_type": "code",
   "execution_count": 52,
   "metadata": {},
   "outputs": [
    {
     "name": "stdout",
     "output_type": "stream",
     "text": [
      "471/471 [==============================] - 0s 333us/step\n",
      "Accuracy: 34.61%\n"
     ]
    }
   ],
   "source": [
    "# Final evaluation of the model\n",
    "scores = model.evaluate(x_test,\n",
    "                        y_test)\n",
    "print(\"Accuracy: %.2f%%\" % (scores[1]*100))"
   ]
  },
  {
   "cell_type": "markdown",
   "metadata": {},
   "source": [
    "### Obtain embeddings"
   ]
  },
  {
   "cell_type": "code",
   "execution_count": 53,
   "metadata": {},
   "outputs": [
    {
     "data": {
      "text/plain": [
       "[<keras.layers.embeddings.Embedding at 0x7fd0566b00b8>,\n",
       " <keras.layers.recurrent.LSTM at 0x7fd0566b05c0>,\n",
       " <keras.layers.core.Dense at 0x7fd05663d898>]"
      ]
     },
     "execution_count": 53,
     "metadata": {},
     "output_type": "execute_result"
    }
   ],
   "source": [
    "model.layers"
   ]
  },
  {
   "cell_type": "code",
   "execution_count": 54,
   "metadata": {},
   "outputs": [],
   "source": [
    "# #Get indimediate layer output using tensorflow backend\n",
    "# get_lstm_output = K.function([model.layers[0].input], [model.layers[1].output])\n",
    "# output = get_lstm_output([x_train])"
   ]
  },
  {
   "cell_type": "code",
   "execution_count": 55,
   "metadata": {},
   "outputs": [],
   "source": [
    "#Alternative way, same result\n",
    "intermediate_layer_model = Model(inputs=model.input,\n",
    "                                 outputs=model.get_layer('lstm_2').output)\n",
    "# intermediate_output = intermediate_layer_model.predict(x_train[0][0:])"
   ]
  },
  {
   "cell_type": "code",
   "execution_count": 59,
   "metadata": {},
   "outputs": [],
   "source": [
    "vecs = []\n",
    "for i in range(len(events)):\n",
    "    output = intermediate_layer_model.predict(events_trans[i])\n",
    "#     print(output.shape)\n",
    "#     print(output[0])\n",
    "#     break\n",
    "    vecs.append(output[-1])\n"
   ]
  },
  {
   "cell_type": "markdown",
   "metadata": {},
   "source": [
    "### Cluster embeddings"
   ]
  },
  {
   "cell_type": "code",
   "execution_count": 69,
   "metadata": {},
   "outputs": [],
   "source": [
    "from sklearn.manifold import TSNE\n",
    "import matplotlib.pyplot as plt\n",
    "%matplotlib inline\n",
    "from sklearn.cluster import KMeans\n"
   ]
  },
  {
   "cell_type": "code",
   "execution_count": 61,
   "metadata": {},
   "outputs": [
    {
     "data": {
      "text/plain": [
       "(2500, 2)"
      ]
     },
     "execution_count": 61,
     "metadata": {},
     "output_type": "execute_result"
    }
   ],
   "source": [
    "embedded = TSNE(n_components=2).fit_transform(vecs)\n",
    "embedded.shape"
   ]
  },
  {
   "cell_type": "code",
   "execution_count": 62,
   "metadata": {},
   "outputs": [
    {
     "data": {
      "text/plain": [
       "(2500,)"
      ]
     },
     "execution_count": 62,
     "metadata": {},
     "output_type": "execute_result"
    }
   ],
   "source": [
    "embedded[:,0].shape"
   ]
  },
  {
   "cell_type": "code",
   "execution_count": 63,
   "metadata": {},
   "outputs": [
    {
     "data": {
      "text/plain": [
       "{0: 'Action', 1: 'Comedy', 2: 'Drama', 3: 'Romance Film', 4: 'Thriller'}"
      ]
     },
     "execution_count": 63,
     "metadata": {},
     "output_type": "execute_result"
    }
   ],
   "source": [
    "{0: 'Action', 1: 'Comedy', 2: 'Drama', 3: 'Romance Film', 4: 'Thriller'}"
   ]
  },
  {
   "cell_type": "code",
   "execution_count": 68,
   "metadata": {},
   "outputs": [
    {
     "data": {
      "text/plain": [
       "<matplotlib.legend.Legend at 0x7fd00c7d4a20>"
      ]
     },
     "execution_count": 68,
     "metadata": {},
     "output_type": "execute_result"
    },
    {
     "data": {
      "image/png": "[encoded data removed]",
      "text/plain": [
       "<Figure size 720x504 with 1 Axes>"
      ]
     },
     "metadata": {},
     "output_type": "display_data"
    }
   ],
   "source": [
    "plt.figure(figsize = (10,7))\n",
    "plt.scatter(embedded[0:500,0], embedded[0:500,1], s = 20,color='blue', label = 'Action', alpha = 0.5)\n",
    "plt.scatter(embedded[500:1000,0], embedded[500:1000,1], s =20,color='yellow', label = 'Comedy', alpha = 0.5)\n",
    "plt.scatter(embedded[1000:1500,0], embedded[1000:1500,1], s = 20,color='red', label = 'Drame', alpha = 0.5)\n",
    "plt.scatter(embedded[1500:2000,0], embedded[1500:2000,1], s = 20,color='green', label = 'Romance', alpha = 0.5)\n",
    "plt.scatter(embedded[2000:,0], embedded[2000:,1], s = 20,color='grey', label = 'Thriller', alpha = 0.5)\n",
    "plt.legend()"
   ]
  },
  {
   "cell_type": "code",
   "execution_count": null,
   "metadata": {},
   "outputs": [],
   "source": []
  }
 ],
 "metadata": {
  "kernelspec": {
   "display_name": "Python 3",
   "language": "python",
   "name": "python3"
  },
  "language_info": {
   "codemirror_mode": {
    "name": "ipython",
    "version": 3
   },
   "file_extension": ".py",
   "mimetype": "text/x-python",
   "name": "python",
   "nbconvert_exporter": "python",
   "pygments_lexer": "ipython3",
   "version": "3.6.6"
  }
 },
 "nbformat": 4,
 "nbformat_minor": 2
}
