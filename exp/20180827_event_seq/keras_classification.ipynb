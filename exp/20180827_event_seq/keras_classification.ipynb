{
 "cells": [
  {
   "cell_type": "code",
   "execution_count": 46,
   "metadata": {},
   "outputs": [],
   "source": [
    "import numpy as np\n",
    "from keras.datasets import imdb\n",
    "from keras.models import Sequential\n",
    "from keras.layers import Dense, LSTM, Flatten, GRU\n",
    "from keras.layers.embeddings import Embedding\n",
    "from keras.preprocessing import sequence\n",
    "# fix random seed for reproducibility\n",
    "np.random.seed(7)\n",
    "from keras.preprocessing.text import Tokenizer\n",
    "from keras.preprocessing.sequence import pad_sequences\n",
    "import pandas as pd\n",
    "import os\n",
    "from keras.utils import to_categorical\n",
    "from collections import OrderedDict"
   ]
  },
  {
   "cell_type": "markdown",
   "metadata": {},
   "source": [
    "### Exp of classifing movie genres based on their events.\n"
   ]
  },
  {
   "cell_type": "code",
   "execution_count": 2,
   "metadata": {},
   "outputs": [],
   "source": [
    "movies = pd.read_csv('movie_metadata_cleaned.tsv', sep = '\\t')"
   ]
  },
  {
   "cell_type": "code",
   "execution_count": 3,
   "metadata": {},
   "outputs": [
    {
     "data": {
      "text/html": [
       "<div>\n",
       "<style scoped>\n",
       "    .dataframe tbody tr th:only-of-type {\n",
       "        vertical-align: middle;\n",
       "    }\n",
       "\n",
       "    .dataframe tbody tr th {\n",
       "        vertical-align: top;\n",
       "    }\n",
       "\n",
       "    .dataframe thead th {\n",
       "        text-align: right;\n",
       "    }\n",
       "</style>\n",
       "<table border=\"1\" class=\"dataframe\">\n",
       "  <thead>\n",
       "    <tr style=\"text-align: right;\">\n",
       "      <th></th>\n",
       "      <th>Wikipedia_id</th>\n",
       "      <th>Freebase_id</th>\n",
       "      <th>Name</th>\n",
       "      <th>Release_date</th>\n",
       "      <th>Revenue</th>\n",
       "      <th>Runtime</th>\n",
       "      <th>Languages</th>\n",
       "      <th>Countries</th>\n",
       "      <th>Genres</th>\n",
       "    </tr>\n",
       "  </thead>\n",
       "  <tbody>\n",
       "    <tr>\n",
       "      <th>0</th>\n",
       "      <td>975900</td>\n",
       "      <td>/m/03vyhn</td>\n",
       "      <td>Ghosts of Mars</td>\n",
       "      <td>2001-08-24</td>\n",
       "      <td>14010832.0</td>\n",
       "      <td>98.0</td>\n",
       "      <td>dict_values(['English Language'])</td>\n",
       "      <td>dict_values(['United States of America'])</td>\n",
       "      <td>Thriller</td>\n",
       "    </tr>\n",
       "    <tr>\n",
       "      <th>1</th>\n",
       "      <td>3196793</td>\n",
       "      <td>/m/08yl5d</td>\n",
       "      <td>Getting Away with Murder: The JonBenét Ramsey ...</td>\n",
       "      <td>2000-02-16</td>\n",
       "      <td>NaN</td>\n",
       "      <td>95.0</td>\n",
       "      <td>dict_values(['English Language'])</td>\n",
       "      <td>dict_values(['United States of America'])</td>\n",
       "      <td>Drama</td>\n",
       "    </tr>\n",
       "  </tbody>\n",
       "</table>\n",
       "</div>"
      ],
      "text/plain": [
       "   Wikipedia_id Freebase_id  \\\n",
       "0        975900   /m/03vyhn   \n",
       "1       3196793   /m/08yl5d   \n",
       "\n",
       "                                                Name Release_date     Revenue  \\\n",
       "0                                     Ghosts of Mars   2001-08-24  14010832.0   \n",
       "1  Getting Away with Murder: The JonBenét Ramsey ...   2000-02-16         NaN   \n",
       "\n",
       "   Runtime                          Languages  \\\n",
       "0     98.0  dict_values(['English Language'])   \n",
       "1     95.0  dict_values(['English Language'])   \n",
       "\n",
       "                                   Countries    Genres  \n",
       "0  dict_values(['United States of America'])  Thriller  \n",
       "1  dict_values(['United States of America'])     Drama  "
      ]
     },
     "execution_count": 3,
     "metadata": {},
     "output_type": "execute_result"
    }
   ],
   "source": [
    "movies.head(2)"
   ]
  },
  {
   "cell_type": "markdown",
   "metadata": {},
   "source": [
    "### Read in events data"
   ]
  },
  {
   "cell_type": "code",
   "execution_count": 4,
   "metadata": {},
   "outputs": [],
   "source": [
    "event_file = [item for item in os.listdir('protag_events/') if 'txt' in item]"
   ]
  },
  {
   "cell_type": "code",
   "execution_count": 5,
   "metadata": {},
   "outputs": [],
   "source": [
    "d = {}\n",
    "for name in event_file:\n",
    "    with open(os.path.join('protag_events/', name), 'r') as f:\n",
    "        nlines = []\n",
    "        for line in [line.strip() for line in f.readlines()]:\n",
    "            line = line.split(' ')\n",
    "            line[0] = 'protagonist'\n",
    "            line = ' '.join([item for item in line])\n",
    "            nlines.append(line)\n",
    "        nlines = list(OrderedDict((x, True) for x in nlines).keys())\n",
    "        if len(nlines) > 1:    \n",
    "            d[int(name.split('_')[0])] = nlines"
   ]
  },
  {
   "cell_type": "code",
   "execution_count": 6,
   "metadata": {},
   "outputs": [],
   "source": [
    "movies.Wikipedia_id = movies.Wikipedia_id.astype(int)"
   ]
  },
  {
   "cell_type": "code",
   "execution_count": 7,
   "metadata": {},
   "outputs": [],
   "source": [
    "movies['Events'] = movies['Wikipedia_id'].map(d)"
   ]
  },
  {
   "cell_type": "code",
   "execution_count": 8,
   "metadata": {},
   "outputs": [],
   "source": [
    "movies = movies.dropna(subset = ['Events'])"
   ]
  },
  {
   "cell_type": "code",
   "execution_count": 9,
   "metadata": {},
   "outputs": [],
   "source": [
    "movies['Genre_code'] = movies.Genres.astype(\"category\").cat.codes"
   ]
  },
  {
   "cell_type": "code",
   "execution_count": 10,
   "metadata": {},
   "outputs": [
    {
     "data": {
      "text/html": [
       "<div>\n",
       "<style scoped>\n",
       "    .dataframe tbody tr th:only-of-type {\n",
       "        vertical-align: middle;\n",
       "    }\n",
       "\n",
       "    .dataframe tbody tr th {\n",
       "        vertical-align: top;\n",
       "    }\n",
       "\n",
       "    .dataframe thead th {\n",
       "        text-align: right;\n",
       "    }\n",
       "</style>\n",
       "<table border=\"1\" class=\"dataframe\">\n",
       "  <thead>\n",
       "    <tr style=\"text-align: right;\">\n",
       "      <th></th>\n",
       "      <th>Wikipedia_id</th>\n",
       "      <th>Freebase_id</th>\n",
       "      <th>Name</th>\n",
       "      <th>Release_date</th>\n",
       "      <th>Revenue</th>\n",
       "      <th>Runtime</th>\n",
       "      <th>Languages</th>\n",
       "      <th>Countries</th>\n",
       "      <th>Genres</th>\n",
       "      <th>Events</th>\n",
       "      <th>Genre_code</th>\n",
       "    </tr>\n",
       "  </thead>\n",
       "  <tbody>\n",
       "    <tr>\n",
       "      <th>25</th>\n",
       "      <td>156558</td>\n",
       "      <td>/m/014k4y</td>\n",
       "      <td>Baby Boy</td>\n",
       "      <td>2001-06-27</td>\n",
       "      <td>29381649.0</td>\n",
       "      <td>123.0</td>\n",
       "      <td>dict_values(['English Language'])</td>\n",
       "      <td>dict_values(['United States of America'])</td>\n",
       "      <td>Drama</td>\n",
       "      <td>[protagonist urge-58.1 &lt;NE&gt;0 EmptyParameter, p...</td>\n",
       "      <td>2</td>\n",
       "    </tr>\n",
       "    <tr>\n",
       "      <th>171</th>\n",
       "      <td>28649243</td>\n",
       "      <td>/m/0cz8rml</td>\n",
       "      <td>Martha</td>\n",
       "      <td>NaN</td>\n",
       "      <td>NaN</td>\n",
       "      <td>116.0</td>\n",
       "      <td>dict_values([])</td>\n",
       "      <td>dict_values(['West Germany'])</td>\n",
       "      <td>Drama</td>\n",
       "      <td>[protagonist conjecture-29.5-2 EmptyParameter ...</td>\n",
       "      <td>2</td>\n",
       "    </tr>\n",
       "  </tbody>\n",
       "</table>\n",
       "</div>"
      ],
      "text/plain": [
       "     Wikipedia_id Freebase_id      Name Release_date     Revenue  Runtime  \\\n",
       "25         156558   /m/014k4y  Baby Boy   2001-06-27  29381649.0    123.0   \n",
       "171      28649243  /m/0cz8rml    Martha          NaN         NaN    116.0   \n",
       "\n",
       "                             Languages  \\\n",
       "25   dict_values(['English Language'])   \n",
       "171                    dict_values([])   \n",
       "\n",
       "                                     Countries Genres  \\\n",
       "25   dict_values(['United States of America'])  Drama   \n",
       "171              dict_values(['West Germany'])  Drama   \n",
       "\n",
       "                                                Events  Genre_code  \n",
       "25   [protagonist urge-58.1 <NE>0 EmptyParameter, p...           2  \n",
       "171  [protagonist conjecture-29.5-2 EmptyParameter ...           2  "
      ]
     },
     "execution_count": 10,
     "metadata": {},
     "output_type": "execute_result"
    }
   ],
   "source": [
    "movies.head(2)"
   ]
  },
  {
   "cell_type": "code",
   "execution_count": 11,
   "metadata": {},
   "outputs": [],
   "source": [
    "movies = movies.dropna(subset = ['Events'])"
   ]
  },
  {
   "cell_type": "code",
   "execution_count": 12,
   "metadata": {},
   "outputs": [
    {
     "data": {
      "text/plain": [
       "2    204\n",
       "4    162\n",
       "1     94\n",
       "3     61\n",
       "0     33\n",
       "Name: Genre_code, dtype: int64"
      ]
     },
     "execution_count": 12,
     "metadata": {},
     "output_type": "execute_result"
    }
   ],
   "source": [
    "movies.Genre_code.value_counts()"
   ]
  },
  {
   "cell_type": "code",
   "execution_count": 13,
   "metadata": {},
   "outputs": [],
   "source": [
    "df0 = movies[movies['Genre_code'] == 0].sample(50, replace = True)\n",
    "df1 = movies[movies['Genre_code'] == 1].sample(50, replace = True)\n",
    "df2 = movies[movies['Genre_code'] == 2].sample(50, replace = True)\n",
    "df3 = movies[movies['Genre_code'] == 3].sample(50, replace = True)\n",
    "df4 = movies[movies['Genre_code'] == 4].sample(50, replace = True)"
   ]
  },
  {
   "cell_type": "code",
   "execution_count": 14,
   "metadata": {},
   "outputs": [],
   "source": [
    "movies = pd.concat([df0, df1, df2, df3, df4])"
   ]
  },
  {
   "cell_type": "code",
   "execution_count": 15,
   "metadata": {},
   "outputs": [
    {
     "data": {
      "text/html": [
       "<div>\n",
       "<style scoped>\n",
       "    .dataframe tbody tr th:only-of-type {\n",
       "        vertical-align: middle;\n",
       "    }\n",
       "\n",
       "    .dataframe tbody tr th {\n",
       "        vertical-align: top;\n",
       "    }\n",
       "\n",
       "    .dataframe thead th {\n",
       "        text-align: right;\n",
       "    }\n",
       "</style>\n",
       "<table border=\"1\" class=\"dataframe\">\n",
       "  <thead>\n",
       "    <tr style=\"text-align: right;\">\n",
       "      <th></th>\n",
       "      <th>Wikipedia_id</th>\n",
       "      <th>Freebase_id</th>\n",
       "      <th>Name</th>\n",
       "      <th>Release_date</th>\n",
       "      <th>Revenue</th>\n",
       "      <th>Runtime</th>\n",
       "      <th>Languages</th>\n",
       "      <th>Countries</th>\n",
       "      <th>Genres</th>\n",
       "      <th>Events</th>\n",
       "      <th>Genre_code</th>\n",
       "    </tr>\n",
       "  </thead>\n",
       "  <tbody>\n",
       "    <tr>\n",
       "      <th>12876</th>\n",
       "      <td>6326152</td>\n",
       "      <td>/m/0g13g7</td>\n",
       "      <td>The Seedling</td>\n",
       "      <td>1974</td>\n",
       "      <td>NaN</td>\n",
       "      <td>131.0</td>\n",
       "      <td>dict_values(['Hindi Language'])</td>\n",
       "      <td>dict_values(['India'])</td>\n",
       "      <td>Romance Film</td>\n",
       "      <td>[protagonist stop-55.4-1 Synset('study.n.09') ...</td>\n",
       "      <td>3</td>\n",
       "    </tr>\n",
       "    <tr>\n",
       "      <th>8617</th>\n",
       "      <td>3724436</td>\n",
       "      <td>/m/09xcn4</td>\n",
       "      <td>The 39 Steps</td>\n",
       "      <td>1935-06</td>\n",
       "      <td>NaN</td>\n",
       "      <td>86.0</td>\n",
       "      <td>dict_values(['English Language'])</td>\n",
       "      <td>dict_values(['United Kingdom'])</td>\n",
       "      <td>Thriller</td>\n",
       "      <td>[protagonist search-35.2 Synset('presentation....</td>\n",
       "      <td>4</td>\n",
       "    </tr>\n",
       "    <tr>\n",
       "      <th>1432</th>\n",
       "      <td>2651593</td>\n",
       "      <td>/m/07vfy4</td>\n",
       "      <td>Water</td>\n",
       "      <td>2005-09-08</td>\n",
       "      <td>10422387.0</td>\n",
       "      <td>114.0</td>\n",
       "      <td>dict_values(['Hindi Language', 'English Langua...</td>\n",
       "      <td>dict_values(['Canada', 'India'])</td>\n",
       "      <td>Romance Film</td>\n",
       "      <td>[protagonist appear-48.1.1 Synset('wrath.n.02'...</td>\n",
       "      <td>3</td>\n",
       "    </tr>\n",
       "    <tr>\n",
       "      <th>29101</th>\n",
       "      <td>2563837</td>\n",
       "      <td>/m/07n90q</td>\n",
       "      <td>Femme Fatale</td>\n",
       "      <td>2002-04-30</td>\n",
       "      <td>16838910.0</td>\n",
       "      <td>114.0</td>\n",
       "      <td>dict_values(['French Language', 'English Langu...</td>\n",
       "      <td>dict_values(['France'])</td>\n",
       "      <td>Thriller</td>\n",
       "      <td>[protagonist cooperate-73-2 EmptyParameter Syn...</td>\n",
       "      <td>4</td>\n",
       "    </tr>\n",
       "    <tr>\n",
       "      <th>52264</th>\n",
       "      <td>11051391</td>\n",
       "      <td>/m/02qz9m7</td>\n",
       "      <td>Nikaah</td>\n",
       "      <td>1982</td>\n",
       "      <td>NaN</td>\n",
       "      <td>144.0</td>\n",
       "      <td>dict_values(['Hindi Language'])</td>\n",
       "      <td>dict_values(['India'])</td>\n",
       "      <td>Drama</td>\n",
       "      <td>[protagonist amuse-31.1 EmptyParameter EmptyPa...</td>\n",
       "      <td>2</td>\n",
       "    </tr>\n",
       "  </tbody>\n",
       "</table>\n",
       "</div>"
      ],
      "text/plain": [
       "       Wikipedia_id Freebase_id          Name Release_date     Revenue  \\\n",
       "12876       6326152   /m/0g13g7  The Seedling         1974         NaN   \n",
       "8617        3724436   /m/09xcn4  The 39 Steps      1935-06         NaN   \n",
       "1432        2651593   /m/07vfy4         Water   2005-09-08  10422387.0   \n",
       "29101       2563837   /m/07n90q  Femme Fatale   2002-04-30  16838910.0   \n",
       "52264      11051391  /m/02qz9m7        Nikaah         1982         NaN   \n",
       "\n",
       "       Runtime                                          Languages  \\\n",
       "12876    131.0                    dict_values(['Hindi Language'])   \n",
       "8617      86.0                  dict_values(['English Language'])   \n",
       "1432     114.0  dict_values(['Hindi Language', 'English Langua...   \n",
       "29101    114.0  dict_values(['French Language', 'English Langu...   \n",
       "52264    144.0                    dict_values(['Hindi Language'])   \n",
       "\n",
       "                              Countries        Genres  \\\n",
       "12876            dict_values(['India'])  Romance Film   \n",
       "8617    dict_values(['United Kingdom'])      Thriller   \n",
       "1432   dict_values(['Canada', 'India'])  Romance Film   \n",
       "29101           dict_values(['France'])      Thriller   \n",
       "52264            dict_values(['India'])         Drama   \n",
       "\n",
       "                                                  Events  Genre_code  \n",
       "12876  [protagonist stop-55.4-1 Synset('study.n.09') ...           3  \n",
       "8617   [protagonist search-35.2 Synset('presentation....           4  \n",
       "1432   [protagonist appear-48.1.1 Synset('wrath.n.02'...           3  \n",
       "29101  [protagonist cooperate-73-2 EmptyParameter Syn...           4  \n",
       "52264  [protagonist amuse-31.1 EmptyParameter EmptyPa...           2  "
      ]
     },
     "execution_count": 15,
     "metadata": {},
     "output_type": "execute_result"
    }
   ],
   "source": [
    "movies.sample(5)"
   ]
  },
  {
   "cell_type": "code",
   "execution_count": 16,
   "metadata": {},
   "outputs": [
    {
     "data": {
      "text/plain": [
       "250"
      ]
     },
     "execution_count": 16,
     "metadata": {},
     "output_type": "execute_result"
    }
   ],
   "source": [
    "len(movies)"
   ]
  },
  {
   "cell_type": "markdown",
   "metadata": {},
   "source": [
    "### Encode as one-hot vectors"
   ]
  },
  {
   "cell_type": "code",
   "execution_count": 17,
   "metadata": {},
   "outputs": [],
   "source": [
    "t = Tokenizer()"
   ]
  },
  {
   "cell_type": "code",
   "execution_count": 40,
   "metadata": {},
   "outputs": [],
   "source": [
    "events = []\n",
    "for e in movies.Events.tolist():\n",
    "    events.append(e)"
   ]
  },
  {
   "cell_type": "code",
   "execution_count": 41,
   "metadata": {},
   "outputs": [],
   "source": [
    "t.fit_on_texts(events)"
   ]
  },
  {
   "cell_type": "code",
   "execution_count": 70,
   "metadata": {},
   "outputs": [],
   "source": [
    "# t.word_index"
   ]
  },
  {
   "cell_type": "code",
   "execution_count": 42,
   "metadata": {},
   "outputs": [],
   "source": [
    "msk = np.random.rand(len(movies)) < 0.8\n",
    "train = []\n",
    "for item in movies[msk]['Events'].tolist():\n",
    "    train.append(item)\n",
    "test = []\n",
    "for item in movies[~msk]['Events'].tolist():\n",
    "    test.append(item)\n"
   ]
  },
  {
   "cell_type": "code",
   "execution_count": 24,
   "metadata": {},
   "outputs": [],
   "source": [
    "# test"
   ]
  },
  {
   "cell_type": "code",
   "execution_count": 47,
   "metadata": {},
   "outputs": [],
   "source": [
    "x_train = t.texts_to_sequences(train)\n",
    "x_train = pad_sequences(x_train, maxlen=20)\n"
   ]
  },
  {
   "cell_type": "code",
   "execution_count": 48,
   "metadata": {},
   "outputs": [],
   "source": [
    "x_test = t.texts_to_sequences(test)\n",
    "x_test = pad_sequences(x_test, maxlen=20)\n"
   ]
  },
  {
   "cell_type": "code",
   "execution_count": 49,
   "metadata": {},
   "outputs": [
    {
     "data": {
      "text/plain": [
       "array([[   0,    0,    0, ...,  128,  129,  130],\n",
       "       [ 345,  131,  172, ...,  360,  361,  362],\n",
       "       [   0,    0,    0, ...,  183,  184,  185],\n",
       "       ...,\n",
       "       [   0,    0,    0, ..., 2788, 2789, 2790],\n",
       "       [2792, 2793, 2794, ..., 2808, 2809, 2810],\n",
       "       [   0,    0, 2811, ..., 2822, 2823,    3]], dtype=int32)"
      ]
     },
     "execution_count": 49,
     "metadata": {},
     "output_type": "execute_result"
    }
   ],
   "source": [
    "x_train"
   ]
  },
  {
   "cell_type": "code",
   "execution_count": 53,
   "metadata": {},
   "outputs": [],
   "source": [
    "y_train = to_categorical(movies[msk]['Genre_code'].tolist())\n",
    "y_test = to_categorical(movies[~msk]['Genre_code'].tolist())"
   ]
  },
  {
   "cell_type": "markdown",
   "metadata": {},
   "source": [
    "### Simple LSTM "
   ]
  },
  {
   "cell_type": "code",
   "execution_count": 92,
   "metadata": {},
   "outputs": [
    {
     "name": "stdout",
     "output_type": "stream",
     "text": [
      "_________________________________________________________________\n",
      "Layer (type)                 Output Shape              Param #   \n",
      "=================================================================\n",
      "embedding_21 (Embedding)     (None, None, 32)          96000     \n",
      "_________________________________________________________________\n",
      "lstm_21 (LSTM)               (None, 10)                1720      \n",
      "_________________________________________________________________\n",
      "dense_21 (Dense)             (None, 5)                 55        \n",
      "=================================================================\n",
      "Total params: 97,775\n",
      "Trainable params: 97,775\n",
      "Non-trainable params: 0\n",
      "_________________________________________________________________\n",
      "None\n",
      "Epoch 1/3\n",
      "209/209 [==============================] - 3s 13ms/step - loss: 1.6086 - acc: 0.2010\n",
      "Epoch 2/3\n",
      "209/209 [==============================] - 0s 632us/step - loss: 1.5945 - acc: 0.5120\n",
      "Epoch 3/3\n",
      "209/209 [==============================] - 0s 689us/step - loss: 1.5796 - acc: 0.7081\n"
     ]
    },
    {
     "data": {
      "text/plain": [
       "<keras.callbacks.History at 0x1351207f0>"
      ]
     },
     "execution_count": 92,
     "metadata": {},
     "output_type": "execute_result"
    }
   ],
   "source": [
    "# create the model\n",
    "embedding_vector_length = 32\n",
    "model = Sequential()\n",
    "model.add(Embedding(3000, embedding_vector_length))\n",
    "model.add(LSTM(10))\n",
    "model.add(Dense(5, activation='softmax'))\n",
    "model.compile(loss='categorical_crossentropy', optimizer='adam', metrics=['accuracy'])\n",
    "print(model.summary())\n",
    "model.fit(x_train, y_train, epochs=3, batch_size=32)"
   ]
  },
  {
   "cell_type": "code",
   "execution_count": 93,
   "metadata": {},
   "outputs": [
    {
     "name": "stdout",
     "output_type": "stream",
     "text": [
      "41/41 [==============================] - 1s 22ms/step\n",
      "Accuracy: 68.29%\n"
     ]
    }
   ],
   "source": [
    "# Final evaluation of the model\n",
    "scores = model.evaluate(x_test,\n",
    "                        y_test)\n",
    "print(\"Accuracy: %.2f%%\" % (scores[1]*100))"
   ]
  }
 ],
 "metadata": {
  "kernelspec": {
   "display_name": "Python 3",
   "language": "python",
   "name": "python3"
  },
  "language_info": {
   "codemirror_mode": {
    "name": "ipython",
    "version": 3
   },
   "file_extension": ".py",
   "mimetype": "text/x-python",
   "name": "python",
   "nbconvert_exporter": "python",
   "pygments_lexer": "ipython3",
   "version": "3.6.4"
  }
 },
 "nbformat": 4,
 "nbformat_minor": 2
}
