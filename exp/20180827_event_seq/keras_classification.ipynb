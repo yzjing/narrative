{
 "cells": [
  {
   "cell_type": "code",
   "execution_count": 1,
   "metadata": {},
   "outputs": [
    {
     "name": "stderr",
     "output_type": "stream",
     "text": [
      "Using TensorFlow backend.\n"
     ]
    }
   ],
   "source": [
    "import numpy as np\n",
    "from keras.models import Sequential\n",
    "from keras.layers import Dense, LSTM, Flatten, GRU\n",
    "from keras.layers.embeddings import Embedding\n",
    "from keras.preprocessing import sequence\n",
    "# fix random seed for reproducibility\n",
    "np.random.seed(7)\n",
    "from keras.preprocessing.text import Tokenizer\n",
    "from keras.preprocessing.sequence import pad_sequences\n",
    "import pandas as pd\n",
    "import os\n",
    "from keras.utils import to_categorical\n",
    "from collections import OrderedDict\n",
    "from keras import backend as K\n",
    "from keras.models import Model"
   ]
  },
  {
   "cell_type": "code",
   "execution_count": 2,
   "metadata": {},
   "outputs": [
    {
     "name": "stdout",
     "output_type": "stream",
     "text": [
      "3.6.6\n"
     ]
    }
   ],
   "source": [
    "from platform import python_version\n",
    "print(python_version())"
   ]
  },
  {
   "cell_type": "markdown",
   "metadata": {},
   "source": [
    "### Exp of classifing movie genres based on their events.\n"
   ]
  },
  {
   "cell_type": "code",
   "execution_count": 3,
   "metadata": {},
   "outputs": [],
   "source": [
    "movies = pd.read_csv('../../data/metadata_events_table.tsv', sep = '\\t')"
   ]
  },
  {
   "cell_type": "code",
   "execution_count": 4,
   "metadata": {},
   "outputs": [
    {
     "data": {
      "text/plain": [
       "2    2419\n",
       "1    1643\n",
       "4     679\n",
       "0     485\n",
       "3     144\n",
       "Name: Genre_code, dtype: int64"
      ]
     },
     "execution_count": 4,
     "metadata": {},
     "output_type": "execute_result"
    }
   ],
   "source": [
    "movies.Genre_code.value_counts()"
   ]
  },
  {
   "cell_type": "code",
   "execution_count": 5,
   "metadata": {},
   "outputs": [],
   "source": [
    "# df0 = movies[movies['Genre_code'] == 0].sample(500, replace = True)\n",
    "# df1 = movies[movies['Genre_code'] == 1].sample(500)\n",
    "# df2 = movies[movies['Genre_code'] == 2].sample(500)\n",
    "# df3 = movies[movies['Genre_code'] == 3].sample(500)\n",
    "# df4 = movies[movies['Genre_code'] == 4].sample(500)"
   ]
  },
  {
   "cell_type": "code",
   "execution_count": 6,
   "metadata": {},
   "outputs": [],
   "source": [
    "# movies = pd.concat([df0, df1, df2, df3, df4])"
   ]
  },
  {
   "cell_type": "code",
   "execution_count": 7,
   "metadata": {},
   "outputs": [
    {
     "data": {
      "text/plain": [
       "5370"
      ]
     },
     "execution_count": 7,
     "metadata": {},
     "output_type": "execute_result"
    }
   ],
   "source": [
    "len(movies)"
   ]
  },
  {
   "cell_type": "code",
   "execution_count": 8,
   "metadata": {},
   "outputs": [],
   "source": [
    "movies = movies.sort_values('Genre_code').reset_index()"
   ]
  },
  {
   "cell_type": "code",
   "execution_count": 9,
   "metadata": {},
   "outputs": [
    {
     "data": {
      "text/plain": [
       "{0: 'Action', 1: 'Comedy', 2: 'Drama', 3: 'Romance Film', 4: 'Thriller'}"
      ]
     },
     "execution_count": 9,
     "metadata": {},
     "output_type": "execute_result"
    }
   ],
   "source": [
    "{0: 'Action', 1: 'Comedy', 2: 'Drama', 3: 'Romance Film', 4: 'Thriller'}"
   ]
  },
  {
   "cell_type": "code",
   "execution_count": 10,
   "metadata": {},
   "outputs": [],
   "source": [
    "#starting and ending index for each group for plotting\n",
    "action_s = min(movies[movies['Genre_code'] == 0].index.tolist())\n",
    "action_e = max(movies[movies['Genre_code'] == 0].index.tolist())\n",
    "comedy_s = min(movies[movies['Genre_code'] == 1].index.tolist())\n",
    "comedy_e = max(movies[movies['Genre_code'] == 1].index.tolist())\n",
    "drama_s = min(movies[movies['Genre_code'] == 2].index.tolist())\n",
    "drama_e = max(movies[movies['Genre_code'] == 2].index.tolist())\n",
    "romance_s = min(movies[movies['Genre_code'] == 3].index.tolist())\n",
    "romance_e = max(movies[movies['Genre_code'] == 3].index.tolist())\n",
    "thriller_s = min(movies[movies['Genre_code'] == 4].index.tolist())\n",
    "thriller_e = max(movies[movies['Genre_code'] == 4].index.tolist())\n"
   ]
  },
  {
   "cell_type": "code",
   "execution_count": 11,
   "metadata": {},
   "outputs": [
    {
     "name": "stdout",
     "output_type": "stream",
     "text": [
      "['judgment-33', 'discipline', 'say-37.7', 'avoid-52', 'future_having-13.3', 'judgment-33', 'send-11.1-1', 'reflexive_appearance-48.1.2', 'contiguous_location-47.8-1', 'urge-58.1', 'masquerade-29.6', 'reflexive_appearance-48.1.2', 'calibratable_cos-45.6-1', 'poison-42.2', 'subjugate-42.3', 'subjugate-42.3', 'establish-55.5-1', 'escape-51.1']\n",
      "\n",
      "['send-11.1-1', 'investigate-35.4', 'meet-36.3-1', 'other_cos-45.4', 'consider-29.9-1-1', 'conjecture-29.5-1', 'bring-11.3-1', 'other_cos-45.4', 'neglect-75-1-1', 'lodge-46', 'resign-10.11', 'conspire-71', 'pretend', 'escape-51.1', 'say-37.7-1', 'peer-30.3', 'leave-51.2', 'say-37.7', 'peer-30.3', 'rummage-35.5', 'amuse-31.1', 'forbid-67-1', 'conjecture-29.5-2', 'transfer_mesg-37.1.1', 'inquire-37.1.2', 'meet-36.3-1', 'meet-36.3-1', 'neglect-75-2', 'put-9.1-2', 'transfer_mesg-37.1.1-1-1', 'own-100', 'calibratable_cos-45.6-1', 'performance-26.7-1', 'escape-51.1', 'get-13.5.1', 'get-13.5.1']\n",
      "\n",
      "['involve-107', 'admit-65', 'admit-65', 'performance-26.7-1-1', 'obtain-13.5.2', 'share', 'force-59', 'refuse', 'admire-31.2', 'simple_dressing-41.3.1', 'simple_dressing-41.3.1', 'disappearance-48.2', 'correspond-36.1', 'other_cos-45.4', 'consider-29.9-1-1', 'consider-29.9-1', 'dub-29.3', 'rummage-35.5', 'vow', 'access', 'reprogram', 'other_cos-45.4', 'spray-9.7-2', 'sight-30.2', 'escape-51.1-1', 'consider-29.9-1-1', 'sight-30.2', 'cancel', 'admire-31.2', 'other_cos-45.4', 'breathe-40.1.2']\n",
      "\n",
      "['exist-47.1-1', 'own-100', 'order-60', 'create-26.4', 'force-59-1', 'future_having-13.3', 'reflexive_appearance-48.1.2', 'force-59', 'say-37.7-1', 'amuse-31.1', 'contribute-13.2', 'poison-42.2', 'force-59', 'reflexive_appearance-48.1.2', 'build-26.1', 'resign-10.11']\n",
      "\n",
      "['correspond-36.1', 'discover-84', 'correspond-36.1', 'get-13.5.1', 'try-61', 'force-59-1', 'learn-14-1', 'leave-51.2', 'confess-37.10', 'min-ho', 'amuse-31.1', 'concealment-16-1', 'escape-51.1-1', 'conjecture-29.5-2', 'confront-98', 'amuse-31.1', 'other_cos-45.4', 'admire-31.2', 'wish-62', 'performance-26.7-1', 'run-51.3.2-2-1', 'meet-36.3-1', 'judgment-33-1', 'cope-83-1-1', 'run-51.3.2', 'betray', 'remedy-45.7', 'amuse-31.1']\n",
      "\n",
      "['contribute-13.2', 'investigate-35.4', 'hire-13.5.3', 'assessment-34.1', 'amuse-31.1', 'discover-84', 'meet-36.3-1', 'decipher', 'admire-31.2', 'performance-26.7-1', 'consider-29.9-2', 'captain-29.8-1', 'indicate-78-1-1', 'admire-31.2', 'other_cos-45.4', 'get-13.5.1', 'fill-9.8-1', 'free-80-1', 'drive-11.5-1', 'hunt-35.1', 'create-26.4-1', 'obtain-13.5.2', 'force-59']\n",
      "\n",
      "['obtain-13.5.2', 'calibratable_cos-45.6-1', 'obtain-13.5.2-1', 'force-59-1', 'run-51.3.2-2-1', 'correspond-36.1-1', 'disappearance-48.2', 'mix-22.1-2-1', 'cooperate-73-1', 'long-32.2-1', 'conjecture-29.5-1', 'obtain-13.5.2', 'chit_chat-37.6-1', 'correspond-36.1-1', 'other_cos-45.4', 'remove-10.1', 'battle-36.4-1', 'get-13.5.1', 'get-13.5.1']\n",
      "\n",
      "['begin-55.1-1', 'convert-26.6.2', 'bump-18.4-1', 'knead-26.5', 'knead-26.5', 'seem-109', 'see-30.1-1', 'split-23.2', 'murder-42.1', 'stalk-35.3']\n",
      "\n",
      "['amuse-31.1', 'adopt-93', 'establish-55.5-1', 'force-59', 'crane-40.3.2', 'escape-51.1-2', 'tape-22.4', 'crane-40.3.2', 'give-13.1-1', 'other_cos-45.4', 'other_cos-45.4', 'remove-10.1', 'let']\n",
      "\n",
      "['empathize-88.2', 'disappearance-48.2', 'own-100', 'get-13.5.1', 'chase-51.6', 'escape-51.1', 'meet-36.3-1', 'contiguous_location-47.8-1', 'marvel-31.3-1', 'refrain-69', 'say-37.7', 'get-13.5.1', 'forbid-67-1', 'establish-55.5-1', 'interrupt', 'throw-17.1-1', 'steal-10.5', 'give-13.1-1', 'see-30.1-1', 'correspond-36.1', 'steal-10.5-1', 'seem-109-1-1', 'steal-10.5', 'carve-21.2-2']\n",
      "\n",
      "['search-35.2', 'search-35.2', 'relate-86.2-2', 'obtain-13.5.2', 'contiguous_location-47.8-1', 'own-100', 'appear-48.1.1', 'sight-30.2', 'transfer_mesg-37.1.1-1-1', 'reflexive_appearance-48.1.2', 'say-37.7', 'transfer_mesg-37.1.1-1-1', 'manner_speaking-37.3', 'appear-48.1.1', 'conjecture-29.5-2']\n",
      "\n",
      "['force-59', 'force-59', 'subjugate-42.3', 'run-51.3.2-2-1', 'contribute-13.2-1-1', 'devour-39.4', 'run-51.3.2-2-1', 'escape-51.1', 'obtain-13.5.2']\n",
      "\n",
      "['become-109.1', 'long-32.2-1', 'correspond-36.1', 'put-9.1', 'become-109.1', 'consume-66-1', 'amuse-31.1', 'amuse-31.1', 'amuse-31.1', 'bill-54.5', 'become-109.1-1', 'contiguous_location-47.8-1', 'contiguous_location-47.8-1', 'get-13.5.1', 'run-51.3.2-1', 'contiguous_location-47.8-1', 'preparing-26.3-1', 'escape-51.1', 'appear-48.1.1', 'bill-54.5', 'admire-31.2', 'get-13.5.1-1', 'sight-30.2', 'correspond-36.1', 'amuse-31.1', 'conspire-71', 'obey', 'want-32.1-1-1', 'discover-84', 'discover-84', 'discover-84', 'defend-72.2', 'bill-54.5']\n",
      "\n",
      "['get-13.5.1', 'addict-96', 'manner_speaking-37.3', 'want-32.1-1-1', 'use-105', 'discover-84', 'give-13.1-1', 'get-13.5.1', 'get-13.5.1', 'substance_emission-43.4', 'seem-109-1-1', 'learn-14-2-1', 'plead', 'focus-87.1-1']\n",
      "\n",
      "['amuse-31.1', 'amuse-31.1', 'help-72-1', 'amuse-31.1', 'own-100', 'amuse-31.1', 'sight-30.2', 'escape-51.1', 'steal-10.5-1', 'ditch', 'convert-26.6.2', 'begin-55.1-1', 'investigate-35.4', 'get-13.5.1', 'amuse-31.1', 'try-61', 'conjecture-29.5-2', 'reach-51.8', 'get-13.5.1', 'poison-42.2', 'correspond-36.1', 'meander-47.7', 'carry-11.4', 'appear-48.1.1']\n",
      "\n",
      "['corner', 'become-109.1-1', 'help-72-1', 'discover-84', 'discover-84', 'conjecture-29.5-1', 'discover-84', 'convert-26.6.2', 'butter-9.9', 'try-61', 'convert-26.6.2', 'roll-51.3.1', 'get-13.5.1', 'poison-42.2']\n",
      "\n",
      "['own-100', 'steal-10.5-1', 'amuse-31.1', 'obtain-13.5.2', 'discover-84', 'escape-51.1', 'escape-51.1', 'confront-98', 'try-61', 'escape-51.1-1', 'subjugate-42.3', 'wipe_manner-10.4.1-1', 'defeat', 'resign-10.11', 'amuse-31.1', 'other_cos-45.4']\n",
      "\n",
      "['get-13.5.1-1', 'become-109.1', 'calibratable_cos-45.6-1', 'wish-62', 'say-37.7-1', 'get-13.5.1', 'poison-42.2', 'get-13.5.1', 'marvel-31.3-1', 'begin-55.1-1', 'escape-51.1', 'get-13.5.1', 'conjecture-29.5-1', 'meander-47.7', 'contiguous_location-47.8-1', 'realise', 'cope-83-1-1', 'get-13.5.1-1', 'consider-29.9-1']\n",
      "\n",
      "['fit-54.3', 'marvel-31.3-8', 'become-109.1-1', 'discover-84', 'conjecture-29.5-1', 'confront-98', 'admire-31.2', 'captain-29.8-1', 'get-13.5.1', 'discover-84-1-1', 'wish-62', 'advise-37.9-1', 'conjecture-29.5-1', 'rummage-35.5', 'appear-48.1.1', 'amuse-31.1', 'characterize-29.2', 'characterize-29.2', 'appear-48.1.1', 'snooze-40.4', 'leave-51.2', 'say-37.7', 'try-61', 'confront-98', 'transfer_mesg-37.1.1-1-1', 'amuse-31.1', 'build-26.1', 'admire-31.2', 'conjecture-29.5-1', 'reflexive_appearance-48.1.2', 'spank-18.3', 'exist-47.1-1-1', 'hold-15.1-1', 'confront-98', 'bill-54.5']\n",
      "\n",
      "['assessment-34.1', 'subjugate-42.3', 'conjecture-29.5-1', 'marvel-31.3-1', 'suspect-81', 'amuse-31.1', 'get-13.5.1-1', 'poison-42.2', 'fulfilling-13.4.1', 'amuse-31.1', 'subjugate-42.3', 'meander-47.7', 'obtain-13.5.2', 'appear-48.1.1', 'crane-40.3.2']\n",
      "\n"
     ]
    }
   ],
   "source": [
    "for item in movies[movies['Genre_code'] == 4].Events.head(20).tolist():\n",
    "    print(item)\n",
    "    print()"
   ]
  },
  {
   "cell_type": "markdown",
   "metadata": {},
   "source": [
    "### Encode as one-hot vectors"
   ]
  },
  {
   "cell_type": "code",
   "execution_count": 12,
   "metadata": {},
   "outputs": [],
   "source": [
    "t = Tokenizer()"
   ]
  },
  {
   "cell_type": "code",
   "execution_count": 13,
   "metadata": {},
   "outputs": [],
   "source": [
    "events = []\n",
    "for e in movies.Events.tolist():\n",
    "    events.append([item.split('-')[0] for item in eval(e)])"
   ]
  },
  {
   "cell_type": "code",
   "execution_count": 14,
   "metadata": {},
   "outputs": [
    {
     "name": "stdout",
     "output_type": "stream",
     "text": [
      "5370\n"
     ]
    }
   ],
   "source": [
    "# Size of data\n",
    "print(len(events))"
   ]
  },
  {
   "cell_type": "code",
   "execution_count": 15,
   "metadata": {},
   "outputs": [],
   "source": [
    "t.fit_on_texts(events)"
   ]
  },
  {
   "cell_type": "code",
   "execution_count": 16,
   "metadata": {},
   "outputs": [
    {
     "data": {
      "text/plain": [
       "{'amuse': 1,\n",
       " 'get': 2,\n",
       " 'escape': 3,\n",
       " 'discover': 4,\n",
       " 'own': 5,\n",
       " 'meander': 6,\n",
       " 'transfer_mesg': 7,\n",
       " 'become': 8,\n",
       " 'conjecture': 9,\n",
       " 'say': 10,\n",
       " 'other_cos': 11,\n",
       " 'correspond': 12,\n",
       " 'force': 13,\n",
       " 'obtain': 14,\n",
       " 'appear': 15,\n",
       " 'convert': 16,\n",
       " 'run': 17,\n",
       " 'meet': 18,\n",
       " 'give': 19,\n",
       " 'characterize': 20,\n",
       " 'future_having': 21,\n",
       " 'admire': 22,\n",
       " 'begin': 23,\n",
       " 'contiguous_location': 24,\n",
       " 'steal': 25,\n",
       " 'subjugate': 26,\n",
       " 'reflexive_appearance': 27,\n",
       " 'seem': 28,\n",
       " 'send': 29,\n",
       " 'sight': 30,\n",
       " 'judgment': 31,\n",
       " 'admit': 32,\n",
       " 'remove': 33,\n",
       " 'marvel': 34,\n",
       " 'exist': 35,\n",
       " 'tell': 36,\n",
       " 'calibratable_cos': 37,\n",
       " 'crane': 38,\n",
       " 'appoint': 39,\n",
       " 'urge': 40,\n",
       " 'fit': 41,\n",
       " 'contribute': 42,\n",
       " 'put': 43,\n",
       " 'confront': 44,\n",
       " 'lodge': 45,\n",
       " 'refuse': 46,\n",
       " 'involve': 47,\n",
       " 'wish': 48,\n",
       " 'try': 49,\n",
       " 'consider': 50,\n",
       " 'see': 51,\n",
       " 'help': 52,\n",
       " 'want': 53,\n",
       " 'dub': 54,\n",
       " 'resign': 55,\n",
       " 'sustain': 56,\n",
       " 'disappearance': 57,\n",
       " 'throw': 58,\n",
       " 'stop': 59,\n",
       " 'order': 60,\n",
       " 'learn': 61,\n",
       " 'knead': 62,\n",
       " 'sound_emission': 63,\n",
       " 'peer': 64,\n",
       " 'manner_speaking': 65,\n",
       " 'chase': 66,\n",
       " 'performance': 67,\n",
       " 'spatial_configuration': 68,\n",
       " 'marry': 69,\n",
       " 'cope': 70,\n",
       " 'establish': 71,\n",
       " 'battle': 72,\n",
       " 'bring': 73,\n",
       " 'advise': 74,\n",
       " 'indicate': 75,\n",
       " 'hire': 76,\n",
       " 'build': 77,\n",
       " 'search': 78,\n",
       " 'forbid': 79,\n",
       " 'preparing': 80,\n",
       " 'pay': 81,\n",
       " 'eat': 82,\n",
       " 'fill': 83,\n",
       " 'poison': 84,\n",
       " 'create': 85,\n",
       " 'neglect': 86,\n",
       " 'carry': 87,\n",
       " 'consume': 88,\n",
       " 'mix': 89,\n",
       " 'long': 90,\n",
       " 'concealment': 91,\n",
       " 'free': 92,\n",
       " 'accept': 93,\n",
       " 'keep': 94,\n",
       " 'bill': 95,\n",
       " 'destroy': 96,\n",
       " 'confess': 97,\n",
       " 'split': 98,\n",
       " 'tape': 99,\n",
       " 'succeed': 100,\n",
       " 'confine': 101,\n",
       " 'assessment': 102,\n",
       " 'amalgamate': 103,\n",
       " 'fulfilling': 104,\n",
       " 'let': 105,\n",
       " 'beg': 106,\n",
       " 'hunt': 107,\n",
       " 'lecture': 108,\n",
       " 'arrest': 109,\n",
       " 'animal_sounds': 110,\n",
       " 'focus': 111,\n",
       " 'hurt': 112,\n",
       " 'inquire': 113,\n",
       " 'occurrence': 114,\n",
       " 'leave': 115,\n",
       " 'assuming_position': 116,\n",
       " 'engender': 117,\n",
       " 'cooperate': 118,\n",
       " 'wipe_manner': 119,\n",
       " 'conspire': 120,\n",
       " 'rummage': 121,\n",
       " 'use': 122,\n",
       " 'comprehend': 123,\n",
       " 'murder': 124,\n",
       " 'comprise': 125,\n",
       " 'investigate': 126,\n",
       " 'hold': 127,\n",
       " 'cheat': 128,\n",
       " 'roll': 129,\n",
       " 'nonvehicle': 130,\n",
       " 'promote': 131,\n",
       " 'spray': 132,\n",
       " 'fire': 133,\n",
       " 'braid': 134,\n",
       " 'require': 135,\n",
       " 'defend': 136,\n",
       " 'hit': 137,\n",
       " 'suspect': 138,\n",
       " 'adopt': 139,\n",
       " 'declare': 140,\n",
       " 'reach': 141,\n",
       " 'complete': 142,\n",
       " 'realise': 143,\n",
       " 'deduce': 144,\n",
       " 'gorge': 145,\n",
       " 'accompany': 146,\n",
       " 'remedy': 147,\n",
       " 'pocket': 148,\n",
       " 'wink': 149,\n",
       " 'defeat': 150,\n",
       " 'devour': 151,\n",
       " 'banish': 152,\n",
       " 'image_impression': 153,\n",
       " 'chit_chat': 154,\n",
       " 'share': 155,\n",
       " 'nonverbal_expression': 156,\n",
       " 'turn': 157,\n",
       " 'masquerade': 158,\n",
       " 'exchange': 159,\n",
       " 'pit': 160,\n",
       " 'bump': 161,\n",
       " 'render': 162,\n",
       " 'captain': 163,\n",
       " 'scribble': 164,\n",
       " 'interrogate': 165,\n",
       " 'break': 166,\n",
       " 'pretend': 167,\n",
       " 'swarm': 168,\n",
       " 'avoid': 169,\n",
       " 'swat': 170,\n",
       " 'shake': 171,\n",
       " 'weather': 172,\n",
       " 'stimulus_subject': 173,\n",
       " 'dedicate': 174,\n",
       " 'cost': 175,\n",
       " 'funnel': 176,\n",
       " 'sentence': 177,\n",
       " 'challenge': 178,\n",
       " 'dress': 179,\n",
       " 'exceed': 180,\n",
       " 'butter': 181,\n",
       " 'settle': 182,\n",
       " 'reconcile': 183,\n",
       " 'forget': 184,\n",
       " 'attract': 185,\n",
       " 'stalk': 186,\n",
       " 'vow': 187,\n",
       " 'carve': 188,\n",
       " 'snooze': 189,\n",
       " 'linger': 190,\n",
       " 'drive': 191,\n",
       " 'register': 192,\n",
       " 'modes_of_being_with_motion': 193,\n",
       " 'intervene': 194,\n",
       " 'pronounce': 195,\n",
       " 'transcribe': 196,\n",
       " 'base': 197,\n",
       " 'complain': 198,\n",
       " 'orphan': 199,\n",
       " 'acquiesce': 200,\n",
       " 'rape': 201,\n",
       " 'locate': 202,\n",
       " 'interrupt': 203,\n",
       " 'rely': 204,\n",
       " 'poke': 205,\n",
       " 'spank': 206,\n",
       " 'contact': 207,\n",
       " 'ensure': 208,\n",
       " 'disassemble': 209,\n",
       " 'touch': 210,\n",
       " 'instr_communication': 211,\n",
       " 'equip': 212,\n",
       " 'continue': 213,\n",
       " 'put_spatial': 214,\n",
       " 'breathe': 215,\n",
       " 'addict': 216,\n",
       " 'betray': 217,\n",
       " 'resist': 218,\n",
       " 'relate': 219,\n",
       " 'adjust': 220,\n",
       " 'promise': 221,\n",
       " 'vehicle_path': 222,\n",
       " 'illustrate': 223,\n",
       " 'talk': 224,\n",
       " 'enforce': 225,\n",
       " 'plead': 226,\n",
       " 'simple_dressing': 227,\n",
       " 'empathize': 228,\n",
       " 'void': 229,\n",
       " 'belong': 230,\n",
       " 'overpower': 231,\n",
       " 'put_direction': 232,\n",
       " 'change_bodily_state': 233,\n",
       " 'entity_specific_cos': 234,\n",
       " 'substance_emission': 235,\n",
       " 'patent': 236,\n",
       " 're': 237,\n",
       " 'grow': 238,\n",
       " 'await': 239,\n",
       " 'bid': 240,\n",
       " 'relent': 241,\n",
       " 'corner': 242,\n",
       " 'push': 243,\n",
       " 'embark': 244,\n",
       " 'tingle': 245,\n",
       " 'cancel': 246,\n",
       " 'lack': 247,\n",
       " 'rehearse': 248,\n",
       " 'allow': 249,\n",
       " 'herd': 250,\n",
       " 'mistake': 251,\n",
       " 'cut': 252,\n",
       " 'undergo': 253,\n",
       " 'fulfil': 254,\n",
       " 'uncover': 255,\n",
       " 'hiccup': 256,\n",
       " 'stymie': 257,\n",
       " 'interfere': 258,\n",
       " 'infiltrate': 259,\n",
       " 'sabotage': 260,\n",
       " 'graduate': 261,\n",
       " 'ambush': 262,\n",
       " 'convict': 263,\n",
       " 'recognise': 264,\n",
       " 'avenge': 265,\n",
       " 'strand': 266,\n",
       " 'classify': 267,\n",
       " 'apologise': 268,\n",
       " 'bend': 269,\n",
       " 'sue': 270,\n",
       " 'dressing_well': 271,\n",
       " 'thwart': 272,\n",
       " 'fulfill': 273,\n",
       " 'accost': 274,\n",
       " 'price': 275,\n",
       " 'feeding': 276,\n",
       " 'comply': 277,\n",
       " 'tend': 278,\n",
       " 'invade': 279,\n",
       " 'spend_time': 280,\n",
       " 'overjoy': 281,\n",
       " 'absorb': 282,\n",
       " 'opt': 283,\n",
       " 'risk': 284,\n",
       " 'disobey': 285,\n",
       " 'retain': 286,\n",
       " 'withdraw': 287,\n",
       " 'estrange': 288,\n",
       " 'light_emission': 289,\n",
       " 'mend': 290,\n",
       " 'audition': 291,\n",
       " 'revisit': 292,\n",
       " 'rush': 293,\n",
       " 'waltz': 294,\n",
       " 'body_internal_motion': 295,\n",
       " 'relocate': 296,\n",
       " 'fend': 297,\n",
       " 'rebuff': 298,\n",
       " 'reconsider': 299,\n",
       " 'obey': 300,\n",
       " 'demote': 301,\n",
       " 'subject': 302,\n",
       " 'vehicle': 303,\n",
       " 'reminisce': 304,\n",
       " 'limit': 305,\n",
       " 'care': 306,\n",
       " 'foil': 307,\n",
       " 'incapacitate': 308,\n",
       " 'gun': 309,\n",
       " 'aspire': 310,\n",
       " 'suffocate': 311,\n",
       " 'enrol': 312,\n",
       " 'afford': 313,\n",
       " 'unearth': 314,\n",
       " 'defy': 315,\n",
       " 'separate': 316,\n",
       " 'dine': 317,\n",
       " 'task': 318,\n",
       " 'unmask': 319,\n",
       " 'blind': 320,\n",
       " 'research': 321,\n",
       " 'sedate': 322,\n",
       " 'ditch': 323,\n",
       " 'chew': 324,\n",
       " 'reconnect': 325,\n",
       " 'exhale': 326,\n",
       " 'flinch': 327,\n",
       " 'implicate': 328,\n",
       " 'oversee': 329,\n",
       " 'indulge': 330,\n",
       " 'teleport': 331,\n",
       " 'co': 332,\n",
       " 'berry': 333,\n",
       " 'slide': 334,\n",
       " 'disrupt': 335,\n",
       " 'near': 336,\n",
       " 'doom': 337,\n",
       " 'gobble': 338,\n",
       " 'resemble': 339,\n",
       " 'unravel': 340,\n",
       " 'deserve': 341,\n",
       " 'orchestrate': 342,\n",
       " 'disqualify': 343,\n",
       " 'alia': 344,\n",
       " 'overtake': 345,\n",
       " 'recuperate': 346,\n",
       " 'disregard': 347,\n",
       " 'appal': 348,\n",
       " 'proposition': 349,\n",
       " 'flunk': 350,\n",
       " 'elope': 351,\n",
       " 'barricade': 352,\n",
       " 'wipe_instr': 353,\n",
       " 'cooking': 354,\n",
       " 'romance': 355,\n",
       " 'body_internal_states': 356,\n",
       " 'disown': 357,\n",
       " 'reconstruct': 358,\n",
       " 'strive': 359,\n",
       " 'invoke': 360,\n",
       " 'regenerate': 361,\n",
       " 'heed': 362,\n",
       " 'hypothesize': 363,\n",
       " 'double': 364,\n",
       " 'stricken': 365,\n",
       " 'muster': 366,\n",
       " 'groom': 367,\n",
       " 'destine': 368,\n",
       " 'endanger': 369,\n",
       " 'vent': 370,\n",
       " 'masturbate': 371,\n",
       " 'list': 372,\n",
       " 'revoke': 373,\n",
       " 'relive': 374,\n",
       " 'mess': 375,\n",
       " 'finance': 376,\n",
       " 'renovate': 377,\n",
       " 'violate': 378,\n",
       " 'amputate': 379,\n",
       " 'overlook': 380,\n",
       " 'inflict': 381,\n",
       " 'shield': 382,\n",
       " 'pour': 383,\n",
       " 'recant': 384,\n",
       " 'feature': 385,\n",
       " 'benefit': 386,\n",
       " 'calculate': 387,\n",
       " 'resurface': 388,\n",
       " 'resurrect': 389,\n",
       " 'master': 390,\n",
       " 'reciprocate': 391,\n",
       " 'garner': 392,\n",
       " 'lunge': 393,\n",
       " 'pain': 394,\n",
       " 'maneuver': 395,\n",
       " 'distance': 396,\n",
       " 'unveil': 397,\n",
       " 'refill': 398,\n",
       " 'rethink': 399,\n",
       " 'practise': 400,\n",
       " 'eke': 401,\n",
       " 'wreak': 402,\n",
       " 'misbehave': 403,\n",
       " 'piece': 404,\n",
       " 'dote': 405,\n",
       " 'overdose': 406,\n",
       " 'attribute': 407,\n",
       " 'brace': 408,\n",
       " 'rehire': 409,\n",
       " 'prescribe': 410,\n",
       " 'quip': 411,\n",
       " 'school': 412,\n",
       " 'estimate': 413,\n",
       " 'man': 414,\n",
       " 'harbor': 415,\n",
       " 'organise': 416,\n",
       " 'postpone': 417,\n",
       " 'remand': 418,\n",
       " 'abort': 419,\n",
       " 'withhold': 420,\n",
       " 'migrate': 421,\n",
       " 'fantasize': 422,\n",
       " 'penetrate': 423,\n",
       " 'unpack': 424,\n",
       " 'digest': 425,\n",
       " 'entitle': 426,\n",
       " 'avert': 427,\n",
       " 'dismember': 428,\n",
       " 'suit': 429,\n",
       " 'backfire': 430,\n",
       " 'stake': 431,\n",
       " 'embroil': 432,\n",
       " 'waylay': 433,\n",
       " 'coil': 434,\n",
       " 'reprogram': 435,\n",
       " 'trash': 436,\n",
       " 'forsake': 437,\n",
       " 'induct': 438,\n",
       " 'authorize': 439,\n",
       " 'floss': 440,\n",
       " 'retake': 441,\n",
       " 'restart': 442,\n",
       " 'demur': 443,\n",
       " 'terrorise': 444,\n",
       " 'mentore': 445,\n",
       " 'daydream': 446,\n",
       " 'tamper': 447,\n",
       " 'lobotomize': 448,\n",
       " 'appeal': 449,\n",
       " 'preside': 450,\n",
       " 'crestfallen': 451,\n",
       " 'accustom': 452,\n",
       " 'renege': 453,\n",
       " 'cater': 454,\n",
       " 'spurn': 455,\n",
       " 'complicate': 456,\n",
       " 'rumor': 457,\n",
       " 'dissect': 458,\n",
       " 'brainwash': 459,\n",
       " 'foul': 460,\n",
       " 'hole': 461,\n",
       " 'multiply': 462,\n",
       " 'prank': 463,\n",
       " 'bumble': 464,\n",
       " 'retrace': 465,\n",
       " 'access': 466,\n",
       " 'acclimate': 467,\n",
       " 'breed': 468,\n",
       " 'mug': 469,\n",
       " 'amend': 470,\n",
       " 'abscond': 471,\n",
       " 'harbour': 472,\n",
       " 'gore': 473,\n",
       " 'fell': 474,\n",
       " 'debrief': 475,\n",
       " 'juggle': 476,\n",
       " 'mistreat': 477,\n",
       " 'refrain': 478,\n",
       " 'contradict': 479,\n",
       " 'deploy': 480,\n",
       " 'deactivate': 481,\n",
       " 'encase': 482,\n",
       " 'rig': 483,\n",
       " 'atone': 484,\n",
       " 'matter': 485,\n",
       " 'miscarry': 486,\n",
       " 'uphold': 487,\n",
       " 'dynamite': 488,\n",
       " 'browse': 489,\n",
       " 'brutalize': 490,\n",
       " 'vanquish': 491,\n",
       " 'instill': 492,\n",
       " 'ward': 493,\n",
       " 'entity_specific_modes_being': 494,\n",
       " 'outmaneuver': 495,\n",
       " 'reload': 496,\n",
       " 'propel': 497,\n",
       " 'sound_existence': 498,\n",
       " 'abide': 499,\n",
       " 'rehabilitate': 500,\n",
       " 'overstate': 501,\n",
       " 'consist': 502,\n",
       " 'pollute': 503,\n",
       " 'bomb': 504,\n",
       " 'concuss': 505,\n",
       " 'strum': 506,\n",
       " 'rewrite': 507,\n",
       " 'inhabit': 508,\n",
       " 'idolise': 509,\n",
       " 'vindicate': 510,\n",
       " 'unwrap': 511,\n",
       " 'bypass': 512,\n",
       " 'reattach': 513,\n",
       " 'impart': 514,\n",
       " 'encroach': 515,\n",
       " 'debut': 516,\n",
       " 'campaign': 517,\n",
       " 'over': 518,\n",
       " 'redesign': 519,\n",
       " 'flatline': 520,\n",
       " 'boo': 521,\n",
       " 'fiddle': 522,\n",
       " 'honour': 523,\n",
       " 'ingratiate': 524,\n",
       " 'budge': 525,\n",
       " 'staunch': 526,\n",
       " 'best': 527,\n",
       " 'enable': 528,\n",
       " 'reawaken': 529,\n",
       " 'embody': 530,\n",
       " 'torch': 531,\n",
       " 'wimp': 532,\n",
       " 'enamor': 533,\n",
       " 'dethrone': 534,\n",
       " 'meddle': 535,\n",
       " 'unplug': 536,\n",
       " 'partake': 537,\n",
       " 'coordinate': 538,\n",
       " 'negate': 539,\n",
       " 'lag': 540,\n",
       " 'foreclose': 541,\n",
       " 'empower': 542,\n",
       " 'discount': 543,\n",
       " 'opine': 544,\n",
       " 'defect': 545,\n",
       " 'exaggerate': 546,\n",
       " 'serenade': 547,\n",
       " 'overrule': 548,\n",
       " 'fuck': 549,\n",
       " 'rollerblade': 550,\n",
       " 'freak': 551,\n",
       " 'experiment': 552,\n",
       " 'extricate': 553,\n",
       " 'process': 554,\n",
       " 'pelt': 555,\n",
       " 'query': 556,\n",
       " 'father': 557,\n",
       " 'infatuate': 558,\n",
       " 'refute': 559,\n",
       " 'criticise': 560,\n",
       " 'align': 561,\n",
       " 'defuse': 562,\n",
       " 'rematerialize': 563,\n",
       " 'stonewall': 564,\n",
       " 'rout': 565,\n",
       " 'parole': 566,\n",
       " 'baptise': 567,\n",
       " 'weekend': 568,\n",
       " 'refuel': 569,\n",
       " 'incur': 570,\n",
       " 'shy': 571,\n",
       " 'lavish': 572,\n",
       " 'utilise': 573,\n",
       " 'sympathise': 574,\n",
       " 'revenge': 575,\n",
       " 'nurture': 576,\n",
       " 'court': 577,\n",
       " 'clone': 578,\n",
       " 'tidy': 579,\n",
       " 'alight': 580,\n",
       " 'frequent': 581,\n",
       " 'trample': 582,\n",
       " 'jettison': 583,\n",
       " 'regress': 584,\n",
       " 'remodel': 585,\n",
       " 'rewind': 586,\n",
       " 'chastize': 587,\n",
       " 'outgun': 588,\n",
       " 'outmann': 589,\n",
       " 'deputize': 590,\n",
       " 'pressurise': 591,\n",
       " 'breath': 592,\n",
       " 'sensei': 593,\n",
       " 'revamp': 594,\n",
       " 'ben': 595,\n",
       " 'demonize': 596,\n",
       " 'while': 597,\n",
       " 'connive': 598,\n",
       " 'sheriff': 599,\n",
       " 'outrun': 600,\n",
       " 'outstretch': 601,\n",
       " 'leakey': 602,\n",
       " 'adulterate': 603,\n",
       " 'reabsorb': 604,\n",
       " 'upturn': 605,\n",
       " 'rappel': 606,\n",
       " 'prey': 607,\n",
       " 'hidalgo': 608,\n",
       " 'loot': 609,\n",
       " 'mediate': 610,\n",
       " 'destoy': 611,\n",
       " 'downgrade': 612,\n",
       " 'counterattack': 613,\n",
       " 'differ': 614,\n",
       " 'pants': 615,\n",
       " 'prep': 616,\n",
       " 'crash': 617,\n",
       " 'raide': 618,\n",
       " 'power': 619,\n",
       " 'lauch': 620,\n",
       " 'pinpoint': 621,\n",
       " 'turrn': 622,\n",
       " 'skimp': 623,\n",
       " 'snuck': 624,\n",
       " 'fast': 625,\n",
       " 'wrong': 626,\n",
       " 'script': 627,\n",
       " 'bad': 628,\n",
       " 'unscramble': 629,\n",
       " 'mete': 630,\n",
       " 'debone': 631,\n",
       " 'fare': 632,\n",
       " 'brim': 633,\n",
       " 'boobytrap': 634,\n",
       " 'untangle': 635,\n",
       " 'clue': 636,\n",
       " 'facilitate': 637,\n",
       " 'hogtie': 638,\n",
       " 'dole': 639,\n",
       " 'bankroll': 640,\n",
       " 'impoverish': 641,\n",
       " 'göring': 642,\n",
       " 'blackball': 643,\n",
       " 'rampage': 644,\n",
       " 'allude': 645,\n",
       " 'shooe': 646,\n",
       " 'outlive': 647,\n",
       " 'decode': 648,\n",
       " 'kidnapp': 649,\n",
       " 'worryy': 650,\n",
       " 'then': 651,\n",
       " 'ascribe': 652,\n",
       " 'reembark': 653,\n",
       " 'soundproof': 654,\n",
       " 'hot': 655,\n",
       " 'mimic': 656,\n",
       " 'oversell': 657,\n",
       " 'mislabel': 658,\n",
       " 'downheart': 659,\n",
       " 'heartbroken': 660,\n",
       " 'reassume': 661,\n",
       " 'oversleep': 662,\n",
       " 'trump': 663,\n",
       " 'snuggle': 664,\n",
       " 'confround': 665,\n",
       " 'stiff': 666,\n",
       " 'rear': 667,\n",
       " 'outswim': 668,\n",
       " 'downsize': 669,\n",
       " 'readopt': 670,\n",
       " 'supervise': 671,\n",
       " 'mulan': 672,\n",
       " 'surf': 673,\n",
       " 'trounce': 674,\n",
       " 'verge': 675,\n",
       " 'craze': 676,\n",
       " 'hotwire': 677,\n",
       " 'scrap': 678,\n",
       " 'roster': 679,\n",
       " 'major': 680,\n",
       " 'heckle': 681,\n",
       " 'pleasure': 682,\n",
       " 'philosophize': 683,\n",
       " 'neutralise': 684,\n",
       " 'elve': 685,\n",
       " 'bolster': 686,\n",
       " 'jaunt': 687,\n",
       " 'sterilise': 688,\n",
       " 'goof': 689,\n",
       " 'bobble': 690,\n",
       " 'reboard': 691,\n",
       " 'enthral': 692,\n",
       " 'shoulder': 693,\n",
       " 'surface': 694,\n",
       " 'handpick': 695,\n",
       " 'misfit': 696,\n",
       " 'grandpa': 697,\n",
       " 'scupper': 698,\n",
       " 'daffy': 699,\n",
       " 'cave': 700,\n",
       " 'overrun': 701,\n",
       " 'err': 702,\n",
       " 'reinvent': 703,\n",
       " 'listine': 704,\n",
       " 'reprise': 705,\n",
       " 'outdate': 706,\n",
       " 'repave': 707,\n",
       " 'kung': 708,\n",
       " 'outcast': 709,\n",
       " 'kiran': 710,\n",
       " 'immobilize': 711,\n",
       " 'workin': 712,\n",
       " 'behalve': 713,\n",
       " 'sub': 714,\n",
       " 'reignite': 715,\n",
       " 'reacquaint': 716,\n",
       " 'land': 717,\n",
       " 'unheed': 718,\n",
       " 'bust': 719,\n",
       " 'segue': 720,\n",
       " 'sandwich': 721,\n",
       " 'swoop': 722,\n",
       " 'vampirize': 723,\n",
       " '♥': 724,\n",
       " 'clinch': 725,\n",
       " 'overwork': 726,\n",
       " 'fan': 727,\n",
       " 'bankrupt': 728,\n",
       " 'jen': 729,\n",
       " 'bulge': 730,\n",
       " 'malfunction': 731,\n",
       " 'outrank': 732,\n",
       " 'ferret': 733,\n",
       " 'climax': 734,\n",
       " 'one': 735,\n",
       " 'pole': 736,\n",
       " 'misjudge': 737,\n",
       " 'peak': 738,\n",
       " 'orate': 739,\n",
       " 'emphasise': 740,\n",
       " 'assaut': 741,\n",
       " 'presuppose': 742,\n",
       " 'scandalise': 743,\n",
       " 'redefine': 744,\n",
       " 'sport': 745,\n",
       " 'guillotine': 746,\n",
       " 'fancies.name': 747,\n",
       " 'fantasise': 748,\n",
       " 'bath': 749,\n",
       " 'forewarn': 750,\n",
       " 'perjure': 751,\n",
       " 'handover': 752,\n",
       " 'handd': 753,\n",
       " 'retard': 754,\n",
       " 'ill': 755,\n",
       " 'disbar': 756,\n",
       " 'garrote': 757,\n",
       " 'carp': 758,\n",
       " 'cashier': 759,\n",
       " 'countermand': 760,\n",
       " 'arezou': 761,\n",
       " 'instil': 762,\n",
       " 'showcase': 763,\n",
       " 'gang': 764,\n",
       " 'out': 765,\n",
       " 'intern': 766,\n",
       " 'veto': 767,\n",
       " 'besiege': 768,\n",
       " 'forestall': 769,\n",
       " 'blacklist': 770,\n",
       " 'aske': 771,\n",
       " 'airlift': 772,\n",
       " 'falsify': 773,\n",
       " 'bemoan': 774,\n",
       " 'replant': 775,\n",
       " 'usurp': 776,\n",
       " 'sideline': 777,\n",
       " 'mould': 778,\n",
       " 'onward': 779,\n",
       " 'shapeshift': 780,\n",
       " 'overhaul': 781,\n",
       " 'remeet': 782,\n",
       " 'squirrel': 783,\n",
       " 'rail': 784,\n",
       " 'scourge': 785,\n",
       " 'harangue': 786,\n",
       " 'manhandle': 787,\n",
       " 'advice': 788,\n",
       " 'muscle': 789,\n",
       " 'fob': 790,\n",
       " 'plea': 791,\n",
       " 'squire': 792,\n",
       " 'concert': 793,\n",
       " 'farm': 794,\n",
       " 'mime': 795,\n",
       " 'idiolize': 796,\n",
       " 'critique': 797,\n",
       " 'correlate': 798,\n",
       " 'consign': 799,\n",
       " 'pozzi': 800,\n",
       " 'retry': 801,\n",
       " 'misfire': 802,\n",
       " 'reabilitate': 803,\n",
       " 'victimize': 804,\n",
       " 'maul': 805,\n",
       " 'xing': 806,\n",
       " 'warrant': 807,\n",
       " 'onboard': 808,\n",
       " 'roke': 809,\n",
       " 'overtire': 810,\n",
       " 'redeploy': 811,\n",
       " 'brazen': 812,\n",
       " 'convuls': 813,\n",
       " 'rescind': 814,\n",
       " 'scam': 815,\n",
       " 'lord': 816,\n",
       " 'hospitalise': 817,\n",
       " 'flaw': 818,\n",
       " 'dies.on': 819,\n",
       " 'lambast': 820,\n",
       " 'redirect': 821,\n",
       " 'misplace': 822,\n",
       " 'butle': 823,\n",
       " 'mis': 824,\n",
       " 'stakeout': 825,\n",
       " 'fuss': 826,\n",
       " 'vamp': 827,\n",
       " 'declaim': 828,\n",
       " 'enframe': 829,\n",
       " 'weird': 830,\n",
       " 'indoctrinate': 831,\n",
       " 'anaesthetize': 832,\n",
       " 'account': 833,\n",
       " 'immigrate': 834,\n",
       " 'refocus': 835,\n",
       " 'conference': 836,\n",
       " 'manoeuvre': 837,\n",
       " 'disinherit': 838,\n",
       " 'intigue': 839,\n",
       " 'anne': 840,\n",
       " 'vouch': 841,\n",
       " 'unwaver': 842,\n",
       " 'rat': 843,\n",
       " 'reprieve': 844,\n",
       " 'decease': 845,\n",
       " 'fidelity': 846,\n",
       " 'overreact': 847,\n",
       " 'conscript': 848,\n",
       " 'assent': 849,\n",
       " 'swamp': 850,\n",
       " 'vaccinate': 851,\n",
       " 'indispose': 852,\n",
       " 'despire': 853,\n",
       " 'govern': 854,\n",
       " 'moe': 855,\n",
       " 'countersue': 856,\n",
       " 'stike': 857,\n",
       " 'stipulate': 858,\n",
       " 'denegerate': 859,\n",
       " 'aggrandize': 860,\n",
       " 'lustrate': 861,\n",
       " 'red': 862,\n",
       " 'fraternize': 863,\n",
       " 'outdraw': 864,\n",
       " 'driss': 865,\n",
       " 'reenlist': 866,\n",
       " 'brigadier': 867,\n",
       " 'dial': 868,\n",
       " 'reenter': 869,\n",
       " 'pressurize': 870,\n",
       " 'legalize': 871,\n",
       " 'khaki': 872,\n",
       " 'rebuy': 873,\n",
       " 'zero': 874,\n",
       " 'pend': 875,\n",
       " 'slow': 876,\n",
       " 'condescend': 877,\n",
       " 'market': 878,\n",
       " 'google': 879,\n",
       " 'overpopulate': 880,\n",
       " 'misrepresent': 881,\n",
       " 'censor': 882,\n",
       " 'rebaptize': 883,\n",
       " 'overstay': 884,\n",
       " 'dispense': 885,\n",
       " 'repatriate': 886,\n",
       " 'sync': 887,\n",
       " 'horse': 888,\n",
       " 'foreshadow': 889,\n",
       " 'engineer': 890,\n",
       " 'postulate': 891,\n",
       " 'route': 892,\n",
       " 'rediscover': 893,\n",
       " 'retrofit': 894,\n",
       " 'sidetrack': 895,\n",
       " 'beset': 896,\n",
       " 'overfly': 897,\n",
       " 'bide': 898,\n",
       " 'cradle': 899,\n",
       " 'copulate': 900,\n",
       " 'undercut': 901,\n",
       " 'tonsureddure': 902,\n",
       " 'unfaze': 903,\n",
       " 'capitalise': 904,\n",
       " 'impure': 905,\n",
       " 'cyber': 906,\n",
       " 'favour': 907,\n",
       " 'bestow': 908,\n",
       " 'nag': 909,\n",
       " 'endear': 910,\n",
       " 'reference': 911,\n",
       " 'defile': 912,\n",
       " 'liaison': 913,\n",
       " 'und': 914,\n",
       " 'guinevere': 915,\n",
       " 'mumbai': 916,\n",
       " 'spoit': 917,\n",
       " 'ratna': 918,\n",
       " 'misuse': 919,\n",
       " 'discipline': 920,\n",
       " 'min': 921,\n",
       " 'decipher': 922,\n",
       " 'vid': 923,\n",
       " 'jeopardize': 924,\n",
       " 'inculcate': 925,\n",
       " 'telegram': 926,\n",
       " 'reexamine': 927,\n",
       " 'traumatise': 928,\n",
       " 'mooch': 929,\n",
       " 'headbutt': 930,\n",
       " 'foster': 931,\n",
       " 'single': 932,\n",
       " 'reaveal': 933,\n",
       " 'soliloquize': 934,\n",
       " 'redo': 935,\n",
       " '700m': 936,\n",
       " 'embrance': 937,\n",
       " 'worke': 938,\n",
       " 'download': 939,\n",
       " 'finalize': 940,\n",
       " 'emit': 941,\n",
       " 'returne': 942,\n",
       " 'distinguish': 943,\n",
       " 'toy': 944,\n",
       " 'rev': 945,\n",
       " 'strug': 946,\n",
       " 'kamikaze': 947,\n",
       " 'resucitate': 948,\n",
       " 'reincarnate': 949,\n",
       " 'rebut': 950,\n",
       " 'outclass': 951,\n",
       " 'backstab': 952,\n",
       " 'recriminate': 953,\n",
       " 'fund': 954,\n",
       " 'party': 955,\n",
       " 'reuinte': 956,\n",
       " 'rewire': 957,\n",
       " 'reemerge': 958,\n",
       " 'tantalise': 959,\n",
       " 'orbit': 960,\n",
       " 'displace': 961,\n",
       " 'unbeknownst': 962,\n",
       " 'coloring': 963,\n",
       " 'video': 964,\n",
       " 'set': 965,\n",
       " 'mimicsa': 966,\n",
       " 'bum': 967,\n",
       " 'san': 968,\n",
       " 'flay': 969,\n",
       " 'half': 970,\n",
       " 'vandalize': 971,\n",
       " 'mastermind': 972,\n",
       " 'reintroduce': 973,\n",
       " 'fin': 974,\n",
       " 'reset': 975}"
      ]
     },
     "execution_count": 16,
     "metadata": {},
     "output_type": "execute_result"
    }
   ],
   "source": [
    "t.word_index"
   ]
  },
  {
   "cell_type": "code",
   "execution_count": 17,
   "metadata": {},
   "outputs": [],
   "source": [
    "embedding_input_dim = max(t.word_index.values())+1"
   ]
  },
  {
   "cell_type": "code",
   "execution_count": 18,
   "metadata": {},
   "outputs": [
    {
     "data": {
      "text/plain": [
       "976"
      ]
     },
     "execution_count": 18,
     "metadata": {},
     "output_type": "execute_result"
    }
   ],
   "source": [
    "embedding_input_dim"
   ]
  },
  {
   "cell_type": "code",
   "execution_count": 19,
   "metadata": {},
   "outputs": [],
   "source": [
    "msk = np.random.rand(len(movies)) < 0.8\n",
    "train = []\n",
    "for e in movies[msk]['Events'].tolist():\n",
    "    train.append([item.split('-')[0] for item in eval(e)])\n",
    "test = []\n",
    "for e in movies[~msk]['Events'].tolist():\n",
    "    test.append([item.split('-')[0] for item in eval(e)])\n"
   ]
  },
  {
   "cell_type": "code",
   "execution_count": 20,
   "metadata": {},
   "outputs": [],
   "source": [
    "x_train = t.texts_to_sequences(train)\n",
    "x_train = pad_sequences(x_train, maxlen=50)\n",
    "# x_train = np.reshape(x_train, (x_train.shape[0], x_train.shape[1], 1))"
   ]
  },
  {
   "cell_type": "code",
   "execution_count": 22,
   "metadata": {},
   "outputs": [
    {
     "data": {
      "text/plain": [
       "(4307, 50)"
      ]
     },
     "execution_count": 22,
     "metadata": {},
     "output_type": "execute_result"
    }
   ],
   "source": [
    "x_train.shape"
   ]
  },
  {
   "cell_type": "code",
   "execution_count": 23,
   "metadata": {},
   "outputs": [],
   "source": [
    "events_trans = t.texts_to_sequences(events)\n",
    "events_trans = pad_sequences(events_trans, maxlen=50)\n",
    "# events_trans = np.reshape(events_trans, (events_trans.shape[0], events_trans.shape[1], 1))"
   ]
  },
  {
   "cell_type": "code",
   "execution_count": 24,
   "metadata": {},
   "outputs": [],
   "source": [
    "x_test = t.texts_to_sequences(test)\n",
    "x_test = pad_sequences(x_test, maxlen=20)\n",
    "# x_test = np.reshape(x_test, (x_test.shape[0], x_test.shape[1], 1))"
   ]
  },
  {
   "cell_type": "code",
   "execution_count": 25,
   "metadata": {},
   "outputs": [],
   "source": [
    "y_train = to_categorical(movies[msk]['Genre_code'].tolist())\n",
    "y_test = to_categorical(movies[~msk]['Genre_code'].tolist())"
   ]
  },
  {
   "cell_type": "markdown",
   "metadata": {},
   "source": [
    "### Simple LSTM "
   ]
  },
  {
   "cell_type": "code",
   "execution_count": 26,
   "metadata": {},
   "outputs": [
    {
     "name": "stdout",
     "output_type": "stream",
     "text": [
      "_________________________________________________________________\n",
      "Layer (type)                 Output Shape              Param #   \n",
      "=================================================================\n",
      "embedding_1 (Embedding)      (None, None, 20)          19520     \n",
      "_________________________________________________________________\n",
      "lstm_1 (LSTM)                (None, 20)                3280      \n",
      "_________________________________________________________________\n",
      "dense_1 (Dense)              (None, 5)                 105       \n",
      "=================================================================\n",
      "Total params: 22,905\n",
      "Trainable params: 22,905\n",
      "Non-trainable params: 0\n",
      "_________________________________________________________________\n",
      "None\n",
      "Epoch 1/3\n",
      "4307/4307 [==============================] - 3s 794us/step - loss: 1.3604 - acc: 0.4456\n",
      "Epoch 2/3\n",
      "4307/4307 [==============================] - 3s 678us/step - loss: 1.2851 - acc: 0.4500\n",
      "Epoch 3/3\n",
      "4307/4307 [==============================] - 3s 684us/step - loss: 1.2434 - acc: 0.4681\n"
     ]
    },
    {
     "data": {
      "text/plain": [
       "<keras.callbacks.History at 0x7f417ae51e80>"
      ]
     },
     "execution_count": 26,
     "metadata": {},
     "output_type": "execute_result"
    }
   ],
   "source": [
    "# create the model\n",
    "embedding_vector_length = 20\n",
    "model = Sequential()\n",
    "model.add(Embedding(embedding_input_dim, embedding_vector_length))\n",
    "model.add( LSTM(20))\n",
    "model.add(Dense(5, activation='softmax'))\n",
    "model.compile(loss='categorical_crossentropy', optimizer='adam', metrics=['accuracy'])\n",
    "print(model.summary())\n",
    "model.fit(x_train, y_train, epochs=3, batch_size=32)"
   ]
  },
  {
   "cell_type": "code",
   "execution_count": 27,
   "metadata": {},
   "outputs": [
    {
     "name": "stdout",
     "output_type": "stream",
     "text": [
      "1063/1063 [==============================] - 0s 138us/step\n",
      "Accuracy: 47.79%\n"
     ]
    }
   ],
   "source": [
    "# Final evaluation of the model\n",
    "scores = model.evaluate(x_test,\n",
    "                        y_test)\n",
    "print(\"Accuracy: %.2f%%\" % (scores[1]*100))"
   ]
  },
  {
   "cell_type": "markdown",
   "metadata": {},
   "source": [
    "### Obtain embeddings"
   ]
  },
  {
   "cell_type": "code",
   "execution_count": 28,
   "metadata": {},
   "outputs": [],
   "source": [
    "# #Get indimediate layer output using tensorflow backend\n",
    "# get_lstm_output = K.function([model.layers[0].input], [model.layers[1].output])\n",
    "# output = get_lstm_output([x_train])"
   ]
  },
  {
   "cell_type": "code",
   "execution_count": 29,
   "metadata": {},
   "outputs": [],
   "source": [
    "#Alternative way, same result\n",
    "intermediate_layer_model = Model(inputs=model.input,\n",
    "                                 outputs=model.get_layer('lstm_1').output)\n",
    "# intermediate_output = intermediate_layer_model.predict(x_train[0][0:])"
   ]
  },
  {
   "cell_type": "code",
   "execution_count": 30,
   "metadata": {},
   "outputs": [],
   "source": [
    "vecs = []\n",
    "for i in range(len(events)):\n",
    "    output = intermediate_layer_model.predict(events_trans[i])\n",
    "#     print(output.shape)\n",
    "#     print(output[0])\n",
    "#     break\n",
    "    vecs.append(output[-1])\n"
   ]
  },
  {
   "cell_type": "markdown",
   "metadata": {},
   "source": [
    "### Cluster embeddings"
   ]
  },
  {
   "cell_type": "code",
   "execution_count": 31,
   "metadata": {},
   "outputs": [],
   "source": [
    "from sklearn.manifold import TSNE\n",
    "import matplotlib.pyplot as plt\n",
    "%matplotlib inline\n",
    "from sklearn.cluster import KMeans\n",
    "from sklearn.decomposition import PCA\n"
   ]
  },
  {
   "cell_type": "code",
   "execution_count": 32,
   "metadata": {},
   "outputs": [
    {
     "data": {
      "text/plain": [
       "(5370, 2)"
      ]
     },
     "execution_count": 32,
     "metadata": {},
     "output_type": "execute_result"
    }
   ],
   "source": [
    "embedded = TSNE(n_components=2).fit_transform(vecs)\n",
    "embedded.shape"
   ]
  },
  {
   "cell_type": "code",
   "execution_count": 33,
   "metadata": {},
   "outputs": [
    {
     "data": {
      "text/plain": [
       "{0: 'Action', 1: 'Comedy', 2: 'Drama', 3: 'Romance Film', 4: 'Thriller'}"
      ]
     },
     "execution_count": 33,
     "metadata": {},
     "output_type": "execute_result"
    }
   ],
   "source": [
    "{0: 'Action', 1: 'Comedy', 2: 'Drama', 3: 'Romance Film', 4: 'Thriller'}"
   ]
  },
  {
   "cell_type": "code",
   "execution_count": 34,
   "metadata": {},
   "outputs": [
    {
     "data": {
      "text/plain": [
       "<matplotlib.collections.PathCollection at 0x7f4156493a20>"
      ]
     },
     "execution_count": 34,
     "metadata": {},
     "output_type": "execute_result"
    },
    {
     "data": {
      "image/png": "[encoded data removed]",
      "text/plain": [
       "<Figure size 720x504 with 1 Axes>"
      ]
     },
     "metadata": {
      "needs_background": "light"
     },
     "output_type": "display_data"
    }
   ],
   "source": [
    "plt.figure(figsize = (10,7))\n",
    "plt.scatter(embedded[action_s:action_e,0], embedded[action_s:action_e,1], s = 20,color='blue', label = 'Action', alpha = 0.5)\n",
    "# plt.scatter(embedded[comedy_s:comedy_e,0], embedded[comedy_s:comedy_e,1], s =20,color='yellow', label = 'Comedy', alpha = 0.5)\n",
    "# plt.scatter(embedded[drama_s:drama_e,0], embedded[drama_s:drama_e,1], s = 20,color='red', label = 'Drama', alpha = 0.5)\n",
    "# plt.scatter(embedded[romance_s:romance_e,0], embedded[romance_s:romance_e,1], s = 20,color='green', label = 'Romance', alpha = 0.5)\n",
    "# plt.scatter(embedded[thriller_s:thriller_e,0], embedded[thriller_s:thriller_e,1], s = 20,color='grey', label = 'Thriller', alpha = 0.5)\n",
    "# # plt.legend()"
   ]
  },
  {
   "cell_type": "code",
   "execution_count": 35,
   "metadata": {},
   "outputs": [],
   "source": [
    "pca = PCA(n_components=2)\n",
    "embedded = pca.fit_transform(vecs)"
   ]
  },
  {
   "cell_type": "code",
   "execution_count": 36,
   "metadata": {},
   "outputs": [
    {
     "data": {
      "text/plain": [
       "(5370, 2)"
      ]
     },
     "execution_count": 36,
     "metadata": {},
     "output_type": "execute_result"
    }
   ],
   "source": [
    "embedded.shape"
   ]
  },
  {
   "cell_type": "code",
   "execution_count": 37,
   "metadata": {},
   "outputs": [
    {
     "data": {
      "text/plain": [
       "<matplotlib.collections.PathCollection at 0x7f41564397b8>"
      ]
     },
     "execution_count": 37,
     "metadata": {},
     "output_type": "execute_result"
    },
    {
     "data": {
      "image/png": "[encoded data removed]",
      "text/plain": [
       "<Figure size 432x288 with 1 Axes>"
      ]
     },
     "metadata": {
      "needs_background": "light"
     },
     "output_type": "display_data"
    }
   ],
   "source": [
    "# plt.figure(figsize = (10,7))\n",
    "plt.scatter(embedded[action_s:action_e,0], embedded[action_s:action_e,1], s = 20,color='blue', label = 'Action', alpha = 0.5)"
   ]
  },
  {
   "cell_type": "code",
   "execution_count": 38,
   "metadata": {},
   "outputs": [
    {
     "data": {
      "text/plain": [
       "<matplotlib.collections.PathCollection at 0x7f415639fef0>"
      ]
     },
     "execution_count": 38,
     "metadata": {},
     "output_type": "execute_result"
    },
    {
     "data": {
      "image/png": "[encoded data removed]",
      "text/plain": [
       "<Figure size 432x288 with 1 Axes>"
      ]
     },
     "metadata": {
      "needs_background": "light"
     },
     "output_type": "display_data"
    }
   ],
   "source": [
    "plt.scatter(embedded[comedy_s:comedy_e,0], embedded[comedy_s:comedy_e,1], s =20,color='yellow', label = 'Comedy', alpha = 0.5)"
   ]
  },
  {
   "cell_type": "code",
   "execution_count": 39,
   "metadata": {},
   "outputs": [
    {
     "data": {
      "text/plain": [
       "<matplotlib.collections.PathCollection at 0x7f41563842b0>"
      ]
     },
     "execution_count": 39,
     "metadata": {},
     "output_type": "execute_result"
    },
    {
     "data": {
      "image/png": "[encoded data removed]",
      "text/plain": [
       "<Figure size 432x288 with 1 Axes>"
      ]
     },
     "metadata": {
      "needs_background": "light"
     },
     "output_type": "display_data"
    }
   ],
   "source": [
    "plt.scatter(embedded[drama_s:drama_e,0], embedded[drama_s:drama_e,1], s = 20,color='red', label = 'Drama', alpha = 0.5)"
   ]
  },
  {
   "cell_type": "code",
   "execution_count": 40,
   "metadata": {},
   "outputs": [
    {
     "data": {
      "text/plain": [
       "<matplotlib.collections.PathCollection at 0x7f41562d7dd8>"
      ]
     },
     "execution_count": 40,
     "metadata": {},
     "output_type": "execute_result"
    },
    {
     "data": {
      "image/png": "[encoded data removed]",
      "text/plain": [
       "<Figure size 432x288 with 1 Axes>"
      ]
     },
     "metadata": {
      "needs_background": "light"
     },
     "output_type": "display_data"
    }
   ],
   "source": [
    "plt.scatter(embedded[romance_s:romance_e,0], embedded[romance_s:romance_e,1], s = 20,color='green', label = 'Romance', alpha = 0.5)"
   ]
  },
  {
   "cell_type": "code",
   "execution_count": 41,
   "metadata": {},
   "outputs": [
    {
     "data": {
      "text/plain": [
       "<matplotlib.collections.PathCollection at 0x7f41562b8940>"
      ]
     },
     "execution_count": 41,
     "metadata": {},
     "output_type": "execute_result"
    },
    {
     "data": {
      "image/png": "[encoded data removed]",
      "text/plain": [
       "<Figure size 432x288 with 1 Axes>"
      ]
     },
     "metadata": {
      "needs_background": "light"
     },
     "output_type": "display_data"
    }
   ],
   "source": [
    "plt.scatter(embedded[thriller_s:thriller_e,0], embedded[thriller_s:thriller_e,1], s = 20,color='grey', label = 'Thriller', alpha = 0.5)\n",
    "# plt.legend()"
   ]
  },
  {
   "cell_type": "code",
   "execution_count": 42,
   "metadata": {},
   "outputs": [
    {
     "name": "stdout",
     "output_type": "stream",
     "text": [
      "[0.64486534 0.2828508 ]\n"
     ]
    }
   ],
   "source": [
    "print(pca.explained_variance_ratio_)  "
   ]
  },
  {
   "cell_type": "code",
   "execution_count": 43,
   "metadata": {},
   "outputs": [
    {
     "name": "stdout",
     "output_type": "stream",
     "text": [
      "[7.92524046 5.24875902]\n"
     ]
    }
   ],
   "source": [
    "print(pca.singular_values_)  "
   ]
  },
  {
   "cell_type": "markdown",
   "metadata": {},
   "source": [
    "### Baselines"
   ]
  },
  {
   "cell_type": "code",
   "execution_count": 46,
   "metadata": {},
   "outputs": [
    {
     "name": "stdout",
     "output_type": "stream",
     "text": [
      "_________________________________________________________________\n",
      "Layer (type)                 Output Shape              Param #   \n",
      "=================================================================\n",
      "embedding_4 (Embedding)      (None, 50, 20)            19520     \n",
      "_________________________________________________________________\n",
      "flatten_2 (Flatten)          (None, 1000)              0         \n",
      "_________________________________________________________________\n",
      "dense_3 (Dense)              (None, 5)                 5005      \n",
      "=================================================================\n",
      "Total params: 24,525\n",
      "Trainable params: 24,525\n",
      "Non-trainable params: 0\n",
      "_________________________________________________________________\n",
      "None\n",
      "Epoch 1/3\n",
      "4307/4307 [==============================] - 0s 81us/step - loss: 1.3394 - acc: 0.4451\n",
      "Epoch 2/3\n",
      "4307/4307 [==============================] - 0s 29us/step - loss: 1.2821 - acc: 0.4504\n",
      "Epoch 3/3\n",
      "4307/4307 [==============================] - 0s 28us/step - loss: 1.2385 - acc: 0.4639\n"
     ]
    },
    {
     "data": {
      "text/plain": [
       "<keras.callbacks.History at 0x7f415647aeb8>"
      ]
     },
     "execution_count": 46,
     "metadata": {},
     "output_type": "execute_result"
    }
   ],
   "source": [
    "# create the model\n",
    "embedding_vector_length = 20\n",
    "model = Sequential()\n",
    "model.add(Embedding(embedding_input_dim, embedding_vector_length,input_length=50))\n",
    "model.add(Flatten())\n",
    "model.add(Dense(5, activation='softmax'))\n",
    "model.compile(loss='categorical_crossentropy', optimizer='adam', metrics=['accuracy'])\n",
    "print(model.summary())\n",
    "model.fit(x_train, y_train, epochs=3, batch_size=32)"
   ]
  },
  {
   "cell_type": "code",
   "execution_count": 53,
   "metadata": {},
   "outputs": [
    {
     "name": "stdout",
     "output_type": "stream",
     "text": [
      "_________________________________________________________________\n",
      "Layer (type)                 Output Shape              Param #   \n",
      "=================================================================\n",
      "dense_13 (Dense)             (None, 100)               5100      \n",
      "_________________________________________________________________\n",
      "dense_14 (Dense)             (None, 5)                 505       \n",
      "=================================================================\n",
      "Total params: 5,605\n",
      "Trainable params: 5,605\n",
      "Non-trainable params: 0\n",
      "_________________________________________________________________\n",
      "None\n",
      "Epoch 1/3\n",
      "4307/4307 [==============================] - 0s 84us/step - loss: 8.3314 - acc: 0.3947\n",
      "Epoch 2/3\n",
      "4307/4307 [==============================] - 0s 23us/step - loss: 7.0740 - acc: 0.4068\n",
      "Epoch 3/3\n",
      "4307/4307 [==============================] - 0s 23us/step - loss: 6.4949 - acc: 0.4019\n"
     ]
    },
    {
     "data": {
      "text/plain": [
       "<keras.callbacks.History at 0x7f41545d36a0>"
      ]
     },
     "execution_count": 53,
     "metadata": {},
     "output_type": "execute_result"
    }
   ],
   "source": [
    "# create the model\n",
    "model = Sequential()\n",
    "model.add(Dense(100, input_dim = 50, activation='relu'))\n",
    "model.add(Dense(5, activation='softmax'))\n",
    "model.compile(loss='categorical_crossentropy', optimizer='adam', metrics=['accuracy'])\n",
    "print(model.summary())\n",
    "model.fit(x_train, y_train, epochs=3, batch_size=32)"
   ]
  },
  {
   "cell_type": "code",
   "execution_count": null,
   "metadata": {},
   "outputs": [],
   "source": []
  }
 ],
 "metadata": {
  "kernelspec": {
   "display_name": "Python 3",
   "language": "python",
   "name": "python3"
  },
  "language_info": {
   "codemirror_mode": {
    "name": "ipython",
    "version": 3
   },
   "file_extension": ".py",
   "mimetype": "text/x-python",
   "name": "python",
   "nbconvert_exporter": "python",
   "pygments_lexer": "ipython3",
   "version": "3.6.6"
  }
 },
 "nbformat": 4,
 "nbformat_minor": 2
}
