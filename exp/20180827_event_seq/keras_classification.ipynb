{
 "cells": [
  {
   "cell_type": "code",
   "execution_count": 1,
   "metadata": {},
   "outputs": [
    {
     "name": "stderr",
     "output_type": "stream",
     "text": [
      "Using TensorFlow backend.\n"
     ]
    }
   ],
   "source": [
    "import numpy as np\n",
    "from keras.models import Sequential\n",
    "from keras.layers import Dense, LSTM, Flatten, GRU\n",
    "from keras.layers.embeddings import Embedding\n",
    "from keras.preprocessing import sequence\n",
    "# fix random seed for reproducibility\n",
    "np.random.seed(7)\n",
    "from keras.preprocessing.text import Tokenizer\n",
    "from keras.preprocessing.sequence import pad_sequences\n",
    "import pandas as pd\n",
    "import os\n",
    "from keras.utils import to_categorical\n",
    "from collections import OrderedDict\n",
    "from keras import backend as K\n",
    "from keras.models import Model"
   ]
  },
  {
   "cell_type": "code",
   "execution_count": 2,
   "metadata": {},
   "outputs": [
    {
     "name": "stdout",
     "output_type": "stream",
     "text": [
      "3.6.6\n"
     ]
    }
   ],
   "source": [
    "from platform import python_version\n",
    "print(python_version())"
   ]
  },
  {
   "cell_type": "markdown",
   "metadata": {},
   "source": [
    "### Exp of classifing movie genres based on their events.\n"
   ]
  },
  {
   "cell_type": "code",
   "execution_count": 3,
   "metadata": {},
   "outputs": [],
   "source": [
    "movies = pd.read_csv('../../data/metadata_events_table.tsv', sep = '\\t')"
   ]
  },
  {
   "cell_type": "code",
   "execution_count": 4,
   "metadata": {},
   "outputs": [
    {
     "data": {
      "text/plain": [
       "2    2375\n",
       "1    1612\n",
       "4     667\n",
       "0     473\n",
       "3     140\n",
       "Name: Genre_code, dtype: int64"
      ]
     },
     "execution_count": 4,
     "metadata": {},
     "output_type": "execute_result"
    }
   ],
   "source": [
    "movies.Genre_code.value_counts()"
   ]
  },
  {
   "cell_type": "code",
   "execution_count": 5,
   "metadata": {},
   "outputs": [],
   "source": [
    "# df0 = movies[movies['Genre_code'] == 0].sample(500, replace = True)\n",
    "# df1 = movies[movies['Genre_code'] == 1].sample(500)\n",
    "# df2 = movies[movies['Genre_code'] == 2].sample(500)\n",
    "# df3 = movies[movies['Genre_code'] == 3].sample(500)\n",
    "# df4 = movies[movies['Genre_code'] == 4].sample(500)"
   ]
  },
  {
   "cell_type": "code",
   "execution_count": 6,
   "metadata": {},
   "outputs": [],
   "source": [
    "# movies = pd.concat([df0, df1, df2, df3, df4])"
   ]
  },
  {
   "cell_type": "code",
   "execution_count": 7,
   "metadata": {},
   "outputs": [
    {
     "data": {
      "text/plain": [
       "5267"
      ]
     },
     "execution_count": 7,
     "metadata": {},
     "output_type": "execute_result"
    }
   ],
   "source": [
    "len(movies)"
   ]
  },
  {
   "cell_type": "code",
   "execution_count": 8,
   "metadata": {},
   "outputs": [],
   "source": [
    "movies = movies.sort_values('Genre_code').reset_index()"
   ]
  },
  {
   "cell_type": "code",
   "execution_count": 9,
   "metadata": {},
   "outputs": [
    {
     "data": {
      "text/plain": [
       "{0: 'Action', 1: 'Comedy', 2: 'Drama', 3: 'Romance Film', 4: 'Thriller'}"
      ]
     },
     "execution_count": 9,
     "metadata": {},
     "output_type": "execute_result"
    }
   ],
   "source": [
    "{0: 'Action', 1: 'Comedy', 2: 'Drama', 3: 'Romance Film', 4: 'Thriller'}"
   ]
  },
  {
   "cell_type": "code",
   "execution_count": 10,
   "metadata": {},
   "outputs": [],
   "source": [
    "#starting and ending index for each group for plotting\n",
    "action_s = min(movies[movies['Genre_code'] == 0].index.tolist())\n",
    "action_e = max(movies[movies['Genre_code'] == 0].index.tolist())\n",
    "comedy_s = min(movies[movies['Genre_code'] == 1].index.tolist())\n",
    "comedy_e = max(movies[movies['Genre_code'] == 1].index.tolist())\n",
    "drama_s = min(movies[movies['Genre_code'] == 2].index.tolist())\n",
    "drama_e = max(movies[movies['Genre_code'] == 2].index.tolist())\n",
    "romance_s = min(movies[movies['Genre_code'] == 3].index.tolist())\n",
    "romance_e = max(movies[movies['Genre_code'] == 3].index.tolist())\n",
    "thriller_s = min(movies[movies['Genre_code'] == 4].index.tolist())\n",
    "thriller_e = max(movies[movies['Genre_code'] == 4].index.tolist())\n"
   ]
  },
  {
   "cell_type": "code",
   "execution_count": 24,
   "metadata": {},
   "outputs": [
    {
     "name": "stdout",
     "output_type": "stream",
     "text": [
      "56\n",
      "\n",
      "13\n",
      "\n",
      "7\n",
      "\n",
      "8\n",
      "\n",
      "31\n",
      "\n",
      "12\n",
      "\n",
      "24\n",
      "\n",
      "40\n",
      "\n",
      "18\n",
      "\n",
      "8\n",
      "\n",
      "10\n",
      "\n",
      "34\n",
      "\n",
      "22\n",
      "\n",
      "8\n",
      "\n",
      "18\n",
      "\n",
      "13\n",
      "\n",
      "35\n",
      "\n",
      "64\n",
      "\n",
      "23\n",
      "\n",
      "19\n",
      "\n"
     ]
    }
   ],
   "source": [
    "for item in movies[movies['Genre_code'] == 4].Events.head(20).tolist():\n",
    "    print(len(item.split()))\n",
    "    print()"
   ]
  },
  {
   "cell_type": "markdown",
   "metadata": {},
   "source": [
    "### Encode as one-hot vectors"
   ]
  },
  {
   "cell_type": "code",
   "execution_count": 12,
   "metadata": {},
   "outputs": [],
   "source": [
    "t = Tokenizer()"
   ]
  },
  {
   "cell_type": "code",
   "execution_count": 13,
   "metadata": {},
   "outputs": [],
   "source": [
    "events = []\n",
    "for e in movies.Events.tolist():\n",
    "    events.append([item.split('-')[0] for item in eval(e)])"
   ]
  },
  {
   "cell_type": "code",
   "execution_count": 14,
   "metadata": {},
   "outputs": [
    {
     "name": "stdout",
     "output_type": "stream",
     "text": [
      "5267\n"
     ]
    }
   ],
   "source": [
    "# Size of data\n",
    "print(len(events))"
   ]
  },
  {
   "cell_type": "code",
   "execution_count": 15,
   "metadata": {},
   "outputs": [],
   "source": [
    "t.fit_on_texts(events)"
   ]
  },
  {
   "cell_type": "code",
   "execution_count": 16,
   "metadata": {},
   "outputs": [
    {
     "data": {
      "text/plain": [
       "{'tells': 1,\n",
       " 'finds': 2,\n",
       " 'has': 3,\n",
       " 'goes': 4,\n",
       " 'tries': 5,\n",
       " 'takes': 6,\n",
       " 'decides': 7,\n",
       " 'meets': 8,\n",
       " 'becomes': 9,\n",
       " 'gets': 10,\n",
       " 'asks': 11,\n",
       " 'include': 12,\n",
       " 'sees': 13,\n",
       " 'go': 14,\n",
       " 'leaves': 15,\n",
       " 'find': 16,\n",
       " 'begins': 17,\n",
       " 'get': 18,\n",
       " 'comes': 19,\n",
       " 'have': 20,\n",
       " 'discovers': 21,\n",
       " 'take': 22,\n",
       " 'makes': 23,\n",
       " 'says': 24,\n",
       " 'realizes': 25,\n",
       " 'runs': 26,\n",
       " 'gives': 27,\n",
       " 'leave': 28,\n",
       " 'refuses': 29,\n",
       " 'learns': 30,\n",
       " 'arrives': 31,\n",
       " 'returns': 32,\n",
       " 'wants': 33,\n",
       " 'manages': 34,\n",
       " 'agrees': 35,\n",
       " 'starts': 36,\n",
       " 'attempts': 37,\n",
       " 'reveals': 38,\n",
       " 'see': 39,\n",
       " 'falls': 40,\n",
       " 'calls': 41,\n",
       " 'kills': 42,\n",
       " 'make': 43,\n",
       " 'become': 44,\n",
       " 'kill': 45,\n",
       " 'meet': 46,\n",
       " 'killed': 47,\n",
       " 'uses': 48,\n",
       " 'is': 49,\n",
       " 'come': 50,\n",
       " 'turns': 51,\n",
       " 'had': 52,\n",
       " 'shows': 53,\n",
       " 'confronts': 54,\n",
       " 'taken': 55,\n",
       " 'escapes': 56,\n",
       " 'walks': 57,\n",
       " 'do': 58,\n",
       " 'explains': 59,\n",
       " 'forced': 60,\n",
       " 'left': 61,\n",
       " 'continues': 62,\n",
       " 'hears': 63,\n",
       " 'told': 64,\n",
       " 'receives': 65,\n",
       " 'offers': 66,\n",
       " 'found': 67,\n",
       " 'help': 68,\n",
       " 'give': 69,\n",
       " 'return': 70,\n",
       " 'believes': 71,\n",
       " 'escape': 72,\n",
       " 'feels': 73,\n",
       " 'ends': 74,\n",
       " 'accepts': 75,\n",
       " 'does': 76,\n",
       " 'convinces': 77,\n",
       " 'tell': 78,\n",
       " 'looks': 79,\n",
       " 'sets': 80,\n",
       " 'know': 81,\n",
       " 'enters': 82,\n",
       " 'stay': 83,\n",
       " 'appears': 84,\n",
       " 'knows': 85,\n",
       " 'shoots': 86,\n",
       " 'thinks': 87,\n",
       " 'follows': 88,\n",
       " 'wakes': 89,\n",
       " 'arrested': 90,\n",
       " 'try': 91,\n",
       " 'lives': 92,\n",
       " 'sent': 93,\n",
       " 'sends': 94,\n",
       " 'loses': 95,\n",
       " 'marry': 96,\n",
       " 'works': 97,\n",
       " 'admits': 98,\n",
       " 'seen': 99,\n",
       " 'run': 100,\n",
       " 'stops': 101,\n",
       " 'throws': 102,\n",
       " 'decide': 103,\n",
       " 'given': 104,\n",
       " 'informs': 105,\n",
       " 'made': 106,\n",
       " 'brings': 107,\n",
       " 'stop': 108,\n",
       " 'helps': 109,\n",
       " 'want': 110,\n",
       " 'put': 111,\n",
       " 'married': 112,\n",
       " 'visits': 113,\n",
       " 'puts': 114,\n",
       " 'going': 115,\n",
       " 'arrive': 116,\n",
       " 'keep': 117,\n",
       " 'grabs': 118,\n",
       " 'dies': 119,\n",
       " 'use': 120,\n",
       " 'discover': 121,\n",
       " 'catches': 122,\n",
       " 'chases': 123,\n",
       " 'invites': 124,\n",
       " 'promises': 125,\n",
       " 'encounters': 126,\n",
       " 'reaches': 127,\n",
       " 'insists': 128,\n",
       " 'pulls': 129,\n",
       " 'live': 130,\n",
       " 'loves': 131,\n",
       " 'work': 132,\n",
       " 'needs': 133,\n",
       " 'confesses': 134,\n",
       " 'join': 135,\n",
       " 'set': 136,\n",
       " 'wins': 137,\n",
       " 'shown': 138,\n",
       " 'sneaks': 139,\n",
       " 'believe': 140,\n",
       " 'opens': 141,\n",
       " 'shot': 142,\n",
       " 'rushes': 143,\n",
       " 'saves': 144,\n",
       " 'joins': 145,\n",
       " 'watches': 146,\n",
       " 'died': 147,\n",
       " 'caught': 148,\n",
       " 'start': 149,\n",
       " 'claims': 150,\n",
       " 'suggests': 151,\n",
       " 'save': 152,\n",
       " 'leads': 153,\n",
       " 'play': 154,\n",
       " 'begin': 155,\n",
       " 'trying': 156,\n",
       " 'breaks': 157,\n",
       " 'met': 158,\n",
       " 'lost': 159,\n",
       " 'hides': 160,\n",
       " 'threatens': 161,\n",
       " 'continue': 162,\n",
       " 'visit': 163,\n",
       " 'look': 164,\n",
       " 'spends': 165,\n",
       " 'plays': 166,\n",
       " 'moves': 167,\n",
       " 'drives': 168,\n",
       " 'plans': 169,\n",
       " 'keeps': 170,\n",
       " 'seems': 171,\n",
       " 'steals': 172,\n",
       " 'replies': 173,\n",
       " 'captured': 174,\n",
       " 'got': 175,\n",
       " 'grows': 176,\n",
       " 'let': 177,\n",
       " 'flee': 178,\n",
       " 'shocked': 179,\n",
       " 'released': 180,\n",
       " 'learn': 181,\n",
       " 'picks': 182,\n",
       " 'lets': 183,\n",
       " 'appear': 184,\n",
       " 'hits': 185,\n",
       " 'having': 186,\n",
       " 'bring': 187,\n",
       " 'attacked': 188,\n",
       " 'brought': 189,\n",
       " 'buys': 190,\n",
       " 'realize': 191,\n",
       " 'asked': 192,\n",
       " 'remains': 193,\n",
       " 'fight': 194,\n",
       " 'working': 195,\n",
       " 'persuades': 196,\n",
       " 'demands': 197,\n",
       " 'flees': 198,\n",
       " 'jumps': 199,\n",
       " 'includes': 200,\n",
       " 'befriends': 201,\n",
       " 'travels': 202,\n",
       " 'remembers': 203,\n",
       " 'announces': 204,\n",
       " 'move': 205,\n",
       " 'drops': 206,\n",
       " 'approaches': 207,\n",
       " 'marries': 208,\n",
       " 'wanted': 209,\n",
       " 'lies': 210,\n",
       " 'introduces': 211,\n",
       " 'manage': 212,\n",
       " 'turn': 213,\n",
       " 'passes': 214,\n",
       " 'holds': 215,\n",
       " 'win': 216,\n",
       " 'realises': 217,\n",
       " 'convince': 218,\n",
       " 'confronted': 219,\n",
       " 'used': 220,\n",
       " 'seeks': 221,\n",
       " 'allows': 222,\n",
       " 'reads': 223,\n",
       " 'lose': 224,\n",
       " 'warns': 225,\n",
       " 'saved': 226,\n",
       " 'did': 227,\n",
       " 'heads': 228,\n",
       " 'begs': 229,\n",
       " 'watch': 230,\n",
       " 'beats': 231,\n",
       " 'knocks': 232,\n",
       " 'stabs': 233,\n",
       " 'wishes': 234,\n",
       " 'ask': 235,\n",
       " 'saw': 236,\n",
       " 'sits': 237,\n",
       " 'enter': 238,\n",
       " 'follow': 239,\n",
       " 'spots': 240,\n",
       " 'declares': 241,\n",
       " 'steal': 242,\n",
       " 'responds': 243,\n",
       " 'suspects': 244,\n",
       " 'break': 245,\n",
       " 'climbs': 246,\n",
       " 'attends': 247,\n",
       " 'gave': 248,\n",
       " 'proposes': 249,\n",
       " 'talk': 250,\n",
       " 'living': 251,\n",
       " 'gone': 252,\n",
       " 'awakens': 253,\n",
       " 'proceeds': 254,\n",
       " 'leaving': 255,\n",
       " 'accept': 256,\n",
       " 'overhears': 257,\n",
       " 'beaten': 258,\n",
       " 'points': 259,\n",
       " 'accuses': 260,\n",
       " 'writes': 261,\n",
       " 'called': 262,\n",
       " 'doing': 263,\n",
       " 'flies': 264,\n",
       " 'die': 265,\n",
       " 'done': 266,\n",
       " 'call': 267,\n",
       " 'stays': 268,\n",
       " 'determined': 269,\n",
       " 'denies': 270,\n",
       " 'waits': 271,\n",
       " 'fails': 272,\n",
       " 'shoot': 273,\n",
       " 'fall': 274,\n",
       " 'pay': 275,\n",
       " 'went': 276,\n",
       " 'hide': 277,\n",
       " 'states': 278,\n",
       " 'apologizes': 279,\n",
       " 'sentenced': 280,\n",
       " 'rejects': 281,\n",
       " 'rescues': 282,\n",
       " 'show': 283,\n",
       " 'recognizes': 284,\n",
       " 'end': 285,\n",
       " 'prepares': 286,\n",
       " 'suffers': 287,\n",
       " 'arranges': 288,\n",
       " 'discovered': 289,\n",
       " 'reach': 290,\n",
       " 'spend': 291,\n",
       " 'allowed': 292,\n",
       " 'sell': 293,\n",
       " 'involved': 294,\n",
       " 'buy': 295,\n",
       " 'share': 296,\n",
       " 'destroys': 297,\n",
       " 'taking': 298,\n",
       " 'struggles': 299,\n",
       " 'surprised': 300,\n",
       " 'became': 301,\n",
       " 'receive': 302,\n",
       " 'decided': 303,\n",
       " 'changes': 304,\n",
       " 'develops': 305,\n",
       " 'visited': 306,\n",
       " 'fires': 307,\n",
       " 'blames': 308,\n",
       " 'assigned': 309,\n",
       " 'stands': 310,\n",
       " 'drive': 311,\n",
       " 'returned': 312,\n",
       " 'sleep': 313,\n",
       " 'recovers': 314,\n",
       " 'declines': 315,\n",
       " 'making': 316,\n",
       " 'took': 317,\n",
       " 'catch': 318,\n",
       " 'hit': 319,\n",
       " 'succeeds': 320,\n",
       " 'reunited': 321,\n",
       " 'hires': 322,\n",
       " 'love': 323,\n",
       " 'looking': 324,\n",
       " 'say': 325,\n",
       " 'hear': 326,\n",
       " 'survives': 327,\n",
       " 'pushes': 328,\n",
       " 'reminds': 329,\n",
       " 'rescued': 330,\n",
       " 'attend': 331,\n",
       " 'getting': 332,\n",
       " 'presents': 333,\n",
       " 'moved': 334,\n",
       " 'think': 335,\n",
       " 'walk': 336,\n",
       " 'feel': 337,\n",
       " 'are': 338,\n",
       " 'pays': 339,\n",
       " 'pretends': 340,\n",
       " 'fired': 341,\n",
       " 'cuts': 342,\n",
       " 'murdered': 343,\n",
       " 'expresses': 344,\n",
       " 'convinced': 345,\n",
       " 'waiting': 346,\n",
       " 'like': 347,\n",
       " 'wait': 348,\n",
       " 'playing': 349,\n",
       " 'reveal': 350,\n",
       " 'gains': 351,\n",
       " 'attacks': 352,\n",
       " 'speaks': 353,\n",
       " 'talks': 354,\n",
       " 'change': 355,\n",
       " 'tracks': 356,\n",
       " 'emerges': 357,\n",
       " 'investigate': 358,\n",
       " 'vows': 359,\n",
       " 'explain': 360,\n",
       " 'places': 361,\n",
       " 'tried': 362,\n",
       " 'confront': 363,\n",
       " 'write': 364,\n",
       " 'send': 365,\n",
       " 'intends': 366,\n",
       " 'travel': 367,\n",
       " 'said': 368,\n",
       " 'perform': 369,\n",
       " 'collapses': 370,\n",
       " 'kidnapped': 371,\n",
       " 'faces': 372,\n",
       " 'talking': 373,\n",
       " 'forces': 374,\n",
       " 'destroy': 375,\n",
       " 'turned': 376,\n",
       " 'causes': 377,\n",
       " 'came': 378,\n",
       " 'stand': 379,\n",
       " 'encourages': 380,\n",
       " 'carries': 381,\n",
       " 'stopped': 382,\n",
       " 'likes': 383,\n",
       " 'hopes': 384,\n",
       " 'pull': 385,\n",
       " 'ignores': 386,\n",
       " 'hired': 387,\n",
       " 'face': 388,\n",
       " 'thrown': 389,\n",
       " 'enlists': 390,\n",
       " 'read': 391,\n",
       " 'frees': 392,\n",
       " 'was': 393,\n",
       " 'knew': 394,\n",
       " 'chased': 395,\n",
       " 'delivers': 396,\n",
       " 'mentions': 397,\n",
       " 'beat': 398,\n",
       " 'sings': 399,\n",
       " 'defeats': 400,\n",
       " 'prove': 401,\n",
       " 'approached': 402,\n",
       " 'ordered': 403,\n",
       " 'running': 404,\n",
       " 'speak': 405,\n",
       " 'informed': 406,\n",
       " 'recalls': 407,\n",
       " 'yells': 408,\n",
       " 'sing': 409,\n",
       " 'considers': 410,\n",
       " 'knocked': 411,\n",
       " 'heard': 412,\n",
       " 'thought': 413,\n",
       " 'sitting': 414,\n",
       " 'finishes': 415,\n",
       " 'experiences': 416,\n",
       " 'hates': 417,\n",
       " 'open': 418,\n",
       " 'challenges': 419,\n",
       " 'assures': 420,\n",
       " 'creates': 421,\n",
       " 'pursues': 422,\n",
       " 'chooses': 423,\n",
       " 'pick': 424,\n",
       " 'accepted': 425,\n",
       " 'assumes': 426,\n",
       " 'allow': 427,\n",
       " 'remain': 428,\n",
       " 'fallen': 429,\n",
       " 'revealed': 430,\n",
       " 'describes': 431,\n",
       " 'walking': 432,\n",
       " 'introduced': 433,\n",
       " 'seek': 434,\n",
       " 'agree': 435,\n",
       " 'commit': 436,\n",
       " 'invited': 437,\n",
       " 'attracted': 438,\n",
       " 'committed': 439,\n",
       " 'changed': 440,\n",
       " 'quits': 441,\n",
       " 'retrieve': 442,\n",
       " 'proves': 443,\n",
       " 'joined': 444,\n",
       " 'need': 445,\n",
       " 'misses': 446,\n",
       " 'urges': 447,\n",
       " 'performs': 448,\n",
       " 'fly': 449,\n",
       " 'abandons': 450,\n",
       " 'teaches': 451,\n",
       " 'placed': 452,\n",
       " 'understand': 453,\n",
       " 'discuss': 454,\n",
       " 'kicks': 455,\n",
       " 'avoid': 456,\n",
       " 'refused': 457,\n",
       " 'advises': 458,\n",
       " 'regains': 459,\n",
       " 'spent': 460,\n",
       " 'panics': 461,\n",
       " 'dismisses': 462,\n",
       " 'search': 463,\n",
       " 'enjoys': 464,\n",
       " 'hold': 465,\n",
       " 'persuade': 466,\n",
       " 'reunites': 467,\n",
       " 'sneak': 468,\n",
       " 'identify': 469,\n",
       " 'picked': 470,\n",
       " 'encounter': 471,\n",
       " 'received': 472,\n",
       " 'teach': 473,\n",
       " 'born': 474,\n",
       " 'prepare': 475,\n",
       " 'imprisoned': 476,\n",
       " 'eat': 477,\n",
       " 'orders': 478,\n",
       " 'pass': 479,\n",
       " 'awakes': 480,\n",
       " 'slips': 481,\n",
       " 'coming': 482,\n",
       " 'watching': 483,\n",
       " 'driving': 484,\n",
       " 'removes': 485,\n",
       " 'injured': 486,\n",
       " 'warn': 487,\n",
       " 'kept': 488,\n",
       " 'stumbles': 489,\n",
       " 'earns': 490,\n",
       " 'lying': 491,\n",
       " 'won': 492,\n",
       " 'promised': 493,\n",
       " 'helped': 494,\n",
       " 'reconcile': 495,\n",
       " 'escaped': 496,\n",
       " 'kidnaps': 497,\n",
       " 'recruits': 498,\n",
       " 'transforms': 499,\n",
       " 'finish': 500,\n",
       " 'intervenes': 501,\n",
       " 'driven': 502,\n",
       " 'reacts': 503,\n",
       " 'act': 504,\n",
       " 'followed': 505,\n",
       " 'started': 506,\n",
       " 'observes': 507,\n",
       " 'draws': 508,\n",
       " 'sells': 509,\n",
       " 'hiding': 510,\n",
       " 'sign': 511,\n",
       " 'stolen': 512,\n",
       " 'trapped': 513,\n",
       " 'attempt': 514,\n",
       " 'horrified': 515,\n",
       " 'be': 516,\n",
       " 'resolves': 517,\n",
       " 'telling': 518,\n",
       " 'missing': 519,\n",
       " 'grown': 520,\n",
       " 'locks': 521,\n",
       " 'treated': 522,\n",
       " 'departs': 523,\n",
       " 'sit': 524,\n",
       " 'offered': 525,\n",
       " 'deliver': 526,\n",
       " 'cries': 527,\n",
       " 'head': 528,\n",
       " 'learned': 529,\n",
       " 'smiles': 530,\n",
       " 'upset': 531,\n",
       " 'lead': 532,\n",
       " 'remove': 533,\n",
       " 'chase': 534,\n",
       " 'investigates': 535,\n",
       " 'overcome': 536,\n",
       " 'happens': 537,\n",
       " 'carry': 538,\n",
       " 'sold': 539,\n",
       " 'listens': 540,\n",
       " 'searches': 541,\n",
       " 'seem': 542,\n",
       " 'wounded': 543,\n",
       " 'pursue': 544,\n",
       " 'argue': 545,\n",
       " 'loved': 546,\n",
       " 'defeat': 547,\n",
       " 'seduce': 548,\n",
       " 'concludes': 549,\n",
       " 'distracted': 550,\n",
       " 'choose': 551,\n",
       " 'retrieves': 552,\n",
       " 'drags': 553,\n",
       " 'devastated': 554,\n",
       " 'engaged': 555,\n",
       " 'happened': 556,\n",
       " 'becoming': 557,\n",
       " 'care': 558,\n",
       " 'disappears': 559,\n",
       " 'seeing': 560,\n",
       " 'argues': 561,\n",
       " 'sleeps': 562,\n",
       " 'closes': 563,\n",
       " 'defends': 564,\n",
       " 'fights': 565,\n",
       " 'protect': 566,\n",
       " 'reports': 567,\n",
       " 'promoted': 568,\n",
       " 'attack': 569,\n",
       " 'recover': 570,\n",
       " 'wonders': 571,\n",
       " 'prevent': 572,\n",
       " 'hangs': 573,\n",
       " 'named': 574,\n",
       " 'shouts': 575,\n",
       " 'slaps': 576,\n",
       " 'throw': 577,\n",
       " 'steps': 578,\n",
       " 'identifies': 579,\n",
       " 'confides': 580,\n",
       " 'paid': 581,\n",
       " 'hurt': 582,\n",
       " 'locked': 583,\n",
       " 'participate': 584,\n",
       " 'track': 585,\n",
       " 'understands': 586,\n",
       " 'sleeping': 587,\n",
       " 'recognize': 588,\n",
       " 'admit': 589,\n",
       " 'strikes': 590,\n",
       " 'drop': 591,\n",
       " 'listen': 592,\n",
       " 'punches': 593,\n",
       " 'accused': 594,\n",
       " 'completes': 595,\n",
       " 'cut': 596,\n",
       " 'giving': 597,\n",
       " 'rescue': 598,\n",
       " 'killing': 599,\n",
       " 'broken': 600,\n",
       " 'saying': 601,\n",
       " 'forgives': 602,\n",
       " 'survive': 603,\n",
       " 'quit': 604,\n",
       " 'cares': 605,\n",
       " 'raped': 606,\n",
       " 'remember': 607,\n",
       " 'felt': 608,\n",
       " 'grow': 609,\n",
       " 'captures': 610,\n",
       " 'led': 611,\n",
       " 'raise': 612,\n",
       " 'force': 613,\n",
       " 'build': 614,\n",
       " 'failed': 615,\n",
       " 'snaps': 616,\n",
       " 'wearing': 617,\n",
       " 'visiting': 618,\n",
       " 'dressed': 619,\n",
       " 'known': 620,\n",
       " 'dying': 621,\n",
       " 'engages': 622,\n",
       " 'drink': 623,\n",
       " 'acts': 624,\n",
       " 'survived': 625,\n",
       " 'abandoned': 626,\n",
       " 'commits': 627,\n",
       " 'transferred': 628,\n",
       " 'faints': 629,\n",
       " 'plan': 630,\n",
       " 'inform': 631,\n",
       " 'managed': 632,\n",
       " 'imagines': 633,\n",
       " 'wears': 634,\n",
       " 'shares': 635,\n",
       " 'provide': 636,\n",
       " 'celebrate': 637,\n",
       " 'collect': 638,\n",
       " 'accompanies': 639,\n",
       " 'builds': 640,\n",
       " 'locates': 641,\n",
       " 'taunts': 642,\n",
       " 'supposed': 643,\n",
       " 'forget': 644,\n",
       " 're': 645,\n",
       " 'wear': 646,\n",
       " 'fears': 647,\n",
       " 'gain': 648,\n",
       " 'pulled': 649,\n",
       " 'lived': 650,\n",
       " 'wanders': 651,\n",
       " 'ties': 652,\n",
       " 'wrote': 653,\n",
       " 'fighting': 654,\n",
       " 'holding': 655,\n",
       " 'planned': 656,\n",
       " 'greeted': 657,\n",
       " 'defend': 658,\n",
       " 'separated': 659,\n",
       " 'check': 660,\n",
       " 'bought': 661,\n",
       " 'arrived': 662,\n",
       " 'jump': 663,\n",
       " 'slams': 664,\n",
       " 'poses': 665,\n",
       " 'stole': 666,\n",
       " 'eats': 667,\n",
       " 'tied': 668,\n",
       " 'releases': 669,\n",
       " 'suspect': 670,\n",
       " 'succumbs': 671,\n",
       " 'complete': 672,\n",
       " 'dreams': 673,\n",
       " 'fell': 674,\n",
       " 'notice': 675,\n",
       " 'worried': 676,\n",
       " 'leaps': 677,\n",
       " 'seduces': 678,\n",
       " 'enjoy': 679,\n",
       " 'played': 680,\n",
       " 'settle': 681,\n",
       " 'passed': 682,\n",
       " 'held': 683,\n",
       " 'discusses': 684,\n",
       " 'sticks': 685,\n",
       " 'crashes': 686,\n",
       " 'preparing': 687,\n",
       " 'grew': 688,\n",
       " 'confused': 689,\n",
       " 'carrying': 690,\n",
       " 'searching': 691,\n",
       " 'betrayed': 692,\n",
       " 'rises': 693,\n",
       " 'disappointed': 694,\n",
       " 'proceed': 695,\n",
       " 'deal': 696,\n",
       " 'applies': 697,\n",
       " 'dives': 698,\n",
       " 'raises': 699,\n",
       " 'embraces': 700,\n",
       " 'developed': 701,\n",
       " 'provides': 702,\n",
       " 'succeed': 703,\n",
       " 'taught': 704,\n",
       " 'crosses': 705,\n",
       " 'abandon': 706,\n",
       " 'cornered': 707,\n",
       " 'lures': 708,\n",
       " 'pursued': 709,\n",
       " 'reconciles': 710,\n",
       " 'following': 711,\n",
       " 'laughs': 712,\n",
       " 'crash': 713,\n",
       " 'charged': 714,\n",
       " 'returning': 715,\n",
       " 'accompanied': 716,\n",
       " 'executed': 717,\n",
       " 'refuse': 718,\n",
       " 'answers': 719,\n",
       " 'notes': 720,\n",
       " 'resists': 721,\n",
       " 'using': 722,\n",
       " 'planning': 723,\n",
       " 'contact': 724,\n",
       " 'shoves': 725,\n",
       " 'grab': 726,\n",
       " 'attempting': 727,\n",
       " 'interrupted': 728,\n",
       " 'deduces': 729,\n",
       " 'digs': 730,\n",
       " 'resigns': 731,\n",
       " 'instructs': 732,\n",
       " 'haunted': 733,\n",
       " 'pushed': 734,\n",
       " 'drinks': 735,\n",
       " 'falling': 736,\n",
       " 'offer': 737,\n",
       " 'confess': 738,\n",
       " 'capture': 739,\n",
       " 'mocks': 740,\n",
       " 'confirms': 741,\n",
       " 'relents': 742,\n",
       " 'worked': 743,\n",
       " 'struck': 744,\n",
       " 'stuck': 745,\n",
       " 'collects': 746,\n",
       " 'adopt': 747,\n",
       " 'swears': 748,\n",
       " 'burns': 749,\n",
       " 'engage': 750,\n",
       " 'carried': 751,\n",
       " 'destroyed': 752,\n",
       " 'gotten': 753,\n",
       " 'cleans': 754,\n",
       " 'contacted': 755,\n",
       " 'realized': 756,\n",
       " 'transported': 757,\n",
       " 'realise': 758,\n",
       " 'figures': 759,\n",
       " 'threatened': 760,\n",
       " 'overpowers': 761,\n",
       " 'staying': 762,\n",
       " 'finding': 763,\n",
       " 'form': 764,\n",
       " 'riding': 765,\n",
       " 'buries': 766,\n",
       " 'pleads': 767,\n",
       " 'forbids': 768,\n",
       " 'climb': 769,\n",
       " 'prays': 770,\n",
       " 'interrupts': 771,\n",
       " 'screams': 772,\n",
       " 'backs': 773,\n",
       " 'split': 774,\n",
       " 'narrates': 775,\n",
       " 'relates': 776,\n",
       " 'embrace': 777,\n",
       " 'expects': 778,\n",
       " 'pretend': 779,\n",
       " 'arrest': 780,\n",
       " 'agreed': 781,\n",
       " 'stabbed': 782,\n",
       " 'spotted': 783,\n",
       " 'chosen': 784,\n",
       " 'serve': 785,\n",
       " 'lied': 786,\n",
       " 'moving': 787,\n",
       " 'demonstrates': 788,\n",
       " 'answer': 789,\n",
       " 'disappeared': 790,\n",
       " 'broke': 791,\n",
       " 'switches': 792,\n",
       " 'awakened': 793,\n",
       " 'impresses': 794,\n",
       " 'complains': 795,\n",
       " 'reunite': 796,\n",
       " 'packs': 797,\n",
       " 'turning': 798,\n",
       " 'blackmails': 799,\n",
       " 'gather': 800,\n",
       " 'exposed': 801,\n",
       " 'tricked': 802,\n",
       " 'impressed': 803,\n",
       " 'humiliated': 804,\n",
       " 'tosses': 805,\n",
       " 'prevents': 806,\n",
       " 'persuaded': 807,\n",
       " 'bites': 808,\n",
       " 'avoids': 809,\n",
       " 'believed': 810,\n",
       " 'kidnap': 811,\n",
       " 'accompany': 812,\n",
       " 'develop': 813,\n",
       " 'raised': 814,\n",
       " 'mistaken': 815,\n",
       " 'kicked': 816,\n",
       " 'apologize': 817,\n",
       " 'burn': 818,\n",
       " 'created': 819,\n",
       " 'dance': 820,\n",
       " 'warned': 821,\n",
       " 'struggling': 822,\n",
       " 'adds': 823,\n",
       " 'prefers': 824,\n",
       " 'suffered': 825,\n",
       " 'experience': 826,\n",
       " 'release': 827,\n",
       " 'admitted': 828,\n",
       " 'regain': 829,\n",
       " 'defeated': 830,\n",
       " 'report': 831,\n",
       " 'questioned': 832,\n",
       " 'create': 833,\n",
       " 'witnessed': 834,\n",
       " 'dons': 835,\n",
       " 'flying': 836,\n",
       " 'place': 837,\n",
       " 'hands': 838,\n",
       " 'swims': 839,\n",
       " 'fix': 840,\n",
       " 'buried': 841,\n",
       " 'ride': 842,\n",
       " 'disturbed': 843,\n",
       " 'treats': 844,\n",
       " 'losing': 845,\n",
       " 'interviewed': 846,\n",
       " 'lays': 847,\n",
       " 'fought': 848,\n",
       " 'exposes': 849,\n",
       " 'comprises': 850,\n",
       " 'keeping': 851,\n",
       " 'thinking': 852,\n",
       " 'befriended': 853,\n",
       " 'trust': 854,\n",
       " 'summoned': 855,\n",
       " 'forgets': 856,\n",
       " 'serves': 857,\n",
       " 'missed': 858,\n",
       " 'smashes': 859,\n",
       " 'contemplates': 860,\n",
       " 'rents': 861,\n",
       " 'overwhelmed': 862,\n",
       " 'terrified': 863,\n",
       " 'forgive': 864,\n",
       " 'recounts': 865,\n",
       " 'activates': 866,\n",
       " 'depart': 867,\n",
       " 'maintains': 868,\n",
       " 'consults': 869,\n",
       " 'locate': 870,\n",
       " 'control': 871,\n",
       " 'owes': 872,\n",
       " 'study': 873,\n",
       " 'produce': 874,\n",
       " 'replace': 875,\n",
       " 'hesitates': 876,\n",
       " 'suffering': 877,\n",
       " 'calling': 878,\n",
       " 'launches': 879,\n",
       " 'cured': 880,\n",
       " 'acquires': 881,\n",
       " 'recognized': 882,\n",
       " 'sinks': 883,\n",
       " 'obtains': 884,\n",
       " 'question': 885,\n",
       " 'standing': 886,\n",
       " 'calms': 887,\n",
       " 'surrender': 888,\n",
       " 'insults': 889,\n",
       " 'obtain': 890,\n",
       " 'finished': 891,\n",
       " 'expelled': 892,\n",
       " 'reassures': 893,\n",
       " 'adopts': 894,\n",
       " 'gathers': 895,\n",
       " 'produces': 896,\n",
       " 'written': 897,\n",
       " 'miss': 898,\n",
       " 'hidden': 899,\n",
       " 'thrilled': 900,\n",
       " 'pokes': 901,\n",
       " 'welcomes': 902,\n",
       " 'rapes': 903,\n",
       " 'resents': 904,\n",
       " 'built': 905,\n",
       " 'relieved': 906,\n",
       " 'startled': 907,\n",
       " 'owns': 908,\n",
       " 'stymie': 909,\n",
       " 'surrenders': 910,\n",
       " 'ambushed': 911,\n",
       " 'intervene': 912,\n",
       " 'hire': 913,\n",
       " 'cause': 914,\n",
       " 'lifts': 915,\n",
       " 'consider': 916,\n",
       " 'cover': 917,\n",
       " 'knock': 918,\n",
       " 'crying': 919,\n",
       " 'asking': 920,\n",
       " 'dragged': 921,\n",
       " 'blow': 922,\n",
       " 'claim': 923,\n",
       " 'crushed': 924,\n",
       " 'shakes': 925,\n",
       " 'began': 926,\n",
       " 'overcomes': 927,\n",
       " 'seizes': 928,\n",
       " 'devises': 929,\n",
       " 'helping': 930,\n",
       " 'laments': 931,\n",
       " 'welcomed': 932,\n",
       " 'attended': 933,\n",
       " 'cross': 934,\n",
       " 'hanged': 935,\n",
       " 'ruined': 936,\n",
       " 'faced': 937,\n",
       " 'replaced': 938,\n",
       " 'acknowledges': 939,\n",
       " 'reading': 940,\n",
       " 'bear': 941,\n",
       " 'push': 942,\n",
       " 'performing': 943,\n",
       " 'looked': 944,\n",
       " 'aims': 945,\n",
       " 'writing': 946,\n",
       " 'presented': 947,\n",
       " 'free': 948,\n",
       " 'stranded': 949,\n",
       " 'resumes': 950,\n",
       " 'robbed': 951,\n",
       " 'support': 952,\n",
       " 'reflects': 953,\n",
       " 'trick': 954,\n",
       " 'faked': 955,\n",
       " 'awaits': 956,\n",
       " 'causing': 957,\n",
       " 'adopted': 958,\n",
       " 'opposes': 959,\n",
       " 'scared': 960,\n",
       " 'belongs': 961,\n",
       " 'selects': 962,\n",
       " 'distracts': 963,\n",
       " 'breaking': 964,\n",
       " 'signed': 965,\n",
       " 'convicted': 966,\n",
       " 'meant': 967,\n",
       " 'granted': 968,\n",
       " 'caused': 969,\n",
       " 'fire': 970,\n",
       " 'bullied': 971,\n",
       " 'noticed': 972,\n",
       " 'removed': 973,\n",
       " 'shuts': 974,\n",
       " 'obsessed': 975,\n",
       " 'excited': 976,\n",
       " 'scolds': 977,\n",
       " 'suspended': 978,\n",
       " 'hurries': 979,\n",
       " 'acting': 980,\n",
       " 'drowned': 981,\n",
       " 'wake': 982,\n",
       " 'slept': 983,\n",
       " 'step': 984,\n",
       " 'disgusted': 985,\n",
       " 'explores': 986,\n",
       " 'knowing': 987,\n",
       " 'ran': 988,\n",
       " 'recruited': 989,\n",
       " 'recovered': 990,\n",
       " 'disable': 991,\n",
       " 'retire': 992,\n",
       " 'treat': 993,\n",
       " 'inspired': 994,\n",
       " 'drawn': 995,\n",
       " 'infiltrate': 996,\n",
       " 'starting': 997,\n",
       " 'regrets': 998,\n",
       " 'assembles': 999,\n",
       " 'resume': 1000,\n",
       " ...}"
      ]
     },
     "execution_count": 16,
     "metadata": {},
     "output_type": "execute_result"
    }
   ],
   "source": [
    "t.word_index"
   ]
  },
  {
   "cell_type": "code",
   "execution_count": 17,
   "metadata": {},
   "outputs": [],
   "source": [
    "embedding_input_dim = max(t.word_index.values())+1"
   ]
  },
  {
   "cell_type": "code",
   "execution_count": 18,
   "metadata": {},
   "outputs": [
    {
     "data": {
      "text/plain": [
       "5857"
      ]
     },
     "execution_count": 18,
     "metadata": {},
     "output_type": "execute_result"
    }
   ],
   "source": [
    "embedding_input_dim"
   ]
  },
  {
   "cell_type": "code",
   "execution_count": 19,
   "metadata": {},
   "outputs": [],
   "source": [
    "msk = np.random.rand(len(movies)) < 0.8\n",
    "train = []\n",
    "for e in movies[msk]['Events'].tolist():\n",
    "    train.append([item.split('-')[0] for item in eval(e)])\n",
    "test = []\n",
    "for e in movies[~msk]['Events'].tolist():\n",
    "    test.append([item.split('-')[0] for item in eval(e)])\n"
   ]
  },
  {
   "cell_type": "code",
   "execution_count": 25,
   "metadata": {},
   "outputs": [],
   "source": [
    "x_train = t.texts_to_sequences(train)\n",
    "x_train = pad_sequences(x_train, maxlen=70)\n",
    "# x_train = np.reshape(x_train, (x_train.shape[0], x_train.shape[1], 1))"
   ]
  },
  {
   "cell_type": "code",
   "execution_count": 26,
   "metadata": {},
   "outputs": [
    {
     "data": {
      "text/plain": [
       "(4221, 70)"
      ]
     },
     "execution_count": 26,
     "metadata": {},
     "output_type": "execute_result"
    }
   ],
   "source": [
    "x_train.shape"
   ]
  },
  {
   "cell_type": "code",
   "execution_count": 27,
   "metadata": {},
   "outputs": [],
   "source": [
    "events_trans = t.texts_to_sequences(events)\n",
    "events_trans = pad_sequences(events_trans, maxlen=70)\n",
    "# events_trans = np.reshape(events_trans, (events_trans.shape[0], events_trans.shape[1], 1))"
   ]
  },
  {
   "cell_type": "code",
   "execution_count": 29,
   "metadata": {},
   "outputs": [],
   "source": [
    "x_test = t.texts_to_sequences(test)\n",
    "x_test = pad_sequences(x_test, maxlen=70)\n",
    "# x_test = np.reshape(x_test, (x_test.shape[0], x_test.shape[1], 1))"
   ]
  },
  {
   "cell_type": "code",
   "execution_count": 30,
   "metadata": {},
   "outputs": [],
   "source": [
    "y_train = to_categorical(movies[msk]['Genre_code'].tolist())\n",
    "y_test = to_categorical(movies[~msk]['Genre_code'].tolist())"
   ]
  },
  {
   "cell_type": "markdown",
   "metadata": {},
   "source": [
    "### Simple LSTM "
   ]
  },
  {
   "cell_type": "code",
   "execution_count": 31,
   "metadata": {},
   "outputs": [
    {
     "name": "stdout",
     "output_type": "stream",
     "text": [
      "_________________________________________________________________\n",
      "Layer (type)                 Output Shape              Param #   \n",
      "=================================================================\n",
      "embedding_1 (Embedding)      (None, None, 20)          117140    \n",
      "_________________________________________________________________\n",
      "lstm_1 (LSTM)                (None, 20)                3280      \n",
      "_________________________________________________________________\n",
      "dense_1 (Dense)              (None, 5)                 105       \n",
      "=================================================================\n",
      "Total params: 120,525\n",
      "Trainable params: 120,525\n",
      "Non-trainable params: 0\n",
      "_________________________________________________________________\n",
      "None\n",
      "Epoch 1/3\n",
      "4221/4221 [==============================] - 5s 1ms/step - loss: 1.3899 - acc: 0.4454\n",
      "Epoch 2/3\n",
      "4221/4221 [==============================] - 4s 953us/step - loss: 1.2409 - acc: 0.4733\n",
      "Epoch 3/3\n",
      "4221/4221 [==============================] - 4s 963us/step - loss: 1.0771 - acc: 0.5759\n"
     ]
    },
    {
     "data": {
      "text/plain": [
       "<keras.callbacks.History at 0x7f4dea364ef0>"
      ]
     },
     "execution_count": 31,
     "metadata": {},
     "output_type": "execute_result"
    }
   ],
   "source": [
    "# create the model\n",
    "embedding_vector_length = 20\n",
    "model = Sequential()\n",
    "model.add(Embedding(embedding_input_dim, embedding_vector_length))\n",
    "model.add( LSTM(20))\n",
    "model.add(Dense(5, activation='softmax'))\n",
    "model.compile(loss='categorical_crossentropy', optimizer='adam', metrics=['accuracy'])\n",
    "print(model.summary())\n",
    "model.fit(x_train, y_train, epochs=3, batch_size=32)"
   ]
  },
  {
   "cell_type": "code",
   "execution_count": 32,
   "metadata": {},
   "outputs": [
    {
     "name": "stdout",
     "output_type": "stream",
     "text": [
      "1046/1046 [==============================] - 0s 264us/step\n",
      "Accuracy: 50.86%\n"
     ]
    }
   ],
   "source": [
    "# Final evaluation of the model\n",
    "scores = model.evaluate(x_test,\n",
    "                        y_test)\n",
    "print(\"Accuracy: %.2f%%\" % (scores[1]*100))"
   ]
  },
  {
   "cell_type": "markdown",
   "metadata": {},
   "source": [
    "### Obtain embeddings"
   ]
  },
  {
   "cell_type": "code",
   "execution_count": 33,
   "metadata": {},
   "outputs": [],
   "source": [
    "# #Get indimediate layer output using tensorflow backend\n",
    "# get_lstm_output = K.function([model.layers[0].input], [model.layers[1].output])\n",
    "# output = get_lstm_output([x_train])"
   ]
  },
  {
   "cell_type": "code",
   "execution_count": 34,
   "metadata": {},
   "outputs": [],
   "source": [
    "#Alternative way, same result\n",
    "intermediate_layer_model = Model(inputs=model.input,\n",
    "                                 outputs=model.get_layer('lstm_1').output)\n",
    "# intermediate_output = intermediate_layer_model.predict(x_train[0][0:])"
   ]
  },
  {
   "cell_type": "code",
   "execution_count": 35,
   "metadata": {},
   "outputs": [],
   "source": [
    "vecs = []\n",
    "for i in range(len(events)):\n",
    "    output = intermediate_layer_model.predict(events_trans[i])\n",
    "#     print(output.shape)\n",
    "#     print(output[0])\n",
    "#     break\n",
    "    vecs.append(output[-1])\n"
   ]
  },
  {
   "cell_type": "markdown",
   "metadata": {},
   "source": [
    "### Cluster embeddings"
   ]
  },
  {
   "cell_type": "code",
   "execution_count": 36,
   "metadata": {},
   "outputs": [],
   "source": [
    "from sklearn.manifold import TSNE\n",
    "import matplotlib.pyplot as plt\n",
    "%matplotlib inline\n",
    "from sklearn.cluster import KMeans\n",
    "from sklearn.decomposition import PCA\n"
   ]
  },
  {
   "cell_type": "code",
   "execution_count": 37,
   "metadata": {},
   "outputs": [
    {
     "data": {
      "text/plain": [
       "(5267, 2)"
      ]
     },
     "execution_count": 37,
     "metadata": {},
     "output_type": "execute_result"
    }
   ],
   "source": [
    "embedded = TSNE(n_components=2).fit_transform(vecs)\n",
    "embedded.shape"
   ]
  },
  {
   "cell_type": "code",
   "execution_count": 38,
   "metadata": {},
   "outputs": [
    {
     "data": {
      "text/plain": [
       "{0: 'Action', 1: 'Comedy', 2: 'Drama', 3: 'Romance Film', 4: 'Thriller'}"
      ]
     },
     "execution_count": 38,
     "metadata": {},
     "output_type": "execute_result"
    }
   ],
   "source": [
    "{0: 'Action', 1: 'Comedy', 2: 'Drama', 3: 'Romance Film', 4: 'Thriller'}"
   ]
  },
  {
   "cell_type": "code",
   "execution_count": 47,
   "metadata": {},
   "outputs": [
    {
     "data": {
      "text/plain": [
       "<matplotlib.collections.PathCollection at 0x7f4dd0290b38>"
      ]
     },
     "execution_count": 47,
     "metadata": {},
     "output_type": "execute_result"
    },
    {
     "data": {
      "image/png": "[encoded data removed]",
      "text/plain": [
       "<Figure size 720x504 with 1 Axes>"
      ]
     },
     "metadata": {
      "needs_background": "light"
     },
     "output_type": "display_data"
    }
   ],
   "source": [
    "plt.figure(figsize = (10,7))\n",
    "# plt.scatter(embedded[action_s:action_e,0], embedded[action_s:action_e,1], s = 20,color='blue', label = 'Action', alpha = 0.5)\n",
    "# plt.scatter(embedded[comedy_s:comedy_e,0], embedded[comedy_s:comedy_e,1], s =20,color='yellow', label = 'Comedy', alpha = 0.5)\n",
    "# plt.scatter(embedded[drama_s:drama_e,0], embedded[drama_s:drama_e,1], s = 20,color='red', label = 'Drama', alpha = 0.5)\n",
    "# plt.scatter(embedded[romance_s:romance_e,0], embedded[romance_s:romance_e,1], s = 20,color='green', label = 'Romance', alpha = 0.5)\n",
    "plt.scatter(embedded[thriller_s:thriller_e,0], embedded[thriller_s:thriller_e,1], s = 20,color='grey', label = 'Thriller', alpha = 0.5)\n",
    "# plt.legend()"
   ]
  },
  {
   "cell_type": "code",
   "execution_count": 48,
   "metadata": {},
   "outputs": [],
   "source": [
    "pca = PCA(n_components=2)\n",
    "embedded = pca.fit_transform(vecs)"
   ]
  },
  {
   "cell_type": "code",
   "execution_count": 49,
   "metadata": {},
   "outputs": [
    {
     "data": {
      "text/plain": [
       "(5267, 2)"
      ]
     },
     "execution_count": 49,
     "metadata": {},
     "output_type": "execute_result"
    }
   ],
   "source": [
    "embedded.shape"
   ]
  },
  {
   "cell_type": "code",
   "execution_count": 50,
   "metadata": {},
   "outputs": [
    {
     "data": {
      "text/plain": [
       "<matplotlib.collections.PathCollection at 0x7f4dd01f89e8>"
      ]
     },
     "execution_count": 50,
     "metadata": {},
     "output_type": "execute_result"
    },
    {
     "data": {
      "image/png": "[encoded data removed]",
      "text/plain": [
       "<Figure size 432x288 with 1 Axes>"
      ]
     },
     "metadata": {
      "needs_background": "light"
     },
     "output_type": "display_data"
    }
   ],
   "source": [
    "# plt.figure(figsize = (10,7))\n",
    "plt.scatter(embedded[action_s:action_e,0], embedded[action_s:action_e,1], s = 20,color='blue', label = 'Action', alpha = 0.5)"
   ]
  },
  {
   "cell_type": "code",
   "execution_count": 51,
   "metadata": {},
   "outputs": [
    {
     "data": {
      "text/plain": [
       "<matplotlib.collections.PathCollection at 0x7f4dd01d6a58>"
      ]
     },
     "execution_count": 51,
     "metadata": {},
     "output_type": "execute_result"
    },
    {
     "data": {
      "image/png": "[encoded data removed]",
      "text/plain": [
       "<Figure size 432x288 with 1 Axes>"
      ]
     },
     "metadata": {
      "needs_background": "light"
     },
     "output_type": "display_data"
    }
   ],
   "source": [
    "plt.scatter(embedded[comedy_s:comedy_e,0], embedded[comedy_s:comedy_e,1], s =20,color='yellow', label = 'Comedy', alpha = 0.5)"
   ]
  },
  {
   "cell_type": "code",
   "execution_count": 52,
   "metadata": {},
   "outputs": [
    {
     "data": {
      "text/plain": [
       "<matplotlib.collections.PathCollection at 0x7f4dd012acc0>"
      ]
     },
     "execution_count": 52,
     "metadata": {},
     "output_type": "execute_result"
    },
    {
     "data": {
      "image/png": "[encoded data removed]",
      "text/plain": [
       "<Figure size 432x288 with 1 Axes>"
      ]
     },
     "metadata": {
      "needs_background": "light"
     },
     "output_type": "display_data"
    }
   ],
   "source": [
    "plt.scatter(embedded[drama_s:drama_e,0], embedded[drama_s:drama_e,1], s = 20,color='red', label = 'Drama', alpha = 0.5)"
   ]
  },
  {
   "cell_type": "code",
   "execution_count": 53,
   "metadata": {},
   "outputs": [
    {
     "data": {
      "text/plain": [
       "<matplotlib.collections.PathCollection at 0x7f4dd00fef28>"
      ]
     },
     "execution_count": 53,
     "metadata": {},
     "output_type": "execute_result"
    },
    {
     "data": {
      "image/png": "[encoded data removed]",
      "text/plain": [
       "<Figure size 432x288 with 1 Axes>"
      ]
     },
     "metadata": {
      "needs_background": "light"
     },
     "output_type": "display_data"
    }
   ],
   "source": [
    "plt.scatter(embedded[romance_s:romance_e,0], embedded[romance_s:romance_e,1], s = 20,color='green', label = 'Romance', alpha = 0.5)"
   ]
  },
  {
   "cell_type": "code",
   "execution_count": 54,
   "metadata": {},
   "outputs": [
    {
     "data": {
      "text/plain": [
       "<matplotlib.collections.PathCollection at 0x7f4dd00ddb00>"
      ]
     },
     "execution_count": 54,
     "metadata": {},
     "output_type": "execute_result"
    },
    {
     "data": {
      "image/png": "[encoded data removed]",
      "text/plain": [
       "<Figure size 432x288 with 1 Axes>"
      ]
     },
     "metadata": {
      "needs_background": "light"
     },
     "output_type": "display_data"
    }
   ],
   "source": [
    "plt.scatter(embedded[thriller_s:thriller_e,0], embedded[thriller_s:thriller_e,1], s = 20,color='grey', label = 'Thriller', alpha = 0.5)\n",
    "# plt.legend()"
   ]
  },
  {
   "cell_type": "code",
   "execution_count": 55,
   "metadata": {},
   "outputs": [
    {
     "name": "stdout",
     "output_type": "stream",
     "text": [
      "[0.67873807 0.29250714]\n"
     ]
    }
   ],
   "source": [
    "print(pca.explained_variance_ratio_)  "
   ]
  },
  {
   "cell_type": "code",
   "execution_count": 56,
   "metadata": {},
   "outputs": [
    {
     "name": "stdout",
     "output_type": "stream",
     "text": [
      "[9.70968537 6.37415019]\n"
     ]
    }
   ],
   "source": [
    "print(pca.singular_values_)  "
   ]
  },
  {
   "cell_type": "markdown",
   "metadata": {},
   "source": [
    "### Baselines"
   ]
  },
  {
   "cell_type": "code",
   "execution_count": 58,
   "metadata": {},
   "outputs": [
    {
     "name": "stdout",
     "output_type": "stream",
     "text": [
      "_________________________________________________________________\n",
      "Layer (type)                 Output Shape              Param #   \n",
      "=================================================================\n",
      "embedding_3 (Embedding)      (None, 70, 20)            117140    \n",
      "_________________________________________________________________\n",
      "flatten_2 (Flatten)          (None, 1400)              0         \n",
      "_________________________________________________________________\n",
      "dense_3 (Dense)              (None, 5)                 7005      \n",
      "=================================================================\n",
      "Total params: 124,145\n",
      "Trainable params: 124,145\n",
      "Non-trainable params: 0\n",
      "_________________________________________________________________\n",
      "None\n",
      "Epoch 1/3\n",
      "4221/4221 [==============================] - 0s 101us/step - loss: 1.3298 - acc: 0.4409\n",
      "Epoch 2/3\n",
      "4221/4221 [==============================] - 0s 51us/step - loss: 1.2582 - acc: 0.4617\n",
      "Epoch 3/3\n",
      "4221/4221 [==============================] - 0s 51us/step - loss: 1.1548 - acc: 0.5380\n"
     ]
    },
    {
     "data": {
      "text/plain": [
       "<keras.callbacks.History at 0x7f4dd0820780>"
      ]
     },
     "execution_count": 58,
     "metadata": {},
     "output_type": "execute_result"
    }
   ],
   "source": [
    "# create the model\n",
    "embedding_vector_length = 20\n",
    "model = Sequential()\n",
    "model.add(Embedding(embedding_input_dim, embedding_vector_length,input_length=70))\n",
    "model.add(Flatten())\n",
    "model.add(Dense(5, activation='softmax'))\n",
    "model.compile(loss='categorical_crossentropy', optimizer='adam', metrics=['accuracy'])\n",
    "print(model.summary())\n",
    "model.fit(x_train, y_train, epochs=3, batch_size=32)"
   ]
  },
  {
   "cell_type": "code",
   "execution_count": 60,
   "metadata": {},
   "outputs": [
    {
     "name": "stdout",
     "output_type": "stream",
     "text": [
      "_________________________________________________________________\n",
      "Layer (type)                 Output Shape              Param #   \n",
      "=================================================================\n",
      "dense_6 (Dense)              (None, 100)               7100      \n",
      "_________________________________________________________________\n",
      "dense_7 (Dense)              (None, 5)                 505       \n",
      "=================================================================\n",
      "Total params: 7,605\n",
      "Trainable params: 7,605\n",
      "Non-trainable params: 0\n",
      "_________________________________________________________________\n",
      "None\n",
      "Epoch 1/3\n",
      "4221/4221 [==============================] - 0s 82us/step - loss: 10.1676 - acc: 0.3620\n",
      "Epoch 2/3\n",
      "4221/4221 [==============================] - 0s 24us/step - loss: 8.8685 - acc: 0.4487\n",
      "Epoch 3/3\n",
      "4221/4221 [==============================] - 0s 24us/step - loss: 8.8509 - acc: 0.4506\n"
     ]
    },
    {
     "data": {
      "text/plain": [
       "<keras.callbacks.History at 0x7f4d939c55f8>"
      ]
     },
     "execution_count": 60,
     "metadata": {},
     "output_type": "execute_result"
    }
   ],
   "source": [
    "# create the model\n",
    "model = Sequential()\n",
    "model.add(Dense(100, input_dim = 70, activation='relu'))\n",
    "model.add(Dense(5, activation='softmax'))\n",
    "model.compile(loss='categorical_crossentropy', optimizer='adam', metrics=['accuracy'])\n",
    "print(model.summary())\n",
    "model.fit(x_train, y_train, epochs=3, batch_size=32)"
   ]
  },
  {
   "cell_type": "code",
   "execution_count": null,
   "metadata": {},
   "outputs": [],
   "source": []
  }
 ],
 "metadata": {
  "kernelspec": {
   "display_name": "Python 3",
   "language": "python",
   "name": "python3"
  },
  "language_info": {
   "codemirror_mode": {
    "name": "ipython",
    "version": 3
   },
   "file_extension": ".py",
   "mimetype": "text/x-python",
   "name": "python",
   "nbconvert_exporter": "python",
   "pygments_lexer": "ipython3",
   "version": "3.6.6"
  }
 },
 "nbformat": 4,
 "nbformat_minor": 2
}
