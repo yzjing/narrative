{
 "cells": [
  {
   "cell_type": "code",
   "execution_count": 1,
   "metadata": {},
   "outputs": [],
   "source": [
    "import numpy as np\n",
    "import pandas as pd\n",
    "import os\n",
    "from collections import Counter\n",
    "import networkx as nx\n",
    "import matplotlib.pyplot as plt\n",
    "import matplotlib as mpl\n",
    "%matplotlib inline\n",
    "from collections import OrderedDict"
   ]
  },
  {
   "cell_type": "code",
   "execution_count": 16,
   "metadata": {},
   "outputs": [
    {
     "name": "stdout",
     "output_type": "stream",
     "text": [
      "3.7.0\n"
     ]
    }
   ],
   "source": [
    "from platform import python_version\n",
    "print(python_version())"
   ]
  },
  {
   "cell_type": "markdown",
   "metadata": {},
   "source": [
    "### Create edgelist using events data"
   ]
  },
  {
   "cell_type": "code",
   "execution_count": 2,
   "metadata": {},
   "outputs": [],
   "source": [
    "event_file = [item for item in os.listdir('protag_events/') if 'txt' in item]"
   ]
  },
  {
   "cell_type": "code",
   "execution_count": 3,
   "metadata": {},
   "outputs": [],
   "source": [
    "events_all = []\n",
    "for name in event_file:\n",
    "    movie_events = []\n",
    "    with open(os.path.join('protag_events/', name), 'r') as f:\n",
    "        lines = [line.strip() for line in f.readlines()]\n",
    "        lines = list(dict.fromkeys(lines)) # Remove duplicates\n",
    "        for line in lines:\n",
    "            line = line.split(' ')\n",
    "            line[0] = 'protagonist'\n",
    "            line = ' '.join([item for item in line[0:2]])\n",
    "            movie_events.append(line)\n",
    "        events_all.append(movie_events)\n"
   ]
  },
  {
   "cell_type": "code",
   "execution_count": 4,
   "metadata": {},
   "outputs": [
    {
     "data": {
      "text/plain": [
       "8311"
      ]
     },
     "execution_count": 4,
     "metadata": {},
     "output_type": "execute_result"
    }
   ],
   "source": [
    "len(events_all)"
   ]
  },
  {
   "cell_type": "code",
   "execution_count": 5,
   "metadata": {},
   "outputs": [
    {
     "data": {
      "text/plain": [
       "[['protagonist base-97.1',\n",
       "  'protagonist appear-48.1.1',\n",
       "  'protagonist steal-10.5-1',\n",
       "  'protagonist escape-51.1-1',\n",
       "  'protagonist escape-51.1-1',\n",
       "  'protagonist get-13.5.1',\n",
       "  'protagonist other_cos-45.4',\n",
       "  'protagonist obtain-13.5.2'],\n",
       " ['protagonist escape-51.1',\n",
       "  'protagonist obtain-13.5.2',\n",
       "  'protagonist neglect-75-2',\n",
       "  'protagonist fend',\n",
       "  'protagonist contiguous_location-47.8-1',\n",
       "  'protagonist battle-36.4-1',\n",
       "  'protagonist appear-48.1.1',\n",
       "  'protagonist escape-51.1',\n",
       "  'protagonist cope-83-1-1',\n",
       "  'protagonist seem-109-1-1',\n",
       "  'protagonist exchange-13.6-1',\n",
       "  'protagonist enforce-63',\n",
       "  'protagonist dub-29.3']]"
      ]
     },
     "execution_count": 5,
     "metadata": {},
     "output_type": "execute_result"
    }
   ],
   "source": [
    "events_all[0:2]"
   ]
  },
  {
   "cell_type": "code",
   "execution_count": 6,
   "metadata": {},
   "outputs": [],
   "source": [
    "edgelist = []\n",
    "for movie_event in events_all:\n",
    "    for i in range(len(movie_event)-1):\n",
    "        edgelist.append((movie_event[i], movie_event[i+1]))"
   ]
  },
  {
   "cell_type": "code",
   "execution_count": 7,
   "metadata": {},
   "outputs": [],
   "source": [
    "c = Counter(edgelist)"
   ]
  },
  {
   "cell_type": "code",
   "execution_count": 8,
   "metadata": {},
   "outputs": [
    {
     "data": {
      "text/plain": [
       "[(('protagonist amuse-31.1', 'protagonist amuse-31.1'), 430),\n",
       " (('protagonist get-13.5.1', 'protagonist get-13.5.1'), 293),\n",
       " (('protagonist get-13.5.1', 'protagonist amuse-31.1'), 217),\n",
       " (('protagonist amuse-31.1', 'protagonist get-13.5.1'), 215),\n",
       " (('protagonist own-100', 'protagonist own-100'), 210),\n",
       " (('protagonist get-13.5.1', 'protagonist discover-84'), 201),\n",
       " (('protagonist escape-51.1', 'protagonist get-13.5.1'), 181),\n",
       " (('protagonist amuse-31.1', 'protagonist meander-47.7'), 170),\n",
       " (('protagonist meander-47.7', 'protagonist get-13.5.1'), 164),\n",
       " (('protagonist escape-51.1', 'protagonist amuse-31.1'), 163),\n",
       " (('protagonist discover-84', 'protagonist get-13.5.1'), 160),\n",
       " (('protagonist discover-84', 'protagonist discover-84'), 156),\n",
       " (('protagonist discover-84', 'protagonist amuse-31.1'), 154),\n",
       " (('protagonist amuse-31.1', 'protagonist escape-51.1'), 144),\n",
       " (('protagonist own-100', 'protagonist amuse-31.1'), 141),\n",
       " (('protagonist meander-47.7', 'protagonist amuse-31.1'), 140),\n",
       " (('protagonist amuse-31.1', 'protagonist other_cos-45.4'), 140),\n",
       " (('protagonist meander-47.7', 'protagonist escape-51.1'), 139),\n",
       " (('protagonist amuse-31.1', 'protagonist own-100'), 130),\n",
       " (('protagonist escape-51.1', 'protagonist discover-84'), 128)]"
      ]
     },
     "execution_count": 8,
     "metadata": {},
     "output_type": "execute_result"
    }
   ],
   "source": [
    "c.most_common(20)"
   ]
  },
  {
   "cell_type": "code",
   "execution_count": 21,
   "metadata": {},
   "outputs": [],
   "source": [
    "edgelist_wtd = []\n",
    "for item in edgelist:\n",
    "    if c[item] > 1:\n",
    "        edge = (item[0], item[1], c[item])\n",
    "        edgelist_wtd.append(edge)"
   ]
  },
  {
   "cell_type": "code",
   "execution_count": 22,
   "metadata": {},
   "outputs": [
    {
     "data": {
      "text/plain": [
       "[('protagonist appear-48.1.1', 'protagonist steal-10.5-1', 16),\n",
       " ('protagonist steal-10.5-1', 'protagonist escape-51.1-1', 16),\n",
       " ('protagonist escape-51.1-1', 'protagonist escape-51.1-1', 51),\n",
       " ('protagonist escape-51.1-1', 'protagonist get-13.5.1', 86),\n",
       " ('protagonist get-13.5.1', 'protagonist other_cos-45.4', 75)]"
      ]
     },
     "execution_count": 22,
     "metadata": {},
     "output_type": "execute_result"
    }
   ],
   "source": [
    "edgelist_wtd[0:5]"
   ]
  },
  {
   "cell_type": "markdown",
   "metadata": {},
   "source": [
    "### Build network"
   ]
  },
  {
   "cell_type": "code",
   "execution_count": 23,
   "metadata": {},
   "outputs": [],
   "source": [
    "G = nx.DiGraph()"
   ]
  },
  {
   "cell_type": "code",
   "execution_count": 24,
   "metadata": {},
   "outputs": [],
   "source": [
    "G.add_weighted_edges_from(edgelist_wtd)"
   ]
  },
  {
   "cell_type": "code",
   "execution_count": 25,
   "metadata": {},
   "outputs": [
    {
     "data": {
      "image/png": "[encoded data removed]",
      "text/plain": [
       "<Figure size 432x288 with 1 Axes>"
      ]
     },
     "metadata": {},
     "output_type": "display_data"
    }
   ],
   "source": [
    "degree_sequence = sorted([d for n, d in G.degree()], reverse=True)  # degree sequence\n",
    "# print \"Degree sequence\", degree_sequence\n",
    "degreeCount = Counter(degree_sequence)\n",
    "deg, cnt = zip(*degreeCount.items())\n",
    "\n",
    "fig, ax = plt.subplots()\n",
    "plt.bar(deg, cnt)\n",
    "\n",
    "plt.title(\"Log-log Degree Histogram\")\n",
    "plt.ylabel(\"Count\")\n",
    "plt.xlabel(\"Degree\")\n",
    "plt.xscale('log')\n",
    "plt.yscale('log')\n",
    "# ax.set_xticks([d + 0.4 for d in deg])\n",
    "# ax.set_xticklabels(deg)"
   ]
  },
  {
   "cell_type": "code",
   "execution_count": 26,
   "metadata": {},
   "outputs": [],
   "source": [
    "nx.write_gml(G, 'event_network.gml')"
   ]
  },
  {
   "cell_type": "code",
   "execution_count": null,
   "metadata": {},
   "outputs": [],
   "source": []
  }
 ],
 "metadata": {
  "kernelspec": {
   "display_name": "Python 3",
   "language": "python",
   "name": "python3"
  },
  "language_info": {
   "codemirror_mode": {
    "name": "ipython",
    "version": 3
   },
   "file_extension": ".py",
   "mimetype": "text/x-python",
   "name": "python",
   "nbconvert_exporter": "python",
   "pygments_lexer": "ipython3",
   "version": "3.7.0"
  }
 },
 "nbformat": 4,
 "nbformat_minor": 2
}
