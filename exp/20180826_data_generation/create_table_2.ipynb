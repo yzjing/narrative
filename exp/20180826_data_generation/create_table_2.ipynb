{
 "cells": [
  {
   "cell_type": "code",
   "execution_count": 1,
   "metadata": {},
   "outputs": [],
   "source": [
    "import numpy as np\n",
    "import pandas as pd\n",
    "import os\n",
    "from collections import OrderedDict"
   ]
  },
  {
   "cell_type": "code",
   "execution_count": 2,
   "metadata": {},
   "outputs": [
    {
     "name": "stdout",
     "output_type": "stream",
     "text": [
      "3.6.6\n"
     ]
    }
   ],
   "source": [
    "from platform import python_version\n",
    "print(python_version())"
   ]
  },
  {
   "cell_type": "markdown",
   "metadata": {},
   "source": [
    "### Exp of classifing movie genres based on their events.\n"
   ]
  },
  {
   "cell_type": "code",
   "execution_count": 26,
   "metadata": {},
   "outputs": [],
   "source": [
    "movies = pd.read_csv('../../data/movie_metadata_cleaned.tsv', sep = '\\t')"
   ]
  },
  {
   "cell_type": "code",
   "execution_count": 27,
   "metadata": {},
   "outputs": [
    {
     "data": {
      "text/html": [
       "<div>\n",
       "<style scoped>\n",
       "    .dataframe tbody tr th:only-of-type {\n",
       "        vertical-align: middle;\n",
       "    }\n",
       "\n",
       "    .dataframe tbody tr th {\n",
       "        vertical-align: top;\n",
       "    }\n",
       "\n",
       "    .dataframe thead th {\n",
       "        text-align: right;\n",
       "    }\n",
       "</style>\n",
       "<table border=\"1\" class=\"dataframe\">\n",
       "  <thead>\n",
       "    <tr style=\"text-align: right;\">\n",
       "      <th></th>\n",
       "      <th>Wikipedia_id</th>\n",
       "      <th>Freebase_id</th>\n",
       "      <th>Name</th>\n",
       "      <th>Release_date</th>\n",
       "      <th>Revenue</th>\n",
       "      <th>Runtime</th>\n",
       "      <th>Languages</th>\n",
       "      <th>Countries</th>\n",
       "      <th>Genres</th>\n",
       "    </tr>\n",
       "  </thead>\n",
       "  <tbody>\n",
       "    <tr>\n",
       "      <th>0</th>\n",
       "      <td>3196793</td>\n",
       "      <td>/m/08yl5d</td>\n",
       "      <td>Getting Away with Murder: The JonBenét Ramsey ...</td>\n",
       "      <td>2000-02-16</td>\n",
       "      <td>NaN</td>\n",
       "      <td>95.0</td>\n",
       "      <td>dict_values(['English Language'])</td>\n",
       "      <td>dict_values(['United States of America'])</td>\n",
       "      <td>Drama</td>\n",
       "    </tr>\n",
       "    <tr>\n",
       "      <th>1</th>\n",
       "      <td>28463795</td>\n",
       "      <td>/m/0crgdbh</td>\n",
       "      <td>Brun bitter</td>\n",
       "      <td>1988</td>\n",
       "      <td>NaN</td>\n",
       "      <td>83.0</td>\n",
       "      <td>dict_values(['Norwegian Language'])</td>\n",
       "      <td>dict_values(['Norway'])</td>\n",
       "      <td>Drama</td>\n",
       "    </tr>\n",
       "  </tbody>\n",
       "</table>\n",
       "</div>"
      ],
      "text/plain": [
       "   Wikipedia_id Freebase_id  \\\n",
       "0       3196793   /m/08yl5d   \n",
       "1      28463795  /m/0crgdbh   \n",
       "\n",
       "                                                Name Release_date  Revenue  \\\n",
       "0  Getting Away with Murder: The JonBenét Ramsey ...   2000-02-16      NaN   \n",
       "1                                        Brun bitter         1988      NaN   \n",
       "\n",
       "   Runtime                            Languages  \\\n",
       "0     95.0    dict_values(['English Language'])   \n",
       "1     83.0  dict_values(['Norwegian Language'])   \n",
       "\n",
       "                                   Countries Genres  \n",
       "0  dict_values(['United States of America'])  Drama  \n",
       "1                    dict_values(['Norway'])  Drama  "
      ]
     },
     "execution_count": 27,
     "metadata": {},
     "output_type": "execute_result"
    }
   ],
   "source": [
    "movies.head(2)"
   ]
  },
  {
   "cell_type": "markdown",
   "metadata": {},
   "source": [
    "### Read in events data"
   ]
  },
  {
   "cell_type": "code",
   "execution_count": 28,
   "metadata": {},
   "outputs": [],
   "source": [
    "event_file = [item for item in os.listdir('../../data/protag_events_v2/') if 'txt' in item]"
   ]
  },
  {
   "cell_type": "code",
   "execution_count": 29,
   "metadata": {},
   "outputs": [],
   "source": [
    "d = {}\n",
    "for name in event_file:\n",
    "    with open(os.path.join('../../data/protag_events_v2/', name), 'r') as f:\n",
    "        #only use the verbs\n",
    "        verbs = []\n",
    "        for line in [line.strip() for line in f.readlines()]:\n",
    "            line = line.split(' ')\n",
    "            verbs.append(line[1])\n",
    "        if len(verbs) > 1:    \n",
    "            d[int(name.split('_')[0])] = verbs"
   ]
  },
  {
   "cell_type": "code",
   "execution_count": 8,
   "metadata": {},
   "outputs": [],
   "source": [
    "d = {}\n",
    "for name in event_file:\n",
    "    with open(os.path.join('../../data/protag_events_v2/', name), 'r') as f:\n",
    "        #only use the verbs\n",
    "        nlines = []\n",
    "        for line in [line.strip() for line in f.readlines()]:\n",
    "            line = line.split(' ')\n",
    "            line[0] = 'protagonist'\n",
    "            line = ' '.join([item for item in line[0:2]])\n",
    "            nlines.append(line)\n",
    "        if len(nlines) > 1:    \n",
    "            d[int(name.split('_')[0])] = nlines"
   ]
  },
  {
   "cell_type": "code",
   "execution_count": 30,
   "metadata": {},
   "outputs": [],
   "source": [
    "movies.Wikipedia_id = movies.Wikipedia_id.astype(int)"
   ]
  },
  {
   "cell_type": "code",
   "execution_count": 31,
   "metadata": {},
   "outputs": [],
   "source": [
    "movies['Events'] = movies['Wikipedia_id'].map(d)"
   ]
  },
  {
   "cell_type": "code",
   "execution_count": 32,
   "metadata": {},
   "outputs": [],
   "source": [
    "movies = movies.dropna(subset = ['Events'])"
   ]
  },
  {
   "cell_type": "code",
   "execution_count": 33,
   "metadata": {},
   "outputs": [],
   "source": [
    "movies['Genre_code'] = movies.Genres.astype(\"category\").cat.codes"
   ]
  },
  {
   "cell_type": "code",
   "execution_count": 34,
   "metadata": {},
   "outputs": [
    {
     "data": {
      "text/plain": [
       "{0: 'Action', 1: 'Comedy', 2: 'Drama', 3: 'Romance Film', 4: 'Thriller'}"
      ]
     },
     "execution_count": 34,
     "metadata": {},
     "output_type": "execute_result"
    }
   ],
   "source": [
    "dict( enumerate(movies.Genres.astype(\"category\").cat.categories) )"
   ]
  },
  {
   "cell_type": "code",
   "execution_count": 35,
   "metadata": {
    "scrolled": true
   },
   "outputs": [
    {
     "data": {
      "text/html": [
       "<div>\n",
       "<style scoped>\n",
       "    .dataframe tbody tr th:only-of-type {\n",
       "        vertical-align: middle;\n",
       "    }\n",
       "\n",
       "    .dataframe tbody tr th {\n",
       "        vertical-align: top;\n",
       "    }\n",
       "\n",
       "    .dataframe thead th {\n",
       "        text-align: right;\n",
       "    }\n",
       "</style>\n",
       "<table border=\"1\" class=\"dataframe\">\n",
       "  <thead>\n",
       "    <tr style=\"text-align: right;\">\n",
       "      <th></th>\n",
       "      <th>Wikipedia_id</th>\n",
       "      <th>Freebase_id</th>\n",
       "      <th>Name</th>\n",
       "      <th>Release_date</th>\n",
       "      <th>Revenue</th>\n",
       "      <th>Runtime</th>\n",
       "      <th>Languages</th>\n",
       "      <th>Countries</th>\n",
       "      <th>Genres</th>\n",
       "      <th>Events</th>\n",
       "      <th>Genre_code</th>\n",
       "    </tr>\n",
       "  </thead>\n",
       "  <tbody>\n",
       "    <tr>\n",
       "      <th>10</th>\n",
       "      <td>11250635</td>\n",
       "      <td>/m/02r52hc</td>\n",
       "      <td>The Mechanical Monsters</td>\n",
       "      <td>NaN</td>\n",
       "      <td>NaN</td>\n",
       "      <td>NaN</td>\n",
       "      <td>dict_values(['English Language'])</td>\n",
       "      <td>dict_values(['United States of America'])</td>\n",
       "      <td>Action</td>\n",
       "      <td>[weather-57, battle-36.4-1, require-103-1, see...</td>\n",
       "      <td>0</td>\n",
       "    </tr>\n",
       "    <tr>\n",
       "      <th>51</th>\n",
       "      <td>7767613</td>\n",
       "      <td>/m/026ccts</td>\n",
       "      <td>Star!</td>\n",
       "      <td>1968-07-18</td>\n",
       "      <td>4000000.0</td>\n",
       "      <td>176.0</td>\n",
       "      <td>dict_values(['English Language'])</td>\n",
       "      <td>dict_values(['United States of America'])</td>\n",
       "      <td>Drama</td>\n",
       "      <td>[mix-22.1-2-1, correspond-36.1, amuse-31.1, ge...</td>\n",
       "      <td>2</td>\n",
       "    </tr>\n",
       "  </tbody>\n",
       "</table>\n",
       "</div>"
      ],
      "text/plain": [
       "    Wikipedia_id Freebase_id                     Name Release_date    Revenue  \\\n",
       "10      11250635  /m/02r52hc  The Mechanical Monsters          NaN        NaN   \n",
       "51       7767613  /m/026ccts                    Star!   1968-07-18  4000000.0   \n",
       "\n",
       "    Runtime                          Languages  \\\n",
       "10      NaN  dict_values(['English Language'])   \n",
       "51    176.0  dict_values(['English Language'])   \n",
       "\n",
       "                                    Countries  Genres  \\\n",
       "10  dict_values(['United States of America'])  Action   \n",
       "51  dict_values(['United States of America'])   Drama   \n",
       "\n",
       "                                               Events  Genre_code  \n",
       "10  [weather-57, battle-36.4-1, require-103-1, see...           0  \n",
       "51  [mix-22.1-2-1, correspond-36.1, amuse-31.1, ge...           2  "
      ]
     },
     "execution_count": 35,
     "metadata": {},
     "output_type": "execute_result"
    }
   ],
   "source": [
    "movies.head(2)"
   ]
  },
  {
   "cell_type": "code",
   "execution_count": 36,
   "metadata": {},
   "outputs": [
    {
     "data": {
      "text/plain": [
       "2    1733\n",
       "1    1165\n",
       "4     494\n",
       "0     345\n",
       "3     103\n",
       "Name: Genre_code, dtype: int64"
      ]
     },
     "execution_count": 36,
     "metadata": {},
     "output_type": "execute_result"
    }
   ],
   "source": [
    "movies.Genre_code.value_counts()"
   ]
  },
  {
   "cell_type": "code",
   "execution_count": 37,
   "metadata": {},
   "outputs": [],
   "source": [
    "movies.to_csv('../../data/metadata_events_table.tsv', sep = '\\t', index=False)"
   ]
  },
  {
   "cell_type": "code",
   "execution_count": null,
   "metadata": {},
   "outputs": [],
   "source": []
  }
 ],
 "metadata": {
  "kernelspec": {
   "display_name": "Python 3",
   "language": "python",
   "name": "python3"
  },
  "language_info": {
   "codemirror_mode": {
    "name": "ipython",
    "version": 3
   },
   "file_extension": ".py",
   "mimetype": "text/x-python",
   "name": "python",
   "nbconvert_exporter": "python",
   "pygments_lexer": "ipython3",
   "version": "3.6.6"
  }
 },
 "nbformat": 4,
 "nbformat_minor": 2
}
