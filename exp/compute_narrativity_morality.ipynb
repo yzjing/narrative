{
 "cells": [
  {
   "cell_type": "code",
   "execution_count": 1,
   "metadata": {},
   "outputs": [],
   "source": [
    "import pandas as pd\n",
    "import spacy\n",
    "import os\n",
    "import re\n",
    "import matplotlib.pyplot as plt\n",
    "%matplotlib inline\n",
    "import numpy as np\n",
    "from scipy import stats"
   ]
  },
  {
   "cell_type": "code",
   "execution_count": 2,
   "metadata": {},
   "outputs": [],
   "source": [
    "# Count the number of third person pronouns \n",
    "# as an indicator of narrativity\n",
    "def cnt_third_pron_normed(text):\n",
    "    third_pron = ['he', 'him', 'his', 'himself', 'she', 'her', 'hers', 'herself', 'it', 'its', \\\n",
    "                  'itself', 'they', 'their', 'theirs', 'themselves']\n",
    "    text = text.replace('\\n', '').replace('.', ' ').lower().split(' ')\n",
    "    sum = 0\n",
    "    for p in third_pron:\n",
    "        sum += text.count(p)\n",
    "    return sum/len(text)"
   ]
  },
  {
   "cell_type": "code",
   "execution_count": 3,
   "metadata": {},
   "outputs": [],
   "source": [
    "# Read Christine's lexicon\n",
    "verbs_df = pd.read_csv('../data/verb_narrativity.csv', sep = ',')\n",
    "verbs_df = verbs_df[verbs_df['Narrativity'] == 'narrative']\n",
    "verbs_df = verbs_df[['Considered_verb', 'Narrativity']]\n",
    "narrative_verb = verbs_df.drop_duplicates()['Considered_verb'].tolist()\n",
    "narrative_verb.remove('were')"
   ]
  },
  {
   "cell_type": "code",
   "execution_count": 4,
   "metadata": {},
   "outputs": [],
   "source": [
    "# Count the narrative verbs from the lexicon\n",
    "# in a text\n",
    "def cnt_narrative_verb_normed(text):\n",
    "    text = text.replace('\\n', '').replace('.', ' ').lower()\n",
    "    sum = 0\n",
    "    for p in narrative_verb:\n",
    "        sum += len(re.findall(p, text))\n",
    "    return sum/len(text)"
   ]
  },
  {
   "cell_type": "code",
   "execution_count": 5,
   "metadata": {},
   "outputs": [],
   "source": [
    "def compute_narrativity_score(text):\n",
    "    return cnt_third_pron_normed(text) + cnt_narrative_verb_normed(text)"
   ]
  },
  {
   "cell_type": "code",
   "execution_count": 6,
   "metadata": {},
   "outputs": [],
   "source": [
    "# Count the morality words from the lexicon\n",
    "# in a text\n",
    "def compute_morality(text):\n",
    "    text = text.replace('\\n', '').replace('.', ' ').lower()\n",
    "    sum = 0\n",
    "    for p in morality_words:\n",
    "        sum += text.count(p)\n",
    "    return sum/len(text)"
   ]
  },
  {
   "cell_type": "code",
   "execution_count": 7,
   "metadata": {},
   "outputs": [],
   "source": [
    "morality_df = pd.read_csv('../data/MFTdict_POS_matchedfromGLOVEset.txt', sep = ' ')\n",
    "morality_words = morality_df['MFTword'].tolist()"
   ]
  },
  {
   "cell_type": "markdown",
   "metadata": {},
   "source": [
    "### Sanity check w gold standard"
   ]
  },
  {
   "cell_type": "code",
   "execution_count": 173,
   "metadata": {},
   "outputs": [],
   "source": [
    "low_nar_path = '../data/low_narrativity_gs/'"
   ]
  },
  {
   "cell_type": "code",
   "execution_count": 174,
   "metadata": {},
   "outputs": [],
   "source": [
    "high_nar_path = '../data/high_narrativity_gs/'"
   ]
  },
  {
   "cell_type": "code",
   "execution_count": 187,
   "metadata": {},
   "outputs": [],
   "source": [
    "results_high = []\n",
    "for file in os.listdir(high_nar_path):\n",
    "    with open(high_nar_path + file, 'r') as f:\n",
    "        text = f.read()\n",
    "    results_high.append(cnt_third_pron_normed(text) + (cnt_narrative_verb_normed(text)))"
   ]
  },
  {
   "cell_type": "code",
   "execution_count": 188,
   "metadata": {},
   "outputs": [],
   "source": [
    "results_low = []\n",
    "for file in os.listdir(low_nar_path):\n",
    "    with open(low_nar_path + file, 'r') as f:\n",
    "        text = f.read()\n",
    "    results_low.append(cnt_third_pron_normed(text) + (cnt_narrative_verb_normed(text)))"
   ]
  },
  {
   "cell_type": "code",
   "execution_count": 189,
   "metadata": {},
   "outputs": [
    {
     "data": {
      "text/plain": [
       "([0.03769265805674322,\n",
       "  0.021936347962498427,\n",
       "  0.05415161482300612,\n",
       "  0.06543446726872866,\n",
       "  0.020547129019627873,\n",
       "  0.061728533178200914,\n",
       "  0.03608826228577123,\n",
       "  0.022213926810769814,\n",
       "  0.0106168786218627],\n",
       " [0.004796163069544364,\n",
       "  0.022719582882658015,\n",
       "  0.012886142824194199,\n",
       "  0.02030456852791878,\n",
       "  0.030201263187784176,\n",
       "  0.002369668246445498,\n",
       "  0.044997543514879286,\n",
       "  0.0,\n",
       "  0.007330654608756583,\n",
       "  0.020590314598798162])"
      ]
     },
     "execution_count": 189,
     "metadata": {},
     "output_type": "execute_result"
    }
   ],
   "source": [
    "results_high, results_low"
   ]
  },
  {
   "cell_type": "code",
   "execution_count": 190,
   "metadata": {},
   "outputs": [
    {
     "data": {
      "text/plain": [
       "Ttest_indResult(statistic=2.575066086744477, pvalue=0.019667391223248096)"
      ]
     },
     "execution_count": 190,
     "metadata": {},
     "output_type": "execute_result"
    }
   ],
   "source": [
    "stats.ttest_ind(results_high,results_low)"
   ]
  },
  {
   "cell_type": "code",
   "execution_count": null,
   "metadata": {},
   "outputs": [],
   "source": [
    "error_high = np."
   ]
  },
  {
   "cell_type": "code",
   "execution_count": 179,
   "metadata": {},
   "outputs": [],
   "source": [
    "y = [results_high/10,results_low/10]\n",
    "x = [0, 1]"
   ]
  },
  {
   "cell_type": "code",
   "execution_count": 180,
   "metadata": {},
   "outputs": [],
   "source": [
    "low_moral_path = '../data/low_morality_gs/'"
   ]
  },
  {
   "cell_type": "code",
   "execution_count": 181,
   "metadata": {},
   "outputs": [],
   "source": [
    "high_moral_path = '../data/high_morality_gs/'"
   ]
  },
  {
   "cell_type": "code",
   "execution_count": 191,
   "metadata": {},
   "outputs": [],
   "source": [
    "moral_results_high = 0\n",
    "for file in os.listdir(high_moral_path):\n",
    "    with open(high_moral_path + file, 'r') as f:\n",
    "        text = f.read()\n",
    "    moral_results_high += compute_morality(high_moral_path + text)"
   ]
  },
  {
   "cell_type": "code",
   "execution_count": 192,
   "metadata": {},
   "outputs": [],
   "source": [
    "moral_results_low = 0\n",
    "for file in os.listdir(low_moral_path):\n",
    "    with open(low_moral_path + file, 'r') as f:\n",
    "        text = f.read()\n",
    "    moral_results_low += compute_morality(low_moral_path + text)"
   ]
  },
  {
   "cell_type": "code",
   "execution_count": 184,
   "metadata": {},
   "outputs": [
    {
     "data": {
      "text/plain": [
       "(0.09468749568913706, 0.05607686397348924)"
      ]
     },
     "execution_count": 184,
     "metadata": {},
     "output_type": "execute_result"
    }
   ],
   "source": [
    "moral_results_high, moral_results_low"
   ]
  },
  {
   "cell_type": "code",
   "execution_count": 185,
   "metadata": {},
   "outputs": [],
   "source": [
    "y2 = [moral_results_high/10,moral_results_low/10]"
   ]
  },
  {
   "cell_type": "code",
   "execution_count": null,
   "metadata": {},
   "outputs": [],
   "source": [
    "lower_error = [dic[j][0]-dic[j][1] for j in x]\n",
    "upper_error = [dic[j][2]-dic[j][0] for j in x]\n",
    "asymmetric_error = [lower_error, upper_error]\n",
    "\n",
    "\n",
    "plt.errorbar(x, y, yerr=asymmetric_error,fmt='o')"
   ]
  },
  {
   "cell_type": "code",
   "execution_count": 186,
   "metadata": {},
   "outputs": [
    {
     "data": {
      "image/png": "[encoded data removed]",
      "text/plain": [
       "<matplotlib.figure.Figure at 0x1a20e5f710>"
      ]
     },
     "metadata": {},
     "output_type": "display_data"
    }
   ],
   "source": [
    "plt.scatter(x, y, marker='D',label = 'Narrativity')\n",
    "plt.scatter(x, y2, label = 'Morality')\n",
    "plt.xticks(x, ['High narrativity/morality GS', 'Low narrativity/morality GS'],fontsize = 13)\n",
    "plt.xlabel('Corpus', fontsize = 13)\n",
    "plt.ylabel('Score',fontsize = 13)\n",
    "plt.legend()\n",
    "plt.tight_layout()\n",
    "plt.savefig('narrativity_morality_score_test.pdf', format='pdf')"
   ]
  },
  {
   "cell_type": "code",
   "execution_count": null,
   "metadata": {},
   "outputs": [],
   "source": []
  },
  {
   "cell_type": "code",
   "execution_count": null,
   "metadata": {},
   "outputs": [],
   "source": []
  },
  {
   "cell_type": "markdown",
   "metadata": {},
   "source": [
    "### Read in data"
   ]
  },
  {
   "cell_type": "code",
   "execution_count": 8,
   "metadata": {},
   "outputs": [],
   "source": [
    "speech_data = '../data/hein-daily/speeches_114.txt'\n",
    "metadata = '../data/hein-daily/114_SpeakerMap.txt'"
   ]
  },
  {
   "cell_type": "code",
   "execution_count": 9,
   "metadata": {},
   "outputs": [
    {
     "name": "stderr",
     "output_type": "stream",
     "text": [
      "b'Skipping line 81799: expected 2 fields, saw 3\\n'\n"
     ]
    }
   ],
   "source": [
    "df_speech = pd.read_csv(speech_data, sep = '|',error_bad_lines=False, encoding='utf8')"
   ]
  },
  {
   "cell_type": "code",
   "execution_count": 10,
   "metadata": {},
   "outputs": [
    {
     "data": {
      "text/html": [
       "<div>\n",
       "<style scoped>\n",
       "    .dataframe tbody tr th:only-of-type {\n",
       "        vertical-align: middle;\n",
       "    }\n",
       "\n",
       "    .dataframe tbody tr th {\n",
       "        vertical-align: top;\n",
       "    }\n",
       "\n",
       "    .dataframe thead th {\n",
       "        text-align: right;\n",
       "    }\n",
       "</style>\n",
       "<table border=\"1\" class=\"dataframe\">\n",
       "  <thead>\n",
       "    <tr style=\"text-align: right;\">\n",
       "      <th></th>\n",
       "      <th>speech_id</th>\n",
       "      <th>speech</th>\n",
       "    </tr>\n",
       "  </thead>\n",
       "  <tbody>\n",
       "    <tr>\n",
       "      <th>0</th>\n",
       "      <td>1140000001</td>\n",
       "      <td>The Representativeselect and their guests will...</td>\n",
       "    </tr>\n",
       "    <tr>\n",
       "      <th>1</th>\n",
       "      <td>1140000002</td>\n",
       "      <td>As directed by law. the Clerk of the House has...</td>\n",
       "    </tr>\n",
       "  </tbody>\n",
       "</table>\n",
       "</div>"
      ],
      "text/plain": [
       "    speech_id                                             speech\n",
       "0  1140000001  The Representativeselect and their guests will...\n",
       "1  1140000002  As directed by law. the Clerk of the House has..."
      ]
     },
     "execution_count": 10,
     "metadata": {},
     "output_type": "execute_result"
    }
   ],
   "source": [
    "df_speech.head(2)"
   ]
  },
  {
   "cell_type": "code",
   "execution_count": 11,
   "metadata": {},
   "outputs": [],
   "source": [
    "df_meta = pd.read_csv(metadata, sep = '|')"
   ]
  },
  {
   "cell_type": "code",
   "execution_count": 12,
   "metadata": {},
   "outputs": [
    {
     "data": {
      "text/html": [
       "<div>\n",
       "<style scoped>\n",
       "    .dataframe tbody tr th:only-of-type {\n",
       "        vertical-align: middle;\n",
       "    }\n",
       "\n",
       "    .dataframe tbody tr th {\n",
       "        vertical-align: top;\n",
       "    }\n",
       "\n",
       "    .dataframe thead th {\n",
       "        text-align: right;\n",
       "    }\n",
       "</style>\n",
       "<table border=\"1\" class=\"dataframe\">\n",
       "  <thead>\n",
       "    <tr style=\"text-align: right;\">\n",
       "      <th></th>\n",
       "      <th>speakerid</th>\n",
       "      <th>speech_id</th>\n",
       "      <th>lastname</th>\n",
       "      <th>firstname</th>\n",
       "      <th>chamber</th>\n",
       "      <th>state</th>\n",
       "      <th>gender</th>\n",
       "      <th>party</th>\n",
       "      <th>district</th>\n",
       "      <th>nonvoting</th>\n",
       "    </tr>\n",
       "  </thead>\n",
       "  <tbody>\n",
       "    <tr>\n",
       "      <th>0</th>\n",
       "      <td>114120480</td>\n",
       "      <td>1140000007</td>\n",
       "      <td>MCMORRIS RODGERS</td>\n",
       "      <td>CATHY</td>\n",
       "      <td>H</td>\n",
       "      <td>WA</td>\n",
       "      <td>F</td>\n",
       "      <td>R</td>\n",
       "      <td>5.0</td>\n",
       "      <td>voting</td>\n",
       "    </tr>\n",
       "    <tr>\n",
       "      <th>1</th>\n",
       "      <td>114118560</td>\n",
       "      <td>1140000009</td>\n",
       "      <td>BECERRA</td>\n",
       "      <td>XAVIER</td>\n",
       "      <td>H</td>\n",
       "      <td>CA</td>\n",
       "      <td>M</td>\n",
       "      <td>D</td>\n",
       "      <td>34.0</td>\n",
       "      <td>voting</td>\n",
       "    </tr>\n",
       "  </tbody>\n",
       "</table>\n",
       "</div>"
      ],
      "text/plain": [
       "   speakerid   speech_id          lastname firstname chamber state gender  \\\n",
       "0  114120480  1140000007  MCMORRIS RODGERS     CATHY       H    WA      F   \n",
       "1  114118560  1140000009           BECERRA    XAVIER       H    CA      M   \n",
       "\n",
       "  party  district nonvoting  \n",
       "0     R       5.0    voting  \n",
       "1     D      34.0    voting  "
      ]
     },
     "execution_count": 12,
     "metadata": {},
     "output_type": "execute_result"
    }
   ],
   "source": [
    "df_meta.head(2)"
   ]
  },
  {
   "cell_type": "code",
   "execution_count": 13,
   "metadata": {},
   "outputs": [],
   "source": [
    "df = pd.merge(df_speech, df_meta, on='speech_id', how='inner')"
   ]
  },
  {
   "cell_type": "code",
   "execution_count": 14,
   "metadata": {},
   "outputs": [
    {
     "data": {
      "text/html": [
       "<div>\n",
       "<style scoped>\n",
       "    .dataframe tbody tr th:only-of-type {\n",
       "        vertical-align: middle;\n",
       "    }\n",
       "\n",
       "    .dataframe tbody tr th {\n",
       "        vertical-align: top;\n",
       "    }\n",
       "\n",
       "    .dataframe thead th {\n",
       "        text-align: right;\n",
       "    }\n",
       "</style>\n",
       "<table border=\"1\" class=\"dataframe\">\n",
       "  <thead>\n",
       "    <tr style=\"text-align: right;\">\n",
       "      <th></th>\n",
       "      <th>speech_id</th>\n",
       "      <th>speech</th>\n",
       "      <th>speakerid</th>\n",
       "      <th>lastname</th>\n",
       "      <th>firstname</th>\n",
       "      <th>chamber</th>\n",
       "      <th>state</th>\n",
       "      <th>gender</th>\n",
       "      <th>party</th>\n",
       "      <th>district</th>\n",
       "      <th>nonvoting</th>\n",
       "    </tr>\n",
       "  </thead>\n",
       "  <tbody>\n",
       "    <tr>\n",
       "      <th>673</th>\n",
       "      <td>1140001053</td>\n",
       "      <td>Mr. Speaker. I have great appreciation and aff...</td>\n",
       "      <td>114119540</td>\n",
       "      <td>GOHMERT</td>\n",
       "      <td>LOUIE</td>\n",
       "      <td>H</td>\n",
       "      <td>TX</td>\n",
       "      <td>M</td>\n",
       "      <td>R</td>\n",
       "      <td>1.0</td>\n",
       "      <td>voting</td>\n",
       "    </tr>\n",
       "  </tbody>\n",
       "</table>\n",
       "</div>"
      ],
      "text/plain": [
       "      speech_id                                             speech  speakerid  \\\n",
       "673  1140001053  Mr. Speaker. I have great appreciation and aff...  114119540   \n",
       "\n",
       "    lastname firstname chamber state gender party  district nonvoting  \n",
       "673  GOHMERT     LOUIE       H    TX      M     R       1.0    voting  "
      ]
     },
     "execution_count": 14,
     "metadata": {},
     "output_type": "execute_result"
    }
   ],
   "source": [
    "df[df.speech_id == 1140001053]"
   ]
  },
  {
   "cell_type": "code",
   "execution_count": 15,
   "metadata": {},
   "outputs": [
    {
     "name": "stdout",
     "output_type": "stream",
     "text": [
      "112287 67971 67970\n"
     ]
    }
   ],
   "source": [
    "print(len(df_speech), len(df_meta), len(df))"
   ]
  },
  {
   "cell_type": "code",
   "execution_count": 16,
   "metadata": {},
   "outputs": [],
   "source": [
    "def calc_length(text):\n",
    "    text = text.replace('\\n', '').replace('.', ' ').lower().split(' ')\n",
    "    if len(text) > 100:\n",
    "        return True\n",
    "    else:\n",
    "        return False"
   ]
  },
  {
   "cell_type": "code",
   "execution_count": 17,
   "metadata": {},
   "outputs": [],
   "source": [
    "df = df[['speech_id', 'speech', 'party', 'chamber']]"
   ]
  },
  {
   "cell_type": "code",
   "execution_count": 18,
   "metadata": {},
   "outputs": [],
   "source": [
    "df = df[df.apply(lambda row: calc_length(row['speech']), axis=1)]"
   ]
  },
  {
   "cell_type": "code",
   "execution_count": 19,
   "metadata": {},
   "outputs": [
    {
     "data": {
      "text/plain": [
       "32764"
      ]
     },
     "execution_count": 19,
     "metadata": {},
     "output_type": "execute_result"
    }
   ],
   "source": [
    "len(df)"
   ]
  },
  {
   "cell_type": "code",
   "execution_count": 20,
   "metadata": {},
   "outputs": [
    {
     "data": {
      "text/html": [
       "<div>\n",
       "<style scoped>\n",
       "    .dataframe tbody tr th:only-of-type {\n",
       "        vertical-align: middle;\n",
       "    }\n",
       "\n",
       "    .dataframe tbody tr th {\n",
       "        vertical-align: top;\n",
       "    }\n",
       "\n",
       "    .dataframe thead th {\n",
       "        text-align: right;\n",
       "    }\n",
       "</style>\n",
       "<table border=\"1\" class=\"dataframe\">\n",
       "  <thead>\n",
       "    <tr style=\"text-align: right;\">\n",
       "      <th></th>\n",
       "      <th>speech_id</th>\n",
       "      <th>speech</th>\n",
       "      <th>party</th>\n",
       "      <th>chamber</th>\n",
       "    </tr>\n",
       "  </thead>\n",
       "  <tbody>\n",
       "    <tr>\n",
       "      <th>0</th>\n",
       "      <td>1140000007</td>\n",
       "      <td>RODGERS. Madam Clerk. it is an honor to addres...</td>\n",
       "      <td>R</td>\n",
       "      <td>H</td>\n",
       "    </tr>\n",
       "    <tr>\n",
       "      <th>1</th>\n",
       "      <td>1140000009</td>\n",
       "      <td>Madam Clerk. first I would like to recognize e...</td>\n",
       "      <td>D</td>\n",
       "      <td>H</td>\n",
       "    </tr>\n",
       "  </tbody>\n",
       "</table>\n",
       "</div>"
      ],
      "text/plain": [
       "    speech_id                                             speech party chamber\n",
       "0  1140000007  RODGERS. Madam Clerk. it is an honor to addres...     R       H\n",
       "1  1140000009  Madam Clerk. first I would like to recognize e...     D       H"
      ]
     },
     "execution_count": 20,
     "metadata": {},
     "output_type": "execute_result"
    }
   ],
   "source": [
    "df.head(2)"
   ]
  },
  {
   "cell_type": "code",
   "execution_count": 21,
   "metadata": {},
   "outputs": [],
   "source": [
    "df['narr_score'] = df.apply(lambda row: compute_narrativity_score(row['speech']), axis=1)"
   ]
  },
  {
   "cell_type": "code",
   "execution_count": 22,
   "metadata": {},
   "outputs": [],
   "source": [
    "df_d = df[df.party == 'D']\n",
    "df_r = df[df.party == 'R']"
   ]
  },
  {
   "cell_type": "code",
   "execution_count": 23,
   "metadata": {},
   "outputs": [],
   "source": [
    "df_S = df[df.chamber == 'S']\n",
    "df_H = df[df.chamber == 'H']"
   ]
  },
  {
   "cell_type": "code",
   "execution_count": 24,
   "metadata": {},
   "outputs": [
    {
     "name": "stdout",
     "output_type": "stream",
     "text": [
      "11094 10502\n"
     ]
    }
   ],
   "source": [
    "print(len(df_H[df_H.party == 'R']),len(df_H[df_H.party == 'D']))"
   ]
  },
  {
   "cell_type": "code",
   "execution_count": 25,
   "metadata": {},
   "outputs": [
    {
     "name": "stdout",
     "output_type": "stream",
     "text": [
      "11155 21609\n"
     ]
    }
   ],
   "source": [
    "print(len(df_S), len(df_H))"
   ]
  },
  {
   "cell_type": "code",
   "execution_count": 26,
   "metadata": {},
   "outputs": [
    {
     "data": {
      "text/html": [
       "<div>\n",
       "<style scoped>\n",
       "    .dataframe tbody tr th:only-of-type {\n",
       "        vertical-align: middle;\n",
       "    }\n",
       "\n",
       "    .dataframe tbody tr th {\n",
       "        vertical-align: top;\n",
       "    }\n",
       "\n",
       "    .dataframe thead th {\n",
       "        text-align: right;\n",
       "    }\n",
       "</style>\n",
       "<table border=\"1\" class=\"dataframe\">\n",
       "  <thead>\n",
       "    <tr style=\"text-align: right;\">\n",
       "      <th></th>\n",
       "      <th>speech_id</th>\n",
       "      <th>speech</th>\n",
       "      <th>party</th>\n",
       "      <th>chamber</th>\n",
       "      <th>narr_score</th>\n",
       "    </tr>\n",
       "  </thead>\n",
       "  <tbody>\n",
       "    <tr>\n",
       "      <th>0</th>\n",
       "      <td>1140000007</td>\n",
       "      <td>RODGERS. Madam Clerk. it is an honor to addres...</td>\n",
       "      <td>R</td>\n",
       "      <td>H</td>\n",
       "      <td>0.039867</td>\n",
       "    </tr>\n",
       "    <tr>\n",
       "      <th>1</th>\n",
       "      <td>1140000009</td>\n",
       "      <td>Madam Clerk. first I would like to recognize e...</td>\n",
       "      <td>D</td>\n",
       "      <td>H</td>\n",
       "      <td>0.022621</td>\n",
       "    </tr>\n",
       "  </tbody>\n",
       "</table>\n",
       "</div>"
      ],
      "text/plain": [
       "    speech_id                                             speech party  \\\n",
       "0  1140000007  RODGERS. Madam Clerk. it is an honor to addres...     R   \n",
       "1  1140000009  Madam Clerk. first I would like to recognize e...     D   \n",
       "\n",
       "  chamber  narr_score  \n",
       "0       H    0.039867  \n",
       "1       H    0.022621  "
      ]
     },
     "execution_count": 26,
     "metadata": {},
     "output_type": "execute_result"
    }
   ],
   "source": [
    "df.head(2)"
   ]
  },
  {
   "cell_type": "code",
   "execution_count": null,
   "metadata": {},
   "outputs": [],
   "source": [
    "# TODO: plot CDF of movie ratings. \n",
    "X = movie_df['Rating'].order()\n",
    "N = len(X)\n",
    "Y = np.linspace( 1/N, 1, num=N)\n",
    "plt.plot(X,Y)"
   ]
  },
  {
   "cell_type": "code",
   "execution_count": 42,
   "metadata": {},
   "outputs": [
    {
     "data": {
      "image/png": "[encoded data removed]",
      "text/plain": [
       "<matplotlib.figure.Figure at 0x1a15b64390>"
      ]
     },
     "metadata": {},
     "output_type": "display_data"
    }
   ],
   "source": [
    "plt.figure(figsize = (10,5))\n",
    "plt.subplot(1,2,1)\n",
    "X = df_d['narr_score'].sort_values()\n",
    "N = len(X)\n",
    "Y = np.linspace( 1/N, 1, num=N)\n",
    "plt.plot(X,Y, label='Democratic')\n",
    "X = df_r['narr_score'].sort_values()\n",
    "N = len(X)\n",
    "Y = np.linspace( 1/N, 1, num=N)\n",
    "plt.plot(X,Y, label='Republican')\n",
    "plt.legend()\n",
    "plt.xticks(fontsize=13)\n",
    "plt.yticks(fontsize=13)\n",
    "plt.ylabel('Cumulative distribution',fontsize=13)\n",
    "plt.xlabel('Narrativity score',fontsize=13)\n",
    "\n",
    "plt.subplot(1,2,2)\n",
    "X = df_S['narr_score'].sort_values()\n",
    "N = len(X)\n",
    "Y = np.linspace( 1/N, 1, num=N)\n",
    "plt.plot(X,Y, label='Senate')\n",
    "X = df_H['narr_score'].sort_values()\n",
    "N = len(X)\n",
    "Y = np.linspace( 1/N, 1, num=N)\n",
    "plt.plot(X,Y, label='House')\n",
    "plt.legend()\n",
    "plt.xticks(fontsize=13)\n",
    "plt.yticks(fontsize=13)\n",
    "plt.xlabel('Narrativity score',fontsize=13)\n",
    "plt.tight_layout()\n",
    "# plt.savefig('narr_score_partisan_chamber_cdf.pdf', format='pdf')"
   ]
  },
  {
   "cell_type": "code",
   "execution_count": 43,
   "metadata": {},
   "outputs": [],
   "source": [
    "import seaborn as sns"
   ]
  },
  {
   "cell_type": "code",
   "execution_count": 51,
   "metadata": {},
   "outputs": [
    {
     "data": {
      "text/plain": [
       "<matplotlib.legend.Legend at 0x10e616f28>"
      ]
     },
     "execution_count": 51,
     "metadata": {},
     "output_type": "execute_result"
    },
    {
     "data": {
      "image/png": "[encoded data removed]",
      "text/plain": [
       "<matplotlib.figure.Figure at 0x1a15b99d68>"
      ]
     },
     "metadata": {},
     "output_type": "display_data"
    }
   ],
   "source": [
    "plt.subplot(1,2,1)\n",
    "sns.distplot(df_d['narr_score'], label='Democratic')\n",
    "sns.distplot(df_r['narr_score'], label='Republican')\n",
    "plt.xlabel('Narrativity score', fontsize=15)\n",
    "plt.legend()"
   ]
  },
  {
   "cell_type": "code",
   "execution_count": 57,
   "metadata": {},
   "outputs": [
    {
     "data": {
      "image/png": "[encoded data removed]",
      "text/plain": [
       "<matplotlib.figure.Figure at 0x1a16c0db00>"
      ]
     },
     "metadata": {},
     "output_type": "display_data"
    }
   ],
   "source": [
    "plt.figure(figsize = (10,5))\n",
    "plt.subplot(1,2,1)\n",
    "binBoundaries = np.linspace(0,0.12,10)\n",
    "sns.distplot(df_d['narr_score'], label='Democratic')\n",
    "sns.distplot(df_r['narr_score'], label='Republican')\n",
    "plt.legend()\n",
    "plt.xticks(fontsize=13)\n",
    "plt.yticks(fontsize=13)\n",
    "plt.ylabel('Density',fontsize=13)\n",
    "plt.xlabel('Narrativity score',fontsize=13)\n",
    "\n",
    "plt.subplot(1,2,2)\n",
    "binBoundaries = np.linspace(0,0.12,10)\n",
    "sns.distplot(df_S['narr_score'],label='Senate')\n",
    "sns.distplot(df_H['narr_score'], label='Representatives')\n",
    "plt.legend()\n",
    "plt.xticks(fontsize=13)\n",
    "plt.yticks(fontsize=13)\n",
    "plt.xlabel('Narrativity score',fontsize=13)\n",
    "plt.tight_layout()\n",
    "plt.savefig('narr_score_partisan_chamber.pdf', format='pdf')"
   ]
  },
  {
   "cell_type": "markdown",
   "metadata": {},
   "source": [
    "### Morality"
   ]
  },
  {
   "cell_type": "code",
   "execution_count": 28,
   "metadata": {},
   "outputs": [],
   "source": [
    "df['moral_score'] = df.apply(lambda row: compute_morality(row['speech']), axis=1)"
   ]
  },
  {
   "cell_type": "code",
   "execution_count": 29,
   "metadata": {},
   "outputs": [],
   "source": [
    "df_d = df[df.party == 'D']\n",
    "df_r = df[df.party == 'R']"
   ]
  },
  {
   "cell_type": "code",
   "execution_count": 30,
   "metadata": {},
   "outputs": [],
   "source": [
    "df_S = df[df.chamber == 'S']\n",
    "df_H = df[df.chamber == 'H']"
   ]
  },
  {
   "cell_type": "code",
   "execution_count": 56,
   "metadata": {},
   "outputs": [
    {
     "data": {
      "image/png": "[encoded data removed]",
      "text/plain": [
       "<matplotlib.figure.Figure at 0x1a15f03cc0>"
      ]
     },
     "metadata": {},
     "output_type": "display_data"
    }
   ],
   "source": [
    "\n",
    "# plt.xticks(fontsize=13)\n",
    "# plt.yticks(fontsize=13)\n",
    "# plt.ylabel('Density',fontsize=13)\n",
    "# plt.xlabel('Narrativity score',fontsize=13)\n",
    "# plt.tight_layout()\n",
    "# plt.savefig('narr_score_partisan.pdf', format='pdf')\n",
    "\n",
    "\n",
    "plt.figure(figsize = (10,5))\n",
    "plt.subplot(1,2,1)\n",
    "binBoundaries = np.linspace(0,0.04,10)\n",
    "sns.distplot(df_d['moral_score'], label='Democratic')\n",
    "sns.distplot(df_r['moral_score'], label='Republican')\n",
    "plt.legend()\n",
    "plt.xticks(fontsize=13)\n",
    "plt.yticks(fontsize=13)\n",
    "plt.ylabel('Density',fontsize=13)\n",
    "plt.xlabel('Morality score',fontsize=13)\n",
    "\n",
    "\n",
    "\n",
    "plt.subplot(1,2,2)\n",
    "binBoundaries = np.linspace(0,0.03,10)\n",
    "sns.distplot(df_S['moral_score'],label='Senate')\n",
    "sns.distplot(df_H['moral_score'],  label='Representatives')\n",
    "plt.legend()\n",
    "plt.xticks(fontsize=13)\n",
    "plt.yticks(fontsize=13)\n",
    "plt.xlabel('Morality score',fontsize=13)\n",
    "plt.tight_layout()\n",
    "plt.savefig('moral_score_partisan_chamber.pdf', format='pdf')"
   ]
  },
  {
   "cell_type": "code",
   "execution_count": 59,
   "metadata": {},
   "outputs": [
    {
     "data": {
      "image/png": "[encoded data removed]",
      "text/plain": [
       "<matplotlib.figure.Figure at 0x1a1d7f4668>"
      ]
     },
     "metadata": {},
     "output_type": "display_data"
    }
   ],
   "source": [
    "plt.figure(figsize = (10,5))\n",
    "plt.subplot(1,2,1)\n",
    "X = df_d['moral_score'].sort_values()\n",
    "N = len(X)\n",
    "Y = np.linspace( 1/N, 1, num=N)\n",
    "plt.plot(X,Y, label='Democratic')\n",
    "X = df_r['moral_score'].sort_values()\n",
    "N = len(X)\n",
    "Y = np.linspace( 1/N, 1, num=N)\n",
    "plt.plot(X,Y, label='Republican')\n",
    "plt.legend()\n",
    "plt.xticks(fontsize=13)\n",
    "plt.yticks(fontsize=13)\n",
    "plt.ylabel('Cumulative distribution',fontsize=13)\n",
    "plt.xlabel('Morality score',fontsize=13)\n",
    "\n",
    "plt.subplot(1,2,2)\n",
    "X = df_S['moral_score'].sort_values()\n",
    "N = len(X)\n",
    "Y = np.linspace( 1/N, 1, num=N)\n",
    "plt.plot(X,Y, label='Senate')\n",
    "X = df_H['moral_score'].sort_values()\n",
    "N = len(X)\n",
    "Y = np.linspace( 1/N, 1, num=N)\n",
    "plt.plot(X,Y, label='House')\n",
    "plt.legend()\n",
    "plt.xticks(fontsize=13)\n",
    "plt.yticks(fontsize=13)\n",
    "plt.xlabel('Morality score',fontsize=13)\n",
    "plt.tight_layout()\n",
    "plt.savefig('moral_score_partisan_chamber_cdf.pdf', format='pdf')"
   ]
  },
  {
   "cell_type": "code",
   "execution_count": 254,
   "metadata": {},
   "outputs": [
    {
     "data": {
      "text/html": [
       "<div>\n",
       "<style scoped>\n",
       "    .dataframe tbody tr th:only-of-type {\n",
       "        vertical-align: middle;\n",
       "    }\n",
       "\n",
       "    .dataframe tbody tr th {\n",
       "        vertical-align: top;\n",
       "    }\n",
       "\n",
       "    .dataframe thead th {\n",
       "        text-align: right;\n",
       "    }\n",
       "</style>\n",
       "<table border=\"1\" class=\"dataframe\">\n",
       "  <thead>\n",
       "    <tr style=\"text-align: right;\">\n",
       "      <th></th>\n",
       "      <th>speech_id</th>\n",
       "      <th>speech</th>\n",
       "      <th>party</th>\n",
       "      <th>narr_score</th>\n",
       "      <th>moral_score</th>\n",
       "    </tr>\n",
       "  </thead>\n",
       "  <tbody>\n",
       "    <tr>\n",
       "      <th>1</th>\n",
       "      <td>1140000009</td>\n",
       "      <td>Madam Clerk. first I would like to recognize e...</td>\n",
       "      <td>D</td>\n",
       "      <td>0.018833</td>\n",
       "      <td>0.007364</td>\n",
       "    </tr>\n",
       "    <tr>\n",
       "      <th>5</th>\n",
       "      <td>1140000017</td>\n",
       "      <td>My colleagues of the United States House of Re...</td>\n",
       "      <td>D</td>\n",
       "      <td>0.012472</td>\n",
       "      <td>0.009862</td>\n",
       "    </tr>\n",
       "  </tbody>\n",
       "</table>\n",
       "</div>"
      ],
      "text/plain": [
       "    speech_id                                             speech party  \\\n",
       "1  1140000009  Madam Clerk. first I would like to recognize e...     D   \n",
       "5  1140000017  My colleagues of the United States House of Re...     D   \n",
       "\n",
       "   narr_score  moral_score  \n",
       "1    0.018833     0.007364  \n",
       "5    0.012472     0.009862  "
      ]
     },
     "execution_count": 254,
     "metadata": {},
     "output_type": "execute_result"
    }
   ],
   "source": [
    "df_d.head(2)"
   ]
  },
  {
   "cell_type": "code",
   "execution_count": 223,
   "metadata": {},
   "outputs": [
    {
     "data": {
      "text/plain": [
       "(-0.05084887228887904, 3.2711755316634384e-20)"
      ]
     },
     "execution_count": 223,
     "metadata": {},
     "output_type": "execute_result"
    }
   ],
   "source": [
    "stats.pearsonr(df['narr_score'],df['moral_score'])"
   ]
  },
  {
   "cell_type": "code",
   "execution_count": 259,
   "metadata": {},
   "outputs": [
    {
     "data": {
      "text/plain": [
       "(-0.07647529387390206, 7.128937152698602e-22)"
      ]
     },
     "execution_count": 259,
     "metadata": {},
     "output_type": "execute_result"
    }
   ],
   "source": [
    "stats.pearsonr(df_d['narr_score'],df_d['moral_score'])"
   ]
  },
  {
   "cell_type": "code",
   "execution_count": 260,
   "metadata": {},
   "outputs": [
    {
     "data": {
      "text/plain": [
       "(-0.04846773817492971, 3.30652674382351e-10)"
      ]
     },
     "execution_count": 260,
     "metadata": {},
     "output_type": "execute_result"
    }
   ],
   "source": [
    "stats.pearsonr(df_r['narr_score'],df_r['moral_score'])"
   ]
  },
  {
   "cell_type": "code",
   "execution_count": 231,
   "metadata": {},
   "outputs": [
    {
     "data": {
      "text/plain": [
       "(-0.03735118320364551, 3.9690653651377084e-08)"
      ]
     },
     "execution_count": 231,
     "metadata": {},
     "output_type": "execute_result"
    }
   ],
   "source": [
    "stats.pearsonr(df_H['narr_score'],df_H['moral_score'])"
   ]
  },
  {
   "cell_type": "code",
   "execution_count": 274,
   "metadata": {},
   "outputs": [
    {
     "data": {
      "text/plain": [
       "array([0.        , 0.00959314, 0.01631329, 0.02539194, 0.12204187])"
      ]
     },
     "execution_count": 274,
     "metadata": {},
     "output_type": "execute_result"
    }
   ],
   "source": [
    "np.percentile(df.narr_score.tolist(), [0,25,50,75,100])"
   ]
  },
  {
   "cell_type": "code",
   "execution_count": 279,
   "metadata": {},
   "outputs": [
    {
     "data": {
      "text/plain": [
       "array([0.        , 0.00938279, 0.01570754, 0.02401302, 0.12204187])"
      ]
     },
     "execution_count": 279,
     "metadata": {},
     "output_type": "execute_result"
    }
   ],
   "source": [
    "np.percentile(df_d.narr_score.tolist(), [0,25,50,75,100])"
   ]
  },
  {
   "cell_type": "code",
   "execution_count": 280,
   "metadata": {},
   "outputs": [
    {
     "data": {
      "text/plain": [
       "array([0.        , 0.0098597 , 0.01698522, 0.02665312, 0.11517642])"
      ]
     },
     "execution_count": 280,
     "metadata": {},
     "output_type": "execute_result"
    }
   ],
   "source": [
    "np.percentile(df_r.narr_score.tolist(), [0,25,50,75,100])"
   ]
  },
  {
   "cell_type": "code",
   "execution_count": 275,
   "metadata": {},
   "outputs": [
    {
     "data": {
      "text/plain": [
       "0.12204187475989244"
      ]
     },
     "execution_count": 275,
     "metadata": {},
     "output_type": "execute_result"
    }
   ],
   "source": [
    "sorted(df.narr_score.tolist())[-1]"
   ]
  },
  {
   "cell_type": "code",
   "execution_count": 283,
   "metadata": {},
   "outputs": [],
   "source": [
    "df_highnarr = df[df['narr_score'] > 0.02539194]\n",
    "df_d_highnarr = df_d[df_d['narr_score'] > 0.02401302]\n",
    "df_r_highnarr = df_r[df_r['narr_score'] > 0.02665312]"
   ]
  },
  {
   "cell_type": "code",
   "execution_count": 232,
   "metadata": {},
   "outputs": [
    {
     "data": {
      "text/plain": [
       "array([0.        , 0.00581395, 0.00824402, 0.01136966, 0.04624277])"
      ]
     },
     "execution_count": 232,
     "metadata": {},
     "output_type": "execute_result"
    }
   ],
   "source": [
    "np.percentile(df.moral_score.tolist(), [0,25,50,75,100])"
   ]
  },
  {
   "cell_type": "code",
   "execution_count": 233,
   "metadata": {},
   "outputs": [],
   "source": [
    "df_highmoral = df[df['moral_score'] > 0.02539194]"
   ]
  },
  {
   "cell_type": "code",
   "execution_count": 234,
   "metadata": {},
   "outputs": [
    {
     "data": {
      "text/plain": [
       "(-0.02042755578145041, 0.8299576330275829)"
      ]
     },
     "execution_count": 234,
     "metadata": {},
     "output_type": "execute_result"
    }
   ],
   "source": [
    "stats.pearsonr(df_highmoral['narr_score'],df_highmoral['moral_score'])"
   ]
  },
  {
   "cell_type": "code",
   "execution_count": 278,
   "metadata": {},
   "outputs": [
    {
     "data": {
      "text/plain": [
       "(0.02868685497551737, 0.00942015772416723)"
      ]
     },
     "execution_count": 278,
     "metadata": {},
     "output_type": "execute_result"
    }
   ],
   "source": [
    "stats.pearsonr(df_highnarr['narr_score'],df_highnarr['moral_score'])"
   ]
  },
  {
   "cell_type": "code",
   "execution_count": 284,
   "metadata": {},
   "outputs": [
    {
     "data": {
      "text/plain": [
       "(0.06408444009718597, 5.7001113321471136e-05)"
      ]
     },
     "execution_count": 284,
     "metadata": {},
     "output_type": "execute_result"
    }
   ],
   "source": [
    "stats.pearsonr(df_d_highnarr['narr_score'],df_d_highnarr['moral_score'])"
   ]
  },
  {
   "cell_type": "code",
   "execution_count": 285,
   "metadata": {},
   "outputs": [
    {
     "data": {
      "text/plain": [
       "(-0.0018496478148072731, 0.9046362364312132)"
      ]
     },
     "execution_count": 285,
     "metadata": {},
     "output_type": "execute_result"
    }
   ],
   "source": [
    "stats.pearsonr(df_r_highnarr['narr_score'],df_r_highnarr['moral_score'])"
   ]
  },
  {
   "cell_type": "code",
   "execution_count": 287,
   "metadata": {},
   "outputs": [
    {
     "data": {
      "text/plain": [
       "32764"
      ]
     },
     "execution_count": 287,
     "metadata": {},
     "output_type": "execute_result"
    }
   ],
   "source": [
    "len(df)"
   ]
  },
  {
   "cell_type": "code",
   "execution_count": 310,
   "metadata": {},
   "outputs": [],
   "source": [
    "df_topnarr = df.sort_values(by = 'narr_score',ascending=False).head(200)"
   ]
  },
  {
   "cell_type": "code",
   "execution_count": 316,
   "metadata": {},
   "outputs": [],
   "source": [
    "df_topmoral = df.sort_values(by = 'moral_score',ascending=False).head(200)"
   ]
  },
  {
   "cell_type": "code",
   "execution_count": 314,
   "metadata": {},
   "outputs": [
    {
     "data": {
      "text/plain": [
       "['Mr. Speaker. Tom Hennessy was a beloved columnist at the Long Beach PressTelegram for nearly 30 years. Tom passed away recently with his Duchess Debbie by his side. For his readers. Tom was Mr. Long Beach. He was a humorist. he was an advocate. he was our favorite uncle. and our closest neighbor. He was a friend who lived in the same world. but somehow saw it so much more clearly and never shied away from using his Irish wit to say so. Every morning for three decades Tom was the champion of what was right. good. and decent in Long Beach. I was fortunate to have read him. I was lucky to have known him. and now I will join his readers. his family. and his friends in missing him.']"
      ]
     },
     "execution_count": 314,
     "metadata": {},
     "output_type": "execute_result"
    }
   ],
   "source": [
    "df_topnarr.head(1).speech.tolist()"
   ]
  },
  {
   "cell_type": "code",
   "execution_count": 318,
   "metadata": {},
   "outputs": [
    {
     "data": {
      "text/plain": [
       "['Mr. Speaker. I rise to congratulate Colonel Dave \"Cheese\" Burgy on his outstanding leadership as commander of the Oklahoma Air National Guards 138th Fighter Wing located at the Tulsa Air National Guard Base. He relinquishes command this Saturday. Colonel Burgy received his Air Force ROTC commission at Arizona State University. He transitioned to the Oklahoma National Guard as a C26 inspector pilot before retraining in the F16. Colonel Burgy has logged over 3.800 military flight hours and deployed five times to fight our Nations wars. As the 138th commander since December 2012. Colonel Burgy led the Air National Guards best fighter wing of over 1.200 airmen. He exemplifies the selfsacrifice and patriotism of the citizen warriors in the National Guard. Colonel Burgy. thank you for your outstanding service to the 138th. the National Guard. and our country.']"
      ]
     },
     "execution_count": 318,
     "metadata": {},
     "output_type": "execute_result"
    }
   ],
   "source": [
    "df_topmoral.head(1).speech.tolist()"
   ]
  },
  {
   "cell_type": "code",
   "execution_count": 315,
   "metadata": {},
   "outputs": [
    {
     "data": {
      "text/html": [
       "<div>\n",
       "<style scoped>\n",
       "    .dataframe tbody tr th:only-of-type {\n",
       "        vertical-align: middle;\n",
       "    }\n",
       "\n",
       "    .dataframe tbody tr th {\n",
       "        vertical-align: top;\n",
       "    }\n",
       "\n",
       "    .dataframe thead th {\n",
       "        text-align: right;\n",
       "    }\n",
       "</style>\n",
       "<table border=\"1\" class=\"dataframe\">\n",
       "  <thead>\n",
       "    <tr style=\"text-align: right;\">\n",
       "      <th></th>\n",
       "      <th>speech_id</th>\n",
       "      <th>speech</th>\n",
       "      <th>party</th>\n",
       "      <th>narr_score</th>\n",
       "      <th>moral_score</th>\n",
       "    </tr>\n",
       "  </thead>\n",
       "  <tbody>\n",
       "    <tr>\n",
       "      <th>52140</th>\n",
       "      <td>1140086345</td>\n",
       "      <td>Mr. Speaker. Tom Hennessy was a beloved column...</td>\n",
       "      <td>D</td>\n",
       "      <td>0.122042</td>\n",
       "      <td>0.005839</td>\n",
       "    </tr>\n",
       "  </tbody>\n",
       "</table>\n",
       "</div>"
      ],
      "text/plain": [
       "        speech_id                                             speech party  \\\n",
       "52140  1140086345  Mr. Speaker. Tom Hennessy was a beloved column...     D   \n",
       "\n",
       "       narr_score  moral_score  \n",
       "52140    0.122042     0.005839  "
      ]
     },
     "execution_count": 315,
     "metadata": {},
     "output_type": "execute_result"
    }
   ],
   "source": [
    "df_topnarr.head(1)"
   ]
  },
  {
   "cell_type": "code",
   "execution_count": 319,
   "metadata": {},
   "outputs": [
    {
     "data": {
      "text/html": [
       "<div>\n",
       "<style scoped>\n",
       "    .dataframe tbody tr th:only-of-type {\n",
       "        vertical-align: middle;\n",
       "    }\n",
       "\n",
       "    .dataframe tbody tr th {\n",
       "        vertical-align: top;\n",
       "    }\n",
       "\n",
       "    .dataframe thead th {\n",
       "        text-align: right;\n",
       "    }\n",
       "</style>\n",
       "<table border=\"1\" class=\"dataframe\">\n",
       "  <thead>\n",
       "    <tr style=\"text-align: right;\">\n",
       "      <th></th>\n",
       "      <th>speech_id</th>\n",
       "      <th>speech</th>\n",
       "      <th>party</th>\n",
       "      <th>narr_score</th>\n",
       "      <th>moral_score</th>\n",
       "    </tr>\n",
       "  </thead>\n",
       "  <tbody>\n",
       "    <tr>\n",
       "      <th>32778</th>\n",
       "      <td>1140053611</td>\n",
       "      <td>Mr. Speaker. I rise to congratulate Colonel Da...</td>\n",
       "      <td>R</td>\n",
       "      <td>0.033836</td>\n",
       "      <td>0.046243</td>\n",
       "    </tr>\n",
       "  </tbody>\n",
       "</table>\n",
       "</div>"
      ],
      "text/plain": [
       "        speech_id                                             speech party  \\\n",
       "32778  1140053611  Mr. Speaker. I rise to congratulate Colonel Da...     R   \n",
       "\n",
       "       narr_score  moral_score  \n",
       "32778    0.033836     0.046243  "
      ]
     },
     "execution_count": 319,
     "metadata": {},
     "output_type": "execute_result"
    }
   ],
   "source": [
    "df_topmoral.head(1)"
   ]
  },
  {
   "cell_type": "code",
   "execution_count": 311,
   "metadata": {},
   "outputs": [
    {
     "data": {
      "text/plain": [
       "73"
      ]
     },
     "execution_count": 311,
     "metadata": {},
     "output_type": "execute_result"
    }
   ],
   "source": [
    "len(df_topnarr[df_topnarr.party == 'D'])"
   ]
  },
  {
   "cell_type": "code",
   "execution_count": 312,
   "metadata": {},
   "outputs": [
    {
     "data": {
      "text/plain": [
       "<matplotlib.collections.PathCollection at 0x1a22cc3eb8>"
      ]
     },
     "execution_count": 312,
     "metadata": {},
     "output_type": "execute_result"
    },
    {
     "data": {
      "image/png": "[encoded data removed]",
      "text/plain": [
       "<matplotlib.figure.Figure at 0x1a23164240>"
      ]
     },
     "metadata": {},
     "output_type": "display_data"
    }
   ],
   "source": [
    "plt.scatter(df_topnarr['narr_score'], df_topnarr['moral_score'])"
   ]
  },
  {
   "cell_type": "code",
   "execution_count": null,
   "metadata": {},
   "outputs": [],
   "source": []
  }
 ],
 "metadata": {
  "kernelspec": {
   "display_name": "Python 3",
   "language": "python",
   "name": "python3"
  },
  "language_info": {
   "codemirror_mode": {
    "name": "ipython",
    "version": 3
   },
   "file_extension": ".py",
   "mimetype": "text/x-python",
   "name": "python",
   "nbconvert_exporter": "python",
   "pygments_lexer": "ipython3",
   "version": "3.6.4"
  }
 },
 "nbformat": 4,
 "nbformat_minor": 2
}
