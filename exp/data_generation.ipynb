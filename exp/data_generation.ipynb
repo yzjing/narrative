{
 "cells": [
  {
   "cell_type": "code",
   "execution_count": 1,
   "metadata": {},
   "outputs": [],
   "source": [
    "import pandas as pd\n",
    "import spacy"
   ]
  },
  {
   "cell_type": "code",
   "execution_count": 2,
   "metadata": {},
   "outputs": [],
   "source": [
    "speech_data = '../data/hein-daily/speeches_114.txt'"
   ]
  },
  {
   "cell_type": "code",
   "execution_count": 8,
   "metadata": {},
   "outputs": [],
   "source": [
    "metadata = '../data/hein-daily/114_SpeakerMap.txt'"
   ]
  },
  {
   "cell_type": "code",
   "execution_count": 6,
   "metadata": {},
   "outputs": [
    {
     "name": "stderr",
     "output_type": "stream",
     "text": [
      "b'Skipping line 81799: expected 2 fields, saw 3\\n'\n"
     ]
    }
   ],
   "source": [
    "df = pd.read_csv(speech_data, sep = '|',error_bad_lines=False, encoding='utf8')"
   ]
  },
  {
   "cell_type": "code",
   "execution_count": 7,
   "metadata": {},
   "outputs": [
    {
     "data": {
      "text/html": [
       "<div>\n",
       "<style scoped>\n",
       "    .dataframe tbody tr th:only-of-type {\n",
       "        vertical-align: middle;\n",
       "    }\n",
       "\n",
       "    .dataframe tbody tr th {\n",
       "        vertical-align: top;\n",
       "    }\n",
       "\n",
       "    .dataframe thead th {\n",
       "        text-align: right;\n",
       "    }\n",
       "</style>\n",
       "<table border=\"1\" class=\"dataframe\">\n",
       "  <thead>\n",
       "    <tr style=\"text-align: right;\">\n",
       "      <th></th>\n",
       "      <th>speech_id</th>\n",
       "      <th>speech</th>\n",
       "    </tr>\n",
       "  </thead>\n",
       "  <tbody>\n",
       "    <tr>\n",
       "      <th>0</th>\n",
       "      <td>1140000001</td>\n",
       "      <td>The Representativeselect and their guests will...</td>\n",
       "    </tr>\n",
       "    <tr>\n",
       "      <th>1</th>\n",
       "      <td>1140000002</td>\n",
       "      <td>As directed by law. the Clerk of the House has...</td>\n",
       "    </tr>\n",
       "    <tr>\n",
       "      <th>2</th>\n",
       "      <td>1140000003</td>\n",
       "      <td>Four hundred and one Represent ativeselect hav...</td>\n",
       "    </tr>\n",
       "    <tr>\n",
       "      <th>3</th>\n",
       "      <td>1140000004</td>\n",
       "      <td>Credentials. regular in form. have been receiv...</td>\n",
       "    </tr>\n",
       "    <tr>\n",
       "      <th>4</th>\n",
       "      <td>1140000005</td>\n",
       "      <td>The Clerk is in receipt of a letter from the H...</td>\n",
       "    </tr>\n",
       "  </tbody>\n",
       "</table>\n",
       "</div>"
      ],
      "text/plain": [
       "    speech_id                                             speech\n",
       "0  1140000001  The Representativeselect and their guests will...\n",
       "1  1140000002  As directed by law. the Clerk of the House has...\n",
       "2  1140000003  Four hundred and one Represent ativeselect hav...\n",
       "3  1140000004  Credentials. regular in form. have been receiv...\n",
       "4  1140000005  The Clerk is in receipt of a letter from the H..."
      ]
     },
     "execution_count": 7,
     "metadata": {},
     "output_type": "execute_result"
    }
   ],
   "source": [
    "df.head()"
   ]
  },
  {
   "cell_type": "code",
   "execution_count": 11,
   "metadata": {},
   "outputs": [],
   "source": [
    "with open (speech_data, 'r') as f:\n",
    "    speech = f.readlines()"
   ]
  },
  {
   "cell_type": "code",
   "execution_count": 13,
   "metadata": {},
   "outputs": [
    {
     "data": {
      "text/plain": [
       "'speech_id|speech\\n'"
      ]
     },
     "execution_count": 13,
     "metadata": {},
     "output_type": "execute_result"
    }
   ],
   "source": [
    "speech[0]"
   ]
  },
  {
   "cell_type": "code",
   "execution_count": 18,
   "metadata": {},
   "outputs": [
    {
     "data": {
      "text/plain": [
       "112291"
      ]
     },
     "execution_count": 18,
     "metadata": {},
     "output_type": "execute_result"
    }
   ],
   "source": [
    "len(speech)"
   ]
  },
  {
   "cell_type": "code",
   "execution_count": 24,
   "metadata": {},
   "outputs": [],
   "source": [
    "nlp = spacy.load('en')"
   ]
  },
  {
   "cell_type": "code",
   "execution_count": null,
   "metadata": {},
   "outputs": [],
   "source": [
    "for f in file_list:\n",
    "    with open(data_path + f, 'r') as data:\n",
    "        text = data.read().replace('\\n', ' ').replace('‘', '\\'').replace('’','\\'')\n",
    "        doc = nlp(text)\n",
    "        with open (f + '_cleaned', 'w') as g:\n",
    "            for sent in doc.sents:\n",
    "                g.write(str(sent) + '\\n')"
   ]
  },
  {
   "cell_type": "code",
   "execution_count": 27,
   "metadata": {},
   "outputs": [],
   "source": [
    "for line in speech[1:]:\n",
    "    line = line.strip().split('|')\n",
    "    if len(line[1].split()) > 50:\n",
    "        doc = nlp(line[1])\n",
    "        with open('../data/114_doc_byspeech/' + line[0], 'w') as g:\n",
    "            for sent in doc.sents:\n",
    "                g.write(str(sent) + '\\n')"
   ]
  },
  {
   "cell_type": "code",
   "execution_count": 30,
   "metadata": {},
   "outputs": [],
   "source": [
    "with open ('114_srl.sh', 'w') as g:\n",
    "    for line in speech[1:]:\n",
    "        line = line.strip().split('|')\n",
    "        if len(line[1].split()) > 50:\n",
    "            g.write(\"./senna -srl -ner <'/Users/a307/Desktop/to_mbp_migration_20180323/Desktop/qualz/qual_Johan/data/114_doc_byspeech/\"\\\n",
    "                    + line[0] + \"'>\" + \" \" + str(line[0]) + \".txt\")\n",
    "            g.write('\\n')"
   ]
  },
  {
   "cell_type": "code",
   "execution_count": 20,
   "metadata": {},
   "outputs": [
    {
     "data": {
      "text/plain": [
       "49566"
      ]
     },
     "execution_count": 20,
     "metadata": {},
     "output_type": "execute_result"
    }
   ],
   "source": [
    "cnt"
   ]
  },
  {
   "cell_type": "code",
   "execution_count": 9,
   "metadata": {},
   "outputs": [],
   "source": [
    "df2 = pd.read_csv(metadata, sep = '|',error_bad_lines=False, encoding='utf8')"
   ]
  },
  {
   "cell_type": "code",
   "execution_count": 10,
   "metadata": {},
   "outputs": [
    {
     "data": {
      "text/html": [
       "<div>\n",
       "<style scoped>\n",
       "    .dataframe tbody tr th:only-of-type {\n",
       "        vertical-align: middle;\n",
       "    }\n",
       "\n",
       "    .dataframe tbody tr th {\n",
       "        vertical-align: top;\n",
       "    }\n",
       "\n",
       "    .dataframe thead th {\n",
       "        text-align: right;\n",
       "    }\n",
       "</style>\n",
       "<table border=\"1\" class=\"dataframe\">\n",
       "  <thead>\n",
       "    <tr style=\"text-align: right;\">\n",
       "      <th></th>\n",
       "      <th>speakerid</th>\n",
       "      <th>speech_id</th>\n",
       "      <th>lastname</th>\n",
       "      <th>firstname</th>\n",
       "      <th>chamber</th>\n",
       "      <th>state</th>\n",
       "      <th>gender</th>\n",
       "      <th>party</th>\n",
       "      <th>district</th>\n",
       "      <th>nonvoting</th>\n",
       "    </tr>\n",
       "  </thead>\n",
       "  <tbody>\n",
       "    <tr>\n",
       "      <th>0</th>\n",
       "      <td>114120480</td>\n",
       "      <td>1140000007</td>\n",
       "      <td>MCMORRIS RODGERS</td>\n",
       "      <td>CATHY</td>\n",
       "      <td>H</td>\n",
       "      <td>WA</td>\n",
       "      <td>F</td>\n",
       "      <td>R</td>\n",
       "      <td>5.0</td>\n",
       "      <td>voting</td>\n",
       "    </tr>\n",
       "    <tr>\n",
       "      <th>1</th>\n",
       "      <td>114118560</td>\n",
       "      <td>1140000009</td>\n",
       "      <td>BECERRA</td>\n",
       "      <td>XAVIER</td>\n",
       "      <td>H</td>\n",
       "      <td>CA</td>\n",
       "      <td>M</td>\n",
       "      <td>D</td>\n",
       "      <td>34.0</td>\n",
       "      <td>voting</td>\n",
       "    </tr>\n",
       "    <tr>\n",
       "      <th>2</th>\n",
       "      <td>114121890</td>\n",
       "      <td>1140000011</td>\n",
       "      <td>MASSIE</td>\n",
       "      <td>THOMAS</td>\n",
       "      <td>H</td>\n",
       "      <td>KY</td>\n",
       "      <td>M</td>\n",
       "      <td>R</td>\n",
       "      <td>4.0</td>\n",
       "      <td>voting</td>\n",
       "    </tr>\n",
       "    <tr>\n",
       "      <th>3</th>\n",
       "      <td>114122500</td>\n",
       "      <td>1140000013</td>\n",
       "      <td>BRIDENSTINE</td>\n",
       "      <td>JIM</td>\n",
       "      <td>H</td>\n",
       "      <td>OK</td>\n",
       "      <td>M</td>\n",
       "      <td>R</td>\n",
       "      <td>1.0</td>\n",
       "      <td>voting</td>\n",
       "    </tr>\n",
       "    <tr>\n",
       "      <th>4</th>\n",
       "      <td>114120780</td>\n",
       "      <td>1140000017</td>\n",
       "      <td>PELOSI</td>\n",
       "      <td>NANCY</td>\n",
       "      <td>H</td>\n",
       "      <td>CA</td>\n",
       "      <td>F</td>\n",
       "      <td>D</td>\n",
       "      <td>12.0</td>\n",
       "      <td>voting</td>\n",
       "    </tr>\n",
       "  </tbody>\n",
       "</table>\n",
       "</div>"
      ],
      "text/plain": [
       "   speakerid   speech_id          lastname firstname chamber state gender  \\\n",
       "0  114120480  1140000007  MCMORRIS RODGERS     CATHY       H    WA      F   \n",
       "1  114118560  1140000009           BECERRA    XAVIER       H    CA      M   \n",
       "2  114121890  1140000011            MASSIE    THOMAS       H    KY      M   \n",
       "3  114122500  1140000013       BRIDENSTINE       JIM       H    OK      M   \n",
       "4  114120780  1140000017            PELOSI     NANCY       H    CA      F   \n",
       "\n",
       "  party  district nonvoting  \n",
       "0     R       5.0    voting  \n",
       "1     D      34.0    voting  \n",
       "2     R       4.0    voting  \n",
       "3     R       1.0    voting  \n",
       "4     D      12.0    voting  "
      ]
     },
     "execution_count": 10,
     "metadata": {},
     "output_type": "execute_result"
    }
   ],
   "source": [
    "df2.head()"
   ]
  },
  {
   "cell_type": "code",
   "execution_count": null,
   "metadata": {},
   "outputs": [],
   "source": []
  }
 ],
 "metadata": {
  "kernelspec": {
   "display_name": "Python 3",
   "language": "python",
   "name": "python3"
  },
  "language_info": {
   "codemirror_mode": {
    "name": "ipython",
    "version": 3
   },
   "file_extension": ".py",
   "mimetype": "text/x-python",
   "name": "python",
   "nbconvert_exporter": "python",
   "pygments_lexer": "ipython3",
   "version": "3.6.4"
  }
 },
 "nbformat": 4,
 "nbformat_minor": 2
}
