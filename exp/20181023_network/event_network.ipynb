{
 "cells": [
  {
   "cell_type": "code",
   "execution_count": 1,
   "metadata": {},
   "outputs": [],
   "source": [
    "import numpy as np\n",
    "import pandas as pd\n",
    "import os\n",
    "from collections import Counter\n",
    "import networkx as nx\n",
    "import matplotlib.pyplot as plt\n",
    "import matplotlib as mpl\n",
    "%matplotlib inline\n",
    "from collections import OrderedDict"
   ]
  },
  {
   "cell_type": "code",
   "execution_count": 2,
   "metadata": {},
   "outputs": [
    {
     "name": "stdout",
     "output_type": "stream",
     "text": [
      "3.6.6\n"
     ]
    }
   ],
   "source": [
    "from platform import python_version\n",
    "print(python_version())"
   ]
  },
  {
   "cell_type": "markdown",
   "metadata": {},
   "source": [
    "### Create edgelist using events data"
   ]
  },
  {
   "cell_type": "code",
   "execution_count": 3,
   "metadata": {},
   "outputs": [],
   "source": [
    "event_file = [item for item in os.listdir('../../data/protag_events_v2/') if 'txt' in item]"
   ]
  },
  {
   "cell_type": "code",
   "execution_count": 8,
   "metadata": {},
   "outputs": [],
   "source": [
    "events_all = []\n",
    "cnt = 0\n",
    "for name in event_file:\n",
    "    movie_events = []\n",
    "    with open(os.path.join('../../data/protag_events_v2/', name), 'r') as f:\n",
    "        lines = [line.strip() for line in f.readlines()]\n",
    "        for line in lines:\n",
    "            line = line.split(' ')\n",
    "            movie_events.append(line[1].split('-')[0])\n",
    "        events_all.append(movie_events)\n"
   ]
  },
  {
   "cell_type": "code",
   "execution_count": 9,
   "metadata": {},
   "outputs": [
    {
     "data": {
      "text/plain": [
       "9610"
      ]
     },
     "execution_count": 9,
     "metadata": {},
     "output_type": "execute_result"
    }
   ],
   "source": [
    "len(events_all)"
   ]
  },
  {
   "cell_type": "code",
   "execution_count": 19,
   "metadata": {},
   "outputs": [
    {
     "ename": "TypeError",
     "evalue": "unhashable type: 'list'",
     "output_type": "error",
     "traceback": [
      "\u001b[0;31m---------------------------------------------------------------------------\u001b[0m",
      "\u001b[0;31mTypeError\u001b[0m                                 Traceback (most recent call last)",
      "\u001b[0;32m<ipython-input-19-57fb57b4f320>\u001b[0m in \u001b[0;36m<module>\u001b[0;34m\u001b[0m\n\u001b[0;32m----> 1\u001b[0;31m \u001b[0mlen\u001b[0m\u001b[0;34m(\u001b[0m\u001b[0mset\u001b[0m\u001b[0;34m(\u001b[0m\u001b[0mevents_all\u001b[0m\u001b[0;34m)\u001b[0m\u001b[0;34m)\u001b[0m\u001b[0;34m\u001b[0m\u001b[0m\n\u001b[0m",
      "\u001b[0;31mTypeError\u001b[0m: unhashable type: 'list'"
     ]
    }
   ],
   "source": [
    "len(set(events_all))"
   ]
  },
  {
   "cell_type": "code",
   "execution_count": 10,
   "metadata": {},
   "outputs": [
    {
     "data": {
      "text/plain": [
       "[['build', 'appear', 'appear', 'escape', 'escape', 'get', 'other_cos', 'dub'],\n",
       " ['escape',\n",
       "  'obtain',\n",
       "  'confront',\n",
       "  'cope',\n",
       "  'fend',\n",
       "  'meet',\n",
       "  'battle',\n",
       "  'appear',\n",
       "  'escape',\n",
       "  'cope',\n",
       "  'seem',\n",
       "  'dress',\n",
       "  'enforce',\n",
       "  'obtain']]"
      ]
     },
     "execution_count": 10,
     "metadata": {},
     "output_type": "execute_result"
    }
   ],
   "source": [
    "events_all[0:2]"
   ]
  },
  {
   "cell_type": "code",
   "execution_count": 11,
   "metadata": {},
   "outputs": [],
   "source": [
    "edgelist = []\n",
    "for movie_event in events_all:\n",
    "    for i in range(len(movie_event)-1):\n",
    "        edgelist.append((movie_event[i], movie_event[i+1]))"
   ]
  },
  {
   "cell_type": "code",
   "execution_count": 12,
   "metadata": {},
   "outputs": [],
   "source": [
    "c = Counter(edgelist)"
   ]
  },
  {
   "cell_type": "code",
   "execution_count": 13,
   "metadata": {},
   "outputs": [
    {
     "data": {
      "text/plain": [
       "[(('involve', 'admit'), 888),\n",
       " (('admit', 'involve'), 882),\n",
       " (('amuse', 'amuse'), 572),\n",
       " (('admit', 'admit'), 500),\n",
       " (('get', 'get'), 492),\n",
       " (('escape', 'get'), 417),\n",
       " (('amuse', 'get'), 362),\n",
       " (('escape', 'escape'), 360),\n",
       " (('get', 'amuse'), 330),\n",
       " (('own', 'own'), 315),\n",
       " (('amuse', 'escape'), 309),\n",
       " (('get', 'discover'), 300),\n",
       " (('escape', 'amuse'), 293),\n",
       " (('escape', 'discover'), 293),\n",
       " (('discover', 'discover'), 285),\n",
       " (('get', 'escape'), 269),\n",
       " (('discover', 'get'), 269),\n",
       " (('become', 'become'), 258),\n",
       " (('discover', 'amuse'), 254),\n",
       " (('amuse', 'discover'), 243)]"
      ]
     },
     "execution_count": 13,
     "metadata": {},
     "output_type": "execute_result"
    }
   ],
   "source": [
    "c.most_common(20)"
   ]
  },
  {
   "cell_type": "code",
   "execution_count": 14,
   "metadata": {},
   "outputs": [],
   "source": [
    "edgelist_wtd = []\n",
    "for item in edgelist:\n",
    "    if c[item] > 1:\n",
    "        edge = (item[0], item[1], c[item])\n",
    "        edgelist_wtd.append(edge)"
   ]
  },
  {
   "cell_type": "code",
   "execution_count": 15,
   "metadata": {},
   "outputs": [
    {
     "data": {
      "text/plain": [
       "[('build', 'appear', 11),\n",
       " ('appear', 'appear', 69),\n",
       " ('appear', 'escape', 95),\n",
       " ('escape', 'escape', 360),\n",
       " ('escape', 'get', 417)]"
      ]
     },
     "execution_count": 15,
     "metadata": {},
     "output_type": "execute_result"
    }
   ],
   "source": [
    "edgelist_wtd[0:5]"
   ]
  },
  {
   "cell_type": "markdown",
   "metadata": {},
   "source": [
    "### Build network"
   ]
  },
  {
   "cell_type": "code",
   "execution_count": 16,
   "metadata": {},
   "outputs": [],
   "source": [
    "G = nx.DiGraph()"
   ]
  },
  {
   "cell_type": "code",
   "execution_count": 17,
   "metadata": {},
   "outputs": [],
   "source": [
    "G.add_weighted_edges_from(edgelist_wtd)"
   ]
  },
  {
   "cell_type": "code",
   "execution_count": 21,
   "metadata": {},
   "outputs": [
    {
     "data": {
      "text/plain": [
       "409"
      ]
     },
     "execution_count": 21,
     "metadata": {},
     "output_type": "execute_result"
    }
   ],
   "source": [
    "G.number_of_nodes()"
   ]
  },
  {
   "cell_type": "code",
   "execution_count": 22,
   "metadata": {},
   "outputs": [
    {
     "data": {
      "text/plain": [
       "17952"
      ]
     },
     "execution_count": 22,
     "metadata": {},
     "output_type": "execute_result"
    }
   ],
   "source": [
    "G.number_of_edges()"
   ]
  },
  {
   "cell_type": "code",
   "execution_count": 18,
   "metadata": {},
   "outputs": [
    {
     "data": {
      "image/png": "[encoded data removed]",
      "text/plain": [
       "<Figure size 432x288 with 1 Axes>"
      ]
     },
     "metadata": {
      "needs_background": "light"
     },
     "output_type": "display_data"
    }
   ],
   "source": [
    "degree_sequence = sorted([d for n, d in G.degree()], reverse=True)  # degree sequence\n",
    "# print \"Degree sequence\", degree_sequence\n",
    "degreeCount = Counter(degree_sequence)\n",
    "deg, cnt = zip(*degreeCount.items())\n",
    "\n",
    "fig, ax = plt.subplots()\n",
    "plt.bar(deg, cnt)\n",
    "\n",
    "plt.title(\"Log-log Degree Histogram\")\n",
    "plt.ylabel(\"Count\")\n",
    "plt.xlabel(\"Degree\")\n",
    "plt.xscale('log')\n",
    "plt.yscale('log')\n",
    "# ax.set_xticks([d + 0.4 for d in deg])\n",
    "# ax.set_xticklabels(deg)"
   ]
  },
  {
   "cell_type": "code",
   "execution_count": 17,
   "metadata": {},
   "outputs": [],
   "source": [
    "nx.write_gml(G, 'event_network.gml')"
   ]
  },
  {
   "cell_type": "code",
   "execution_count": 109,
   "metadata": {},
   "outputs": [],
   "source": [
    "def compute_p(G, weight='weight', p='p'):\n",
    "    # Undirected\n",
    "    for node in G:\n",
    "        k_n = len(G[node])\n",
    "        if k_n > 1:\n",
    "            sum_w = sum( G[node][neighbor][weight] for neighbor in G[node] )\n",
    "            for neighbor in G[node]:\n",
    "                edge_weight = G[node][neighbor][weight]\n",
    "                p_ij = float(edge_weight)/sum_w\n",
    "                G[node][neighbor][p] = (1-p_ij)**(k_n-1)\n",
    "    return G\n",
    "\n",
    "def alpha_cut(G, alpha, p='p'):\n",
    "    C = G.copy()\n",
    "    for u,v,d in G.edges.data():\n",
    "        if 'p' in d.keys():\n",
    "            if d['p'] < alpha:\n",
    "                C.remove_edge(u,v)\n",
    "    return C"
   ]
  },
  {
   "cell_type": "code",
   "execution_count": 113,
   "metadata": {},
   "outputs": [],
   "source": [
    "G_c = compute_p(G)"
   ]
  },
  {
   "cell_type": "code",
   "execution_count": 119,
   "metadata": {},
   "outputs": [],
   "source": [
    "C = alpha_cut(G, 0.8, 'p')"
   ]
  },
  {
   "cell_type": "code",
   "execution_count": 120,
   "metadata": {},
   "outputs": [
    {
     "data": {
      "text/plain": [
       "1815"
      ]
     },
     "execution_count": 120,
     "metadata": {},
     "output_type": "execute_result"
    }
   ],
   "source": [
    "C.number_of_edges()"
   ]
  },
  {
   "cell_type": "code",
   "execution_count": 121,
   "metadata": {},
   "outputs": [
    {
     "data": {
      "text/plain": [
       "409"
      ]
     },
     "execution_count": 121,
     "metadata": {},
     "output_type": "execute_result"
    }
   ],
   "source": [
    "C.number_of_nodes()"
   ]
  },
  {
   "cell_type": "code",
   "execution_count": 123,
   "metadata": {},
   "outputs": [],
   "source": [
    "nx.write_gml(C, 'event_network.gml')"
   ]
  },
  {
   "cell_type": "code",
   "execution_count": 124,
   "metadata": {},
   "outputs": [
    {
     "data": {
      "text/plain": [
       "'2.2'"
      ]
     },
     "execution_count": 124,
     "metadata": {},
     "output_type": "execute_result"
    }
   ],
   "source": [
    "nx.__version__"
   ]
  },
  {
   "cell_type": "code",
   "execution_count": null,
   "metadata": {},
   "outputs": [],
   "source": []
  },
  {
   "cell_type": "code",
   "execution_count": null,
   "metadata": {},
   "outputs": [],
   "source": []
  }
 ],
 "metadata": {
  "kernelspec": {
   "display_name": "Python 3",
   "language": "python",
   "name": "python3"
  },
  "language_info": {
   "codemirror_mode": {
    "name": "ipython",
    "version": 3
   },
   "file_extension": ".py",
   "mimetype": "text/x-python",
   "name": "python",
   "nbconvert_exporter": "python",
   "pygments_lexer": "ipython3",
   "version": "3.6.6"
  }
 },
 "nbformat": 4,
 "nbformat_minor": 2
}
