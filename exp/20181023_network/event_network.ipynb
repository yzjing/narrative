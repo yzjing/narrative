{
 "cells": [
  {
   "cell_type": "code",
   "execution_count": 65,
   "metadata": {},
   "outputs": [],
   "source": [
    "import numpy as np\n",
    "import pandas as pd\n",
    "import os\n",
    "from collections import Counter\n",
    "import networkx as nx\n",
    "import matplotlib.pyplot as plt\n",
    "import matplotlib as mpl\n",
    "%matplotlib inline\n",
    "from collections import OrderedDict"
   ]
  },
  {
   "cell_type": "code",
   "execution_count": 66,
   "metadata": {},
   "outputs": [
    {
     "name": "stdout",
     "output_type": "stream",
     "text": [
      "3.6.6\n"
     ]
    }
   ],
   "source": [
    "from platform import python_version\n",
    "print(python_version())"
   ]
  },
  {
   "cell_type": "markdown",
   "metadata": {},
   "source": [
    "### Create edgelist using events data"
   ]
  },
  {
   "cell_type": "code",
   "execution_count": 67,
   "metadata": {},
   "outputs": [],
   "source": [
    "event_file = [item for item in os.listdir('../../data/protag_events_nogen/') if 'txt' in item]"
   ]
  },
  {
   "cell_type": "code",
   "execution_count": 69,
   "metadata": {},
   "outputs": [],
   "source": [
    "events_all = []\n",
    "cnt = 0\n",
    "for name in event_file:\n",
    "    movie_events = []\n",
    "    with open(os.path.join('../../data/protag_events_nogen/', name), 'r') as f:\n",
    "        lines = [line.strip() for line in f.readlines()]\n",
    "        for line in lines:\n",
    "            line = line.split(' ')\n",
    "            movie_events.append(line[1].split('-')[0])\n",
    "        events_all.append(movie_events)\n"
   ]
  },
  {
   "cell_type": "code",
   "execution_count": 70,
   "metadata": {},
   "outputs": [
    {
     "data": {
      "text/plain": [
       "13055"
      ]
     },
     "execution_count": 70,
     "metadata": {},
     "output_type": "execute_result"
    }
   ],
   "source": [
    "len(events_all)"
   ]
  },
  {
   "cell_type": "code",
   "execution_count": 71,
   "metadata": {},
   "outputs": [],
   "source": []
  },
  {
   "cell_type": "code",
   "execution_count": 118,
   "metadata": {},
   "outputs": [],
   "source": []
  },
  {
   "cell_type": "code",
   "execution_count": 204,
   "metadata": {},
   "outputs": [],
   "source": [
    "def build_edgelist(events_all=events_all, use_top_nodes=False, top_events=None ):\n",
    "    edgelist = []\n",
    "    if use_top_nodes == False:\n",
    "        for movie_event in events_all:\n",
    "            for i in range(len(movie_event)-1):\n",
    "                 edgelist.append((movie_event[i], movie_event[i+1]))\n",
    "    else:\n",
    "        events_all_flt = []\n",
    "        for item in events_all:\n",
    "            events_all_flt.extend(item)\n",
    "        c = Counter(events_all_flt)\n",
    "        top_events = set([item[0] for item in c.most_common(top_events)])\n",
    "        for movie_event in events_all:\n",
    "            for i in range(len(movie_event)-1):\n",
    "        #         only use the most frequent x events\n",
    "                if movie_event[i] in top_events and movie_event[i+1] in top_events:\n",
    "                    edgelist.append((movie_event[i], movie_event[i+1]))\n",
    "    return edgelist"
   ]
  },
  {
   "cell_type": "code",
   "execution_count": 205,
   "metadata": {},
   "outputs": [
    {
     "name": "stdout",
     "output_type": "stream",
     "text": [
      "False\n"
     ]
    }
   ],
   "source": [
    "edgelist = build_edgelist(events_all)"
   ]
  },
  {
   "cell_type": "code",
   "execution_count": 158,
   "metadata": {},
   "outputs": [],
   "source": [
    "def build_wtd_edgelist(edgelist, k=1):\n",
    "    edgelist_wtd = []\n",
    "    c = Counter(edgelist)\n",
    "    for item in edgelist:\n",
    "        if c[item] > k:\n",
    "            edge = (item[0], item[1], c[item])\n",
    "            edgelist_wtd.append(edge)\n",
    "    return edgelist_wtd"
   ]
  },
  {
   "cell_type": "code",
   "execution_count": 212,
   "metadata": {},
   "outputs": [],
   "source": [
    "edgelist_wtd = build_wtd_edgelist(edgelist)"
   ]
  },
  {
   "cell_type": "markdown",
   "metadata": {},
   "source": [
    "### Build networkX network"
   ]
  },
  {
   "cell_type": "code",
   "execution_count": 213,
   "metadata": {},
   "outputs": [],
   "source": [
    "G = nx.DiGraph()"
   ]
  },
  {
   "cell_type": "code",
   "execution_count": 214,
   "metadata": {},
   "outputs": [],
   "source": [
    "G.add_weighted_edges_from(edgelist_wtd)"
   ]
  },
  {
   "cell_type": "code",
   "execution_count": 215,
   "metadata": {},
   "outputs": [
    {
     "data": {
      "text/plain": [
       "2026"
      ]
     },
     "execution_count": 215,
     "metadata": {},
     "output_type": "execute_result"
    }
   ],
   "source": [
    "G.number_of_nodes()"
   ]
  },
  {
   "cell_type": "code",
   "execution_count": 216,
   "metadata": {},
   "outputs": [
    {
     "data": {
      "text/plain": [
       "29509"
      ]
     },
     "execution_count": 216,
     "metadata": {},
     "output_type": "execute_result"
    }
   ],
   "source": [
    "G.number_of_edges()"
   ]
  },
  {
   "cell_type": "code",
   "execution_count": 81,
   "metadata": {},
   "outputs": [
    {
     "data": {
      "image/png": "[encoded data removed]",
      "text/plain": [
       "<Figure size 432x288 with 1 Axes>"
      ]
     },
     "metadata": {
      "needs_background": "light"
     },
     "output_type": "display_data"
    }
   ],
   "source": [
    "degree_sequence = sorted([d for n, d in G.degree()], reverse=True)  # degree sequence\n",
    "# print \"Degree sequence\", degree_sequence\n",
    "degreeCount = Counter(degree_sequence)\n",
    "deg, cnt = zip(*degreeCount.items())\n",
    "\n",
    "fig, ax = plt.subplots()\n",
    "plt.bar(deg, cnt)\n",
    "\n",
    "plt.title(\"Log-log Degree Histogram\")\n",
    "plt.ylabel(\"Count\")\n",
    "plt.xlabel(\"Degree\")\n",
    "plt.xscale('log')\n",
    "plt.yscale('log')\n",
    "# ax.set_xticks([d + 0.4 for d in deg])\n",
    "# ax.set_xticklabels(deg)"
   ]
  },
  {
   "cell_type": "code",
   "execution_count": 211,
   "metadata": {},
   "outputs": [],
   "source": [
    "nx.write_gml(G, 'event_network_5core_nogen.gml')"
   ]
  },
  {
   "cell_type": "markdown",
   "metadata": {},
   "source": [
    "### Backbone extraction"
   ]
  },
  {
   "cell_type": "code",
   "execution_count": 217,
   "metadata": {},
   "outputs": [],
   "source": [
    "from backbone import disparity_filter, disparity_filter_alpha_cut"
   ]
  },
  {
   "cell_type": "code",
   "execution_count": 218,
   "metadata": {
    "scrolled": true
   },
   "outputs": [],
   "source": [
    "G_c = disparity_filter(G)"
   ]
  },
  {
   "cell_type": "code",
   "execution_count": 219,
   "metadata": {},
   "outputs": [
    {
     "data": {
      "text/plain": [
       "2026"
      ]
     },
     "execution_count": 219,
     "metadata": {},
     "output_type": "execute_result"
    }
   ],
   "source": [
    "G_c.number_of_nodes()"
   ]
  },
  {
   "cell_type": "code",
   "execution_count": 223,
   "metadata": {},
   "outputs": [],
   "source": [
    "C = disparity_filter_alpha_cut(G_c,weight='weight', alpha_t = 0.3)"
   ]
  },
  {
   "cell_type": "code",
   "execution_count": 224,
   "metadata": {},
   "outputs": [
    {
     "data": {
      "text/plain": [
       "7488"
      ]
     },
     "execution_count": 224,
     "metadata": {},
     "output_type": "execute_result"
    }
   ],
   "source": [
    "C.number_of_edges()"
   ]
  },
  {
   "cell_type": "code",
   "execution_count": 225,
   "metadata": {},
   "outputs": [
    {
     "data": {
      "text/plain": [
       "908"
      ]
     },
     "execution_count": 225,
     "metadata": {},
     "output_type": "execute_result"
    }
   ],
   "source": [
    "C.number_of_nodes()"
   ]
  },
  {
   "cell_type": "code",
   "execution_count": 226,
   "metadata": {},
   "outputs": [],
   "source": [
    "nx.write_gml(C, 'event_network_backbone_nogen.gml')"
   ]
  },
  {
   "cell_type": "code",
   "execution_count": 227,
   "metadata": {},
   "outputs": [
    {
     "data": {
      "text/plain": [
       "'2.2'"
      ]
     },
     "execution_count": 227,
     "metadata": {},
     "output_type": "execute_result"
    }
   ],
   "source": [
    "nx.__version__"
   ]
  },
  {
   "cell_type": "markdown",
   "metadata": {},
   "source": [
    "### Event transitions"
   ]
  },
  {
   "cell_type": "code",
   "execution_count": 170,
   "metadata": {},
   "outputs": [],
   "source": [
    "df = pd.DataFrame.from_records(edgelist_wtd, columns = ['src', 'des', 'weight'])"
   ]
  },
  {
   "cell_type": "code",
   "execution_count": 171,
   "metadata": {},
   "outputs": [
    {
     "data": {
      "text/html": [
       "<div>\n",
       "<style scoped>\n",
       "    .dataframe tbody tr th:only-of-type {\n",
       "        vertical-align: middle;\n",
       "    }\n",
       "\n",
       "    .dataframe tbody tr th {\n",
       "        vertical-align: top;\n",
       "    }\n",
       "\n",
       "    .dataframe thead th {\n",
       "        text-align: right;\n",
       "    }\n",
       "</style>\n",
       "<table border=\"1\" class=\"dataframe\">\n",
       "  <thead>\n",
       "    <tr style=\"text-align: right;\">\n",
       "      <th></th>\n",
       "      <th>src</th>\n",
       "      <th>des</th>\n",
       "      <th>weight</th>\n",
       "    </tr>\n",
       "  </thead>\n",
       "  <tbody>\n",
       "    <tr>\n",
       "      <th>0</th>\n",
       "      <td>confronts</td>\n",
       "      <td>manages</td>\n",
       "      <td>8</td>\n",
       "    </tr>\n",
       "    <tr>\n",
       "      <th>1</th>\n",
       "      <td>come</td>\n",
       "      <td>arrives</td>\n",
       "      <td>4</td>\n",
       "    </tr>\n",
       "  </tbody>\n",
       "</table>\n",
       "</div>"
      ],
      "text/plain": [
       "         src      des  weight\n",
       "0  confronts  manages       8\n",
       "1       come  arrives       4"
      ]
     },
     "execution_count": 171,
     "metadata": {},
     "output_type": "execute_result"
    }
   ],
   "source": [
    "df.head(2)"
   ]
  },
  {
   "cell_type": "markdown",
   "metadata": {},
   "source": [
    "Normalize by the method used in the linkedin paper. From that paper:\n",
    "\n",
    "\n",
    "The expected flux between $i$ and $j$ is estimated by \n",
    "%\n",
    "\\begin{equation} \n",
    "%\n",
    "\\mathop{\\mathbb{E}}(w_{i\\rightarrow j}) = S^{\\mathrm{out}}_i \\frac{S^{\\mathrm{in}}_j}{\\sum_k S^{\\mathrm{in}}_k},\n",
    "%\n",
    "\\end{equation}\n",
    "%\n",
    "where $S^{\\mathrm{out}}$ is the total number of members who \n",
    "moved out of $i$, and $ S^{\\mathrm{in}}_j$ is the total number of members that\n",
    "moved into $j$. \n",
    "Thus the normalized flux from $i$ to $j$ is estimated by\n",
    "%\n",
    "\\begin{equation} T_{i\\rightarrow j} = \\frac{w_{i\\rightarrow\n",
    "j}}{\\mathop{\\mathbb{E}}(w_{i\\rightarrow j})}. \\end{equation}\n",
    "%\n",
    "As a result, we have $T_{i\\rightarrow j}>1$ if there are more people moving\n",
    "from $i$ to $j$ than expected by the given null model, and  $T_{i\\rightarrow\n",
    "j}<1$ vice versa. \n"
   ]
  },
  {
   "cell_type": "code",
   "execution_count": 172,
   "metadata": {},
   "outputs": [],
   "source": [
    "# Compute Size of Each event as source (S_i out)\n",
    "s_src = df.groupby('src', as_index=False).agg({'weight': np.sum})\n",
    "s_src.columns = ['src_event', 'size']"
   ]
  },
  {
   "cell_type": "code",
   "execution_count": 173,
   "metadata": {},
   "outputs": [
    {
     "data": {
      "text/html": [
       "<div>\n",
       "<style scoped>\n",
       "    .dataframe tbody tr th:only-of-type {\n",
       "        vertical-align: middle;\n",
       "    }\n",
       "\n",
       "    .dataframe tbody tr th {\n",
       "        vertical-align: top;\n",
       "    }\n",
       "\n",
       "    .dataframe thead th {\n",
       "        text-align: right;\n",
       "    }\n",
       "</style>\n",
       "<table border=\"1\" class=\"dataframe\">\n",
       "  <thead>\n",
       "    <tr style=\"text-align: right;\">\n",
       "      <th></th>\n",
       "      <th>src_event</th>\n",
       "      <th>size</th>\n",
       "    </tr>\n",
       "  </thead>\n",
       "  <tbody>\n",
       "    <tr>\n",
       "      <th>0</th>\n",
       "      <td>accepts</td>\n",
       "      <td>1523</td>\n",
       "    </tr>\n",
       "    <tr>\n",
       "      <th>1</th>\n",
       "      <td>admits</td>\n",
       "      <td>761</td>\n",
       "    </tr>\n",
       "  </tbody>\n",
       "</table>\n",
       "</div>"
      ],
      "text/plain": [
       "  src_event  size\n",
       "0   accepts  1523\n",
       "1    admits   761"
      ]
     },
     "execution_count": 173,
     "metadata": {},
     "output_type": "execute_result"
    }
   ],
   "source": [
    "s_src.head(2)"
   ]
  },
  {
   "cell_type": "code",
   "execution_count": 174,
   "metadata": {},
   "outputs": [],
   "source": [
    "# Compute Size of Each event as destination (S_i in)\n",
    "s_des = df.groupby('des', as_index=False).agg({'weight': np.sum})\n",
    "s_des.columns = ['des_event', 'size']"
   ]
  },
  {
   "cell_type": "code",
   "execution_count": 175,
   "metadata": {},
   "outputs": [
    {
     "data": {
      "text/html": [
       "<div>\n",
       "<style scoped>\n",
       "    .dataframe tbody tr th:only-of-type {\n",
       "        vertical-align: middle;\n",
       "    }\n",
       "\n",
       "    .dataframe tbody tr th {\n",
       "        vertical-align: top;\n",
       "    }\n",
       "\n",
       "    .dataframe thead th {\n",
       "        text-align: right;\n",
       "    }\n",
       "</style>\n",
       "<table border=\"1\" class=\"dataframe\">\n",
       "  <thead>\n",
       "    <tr style=\"text-align: right;\">\n",
       "      <th></th>\n",
       "      <th>des_event</th>\n",
       "      <th>size</th>\n",
       "    </tr>\n",
       "  </thead>\n",
       "  <tbody>\n",
       "    <tr>\n",
       "      <th>0</th>\n",
       "      <td>accepts</td>\n",
       "      <td>1215</td>\n",
       "    </tr>\n",
       "    <tr>\n",
       "      <th>1</th>\n",
       "      <td>admits</td>\n",
       "      <td>846</td>\n",
       "    </tr>\n",
       "  </tbody>\n",
       "</table>\n",
       "</div>"
      ],
      "text/plain": [
       "  des_event  size\n",
       "0   accepts  1215\n",
       "1    admits   846"
      ]
     },
     "execution_count": 175,
     "metadata": {},
     "output_type": "execute_result"
    }
   ],
   "source": [
    "s_des.head(2)"
   ]
  },
  {
   "cell_type": "code",
   "execution_count": 176,
   "metadata": {},
   "outputs": [],
   "source": [
    "expected = pd.merge(df, s_src, left_on='src', right_on = 'src_event')"
   ]
  },
  {
   "cell_type": "code",
   "execution_count": 177,
   "metadata": {},
   "outputs": [
    {
     "data": {
      "text/html": [
       "<div>\n",
       "<style scoped>\n",
       "    .dataframe tbody tr th:only-of-type {\n",
       "        vertical-align: middle;\n",
       "    }\n",
       "\n",
       "    .dataframe tbody tr th {\n",
       "        vertical-align: top;\n",
       "    }\n",
       "\n",
       "    .dataframe thead th {\n",
       "        text-align: right;\n",
       "    }\n",
       "</style>\n",
       "<table border=\"1\" class=\"dataframe\">\n",
       "  <thead>\n",
       "    <tr style=\"text-align: right;\">\n",
       "      <th></th>\n",
       "      <th>src</th>\n",
       "      <th>des</th>\n",
       "      <th>weight</th>\n",
       "      <th>src_event</th>\n",
       "      <th>size</th>\n",
       "    </tr>\n",
       "  </thead>\n",
       "  <tbody>\n",
       "    <tr>\n",
       "      <th>0</th>\n",
       "      <td>confronts</td>\n",
       "      <td>manages</td>\n",
       "      <td>8</td>\n",
       "      <td>confronts</td>\n",
       "      <td>3698</td>\n",
       "    </tr>\n",
       "    <tr>\n",
       "      <th>1</th>\n",
       "      <td>confronts</td>\n",
       "      <td>kills</td>\n",
       "      <td>13</td>\n",
       "      <td>confronts</td>\n",
       "      <td>3698</td>\n",
       "    </tr>\n",
       "  </tbody>\n",
       "</table>\n",
       "</div>"
      ],
      "text/plain": [
       "         src      des  weight  src_event  size\n",
       "0  confronts  manages       8  confronts  3698\n",
       "1  confronts    kills      13  confronts  3698"
      ]
     },
     "execution_count": 177,
     "metadata": {},
     "output_type": "execute_result"
    }
   ],
   "source": [
    "expected.head(2)"
   ]
  },
  {
   "cell_type": "code",
   "execution_count": 178,
   "metadata": {},
   "outputs": [],
   "source": [
    "expected = pd.merge(expected, s_des, left_on='des', right_on='des_event', suffixes=['_src', '_des'])"
   ]
  },
  {
   "cell_type": "code",
   "execution_count": 179,
   "metadata": {},
   "outputs": [
    {
     "data": {
      "text/plain": [
       "50315"
      ]
     },
     "execution_count": 179,
     "metadata": {},
     "output_type": "execute_result"
    }
   ],
   "source": [
    "len(expected)"
   ]
  },
  {
   "cell_type": "code",
   "execution_count": 180,
   "metadata": {},
   "outputs": [],
   "source": [
    "expected['exp'] = expected['size_src']*expected['size_des']/sum(expected['size_des']) # Sum of all in weights\n",
    "expected['normed_weight'] = expected['weight']/expected['exp'] # Normalized = actual weight/expected weight\n",
    "expected = expected[['src', 'des', 'normed_weight']]"
   ]
  },
  {
   "cell_type": "code",
   "execution_count": 181,
   "metadata": {},
   "outputs": [],
   "source": [
    "expected = expected.drop_duplicates()"
   ]
  },
  {
   "cell_type": "code",
   "execution_count": 182,
   "metadata": {},
   "outputs": [
    {
     "data": {
      "text/html": [
       "<div>\n",
       "<style scoped>\n",
       "    .dataframe tbody tr th:only-of-type {\n",
       "        vertical-align: middle;\n",
       "    }\n",
       "\n",
       "    .dataframe tbody tr th {\n",
       "        vertical-align: top;\n",
       "    }\n",
       "\n",
       "    .dataframe thead th {\n",
       "        text-align: right;\n",
       "    }\n",
       "</style>\n",
       "<table border=\"1\" class=\"dataframe\">\n",
       "  <thead>\n",
       "    <tr style=\"text-align: right;\">\n",
       "      <th></th>\n",
       "      <th>src</th>\n",
       "      <th>des</th>\n",
       "      <th>normed_weight</th>\n",
       "    </tr>\n",
       "  </thead>\n",
       "  <tbody>\n",
       "    <tr>\n",
       "      <th>0</th>\n",
       "      <td>confronts</td>\n",
       "      <td>manages</td>\n",
       "      <td>3837.067581</td>\n",
       "    </tr>\n",
       "    <tr>\n",
       "      <th>8</th>\n",
       "      <td>come</td>\n",
       "      <td>manages</td>\n",
       "      <td>4859.409560</td>\n",
       "    </tr>\n",
       "  </tbody>\n",
       "</table>\n",
       "</div>"
      ],
      "text/plain": [
       "         src      des  normed_weight\n",
       "0  confronts  manages    3837.067581\n",
       "8       come  manages    4859.409560"
      ]
     },
     "execution_count": 182,
     "metadata": {},
     "output_type": "execute_result"
    }
   ],
   "source": [
    "expected.head(2)"
   ]
  },
  {
   "cell_type": "code",
   "execution_count": 183,
   "metadata": {},
   "outputs": [
    {
     "data": {
      "text/plain": [
       "6639"
      ]
     },
     "execution_count": 183,
     "metadata": {},
     "output_type": "execute_result"
    }
   ],
   "source": [
    "len(expected)"
   ]
  },
  {
   "cell_type": "code",
   "execution_count": 184,
   "metadata": {},
   "outputs": [],
   "source": [
    "df = expected"
   ]
  },
  {
   "cell_type": "markdown",
   "metadata": {},
   "source": [
    "### Hierarchical clustering"
   ]
  },
  {
   "cell_type": "code",
   "execution_count": 185,
   "metadata": {},
   "outputs": [],
   "source": [
    "df = df.pivot(index=\"src\", columns=\"des\", values='normed_weight')\n",
    "df.fillna(1.0, inplace=True)\n",
    "df = np.log(df)"
   ]
  },
  {
   "cell_type": "code",
   "execution_count": 186,
   "metadata": {},
   "outputs": [
    {
     "data": {
      "text/html": [
       "<div>\n",
       "<style scoped>\n",
       "    .dataframe tbody tr th:only-of-type {\n",
       "        vertical-align: middle;\n",
       "    }\n",
       "\n",
       "    .dataframe tbody tr th {\n",
       "        vertical-align: top;\n",
       "    }\n",
       "\n",
       "    .dataframe thead th {\n",
       "        text-align: right;\n",
       "    }\n",
       "</style>\n",
       "<table border=\"1\" class=\"dataframe\">\n",
       "  <thead>\n",
       "    <tr style=\"text-align: right;\">\n",
       "      <th>des</th>\n",
       "      <th>accepts</th>\n",
       "      <th>admits</th>\n",
       "      <th>agrees</th>\n",
       "      <th>appears</th>\n",
       "      <th>arrives</th>\n",
       "      <th>asks</th>\n",
       "      <th>attempts</th>\n",
       "      <th>become</th>\n",
       "      <th>becomes</th>\n",
       "      <th>begins</th>\n",
       "      <th>...</th>\n",
       "      <th>thinks</th>\n",
       "      <th>throws</th>\n",
       "      <th>told</th>\n",
       "      <th>tries</th>\n",
       "      <th>try</th>\n",
       "      <th>turns</th>\n",
       "      <th>uses</th>\n",
       "      <th>wakes</th>\n",
       "      <th>walks</th>\n",
       "      <th>wants</th>\n",
       "    </tr>\n",
       "    <tr>\n",
       "      <th>src</th>\n",
       "      <th></th>\n",
       "      <th></th>\n",
       "      <th></th>\n",
       "      <th></th>\n",
       "      <th></th>\n",
       "      <th></th>\n",
       "      <th></th>\n",
       "      <th></th>\n",
       "      <th></th>\n",
       "      <th></th>\n",
       "      <th></th>\n",
       "      <th></th>\n",
       "      <th></th>\n",
       "      <th></th>\n",
       "      <th></th>\n",
       "      <th></th>\n",
       "      <th></th>\n",
       "      <th></th>\n",
       "      <th></th>\n",
       "      <th></th>\n",
       "      <th></th>\n",
       "    </tr>\n",
       "  </thead>\n",
       "  <tbody>\n",
       "    <tr>\n",
       "      <th>accepts</th>\n",
       "      <td>11.040022</td>\n",
       "      <td>0.000000</td>\n",
       "      <td>8.162628</td>\n",
       "      <td>0.000000</td>\n",
       "      <td>0.000000</td>\n",
       "      <td>6.574117</td>\n",
       "      <td>0.000000</td>\n",
       "      <td>0.000000</td>\n",
       "      <td>7.317795</td>\n",
       "      <td>7.827995</td>\n",
       "      <td>...</td>\n",
       "      <td>0.0</td>\n",
       "      <td>0.000000</td>\n",
       "      <td>8.842248</td>\n",
       "      <td>6.640060</td>\n",
       "      <td>0.000000</td>\n",
       "      <td>0.000000</td>\n",
       "      <td>8.093419</td>\n",
       "      <td>0.0</td>\n",
       "      <td>0.000000</td>\n",
       "      <td>7.847836</td>\n",
       "    </tr>\n",
       "    <tr>\n",
       "      <th>admits</th>\n",
       "      <td>0.000000</td>\n",
       "      <td>11.536190</td>\n",
       "      <td>8.856432</td>\n",
       "      <td>0.000000</td>\n",
       "      <td>0.000000</td>\n",
       "      <td>7.778746</td>\n",
       "      <td>8.789646</td>\n",
       "      <td>0.000000</td>\n",
       "      <td>7.675127</td>\n",
       "      <td>0.000000</td>\n",
       "      <td>...</td>\n",
       "      <td>0.0</td>\n",
       "      <td>0.000000</td>\n",
       "      <td>0.000000</td>\n",
       "      <td>7.557008</td>\n",
       "      <td>0.000000</td>\n",
       "      <td>9.824801</td>\n",
       "      <td>0.000000</td>\n",
       "      <td>0.0</td>\n",
       "      <td>0.000000</td>\n",
       "      <td>8.541640</td>\n",
       "    </tr>\n",
       "    <tr>\n",
       "      <th>agrees</th>\n",
       "      <td>0.000000</td>\n",
       "      <td>7.951941</td>\n",
       "      <td>8.124815</td>\n",
       "      <td>8.140809</td>\n",
       "      <td>7.265231</td>\n",
       "      <td>5.917264</td>\n",
       "      <td>7.507983</td>\n",
       "      <td>6.351527</td>\n",
       "      <td>5.477172</td>\n",
       "      <td>6.477995</td>\n",
       "      <td>...</td>\n",
       "      <td>0.0</td>\n",
       "      <td>7.421452</td>\n",
       "      <td>7.743563</td>\n",
       "      <td>6.582829</td>\n",
       "      <td>7.246459</td>\n",
       "      <td>0.000000</td>\n",
       "      <td>7.687881</td>\n",
       "      <td>0.0</td>\n",
       "      <td>6.963605</td>\n",
       "      <td>6.566829</td>\n",
       "    </tr>\n",
       "    <tr>\n",
       "      <th>appears</th>\n",
       "      <td>0.000000</td>\n",
       "      <td>0.000000</td>\n",
       "      <td>7.639599</td>\n",
       "      <td>11.319154</td>\n",
       "      <td>7.399055</td>\n",
       "      <td>7.149700</td>\n",
       "      <td>7.978278</td>\n",
       "      <td>0.000000</td>\n",
       "      <td>6.640615</td>\n",
       "      <td>7.528109</td>\n",
       "      <td>...</td>\n",
       "      <td>0.0</td>\n",
       "      <td>0.000000</td>\n",
       "      <td>0.000000</td>\n",
       "      <td>7.082112</td>\n",
       "      <td>0.000000</td>\n",
       "      <td>8.725751</td>\n",
       "      <td>9.074467</td>\n",
       "      <td>0.0</td>\n",
       "      <td>8.350191</td>\n",
       "      <td>0.000000</td>\n",
       "    </tr>\n",
       "    <tr>\n",
       "      <th>arrives</th>\n",
       "      <td>0.000000</td>\n",
       "      <td>7.780885</td>\n",
       "      <td>6.081956</td>\n",
       "      <td>0.000000</td>\n",
       "      <td>7.738532</td>\n",
       "      <td>5.959782</td>\n",
       "      <td>7.519248</td>\n",
       "      <td>5.957327</td>\n",
       "      <td>4.900651</td>\n",
       "      <td>5.901474</td>\n",
       "      <td>...</td>\n",
       "      <td>0.0</td>\n",
       "      <td>7.943543</td>\n",
       "      <td>7.860189</td>\n",
       "      <td>5.945682</td>\n",
       "      <td>7.363085</td>\n",
       "      <td>6.762643</td>\n",
       "      <td>6.705894</td>\n",
       "      <td>0.0</td>\n",
       "      <td>7.080230</td>\n",
       "      <td>0.000000</td>\n",
       "    </tr>\n",
       "  </tbody>\n",
       "</table>\n",
       "<p>5 rows × 100 columns</p>\n",
       "</div>"
      ],
      "text/plain": [
       "des        accepts     admits    agrees    appears   arrives      asks  \\\n",
       "src                                                                      \n",
       "accepts  11.040022   0.000000  8.162628   0.000000  0.000000  6.574117   \n",
       "admits    0.000000  11.536190  8.856432   0.000000  0.000000  7.778746   \n",
       "agrees    0.000000   7.951941  8.124815   8.140809  7.265231  5.917264   \n",
       "appears   0.000000   0.000000  7.639599  11.319154  7.399055  7.149700   \n",
       "arrives   0.000000   7.780885  6.081956   0.000000  7.738532  5.959782   \n",
       "\n",
       "des      attempts    become   becomes    begins    ...     thinks    throws  \\\n",
       "src                                                ...                        \n",
       "accepts  0.000000  0.000000  7.317795  7.827995    ...        0.0  0.000000   \n",
       "admits   8.789646  0.000000  7.675127  0.000000    ...        0.0  0.000000   \n",
       "agrees   7.507983  6.351527  5.477172  6.477995    ...        0.0  7.421452   \n",
       "appears  7.978278  0.000000  6.640615  7.528109    ...        0.0  0.000000   \n",
       "arrives  7.519248  5.957327  4.900651  5.901474    ...        0.0  7.943543   \n",
       "\n",
       "des          told     tries       try     turns      uses  wakes     walks  \\\n",
       "src                                                                          \n",
       "accepts  8.842248  6.640060  0.000000  0.000000  8.093419    0.0  0.000000   \n",
       "admits   0.000000  7.557008  0.000000  9.824801  0.000000    0.0  0.000000   \n",
       "agrees   7.743563  6.582829  7.246459  0.000000  7.687881    0.0  6.963605   \n",
       "appears  0.000000  7.082112  0.000000  8.725751  9.074467    0.0  8.350191   \n",
       "arrives  7.860189  5.945682  7.363085  6.762643  6.705894    0.0  7.080230   \n",
       "\n",
       "des         wants  \n",
       "src                \n",
       "accepts  7.847836  \n",
       "admits   8.541640  \n",
       "agrees   6.566829  \n",
       "appears  0.000000  \n",
       "arrives  0.000000  \n",
       "\n",
       "[5 rows x 100 columns]"
      ]
     },
     "execution_count": 186,
     "metadata": {},
     "output_type": "execute_result"
    }
   ],
   "source": [
    "df.head()"
   ]
  },
  {
   "cell_type": "code",
   "execution_count": 187,
   "metadata": {},
   "outputs": [],
   "source": [
    "from scipy.cluster import hierarchy\n",
    "from scipy.cluster.hierarchy import cophenet\n",
    "from scipy.spatial.distance import pdist\n",
    "import seaborn as sns\n"
   ]
  },
  {
   "cell_type": "code",
   "execution_count": 188,
   "metadata": {},
   "outputs": [],
   "source": [
    "\n",
    "method = 'average'\n",
    "metric = 'euclidean'\n",
    "Z = hierarchy.linkage(df, method=method, metric=metric)\n",
    "# c, coph_dists = hierarchy.cophenet(Z, pdist(df))\n",
    "# part = hierarchy.fclusterdata(Z,1.5)"
   ]
  },
  {
   "cell_type": "code",
   "execution_count": 190,
   "metadata": {
    "scrolled": true
   },
   "outputs": [
    {
     "data": {
      "image/png": "[encoded data removed]",
      "text/plain": [
       "<Figure size 1800x1800 with 4 Axes>"
      ]
     },
     "metadata": {
      "needs_background": "light"
     },
     "output_type": "display_data"
    }
   ],
   "source": [
    "cm = sns.clustermap(df,figsize=(25, 25),row_linkage=Z, col_linkage=Z, cmap = \"RdBu_r\")#, xticklabels = False, yticklabels = False)\n",
    "cm.cax.set_visible(False)\n",
    "\n",
    "plt.savefig('cluster_top_events_nogen.pdf', format='pdf')"
   ]
  },
  {
   "cell_type": "code",
   "execution_count": null,
   "metadata": {},
   "outputs": [],
   "source": []
  },
  {
   "cell_type": "code",
   "execution_count": null,
   "metadata": {},
   "outputs": [],
   "source": []
  },
  {
   "cell_type": "code",
   "execution_count": null,
   "metadata": {},
   "outputs": [],
   "source": []
  },
  {
   "cell_type": "code",
   "execution_count": null,
   "metadata": {},
   "outputs": [],
   "source": []
  }
 ],
 "metadata": {
  "kernelspec": {
   "display_name": "Python 3",
   "language": "python",
   "name": "python3"
  },
  "language_info": {
   "codemirror_mode": {
    "name": "ipython",
    "version": 3
   },
   "file_extension": ".py",
   "mimetype": "text/x-python",
   "name": "python",
   "nbconvert_exporter": "python",
   "pygments_lexer": "ipython3",
   "version": "3.6.6"
  }
 },
 "nbformat": 4,
 "nbformat_minor": 2
}
