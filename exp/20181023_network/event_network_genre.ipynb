{
 "cells": [
  {
   "cell_type": "code",
   "execution_count": 1,
   "metadata": {},
   "outputs": [],
   "source": [
    "import numpy as np\n",
    "import pandas as pd\n",
    "import os\n",
    "from collections import Counter\n",
    "import networkx as nx\n",
    "import matplotlib.pyplot as plt\n",
    "import matplotlib as mpl\n",
    "%matplotlib inline\n",
    "from collections import OrderedDict"
   ]
  },
  {
   "cell_type": "code",
   "execution_count": 2,
   "metadata": {},
   "outputs": [
    {
     "name": "stdout",
     "output_type": "stream",
     "text": [
      "3.6.6\n"
     ]
    }
   ],
   "source": [
    "from platform import python_version\n",
    "print(python_version())"
   ]
  },
  {
   "cell_type": "markdown",
   "metadata": {},
   "source": [
    "### Create edgelist using events data"
   ]
  },
  {
   "cell_type": "code",
   "execution_count": 147,
   "metadata": {},
   "outputs": [],
   "source": [
    "movies = pd.read_csv('../../data/metadata_events_table.tsv', sep = '\\t')"
   ]
  },
  {
   "cell_type": "code",
   "execution_count": 148,
   "metadata": {},
   "outputs": [
    {
     "data": {
      "text/html": [
       "<div>\n",
       "<style scoped>\n",
       "    .dataframe tbody tr th:only-of-type {\n",
       "        vertical-align: middle;\n",
       "    }\n",
       "\n",
       "    .dataframe tbody tr th {\n",
       "        vertical-align: top;\n",
       "    }\n",
       "\n",
       "    .dataframe thead th {\n",
       "        text-align: right;\n",
       "    }\n",
       "</style>\n",
       "<table border=\"1\" class=\"dataframe\">\n",
       "  <thead>\n",
       "    <tr style=\"text-align: right;\">\n",
       "      <th></th>\n",
       "      <th>Wikipedia_id</th>\n",
       "      <th>Freebase_id</th>\n",
       "      <th>Name</th>\n",
       "      <th>Release_date</th>\n",
       "      <th>Revenue</th>\n",
       "      <th>Runtime</th>\n",
       "      <th>Languages</th>\n",
       "      <th>Countries</th>\n",
       "      <th>Genres</th>\n",
       "      <th>Events</th>\n",
       "    </tr>\n",
       "  </thead>\n",
       "  <tbody>\n",
       "    <tr>\n",
       "      <th>0</th>\n",
       "      <td>975900</td>\n",
       "      <td>/m/03vyhn</td>\n",
       "      <td>Ghosts of Mars</td>\n",
       "      <td>2001-08-24</td>\n",
       "      <td>14010832.0</td>\n",
       "      <td>98.0</td>\n",
       "      <td>{\"/m/02h40lc\": \"English Language\"}</td>\n",
       "      <td>{\"/m/09c7w0\": \"United States of America\"}</td>\n",
       "      <td>{\"/m/01jfsb\": \"Thriller\", \"/m/06n90\": \"Science...</td>\n",
       "      <td>['send', 'hold', 'find', 'learn', 'murder', 'f...</td>\n",
       "    </tr>\n",
       "    <tr>\n",
       "      <th>1</th>\n",
       "      <td>261236</td>\n",
       "      <td>/m/01mrr1</td>\n",
       "      <td>A Woman in Flames</td>\n",
       "      <td>1983</td>\n",
       "      <td>NaN</td>\n",
       "      <td>106.0</td>\n",
       "      <td>{\"/m/04306rv\": \"German Language\"}</td>\n",
       "      <td>{\"/m/0345h\": \"Germany\"}</td>\n",
       "      <td>{\"/m/07s9rl0\": \"Drama\"}</td>\n",
       "      <td>['draw', 'learn', 'meet', 'fall', 'enter', 'fi...</td>\n",
       "    </tr>\n",
       "    <tr>\n",
       "      <th>2</th>\n",
       "      <td>11250635</td>\n",
       "      <td>/m/02r52hc</td>\n",
       "      <td>The Mechanical Monsters</td>\n",
       "      <td>NaN</td>\n",
       "      <td>NaN</td>\n",
       "      <td>NaN</td>\n",
       "      <td>{\"/m/02h40lc\": \"English Language\"}</td>\n",
       "      <td>{\"/m/09c7w0\": \"United States of America\"}</td>\n",
       "      <td>{\"/m/06n90\": \"Science Fiction\", \"/m/03k9fj\": \"...</td>\n",
       "      <td>['spot', 'struggle', 'demand', 'be', 'free', '...</td>\n",
       "    </tr>\n",
       "    <tr>\n",
       "      <th>3</th>\n",
       "      <td>77856</td>\n",
       "      <td>/m/0kcn7</td>\n",
       "      <td>Mary Poppins</td>\n",
       "      <td>1964-08-27</td>\n",
       "      <td>102272727.0</td>\n",
       "      <td>139.0</td>\n",
       "      <td>{\"/m/02h40lc\": \"English Language\"}</td>\n",
       "      <td>{\"/m/09c7w0\": \"United States of America\"}</td>\n",
       "      <td>{\"/m/0hj3myq\": \"Children's/Family\", \"/m/04t36\"...</td>\n",
       "      <td>['return', 'engage', 'return', 'reveal', 'thro...</td>\n",
       "    </tr>\n",
       "    <tr>\n",
       "      <th>4</th>\n",
       "      <td>9633533</td>\n",
       "      <td>/m/02pml15</td>\n",
       "      <td>Vandanam</td>\n",
       "      <td>1989</td>\n",
       "      <td>NaN</td>\n",
       "      <td>168.0</td>\n",
       "      <td>{\"/m/0999q\": \"Malayalam Language\"}</td>\n",
       "      <td>{\"/m/03rk0\": \"India\"}</td>\n",
       "      <td>{\"/m/02kdv5l\": \"Action\"}</td>\n",
       "      <td>['stay', 'transform', 'accept', 'use', 'reveal...</td>\n",
       "    </tr>\n",
       "  </tbody>\n",
       "</table>\n",
       "</div>"
      ],
      "text/plain": [
       "   Wikipedia_id Freebase_id                     Name Release_date  \\\n",
       "0        975900   /m/03vyhn           Ghosts of Mars   2001-08-24   \n",
       "1        261236   /m/01mrr1        A Woman in Flames         1983   \n",
       "2      11250635  /m/02r52hc  The Mechanical Monsters          NaN   \n",
       "3         77856    /m/0kcn7             Mary Poppins   1964-08-27   \n",
       "4       9633533  /m/02pml15                 Vandanam         1989   \n",
       "\n",
       "       Revenue  Runtime                           Languages  \\\n",
       "0   14010832.0     98.0  {\"/m/02h40lc\": \"English Language\"}   \n",
       "1          NaN    106.0   {\"/m/04306rv\": \"German Language\"}   \n",
       "2          NaN      NaN  {\"/m/02h40lc\": \"English Language\"}   \n",
       "3  102272727.0    139.0  {\"/m/02h40lc\": \"English Language\"}   \n",
       "4          NaN    168.0  {\"/m/0999q\": \"Malayalam Language\"}   \n",
       "\n",
       "                                   Countries  \\\n",
       "0  {\"/m/09c7w0\": \"United States of America\"}   \n",
       "1                    {\"/m/0345h\": \"Germany\"}   \n",
       "2  {\"/m/09c7w0\": \"United States of America\"}   \n",
       "3  {\"/m/09c7w0\": \"United States of America\"}   \n",
       "4                      {\"/m/03rk0\": \"India\"}   \n",
       "\n",
       "                                              Genres  \\\n",
       "0  {\"/m/01jfsb\": \"Thriller\", \"/m/06n90\": \"Science...   \n",
       "1                            {\"/m/07s9rl0\": \"Drama\"}   \n",
       "2  {\"/m/06n90\": \"Science Fiction\", \"/m/03k9fj\": \"...   \n",
       "3  {\"/m/0hj3myq\": \"Children's/Family\", \"/m/04t36\"...   \n",
       "4                           {\"/m/02kdv5l\": \"Action\"}   \n",
       "\n",
       "                                              Events  \n",
       "0  ['send', 'hold', 'find', 'learn', 'murder', 'f...  \n",
       "1  ['draw', 'learn', 'meet', 'fall', 'enter', 'fi...  \n",
       "2  ['spot', 'struggle', 'demand', 'be', 'free', '...  \n",
       "3  ['return', 'engage', 'return', 'reveal', 'thro...  \n",
       "4  ['stay', 'transform', 'accept', 'use', 'reveal...  "
      ]
     },
     "execution_count": 148,
     "metadata": {},
     "output_type": "execute_result"
    }
   ],
   "source": [
    "movies.head()"
   ]
  },
  {
   "cell_type": "code",
   "execution_count": 149,
   "metadata": {},
   "outputs": [],
   "source": [
    "def filter_genre(cell):\n",
    "    genre_list = ['Action']\n",
    "    ftd_list = [item for item in eval(cell).values() if item in genre_list]\n",
    "    if len(ftd_list) == 1:\n",
    "        return True\n",
    "    else:\n",
    "        return False"
   ]
  },
  {
   "cell_type": "code",
   "execution_count": 150,
   "metadata": {},
   "outputs": [],
   "source": [
    "s = movies.Genres.apply(lambda cell: filter_genre(cell))"
   ]
  },
  {
   "cell_type": "code",
   "execution_count": 151,
   "metadata": {},
   "outputs": [],
   "source": [
    "selected = [str(item) for item in movies[s].Wikipedia_id.tolist()]"
   ]
  },
  {
   "cell_type": "code",
   "execution_count": 163,
   "metadata": {},
   "outputs": [],
   "source": [
    "event_file = [item for item in os.listdir('../../data/protag_events_v2') if str(item.split('_')[0]) in selected]"
   ]
  },
  {
   "cell_type": "code",
   "execution_count": 153,
   "metadata": {},
   "outputs": [
    {
     "data": {
      "text/plain": [
       "2242"
      ]
     },
     "execution_count": 153,
     "metadata": {},
     "output_type": "execute_result"
    }
   ],
   "source": [
    "len(event_file)"
   ]
  },
  {
   "cell_type": "code",
   "execution_count": 154,
   "metadata": {},
   "outputs": [],
   "source": [
    "events_all = []\n",
    "cnt = 0\n",
    "for name in event_file:\n",
    "    movie_events = []\n",
    "    with open(os.path.join('../../data/protag_events_nogen/', name), 'r') as f:\n",
    "        lines = [line.strip() for line in f.readlines()]\n",
    "        for line in lines:\n",
    "            line = line.split(' ')\n",
    "            movie_events.append(line[1].split('-')[0])\n",
    "        events_all.append(movie_events)\n"
   ]
  },
  {
   "cell_type": "code",
   "execution_count": 164,
   "metadata": {},
   "outputs": [],
   "source": [
    "events_all = []\n",
    "cnt = 0\n",
    "for name in event_file:\n",
    "    movie_events = []\n",
    "    with open(os.path.join('../../data/protag_events_v2/', name), 'r') as f:\n",
    "        lines = [line.strip() for line in f.readlines()]\n",
    "        for line in lines:\n",
    "#             line = line.split(' ')\n",
    "            movie_events.append(line.replace('EmptyParameter', ''))\n",
    "        events_all.append(movie_events)\n"
   ]
  },
  {
   "cell_type": "code",
   "execution_count": 130,
   "metadata": {},
   "outputs": [],
   "source": [
    "def build_edgelist(events_all=events_all, use_top_nodes=False, top_events=None ):\n",
    "    edgelist = []\n",
    "    if use_top_nodes == False:\n",
    "        for movie_event in events_all:\n",
    "            for i in range(len(movie_event)-1):\n",
    "                 edgelist.append((movie_event[i], movie_event[i+1]))\n",
    "    else:\n",
    "        events_all_flt = []\n",
    "        for item in events_all:\n",
    "            events_all_flt.extend(item)\n",
    "        c = Counter(events_all_flt)\n",
    "        top_events = set([item[0] for item in c.most_common(top_events)])\n",
    "        for movie_event in events_all:\n",
    "            for i in range(len(movie_event)-1):\n",
    "        #         only use the most frequent x events\n",
    "                if movie_event[i] in top_events and movie_event[i+1] in top_events:\n",
    "                    edgelist.append((movie_event[i], movie_event[i+1]))\n",
    "    return edgelist"
   ]
  },
  {
   "cell_type": "code",
   "execution_count": 131,
   "metadata": {},
   "outputs": [],
   "source": [
    "edgelist = build_edgelist(events_all)"
   ]
  },
  {
   "cell_type": "code",
   "execution_count": 132,
   "metadata": {},
   "outputs": [],
   "source": [
    "def build_wtd_edgelist(edgelist, k=1):\n",
    "    edgelist_wtd = []\n",
    "    c = Counter(edgelist)\n",
    "    for item in edgelist:\n",
    "        if c[item] > k:\n",
    "            edge = (item[0], item[1], c[item])\n",
    "            edgelist_wtd.append(edge)\n",
    "    return edgelist_wtd"
   ]
  },
  {
   "cell_type": "code",
   "execution_count": 133,
   "metadata": {},
   "outputs": [],
   "source": [
    "edgelist_wtd = build_wtd_edgelist(edgelist)"
   ]
  },
  {
   "cell_type": "code",
   "execution_count": 134,
   "metadata": {},
   "outputs": [
    {
     "data": {
      "text/plain": [
       "[(('include', 'include'), 903),\n",
       " (('have', 'have'), 215),\n",
       " (('find', 'find'), 166),\n",
       " (('meet', 'meet'), 164),\n",
       " (('tell', 'tell'), 156),\n",
       " (('become', 'become'), 154),\n",
       " (('take', 'take'), 138),\n",
       " (('tell', 'go'), 135),\n",
       " (('go', 'find'), 115),\n",
       " (('leave', 'leave'), 114),\n",
       " (('go', 'go'), 109),\n",
       " (('give', 'give'), 109),\n",
       " (('go', 'see'), 101),\n",
       " (('tell', 'have'), 100),\n",
       " (('get', 'get'), 97),\n",
       " (('leave', 'go'), 94),\n",
       " (('go', 'tell'), 89),\n",
       " (('go', 'have'), 87),\n",
       " (('have', 'go'), 84),\n",
       " (('tell', 'leave'), 82)]"
      ]
     },
     "execution_count": 134,
     "metadata": {},
     "output_type": "execute_result"
    }
   ],
   "source": [
    "Counter(edgelist).most_common(20)"
   ]
  },
  {
   "cell_type": "markdown",
   "metadata": {},
   "source": [
    "### Build networkX network"
   ]
  },
  {
   "cell_type": "code",
   "execution_count": 135,
   "metadata": {},
   "outputs": [],
   "source": [
    "G = nx.DiGraph()"
   ]
  },
  {
   "cell_type": "code",
   "execution_count": 136,
   "metadata": {},
   "outputs": [],
   "source": [
    "G.add_weighted_edges_from(edgelist_wtd)"
   ]
  },
  {
   "cell_type": "code",
   "execution_count": 137,
   "metadata": {},
   "outputs": [
    {
     "data": {
      "text/plain": [
       "937"
      ]
     },
     "execution_count": 137,
     "metadata": {},
     "output_type": "execute_result"
    }
   ],
   "source": [
    "G.number_of_nodes()"
   ]
  },
  {
   "cell_type": "code",
   "execution_count": 138,
   "metadata": {},
   "outputs": [
    {
     "data": {
      "text/plain": [
       "16255"
      ]
     },
     "execution_count": 138,
     "metadata": {},
     "output_type": "execute_result"
    }
   ],
   "source": [
    "G.number_of_edges()"
   ]
  },
  {
   "cell_type": "code",
   "execution_count": 139,
   "metadata": {},
   "outputs": [
    {
     "name": "stdout",
     "output_type": "stream",
     "text": [
      "have 647\n",
      "find 634\n",
      "go 616\n",
      "tell 613\n",
      "take 592\n"
     ]
    }
   ],
   "source": [
    "for item in sorted(dict(G.degree()), key=dict(G.degree()).get, reverse=True)[0:5]:\n",
    "    print(item, G.degree()[item])"
   ]
  },
  {
   "cell_type": "code",
   "execution_count": 140,
   "metadata": {},
   "outputs": [
    {
     "name": "stdout",
     "output_type": "stream",
     "text": [
      "go 322\n",
      "have 314\n",
      "tell 313\n",
      "find 308\n",
      "take 294\n"
     ]
    }
   ],
   "source": [
    "for item in sorted(dict(G.in_degree()), key=dict(G.in_degree()).get, reverse=True)[0:5]:\n",
    "    print(item, G.in_degree()[item])"
   ]
  },
  {
   "cell_type": "code",
   "execution_count": 141,
   "metadata": {},
   "outputs": [
    {
     "name": "stdout",
     "output_type": "stream",
     "text": [
      "have 333\n",
      "find 326\n",
      "tell 300\n",
      "take 298\n",
      "go 294\n"
     ]
    }
   ],
   "source": [
    "for item in sorted(dict(G.out_degree()), key=dict(G.out_degree()).get, reverse=True)[0:5]:\n",
    "    print(item, G.out_degree()[item])"
   ]
  },
  {
   "cell_type": "code",
   "execution_count": 142,
   "metadata": {},
   "outputs": [],
   "source": [
    "nx.write_gml(G, 'event_network_drama.gml')"
   ]
  },
  {
   "cell_type": "code",
   "execution_count": 143,
   "metadata": {},
   "outputs": [],
   "source": [
    "btw_cent = nx.betweenness_centrality(G)"
   ]
  },
  {
   "cell_type": "code",
   "execution_count": 144,
   "metadata": {},
   "outputs": [
    {
     "name": "stdout",
     "output_type": "stream",
     "text": [
      "have 0.08146170661072556\n",
      "find 0.07732670129222598\n",
      "go 0.073019320440998\n",
      "tell 0.06762845614754481\n",
      "take 0.056621721654834575\n",
      "try 0.036581019728065205\n",
      "leave 0.03592243539694113\n",
      "get 0.03164188049837022\n",
      "meet 0.03151306861263236\n",
      "see 0.03028958541627167\n",
      "become 0.028866682060788098\n",
      "decide 0.021804765243609907\n",
      "kill 0.02093186618483226\n",
      "begin 0.019841772930641457\n",
      "return 0.017743919483735084\n",
      "make 0.01731333188574857\n",
      "give 0.016658785324424406\n",
      "ask 0.014677596855045829\n",
      "refuse 0.014293185205923882\n",
      "come 0.012720937394677162\n"
     ]
    }
   ],
   "source": [
    "for item in sorted(btw_cent, key=dict(btw_cent).get, reverse=True)[0:20]:\n",
    "    print(item, btw_cent[item])"
   ]
  },
  {
   "cell_type": "markdown",
   "metadata": {},
   "source": [
    "### Backbone extraction"
   ]
  },
  {
   "cell_type": "code",
   "execution_count": 217,
   "metadata": {},
   "outputs": [],
   "source": [
    "from backbone import disparity_filter, disparity_filter_alpha_cut"
   ]
  },
  {
   "cell_type": "code",
   "execution_count": 218,
   "metadata": {
    "scrolled": true
   },
   "outputs": [],
   "source": [
    "G_c = disparity_filter(G)"
   ]
  },
  {
   "cell_type": "code",
   "execution_count": 219,
   "metadata": {},
   "outputs": [
    {
     "data": {
      "text/plain": [
       "2026"
      ]
     },
     "execution_count": 219,
     "metadata": {},
     "output_type": "execute_result"
    }
   ],
   "source": [
    "G_c.number_of_nodes()"
   ]
  },
  {
   "cell_type": "code",
   "execution_count": 223,
   "metadata": {},
   "outputs": [],
   "source": [
    "C = disparity_filter_alpha_cut(G_c,weight='weight', alpha_t = 0.3)"
   ]
  },
  {
   "cell_type": "code",
   "execution_count": 224,
   "metadata": {},
   "outputs": [
    {
     "data": {
      "text/plain": [
       "7488"
      ]
     },
     "execution_count": 224,
     "metadata": {},
     "output_type": "execute_result"
    }
   ],
   "source": [
    "C.number_of_edges()"
   ]
  },
  {
   "cell_type": "code",
   "execution_count": 225,
   "metadata": {},
   "outputs": [
    {
     "data": {
      "text/plain": [
       "908"
      ]
     },
     "execution_count": 225,
     "metadata": {},
     "output_type": "execute_result"
    }
   ],
   "source": [
    "C.number_of_nodes()"
   ]
  },
  {
   "cell_type": "code",
   "execution_count": 226,
   "metadata": {},
   "outputs": [],
   "source": [
    "nx.write_gml(C, 'event_network_backbone_nogen.gml')"
   ]
  },
  {
   "cell_type": "code",
   "execution_count": 227,
   "metadata": {},
   "outputs": [
    {
     "data": {
      "text/plain": [
       "'2.2'"
      ]
     },
     "execution_count": 227,
     "metadata": {},
     "output_type": "execute_result"
    }
   ],
   "source": [
    "nx.__version__"
   ]
  },
  {
   "cell_type": "markdown",
   "metadata": {},
   "source": [
    "### Event transitions"
   ]
  },
  {
   "cell_type": "code",
   "execution_count": 73,
   "metadata": {},
   "outputs": [],
   "source": [
    "df = pd.DataFrame.from_records(edgelist_wtd, columns = ['src', 'des', 'weight'])"
   ]
  },
  {
   "cell_type": "code",
   "execution_count": 74,
   "metadata": {},
   "outputs": [
    {
     "data": {
      "text/html": [
       "<div>\n",
       "<style scoped>\n",
       "    .dataframe tbody tr th:only-of-type {\n",
       "        vertical-align: middle;\n",
       "    }\n",
       "\n",
       "    .dataframe tbody tr th {\n",
       "        vertical-align: top;\n",
       "    }\n",
       "\n",
       "    .dataframe thead th {\n",
       "        text-align: right;\n",
       "    }\n",
       "</style>\n",
       "<table border=\"1\" class=\"dataframe\">\n",
       "  <thead>\n",
       "    <tr style=\"text-align: right;\">\n",
       "      <th></th>\n",
       "      <th>src</th>\n",
       "      <th>des</th>\n",
       "      <th>weight</th>\n",
       "    </tr>\n",
       "  </thead>\n",
       "  <tbody>\n",
       "    <tr>\n",
       "      <th>0</th>\n",
       "      <td>send</td>\n",
       "      <td>find</td>\n",
       "      <td>14</td>\n",
       "    </tr>\n",
       "    <tr>\n",
       "      <th>1</th>\n",
       "      <td>set</td>\n",
       "      <td>find</td>\n",
       "      <td>12</td>\n",
       "    </tr>\n",
       "  </tbody>\n",
       "</table>\n",
       "</div>"
      ],
      "text/plain": [
       "    src   des  weight\n",
       "0  send  find      14\n",
       "1   set  find      12"
      ]
     },
     "execution_count": 74,
     "metadata": {},
     "output_type": "execute_result"
    }
   ],
   "source": [
    "df.head(2)"
   ]
  },
  {
   "cell_type": "code",
   "execution_count": 75,
   "metadata": {},
   "outputs": [],
   "source": [
    "# Compute Size of Each event as source (S_i out)\n",
    "s_src = df.groupby('src', as_index=False).agg({'weight': np.sum})\n",
    "s_src.columns = ['src_event', 'size']"
   ]
  },
  {
   "cell_type": "code",
   "execution_count": 76,
   "metadata": {},
   "outputs": [
    {
     "data": {
      "text/html": [
       "<div>\n",
       "<style scoped>\n",
       "    .dataframe tbody tr th:only-of-type {\n",
       "        vertical-align: middle;\n",
       "    }\n",
       "\n",
       "    .dataframe tbody tr th {\n",
       "        vertical-align: top;\n",
       "    }\n",
       "\n",
       "    .dataframe thead th {\n",
       "        text-align: right;\n",
       "    }\n",
       "</style>\n",
       "<table border=\"1\" class=\"dataframe\">\n",
       "  <thead>\n",
       "    <tr style=\"text-align: right;\">\n",
       "      <th></th>\n",
       "      <th>src_event</th>\n",
       "      <th>size</th>\n",
       "    </tr>\n",
       "  </thead>\n",
       "  <tbody>\n",
       "    <tr>\n",
       "      <th>0</th>\n",
       "      <td>accept</td>\n",
       "      <td>160</td>\n",
       "    </tr>\n",
       "    <tr>\n",
       "      <th>1</th>\n",
       "      <td>agree</td>\n",
       "      <td>794</td>\n",
       "    </tr>\n",
       "  </tbody>\n",
       "</table>\n",
       "</div>"
      ],
      "text/plain": [
       "  src_event  size\n",
       "0    accept   160\n",
       "1     agree   794"
      ]
     },
     "execution_count": 76,
     "metadata": {},
     "output_type": "execute_result"
    }
   ],
   "source": [
    "s_src.head(2)"
   ]
  },
  {
   "cell_type": "code",
   "execution_count": 77,
   "metadata": {},
   "outputs": [],
   "source": [
    "# Compute Size of Each event as destination (S_i in)\n",
    "s_des = df.groupby('des', as_index=False).agg({'weight': np.sum})\n",
    "s_des.columns = ['des_event', 'size']"
   ]
  },
  {
   "cell_type": "code",
   "execution_count": 78,
   "metadata": {},
   "outputs": [
    {
     "data": {
      "text/html": [
       "<div>\n",
       "<style scoped>\n",
       "    .dataframe tbody tr th:only-of-type {\n",
       "        vertical-align: middle;\n",
       "    }\n",
       "\n",
       "    .dataframe tbody tr th {\n",
       "        vertical-align: top;\n",
       "    }\n",
       "\n",
       "    .dataframe thead th {\n",
       "        text-align: right;\n",
       "    }\n",
       "</style>\n",
       "<table border=\"1\" class=\"dataframe\">\n",
       "  <thead>\n",
       "    <tr style=\"text-align: right;\">\n",
       "      <th></th>\n",
       "      <th>des_event</th>\n",
       "      <th>size</th>\n",
       "    </tr>\n",
       "  </thead>\n",
       "  <tbody>\n",
       "    <tr>\n",
       "      <th>0</th>\n",
       "      <td>accept</td>\n",
       "      <td>118</td>\n",
       "    </tr>\n",
       "    <tr>\n",
       "      <th>1</th>\n",
       "      <td>agree</td>\n",
       "      <td>509</td>\n",
       "    </tr>\n",
       "  </tbody>\n",
       "</table>\n",
       "</div>"
      ],
      "text/plain": [
       "  des_event  size\n",
       "0    accept   118\n",
       "1     agree   509"
      ]
     },
     "execution_count": 78,
     "metadata": {},
     "output_type": "execute_result"
    }
   ],
   "source": [
    "s_des.head(2)"
   ]
  },
  {
   "cell_type": "code",
   "execution_count": 79,
   "metadata": {},
   "outputs": [],
   "source": [
    "expected = pd.merge(df, s_src, left_on='src', right_on = 'src_event')"
   ]
  },
  {
   "cell_type": "code",
   "execution_count": 80,
   "metadata": {},
   "outputs": [
    {
     "data": {
      "text/html": [
       "<div>\n",
       "<style scoped>\n",
       "    .dataframe tbody tr th:only-of-type {\n",
       "        vertical-align: middle;\n",
       "    }\n",
       "\n",
       "    .dataframe tbody tr th {\n",
       "        vertical-align: top;\n",
       "    }\n",
       "\n",
       "    .dataframe thead th {\n",
       "        text-align: right;\n",
       "    }\n",
       "</style>\n",
       "<table border=\"1\" class=\"dataframe\">\n",
       "  <thead>\n",
       "    <tr style=\"text-align: right;\">\n",
       "      <th></th>\n",
       "      <th>src</th>\n",
       "      <th>des</th>\n",
       "      <th>weight</th>\n",
       "      <th>src_event</th>\n",
       "      <th>size</th>\n",
       "    </tr>\n",
       "  </thead>\n",
       "  <tbody>\n",
       "    <tr>\n",
       "      <th>0</th>\n",
       "      <td>send</td>\n",
       "      <td>find</td>\n",
       "      <td>14</td>\n",
       "      <td>send</td>\n",
       "      <td>866</td>\n",
       "    </tr>\n",
       "    <tr>\n",
       "      <th>1</th>\n",
       "      <td>send</td>\n",
       "      <td>realize</td>\n",
       "      <td>2</td>\n",
       "      <td>send</td>\n",
       "      <td>866</td>\n",
       "    </tr>\n",
       "  </tbody>\n",
       "</table>\n",
       "</div>"
      ],
      "text/plain": [
       "    src      des  weight src_event  size\n",
       "0  send     find      14      send   866\n",
       "1  send  realize       2      send   866"
      ]
     },
     "execution_count": 80,
     "metadata": {},
     "output_type": "execute_result"
    }
   ],
   "source": [
    "expected.head(2)"
   ]
  },
  {
   "cell_type": "code",
   "execution_count": 81,
   "metadata": {},
   "outputs": [],
   "source": [
    "expected = pd.merge(expected, s_des, left_on='des', right_on='des_event', suffixes=['_src', '_des'])"
   ]
  },
  {
   "cell_type": "code",
   "execution_count": 82,
   "metadata": {},
   "outputs": [
    {
     "data": {
      "text/plain": [
       "14736"
      ]
     },
     "execution_count": 82,
     "metadata": {},
     "output_type": "execute_result"
    }
   ],
   "source": [
    "len(expected)"
   ]
  },
  {
   "cell_type": "code",
   "execution_count": 83,
   "metadata": {},
   "outputs": [],
   "source": [
    "expected['exp'] = expected['size_src']*expected['size_des']/sum(expected['size_des']) # Sum of all in weights\n",
    "expected['normed_weight'] = expected['weight']/expected['exp'] # Normalized = actual weight/expected weight\n",
    "expected = expected[['src', 'des', 'normed_weight']]"
   ]
  },
  {
   "cell_type": "code",
   "execution_count": 84,
   "metadata": {},
   "outputs": [],
   "source": [
    "expected = expected.drop_duplicates()"
   ]
  },
  {
   "cell_type": "code",
   "execution_count": 85,
   "metadata": {},
   "outputs": [
    {
     "data": {
      "text/html": [
       "<div>\n",
       "<style scoped>\n",
       "    .dataframe tbody tr th:only-of-type {\n",
       "        vertical-align: middle;\n",
       "    }\n",
       "\n",
       "    .dataframe tbody tr th {\n",
       "        vertical-align: top;\n",
       "    }\n",
       "\n",
       "    .dataframe thead th {\n",
       "        text-align: right;\n",
       "    }\n",
       "</style>\n",
       "<table border=\"1\" class=\"dataframe\">\n",
       "  <thead>\n",
       "    <tr style=\"text-align: right;\">\n",
       "      <th></th>\n",
       "      <th>src</th>\n",
       "      <th>des</th>\n",
       "      <th>normed_weight</th>\n",
       "    </tr>\n",
       "  </thead>\n",
       "  <tbody>\n",
       "    <tr>\n",
       "      <th>0</th>\n",
       "      <td>send</td>\n",
       "      <td>find</td>\n",
       "      <td>134.843062</td>\n",
       "    </tr>\n",
       "    <tr>\n",
       "      <th>14</th>\n",
       "      <td>set</td>\n",
       "      <td>find</td>\n",
       "      <td>235.510773</td>\n",
       "    </tr>\n",
       "  </tbody>\n",
       "</table>\n",
       "</div>"
      ],
      "text/plain": [
       "     src   des  normed_weight\n",
       "0   send  find     134.843062\n",
       "14   set  find     235.510773"
      ]
     },
     "execution_count": 85,
     "metadata": {},
     "output_type": "execute_result"
    }
   ],
   "source": [
    "expected.head(2)"
   ]
  },
  {
   "cell_type": "code",
   "execution_count": 86,
   "metadata": {},
   "outputs": [
    {
     "data": {
      "text/plain": [
       "3290"
      ]
     },
     "execution_count": 86,
     "metadata": {},
     "output_type": "execute_result"
    }
   ],
   "source": [
    "len(expected)"
   ]
  },
  {
   "cell_type": "code",
   "execution_count": 87,
   "metadata": {},
   "outputs": [],
   "source": [
    "df = expected"
   ]
  },
  {
   "cell_type": "markdown",
   "metadata": {},
   "source": [
    "### Hierarchical clustering"
   ]
  },
  {
   "cell_type": "code",
   "execution_count": 88,
   "metadata": {},
   "outputs": [],
   "source": [
    "df = df.pivot(index=\"src\", columns=\"des\", values='normed_weight')\n",
    "df.fillna(1.0, inplace=True)\n",
    "df = np.log(df)"
   ]
  },
  {
   "cell_type": "code",
   "execution_count": 89,
   "metadata": {},
   "outputs": [
    {
     "data": {
      "text/html": [
       "<div>\n",
       "<style scoped>\n",
       "    .dataframe tbody tr th:only-of-type {\n",
       "        vertical-align: middle;\n",
       "    }\n",
       "\n",
       "    .dataframe tbody tr th {\n",
       "        vertical-align: top;\n",
       "    }\n",
       "\n",
       "    .dataframe thead th {\n",
       "        text-align: right;\n",
       "    }\n",
       "</style>\n",
       "<table border=\"1\" class=\"dataframe\">\n",
       "  <thead>\n",
       "    <tr style=\"text-align: right;\">\n",
       "      <th>des</th>\n",
       "      <th>accept</th>\n",
       "      <th>agree</th>\n",
       "      <th>appear</th>\n",
       "      <th>arrest</th>\n",
       "      <th>arrive</th>\n",
       "      <th>ask</th>\n",
       "      <th>attack</th>\n",
       "      <th>attempt</th>\n",
       "      <th>be</th>\n",
       "      <th>beat</th>\n",
       "      <th>...</th>\n",
       "      <th>track</th>\n",
       "      <th>travel</th>\n",
       "      <th>try</th>\n",
       "      <th>turn</th>\n",
       "      <th>use</th>\n",
       "      <th>visit</th>\n",
       "      <th>walk</th>\n",
       "      <th>want</th>\n",
       "      <th>win</th>\n",
       "      <th>work</th>\n",
       "    </tr>\n",
       "    <tr>\n",
       "      <th>src</th>\n",
       "      <th></th>\n",
       "      <th></th>\n",
       "      <th></th>\n",
       "      <th></th>\n",
       "      <th></th>\n",
       "      <th></th>\n",
       "      <th></th>\n",
       "      <th></th>\n",
       "      <th></th>\n",
       "      <th></th>\n",
       "      <th></th>\n",
       "      <th></th>\n",
       "      <th></th>\n",
       "      <th></th>\n",
       "      <th></th>\n",
       "      <th></th>\n",
       "      <th></th>\n",
       "      <th></th>\n",
       "      <th></th>\n",
       "      <th></th>\n",
       "      <th></th>\n",
       "    </tr>\n",
       "  </thead>\n",
       "  <tbody>\n",
       "    <tr>\n",
       "      <th>accept</th>\n",
       "      <td>0.0</td>\n",
       "      <td>0.000000</td>\n",
       "      <td>0.000000</td>\n",
       "      <td>0.000000</td>\n",
       "      <td>0.000000</td>\n",
       "      <td>7.278957</td>\n",
       "      <td>0.000000</td>\n",
       "      <td>0.000000</td>\n",
       "      <td>0.000000</td>\n",
       "      <td>0.0</td>\n",
       "      <td>...</td>\n",
       "      <td>0.0</td>\n",
       "      <td>0.0</td>\n",
       "      <td>0.000000</td>\n",
       "      <td>0.0</td>\n",
       "      <td>7.536945</td>\n",
       "      <td>0.0</td>\n",
       "      <td>0.0</td>\n",
       "      <td>0.000000</td>\n",
       "      <td>0.0</td>\n",
       "      <td>0.000000</td>\n",
       "    </tr>\n",
       "    <tr>\n",
       "      <th>agree</th>\n",
       "      <td>0.0</td>\n",
       "      <td>7.151212</td>\n",
       "      <td>0.000000</td>\n",
       "      <td>0.000000</td>\n",
       "      <td>5.829063</td>\n",
       "      <td>0.000000</td>\n",
       "      <td>7.584567</td>\n",
       "      <td>6.866728</td>\n",
       "      <td>6.442954</td>\n",
       "      <td>0.0</td>\n",
       "      <td>...</td>\n",
       "      <td>0.0</td>\n",
       "      <td>0.0</td>\n",
       "      <td>5.736829</td>\n",
       "      <td>0.0</td>\n",
       "      <td>6.340500</td>\n",
       "      <td>0.0</td>\n",
       "      <td>0.0</td>\n",
       "      <td>6.496618</td>\n",
       "      <td>0.0</td>\n",
       "      <td>8.563378</td>\n",
       "    </tr>\n",
       "    <tr>\n",
       "      <th>appear</th>\n",
       "      <td>0.0</td>\n",
       "      <td>0.000000</td>\n",
       "      <td>10.540348</td>\n",
       "      <td>0.000000</td>\n",
       "      <td>7.891026</td>\n",
       "      <td>0.000000</td>\n",
       "      <td>0.000000</td>\n",
       "      <td>0.000000</td>\n",
       "      <td>0.000000</td>\n",
       "      <td>0.0</td>\n",
       "      <td>...</td>\n",
       "      <td>0.0</td>\n",
       "      <td>0.0</td>\n",
       "      <td>7.393326</td>\n",
       "      <td>0.0</td>\n",
       "      <td>7.996998</td>\n",
       "      <td>0.0</td>\n",
       "      <td>0.0</td>\n",
       "      <td>0.000000</td>\n",
       "      <td>0.0</td>\n",
       "      <td>0.000000</td>\n",
       "    </tr>\n",
       "    <tr>\n",
       "      <th>arrest</th>\n",
       "      <td>0.0</td>\n",
       "      <td>8.099820</td>\n",
       "      <td>0.000000</td>\n",
       "      <td>9.464734</td>\n",
       "      <td>7.183137</td>\n",
       "      <td>0.000000</td>\n",
       "      <td>0.000000</td>\n",
       "      <td>0.000000</td>\n",
       "      <td>0.000000</td>\n",
       "      <td>0.0</td>\n",
       "      <td>...</td>\n",
       "      <td>0.0</td>\n",
       "      <td>0.0</td>\n",
       "      <td>7.601728</td>\n",
       "      <td>0.0</td>\n",
       "      <td>0.000000</td>\n",
       "      <td>0.0</td>\n",
       "      <td>0.0</td>\n",
       "      <td>0.000000</td>\n",
       "      <td>0.0</td>\n",
       "      <td>0.000000</td>\n",
       "    </tr>\n",
       "    <tr>\n",
       "      <th>arrive</th>\n",
       "      <td>0.0</td>\n",
       "      <td>0.000000</td>\n",
       "      <td>0.000000</td>\n",
       "      <td>7.262104</td>\n",
       "      <td>6.685255</td>\n",
       "      <td>5.521638</td>\n",
       "      <td>6.736011</td>\n",
       "      <td>6.018171</td>\n",
       "      <td>5.594397</td>\n",
       "      <td>0.0</td>\n",
       "      <td>...</td>\n",
       "      <td>0.0</td>\n",
       "      <td>0.0</td>\n",
       "      <td>5.735570</td>\n",
       "      <td>0.0</td>\n",
       "      <td>5.086478</td>\n",
       "      <td>0.0</td>\n",
       "      <td>0.0</td>\n",
       "      <td>0.000000</td>\n",
       "      <td>0.0</td>\n",
       "      <td>0.000000</td>\n",
       "    </tr>\n",
       "  </tbody>\n",
       "</table>\n",
       "<p>5 rows × 100 columns</p>\n",
       "</div>"
      ],
      "text/plain": [
       "des     accept     agree     appear    arrest    arrive       ask    attack  \\\n",
       "src                                                                           \n",
       "accept     0.0  0.000000   0.000000  0.000000  0.000000  7.278957  0.000000   \n",
       "agree      0.0  7.151212   0.000000  0.000000  5.829063  0.000000  7.584567   \n",
       "appear     0.0  0.000000  10.540348  0.000000  7.891026  0.000000  0.000000   \n",
       "arrest     0.0  8.099820   0.000000  9.464734  7.183137  0.000000  0.000000   \n",
       "arrive     0.0  0.000000   0.000000  7.262104  6.685255  5.521638  6.736011   \n",
       "\n",
       "des      attempt        be  beat    ...     track  travel       try  turn  \\\n",
       "src                                 ...                                     \n",
       "accept  0.000000  0.000000   0.0    ...       0.0     0.0  0.000000   0.0   \n",
       "agree   6.866728  6.442954   0.0    ...       0.0     0.0  5.736829   0.0   \n",
       "appear  0.000000  0.000000   0.0    ...       0.0     0.0  7.393326   0.0   \n",
       "arrest  0.000000  0.000000   0.0    ...       0.0     0.0  7.601728   0.0   \n",
       "arrive  6.018171  5.594397   0.0    ...       0.0     0.0  5.735570   0.0   \n",
       "\n",
       "des          use  visit  walk      want  win      work  \n",
       "src                                                     \n",
       "accept  7.536945    0.0   0.0  0.000000  0.0  0.000000  \n",
       "agree   6.340500    0.0   0.0  6.496618  0.0  8.563378  \n",
       "appear  7.996998    0.0   0.0  0.000000  0.0  0.000000  \n",
       "arrest  0.000000    0.0   0.0  0.000000  0.0  0.000000  \n",
       "arrive  5.086478    0.0   0.0  0.000000  0.0  0.000000  \n",
       "\n",
       "[5 rows x 100 columns]"
      ]
     },
     "execution_count": 89,
     "metadata": {},
     "output_type": "execute_result"
    }
   ],
   "source": [
    "df.head()"
   ]
  },
  {
   "cell_type": "code",
   "execution_count": 90,
   "metadata": {},
   "outputs": [],
   "source": [
    "from scipy.cluster import hierarchy\n",
    "from scipy.cluster.hierarchy import cophenet\n",
    "from scipy.spatial.distance import pdist\n",
    "import seaborn as sns\n"
   ]
  },
  {
   "cell_type": "code",
   "execution_count": 91,
   "metadata": {},
   "outputs": [],
   "source": [
    "\n",
    "method = 'average'\n",
    "metric = 'euclidean'\n",
    "Z = hierarchy.linkage(df, method=method, metric=metric)\n",
    "# c, coph_dists = hierarchy.cophenet(Z, pdist(df))\n",
    "# part = hierarchy.fclusterdata(Z,1.5)"
   ]
  },
  {
   "cell_type": "code",
   "execution_count": 92,
   "metadata": {
    "scrolled": true
   },
   "outputs": [
    {
     "data": {
      "image/png": "[encoded data removed]",
      "text/plain": [
       "<Figure size 1800x1800 with 4 Axes>"
      ]
     },
     "metadata": {
      "needs_background": "light"
     },
     "output_type": "display_data"
    }
   ],
   "source": [
    "cm = sns.clustermap(df,figsize=(25, 25),row_linkage=Z, col_linkage=Z, cmap = \"RdBu_r\")#, xticklabels = False, yticklabels = False)\n",
    "cm.cax.set_visible(False)\n",
    "\n",
    "# plt.savefig('cluster_top_events_nogen.pdf', format='pdf')"
   ]
  },
  {
   "cell_type": "code",
   "execution_count": null,
   "metadata": {},
   "outputs": [],
   "source": []
  },
  {
   "cell_type": "code",
   "execution_count": null,
   "metadata": {},
   "outputs": [],
   "source": []
  },
  {
   "cell_type": "code",
   "execution_count": null,
   "metadata": {},
   "outputs": [],
   "source": []
  },
  {
   "cell_type": "code",
   "execution_count": null,
   "metadata": {},
   "outputs": [],
   "source": []
  }
 ],
 "metadata": {
  "kernelspec": {
   "display_name": "Python 3",
   "language": "python",
   "name": "python3"
  },
  "language_info": {
   "codemirror_mode": {
    "name": "ipython",
    "version": 3
   },
   "file_extension": ".py",
   "mimetype": "text/x-python",
   "name": "python",
   "nbconvert_exporter": "python",
   "pygments_lexer": "ipython3",
   "version": "3.6.6"
  }
 },
 "nbformat": 4,
 "nbformat_minor": 2
}
